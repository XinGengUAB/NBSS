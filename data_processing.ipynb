{
 "cells": [
  {
   "cell_type": "code",
   "execution_count": 1,
   "metadata": {
    "collapsed": true
   },
   "outputs": [],
   "source": [
    "import pandas as pd\n",
    "import numpy as np\n",
    "from scipy.stats import fisher_exact\n",
    "from multiprocessing import Pool, cpu_count\n",
    "import functools"
   ]
  },
  {
   "cell_type": "markdown",
   "metadata": {},
   "source": [
    "# Parse pathway features"
   ]
  },
  {
   "cell_type": "code",
   "execution_count": 2,
   "metadata": {
    "collapsed": true
   },
   "outputs": [],
   "source": [
    "entrez2symbol = {}\n",
    "with open('data/Homo_sapiens.gene_info') as f:\n",
    "    for line in f.read().splitlines():\n",
    "        row = line.split('\\t')\n",
    "        entrez2symbol[row[1]]=row[2]"
   ]
  },
  {
   "cell_type": "markdown",
   "metadata": {},
   "source": [
    "These are the pathways related to cancer hallmarks, which will be used as edge features.  \n",
    "Referance: http://www.cell.com/abstract/S0092-8674(11)00127-9"
   ]
  },
  {
   "cell_type": "code",
   "execution_count": 3,
   "metadata": {
    "collapsed": true
   },
   "outputs": [],
   "source": [
    "gene2pathway = {}\n",
    "pathways = set()\n",
    "with open('data/hallmarks.txt') as f:\n",
    "    for line in f.read().splitlines():\n",
    "        row = line.split('\\t')\n",
    "        if len(row) > 1:\n",
    "            pathway = row[0].split('|')[1]\n",
    "            pathways.add(pathway)\n",
    "            for entrez in row[2:]:\n",
    "                if entrez not in entrez2symbol:\n",
    "                    continue\n",
    "                gene = entrez2symbol[entrez]\n",
    "                if gene not in gene2pathway:\n",
    "                    gene2pathway[gene]=set()\n",
    "                gene2pathway[gene].add(pathway)"
   ]
  },
  {
   "cell_type": "markdown",
   "metadata": {},
   "source": [
    "# Parse TCGA BRCA subtypes"
   ]
  },
  {
   "cell_type": "code",
   "execution_count": 4,
   "metadata": {
    "collapsed": true
   },
   "outputs": [],
   "source": [
    "pat2subtype = {}\n",
    "def parse_subtypes(fn, pat2subtype):\n",
    "    with open(fn) as f:\n",
    "        for line in f.read().rstrip().splitlines()[1:]:\n",
    "            row = line.split(\"\\t\")\n",
    "            pat = row[0][:12]\n",
    "            if len(row[0])>12:\n",
    "                tissue_code = row[0][13:15]\n",
    "                if int(tissue_code) >= 10:\n",
    "                    continue\n",
    "            # Remove \"Normal\" subtype\n",
    "            if row[1] in ['NA', 'Normal']:\n",
    "                continue\n",
    "            pat2subtype[pat] = row[1]\n",
    "        return pat2subtype\n",
    "pat2subtype = parse_subtypes('data/TCGABRCA2PAM50_nature547.txt', pat2subtype)\n",
    "pat2subtype = parse_subtypes('data/TCGABRCA2PAM50_nature522.txt', pat2subtype)\n",
    "pat2subtype = parse_subtypes('data/TCGABRCA2PAM50_cell871.txt', pat2subtype)\n",
    "pat2subtype = parse_subtypes('data/TCGABRCA2PAM50_cell817.txt', pat2subtype)"
   ]
  },
  {
   "cell_type": "markdown",
   "metadata": {},
   "source": [
    "# Filter by cancer genes (optional)"
   ]
  },
  {
   "cell_type": "code",
   "execution_count": 5,
   "metadata": {
    "collapsed": true
   },
   "outputs": [],
   "source": [
    "oncogene_tsg={}\n",
    "with open('data/oncogene_tsg.txt') as f:\n",
    "    for line in f.read().rstrip().splitlines():\n",
    "        row = line.split(\"\\t\")\n",
    "        oncogene_tsg[row[0]] = row[1]\n",
    "with open('data/oncogene_tsg_BRCA.txt') as f:\n",
    "    for line in f.read().rstrip().splitlines():\n",
    "        row = line.split(\"\\t\")\n",
    "        oncogene_tsg[row[0]] = row[1]"
   ]
  },
  {
   "cell_type": "code",
   "execution_count": 6,
   "metadata": {},
   "outputs": [
    {
     "data": {
      "text/plain": [
       "2317"
      ]
     },
     "execution_count": 6,
     "metadata": {},
     "output_type": "execute_result"
    }
   ],
   "source": [
    "cancergenes = set() | set(oncogene_tsg.keys()) | set(gene2pathway.keys())\n",
    "with open('data/CGs.txt') as f:\n",
    "    for line in f.read().rstrip().splitlines():\n",
    "        cancergenes.add(line)\n",
    "with open('data/cancer_gene_census.csv') as f:\n",
    "    for line in f.read().rstrip().splitlines()[1:]:\n",
    "        row = line.split(',')\n",
    "        cancergenes.add(row[0])\n",
    "len(cancergenes)"
   ]
  },
  {
   "cell_type": "markdown",
   "metadata": {},
   "source": [
    "# Parse mutation and CNA profile"
   ]
  },
  {
   "cell_type": "markdown",
   "metadata": {},
   "source": [
    "Genes were classified as wild type (0) or altered (1) in each of the tumors with alterations defined as follows:\n",
    "1. Most oncogenes (e.g., EGFR) were considered altered (activated) if impacted by a missense mutation, in-frame indel or copy number amplification. \n",
    "2. For the subset of oncogenes typically altered only by amplification (CCND1, LMO1, MDM2, MDM4, MYC, MYCL, MYCN, NCOA3, NKX2-1 and SKP2), only copy number amplifications were considered as alterations and not SNVs or indels. \n",
    "3. All other genes including tumor suppressors (e.g., CDKN2A) were considered altered (inactivated) if there was any type of non-silent mutation or a copy number deletion."
   ]
  },
  {
   "cell_type": "code",
   "execution_count": 7,
   "metadata": {
    "collapsed": true
   },
   "outputs": [],
   "source": [
    "def parse_maf(fn, oncogene_tsg):\n",
    "    df = pd.read_table(fn, low_memory=False)\n",
    "    df = df.loc[(df.loc[:,'is_flank']==0) & (df.loc[:,'is_silent']==0),:]\n",
    "    df['pat'] = df.loc[:,'Tumor_Sample_Barcode'].str[:12]\n",
    "    \n",
    "    filter_rows = []\n",
    "    genes = set()\n",
    "    for index, row in df.iterrows():\n",
    "        gene = row['Hugo_Symbol']\n",
    "        # (Optional) filter cancer genes\n",
    "        if gene not in cancergenes:\n",
    "            continue\n",
    "        genes.add(gene)\n",
    "        VC = row['Variant_Classification']\n",
    "        if gene in oncogene_tsg:\n",
    "            if oncogene_tsg[gene] in ['Oncogene']:\n",
    "                if VC not in ['Missense_Mutation', 'In_Frame_Del', 'In_Frame_Ins', 'De_novo_Start_InFrame']:\n",
    "                    filter_rows.append(index)\n",
    "            if oncogene_tsg[gene] == 'Amplification_Oncogene':\n",
    "                filter_rows.append(index)\n",
    "    df = df.drop(filter_rows)\n",
    "    \n",
    "    df = df.loc[:,['pat','Hugo_Symbol']]\n",
    "    df['counter'] = 1\n",
    "    df.set_index(['pat','Hugo_Symbol'], inplace=True)\n",
    "    df = df.counter.groupby(level=[0,1]).min().unstack()\n",
    "    df.fillna(0, inplace=True)\n",
    "    return df, genes"
   ]
  },
  {
   "cell_type": "code",
   "execution_count": 8,
   "metadata": {
    "collapsed": true
   },
   "outputs": [],
   "source": [
    "fn = '/cellar/data/users/wzhang1984/Firehose/Firehose__2016_01_28/analyses/BRCA/Mutation_Assessor/BRCA-TP.maf.annotated'\n",
    "df_mut, genes = parse_maf(fn, oncogene_tsg)"
   ]
  },
  {
   "cell_type": "code",
   "execution_count": 9,
   "metadata": {
    "collapsed": true,
    "scrolled": true
   },
   "outputs": [],
   "source": [
    "def parse_CNA(fn, genes):\n",
    "    df = pd.read_table(fn,low_memory=False,index_col=0)\n",
    "    df = df[df.index.isin(genes)]\n",
    "    # (Optional) filter cancer genes\n",
    "    df = df[df.index.isin(cancergenes)]\n",
    "    df = df.iloc[:,2:]\n",
    "    df = (df/2.).round(0)\n",
    "    df.columns = df.columns.str[:12]\n",
    "    \n",
    "    nonOncogene_rows = []\n",
    "    for index, row in df.iterrows():\n",
    "        gene = index\n",
    "        if not (gene in oncogene_tsg and oncogene_tsg[gene] in ['Oncogene', 'Amplification_Oncogene']):\n",
    "            nonOncogene_rows.append(index)\n",
    "    df.loc[nonOncogene_rows,:] = df.loc[nonOncogene_rows,:] * (-1)\n",
    "    df = df.clip(lower=0)\n",
    "    return df"
   ]
  },
  {
   "cell_type": "code",
   "execution_count": 10,
   "metadata": {
    "collapsed": true
   },
   "outputs": [],
   "source": [
    "coding_genes = set()\n",
    "with open(\"/cellar/data/users/wzhang1984/bcbio/genomes/Hsapiens/GRCh37/rnaseq-2014-07-14/ref-transcripts.gtf\") as f:\n",
    "    for line in f.read().splitlines():\n",
    "        row = line.split(\"\\t\")\n",
    "        if row[1] != \"protein_coding\" or row[2] != \"transcript\":\n",
    "            continue\n",
    "        gene_name = row[-1].split('gene_name \"')[1].split('\"')[0]\n",
    "        if gene_name:\n",
    "            coding_genes.add(gene_name)"
   ]
  },
  {
   "cell_type": "code",
   "execution_count": 11,
   "metadata": {
    "collapsed": true
   },
   "outputs": [],
   "source": [
    "coding_genes = coding_genes | genes"
   ]
  },
  {
   "cell_type": "code",
   "execution_count": 12,
   "metadata": {
    "collapsed": true
   },
   "outputs": [],
   "source": [
    "fn = '/cellar/data/users/wzhang1984/Firehose/Firehose__2016_01_28/analyses/BRCA/CopyNumber_Gistic2/all_thresholded.by_genes.txt'\n",
    "df_CNA = parse_CNA(fn, coding_genes)"
   ]
  },
  {
   "cell_type": "code",
   "execution_count": 13,
   "metadata": {
    "collapsed": true
   },
   "outputs": [],
   "source": [
    "df_mut_CNA = pd.concat([df_mut, df_CNA.transpose()], axis=1,\n",
    "                       join='inner').transpose().groupby(level=0).sum().clip(upper=1.).transpose()\n",
    "df_mut_CNA = df_mut_CNA.loc[set(df_mut.index) & set(df_CNA.columns) & set(pat2subtype.keys()),df_CNA.index]"
   ]
  },
  {
   "cell_type": "code",
   "execution_count": 14,
   "metadata": {},
   "outputs": [
    {
     "data": {
      "text/plain": [
       "(867, 2247)"
      ]
     },
     "execution_count": 14,
     "metadata": {},
     "output_type": "execute_result"
    }
   ],
   "source": [
    "df_mut_CNA = df_mut_CNA[(df_mut_CNA.T != 0).any()] # remove samples with all zeros\n",
    "df_mut_CNA.shape"
   ]
  },
  {
   "cell_type": "markdown",
   "metadata": {},
   "source": [
    "# Seperating training , validation and testing samples"
   ]
  },
  {
   "cell_type": "code",
   "execution_count": 105,
   "metadata": {
    "collapsed": true
   },
   "outputs": [],
   "source": [
    "training_set = df_mut_CNA.sample(frac=2./3)\n",
    "training_set.sort_index(inplace=True)"
   ]
  },
  {
   "cell_type": "code",
   "execution_count": 106,
   "metadata": {
    "collapsed": true
   },
   "outputs": [],
   "source": [
    "validation_set = df_mut_CNA.drop(training_set.index).sample(frac=1./2)\n",
    "validation_set.sort_index(inplace=True)"
   ]
  },
  {
   "cell_type": "code",
   "execution_count": 107,
   "metadata": {
    "collapsed": true
   },
   "outputs": [],
   "source": [
    "testing_set = df_mut_CNA.drop(training_set.index).drop(validation_set.index)\n",
    "testing_set.sort_index(inplace=True)"
   ]
  },
  {
   "cell_type": "markdown",
   "metadata": {},
   "source": [
    "# Or load existing datasets (Optional)"
   ]
  },
  {
   "cell_type": "code",
   "execution_count": 15,
   "metadata": {
    "collapsed": true
   },
   "outputs": [],
   "source": [
    "training_set = pd.read_table('data/archive/08182017/BRCA_training_data.txt', index_col=0)\n",
    "validation_set = pd.read_table('data/archive/08182017/BRCA_validation_data.txt', index_col=0)\n",
    "testing_set = pd.read_table('data/archive/08182017/BRCA_testing_data.txt', index_col=0)\n",
    "training_set = df_mut_CNA.loc[training_set.index,:]\n",
    "validation_set = df_mut_CNA.loc[validation_set.index,:]\n",
    "testing_set = df_mut_CNA.loc[testing_set.index,:]"
   ]
  },
  {
   "cell_type": "markdown",
   "metadata": {},
   "source": [
    "# Fisher test against subtypes (Optional)"
   ]
  },
  {
   "cell_type": "code",
   "execution_count": 84,
   "metadata": {
    "scrolled": true
   },
   "outputs": [
    {
     "name": "stdout",
     "output_type": "stream",
     "text": [
      "PIK3CA LumA 2.27310855263 2.32810510033e-06\n",
      "FST Basal 18.8764044944 7.76305289558e-05\n",
      "PIK3R1 Basal 9.22480620155 3.50117992123e-05\n",
      "CDK7 Basal 18.8764044944 7.76305289558e-05\n",
      "GTF2H2 Basal 18.8764044944 7.76305289558e-05\n",
      "SV2C Basal 14.5151515152 4.77568792893e-05\n",
      "F2R Basal 18.8764044944 7.76305289558e-05\n",
      "MYC Basal 4.0060851927 7.64961832658e-09\n",
      "JAK2 Basal 11.3333333333 1.8486829055e-06\n",
      "ABL1 Her2 32.625 1.2344499266e-05\n",
      "CCND1 LumB 2.51196172249 6.13728097649e-05\n",
      "AQR Basal 18.8764044944 7.76305289558e-05\n",
      "BUB1B Basal inf 2.89081864236e-06\n",
      "CASC5 Basal 18.8764044944 7.76305289558e-05\n",
      "CDH1 LumA 5.02258592471 1.96424966692e-08\n",
      "TP53 Basal 10.3643709119 2.28918000204e-22\n",
      "TP53 Her2 5.47769443348 9.10618167532e-09\n",
      "ERBB2 Her2 20.2522727273 1.36195464324e-21\n",
      "SPOP Her2 5.54196301565 4.2783176358e-06\n",
      "STK11 Basal 21.8181818182 1.50940436589e-05\n",
      "CCNE1 Basal 8.05853658537 2.38604254457e-06\n"
     ]
    }
   ],
   "source": [
    "training_pat2subtype = training_set.index.to_series().map(pat2subtype)\n",
    "gene2fisherp = {}\n",
    "for gene in training_set.columns:\n",
    "    gene2fisherp[gene] = 0.\n",
    "    for subtype in training_pat2subtype.unique():\n",
    "        tab = pd.crosstab(training_set[gene]>0, training_pat2subtype==subtype)\n",
    "        if tab.shape != (2, 2):\n",
    "            continue\n",
    "        oddsratio, pvalue = fisher_exact(tab, alternative='greater')\n",
    "        logp = np.log10(pvalue)\n",
    "        gene2fisherp[gene] = max(-logp, gene2fisherp[gene])\n",
    "        if pvalue < 0.05/len(training_set.index):\n",
    "            print gene, subtype, oddsratio, pvalue"
   ]
  },
  {
   "cell_type": "markdown",
   "metadata": {},
   "source": [
    "# Parse PathwayCommons"
   ]
  },
  {
   "cell_type": "code",
   "execution_count": 17,
   "metadata": {
    "collapsed": true
   },
   "outputs": [],
   "source": [
    "PathwayCommons = pd.read_table('/cellar/users/wzhang1984/Data/PathwayCommons/PathwayCommons9.All.hgnc.txt')"
   ]
  },
  {
   "cell_type": "code",
   "execution_count": 18,
   "metadata": {
    "collapsed": true
   },
   "outputs": [],
   "source": [
    "PathwayCommons = PathwayCommons.loc[PathwayCommons.loc[:,'INTERACTION_TYPE'].isin(['controls-state-change-of',\n",
    "                                                                                   'controls-transport-of',\n",
    "                                                                                   'controls-phosphorylation-of',\n",
    "                                                                                   'controls-expression-of',\n",
    "                                                                                   'catalysis-precedes',\n",
    "                                                                                   'in-complex-with',\n",
    "                                                                                   'interacts-with', \n",
    "                                                                                   'neighbor-of']),:]"
   ]
  },
  {
   "cell_type": "code",
   "execution_count": 62,
   "metadata": {
    "collapsed": true,
    "scrolled": true
   },
   "outputs": [],
   "source": [
    "def parse_edge_features(mutrates, df):\n",
    "    edge2features = {}\n",
    "    for index, row in df.iterrows():\n",
    "        g1 = row['PARTICIPANT_A']\n",
    "        g2 = row['PARTICIPANT_B']\n",
    "        \n",
    "        # (Optionally) filter by cancer genes or pathways\n",
    "        if not (g1 in cancergenes and g2 in cancergenes):\n",
    "            continue\n",
    "            \n",
    "        ty = row['INTERACTION_TYPE']\n",
    "        ty_d = ty + '_d'\n",
    "        ty_rev = ty + '_rev'\n",
    "        sources = row['INTERACTION_DATA_SOURCE'].split(';')\n",
    "        edge = g1 + '\\t' + g2\n",
    "        edge_rev = g2 + '\\t' + g1\n",
    "        if edge not in edge2features:\n",
    "            edge2features[edge] = {'gene 1':g1, 'gene 2':g2}\n",
    "        if edge_rev not in edge2features:\n",
    "            edge2features[edge_rev] = {'gene 1':g2, 'gene 2':g1}\n",
    "\n",
    "        # Parse edge type features\n",
    "        if ty not in ['in-complex-with','interacts-with','neighbor-of']:\n",
    "            edge2features[edge][ty_d] = 1.\n",
    "            edge2features[edge_rev][ty_rev] = 1.\n",
    "        else:\n",
    "            edge2features[edge][ty] = 1.\n",
    "            edge2features[edge_rev][ty] = 1.\n",
    "\n",
    "        # Parse edge source features\n",
    "        for source in sources:\n",
    "            edge2features[edge][source] = 1.\n",
    "            edge2features[edge_rev][source] = 1.\n",
    "\n",
    "        # Parse pathway features. \n",
    "        # If one node is in the pathway, the score is 0.5\n",
    "        # If both nodes are in the pathway, the score is 1\n",
    "        if g1 in gene2pathway or g2 in gene2pathway:\n",
    "            for pathway in pathways:\n",
    "                edge2features[edge][pathway] = 0.\n",
    "                edge2features[edge_rev][pathway] = 0.\n",
    "            for g in [g1, g2]:\n",
    "                if g in gene2pathway:\n",
    "                    for pathway in gene2pathway[g]:\n",
    "                        edge2features[edge][pathway] += 0.5\n",
    "                        edge2features[edge_rev][pathway] += 0.5\n",
    "\n",
    "        # Parse mutation features from the training set\n",
    "        # Calculate mutation rates\n",
    "        mutrate_g1 = 0\n",
    "        mutrate_g2 = 0\n",
    "        if g1 in training_set:\n",
    "            mutrate_g1 = mutrates.loc[g1]\n",
    "        if g2 in training_set:\n",
    "            mutrate_g2 = mutrates.loc[g2]\n",
    "        edge2features[edge]['mutrate_source'] = mutrate_g1\n",
    "        edge2features[edge]['mutrate_target'] = mutrate_g2\n",
    "        edge2features[edge_rev]['mutrate_source'] = mutrate_g2\n",
    "        edge2features[edge_rev]['mutrate_target'] = mutrate_g1\n",
    "\n",
    "        # (optional) add fisher test against subtypes\n",
    "        if g1 in gene2fisherp:\n",
    "            edge2features[edge]['fisherp_source'] = gene2fisherp[g1]\n",
    "            edge2features[edge_rev]['fisherp_target'] = gene2fisherp[g1]\n",
    "        if g2 in gene2fisherp:\n",
    "            edge2features[edge]['fisherp_target'] = gene2fisherp[g2]\n",
    "            edge2features[edge_rev]['fisherp_source'] = gene2fisherp[g2]\n",
    "\n",
    "        # Calculate mutual exclusivity / co-occurrence\n",
    "        ME = 0.\n",
    "        if g1 in training_set and g2 in training_set:\n",
    "            if training_set.loc[:,g1].sum() < 7 or training_set.loc[:,g2].sum() < 7:\n",
    "                continue\n",
    "            tab = pd.crosstab(training_set.loc[:,g1],training_set.loc[:,g2])\n",
    "            if tab.shape != (2, 2):\n",
    "                continue\n",
    "            if tab.iloc[1,1] * tab.iloc[0,0] >= tab.iloc[0,1] * tab.iloc[1,0]:\n",
    "                continue\n",
    "            oddsratio, pvalue = fisher_exact(tab, alternative='less')\n",
    "            logp = np.log10(pvalue)\n",
    "            ME = -logp\n",
    "            if pvalue < 0.05:\n",
    "                print g1, g2, oddsratio, pvalue\n",
    "        edge2features[edge]['mutual_exclusive'] = ME\n",
    "        edge2features[edge_rev]['mutual_exclusive'] = ME\n",
    "            \n",
    "    return edge2features"
   ]
  },
  {
   "cell_type": "code",
   "execution_count": 63,
   "metadata": {
    "scrolled": true
   },
   "outputs": [
    {
     "name": "stdout",
     "output_type": "stream",
     "text": [
      "MDM4 TP53 0.479289940828 0.00541029222261\n",
      "MDM4 TP53 0.479289940828 0.00541029222261\n",
      "MDM4 TP53 0.479289940828 0.00541029222261\n",
      "MDM4 TP53 0.479289940828 0.00541029222261\n",
      "MYC RUNX1 0.270512820513 0.0405758287654\n",
      "CCND1 RB1 0.315750915751 0.0284796975281\n",
      "CCND1 RB1 0.315750915751 0.0284796975281\n",
      "CCND1 RB1 0.315750915751 0.0284796975281\n",
      "PTEN PIK3CA 0.266976744186 0.000334407812184\n",
      "PTEN PIK3CA 0.266976744186 0.000334407812184\n",
      "CDH1 IGF1R 0.18759936407 0.0440050002472\n",
      "TP53 MDM4 0.479289940828 0.00541029222261\n",
      "ERBB2 PTEN 0.200091575092 0.00670309323965\n",
      "PIK3CA PTEN 0.266976744186 0.000334407812184\n",
      "PIK3CA RB1 0.465564738292 0.0288895694816\n",
      "PIK3R1 CCND1 0.0 0.0347999872954\n"
     ]
    }
   ],
   "source": [
    "training_set_mutrate = training_set.sum() / training_set.shape[0]\n",
    "\n",
    "n_processes = cpu_count()\n",
    "pool = Pool(processes=n_processes)\n",
    "\n",
    "df_split = np.array_split(PathwayCommons, n_processes, axis=0)\n",
    "parse_edge_features_partial = functools.partial(parse_edge_features, training_set_mutrate)\n",
    "edge2features_list = pool.map(parse_edge_features_partial, df_split)\n",
    "\n",
    "pool.close()\n",
    "pool.join()"
   ]
  },
  {
   "cell_type": "code",
   "execution_count": 64,
   "metadata": {
    "collapsed": true
   },
   "outputs": [],
   "source": [
    "edge2features = {}\n",
    "for i in range(len(edge2features_list)):\n",
    "    edge2features.update(edge2features_list[i])"
   ]
  },
  {
   "cell_type": "code",
   "execution_count": 65,
   "metadata": {
    "collapsed": true
   },
   "outputs": [],
   "source": [
    "edge2features_df = pd.DataFrame.from_dict(edge2features, orient='index')"
   ]
  },
  {
   "cell_type": "code",
   "execution_count": 66,
   "metadata": {
    "collapsed": true
   },
   "outputs": [],
   "source": [
    "edge2features_df = edge2features_df.fillna(0).sort_index(1)\n",
    "cols = list(edge2features_df)\n",
    "cols.insert(0, cols.pop(cols.index('gene 2')))\n",
    "cols.insert(0, cols.pop(cols.index('gene 1')))\n",
    "edge2features_df = edge2features_df[cols]"
   ]
  },
  {
   "cell_type": "markdown",
   "metadata": {},
   "source": [
    "# Add high mutrate and high degree features (Optional)"
   ]
  },
  {
   "cell_type": "code",
   "execution_count": 67,
   "metadata": {
    "collapsed": true
   },
   "outputs": [],
   "source": [
    "# Top 5 genes with the highest degree\n",
    "# geneset = set(edge2features_df.groupby('gene 1')['gene 2'].count().sort_values()[-5:].index)\n",
    "# Top 5 genes with the highset mutation rate\n",
    "geneset = set(training_set.sum().sort_values()[-5:].index)"
   ]
  },
  {
   "cell_type": "code",
   "execution_count": 68,
   "metadata": {
    "collapsed": true
   },
   "outputs": [],
   "source": [
    "for gene in sorted(geneset):\n",
    "    edge2features_df[gene+'_source'] = (edge2features_df['gene 1']==gene).astype(int)\n",
    "    edge2features_df[gene+'_target'] = (edge2features_df['gene 2']==gene).astype(int)"
   ]
  },
  {
   "cell_type": "code",
   "execution_count": 69,
   "metadata": {
    "collapsed": true
   },
   "outputs": [],
   "source": [
    "edge2features_df = edge2features_df.fillna(0).sort_index(1)\n",
    "cols = list(edge2features_df)\n",
    "cols.insert(0, cols.pop(cols.index('gene 2')))\n",
    "cols.insert(0, cols.pop(cols.index('gene 1')))\n",
    "edge2features_df = edge2features_df[cols]"
   ]
  },
  {
   "cell_type": "markdown",
   "metadata": {},
   "source": [
    "# Feature scaling (Optional)"
   ]
  },
  {
   "cell_type": "code",
   "execution_count": 70,
   "metadata": {
    "collapsed": true
   },
   "outputs": [],
   "source": [
    "edge2features_df.iloc[:,2:] = edge2features_df.iloc[:,2:].divide(edge2features_df.iloc[:,2:].max())"
   ]
  },
  {
   "cell_type": "markdown",
   "metadata": {},
   "source": [
    "# Output dataframes to files"
   ]
  },
  {
   "cell_type": "code",
   "execution_count": 132,
   "metadata": {
    "collapsed": true
   },
   "outputs": [],
   "source": [
    "training_set.to_csv('data/BRCA_training_data.txt', sep='\\t')\n",
    "validation_set.to_csv('data/BRCA_validation_data.txt', sep='\\t')\n",
    "testing_set.to_csv('data/BRCA_testing_data.txt', sep='\\t')"
   ]
  },
  {
   "cell_type": "code",
   "execution_count": 133,
   "metadata": {
    "collapsed": true
   },
   "outputs": [],
   "source": [
    "training_set.index.to_series().map(pat2subtype).to_csv('data/BRCA_training_lables.txt', sep='\\t')\n",
    "validation_set.index.to_series().map(pat2subtype).to_csv('data/BRCA_validation_lables.txt', sep='\\t')\n",
    "testing_set.index.to_series().map(pat2subtype).to_csv('data/BRCA_testing_lables.txt', sep='\\t')"
   ]
  },
  {
   "cell_type": "code",
   "execution_count": 71,
   "metadata": {
    "collapsed": true
   },
   "outputs": [],
   "source": [
    "edge2features_df.to_csv('data/BRCA_edge2features.txt', sep='\\t', header=False, index=False)"
   ]
  },
  {
   "cell_type": "code",
   "execution_count": 72,
   "metadata": {
    "collapsed": true
   },
   "outputs": [],
   "source": [
    "with open('data/BRCA_feature_names.txt', 'w') as f:\n",
    "    f.write('\\n'.join(edge2features_df.columns[2:]))"
   ]
  },
  {
   "cell_type": "markdown",
   "metadata": {},
   "source": [
    "## Select features (optional)"
   ]
  },
  {
   "cell_type": "code",
   "execution_count": 40,
   "metadata": {
    "collapsed": true
   },
   "outputs": [],
   "source": [
    "features_sig = set()\n",
    "with open('data/BRCA_edge_feature_weights_9.txt') as f:\n",
    "    for line in f.read().rstrip().splitlines()[1:]:\n",
    "        w = line.split('\\t')\n",
    "        if float(w[1]) > 0.9:\n",
    "            features_sig.add(w[0])"
   ]
  },
  {
   "cell_type": "code",
   "execution_count": 41,
   "metadata": {
    "collapsed": true
   },
   "outputs": [],
   "source": [
    "features_sorted = sorted(features_union)\n",
    "edge2features_line_out = ''\n",
    "for gene_pair in sorted(edge2features_union):\n",
    "    edge2features_line_out += gene_pair\n",
    "    for feature in features_sorted:\n",
    "        if feature not in features_sig:\n",
    "            continue\n",
    "        if feature in edge2features_union[gene_pair]:\n",
    "            edge2features_line_out += '\\t{}'.format(edge2features_union[gene_pair][feature])\n",
    "        else:\n",
    "            edge2features_line_out += '\\t0.0'\n",
    "    edge2features_line_out += '\\n'"
   ]
  },
  {
   "cell_type": "code",
   "execution_count": 42,
   "metadata": {
    "collapsed": true
   },
   "outputs": [],
   "source": [
    "with open('data/BRCA_edge2features_logistic.txt', 'w') as f:\n",
    "    f.write(edge2features_line_out)\n",
    "with open('data/BRCA_feature_names_logistic.txt', 'w') as f:\n",
    "     f.write('\\n'.join(sorted(set(features_sorted) & features_sig)))"
   ]
  },
  {
   "cell_type": "markdown",
   "metadata": {
    "collapsed": true
   },
   "source": [
    "# Scratch"
   ]
  },
  {
   "cell_type": "code",
   "execution_count": 73,
   "metadata": {
    "scrolled": true
   },
   "outputs": [
    {
     "data": {
      "text/plain": [
       "gene 1                                      PIK3CA\n",
       "gene 2                                        TP53\n",
       "Adherens junction                                0\n",
       "Apoptosis                                        1\n",
       "B cell receptor signaling pathway              0.5\n",
       "BIND                                             0\n",
       "Base excision repair                             0\n",
       "BioGRID                                          0\n",
       "CCND1_source                                     0\n",
       "CCND1_target                                     0\n",
       "CORUM                                            0\n",
       "CTD                                              1\n",
       "Cell cycle                                     0.5\n",
       "Cytokine-cytokine receptor interaction           0\n",
       "DIP                                              0\n",
       "ECM-receptor interaction                         0\n",
       "ERBB2_source                                     0\n",
       "ERBB2_target                                     0\n",
       "ESC proliferation                              0.5\n",
       "Epithelial-mesenchymal transition              0.5\n",
       "ErbB signaling pathway                         0.5\n",
       "Focal adhesion                                 0.5\n",
       "Glycolysis / Gluconeogenesis                     0\n",
       "HPRD                                             0\n",
       "HumanCyc                                         0\n",
       "INOH                                             0\n",
       "IntAct                                           0\n",
       "Jak-STAT signaling pathway                     0.5\n",
       "KEGG                                             0\n",
       "MAPK signaling pathway                         0.5\n",
       "                                            ...   \n",
       "SMPDB                                            0\n",
       "T cell receptor signaling pathway              0.5\n",
       "TGF-beta signaling pathway                       0\n",
       "TP53_source                                      0\n",
       "TP53_target                                      1\n",
       "VEGF signaling pathway                         0.5\n",
       "WikiPathways                                     0\n",
       "Wnt signaling pathway                          0.5\n",
       "catalysis-precedes_d                             0\n",
       "catalysis-precedes_rev                           0\n",
       "controls-expression-of_d                         0\n",
       "controls-expression-of_rev                       0\n",
       "controls-phosphorylation-of_d                    0\n",
       "controls-phosphorylation-of_rev                  0\n",
       "controls-state-change-of_d                       0\n",
       "controls-state-change-of_rev                     1\n",
       "controls-transport-of_d                          0\n",
       "controls-transport-of_rev                        0\n",
       "fisherp_source                            0.260301\n",
       "fisherp_target                                   1\n",
       "in-complex-with                                  0\n",
       "inflammatory response                            0\n",
       "interacts-with                                   0\n",
       "mTOR signaling pathway                         0.5\n",
       "mutrate_source                                   1\n",
       "mutrate_target                            0.898551\n",
       "mutual_exclusive                           0.22046\n",
       "p53 signaling pathway                          0.5\n",
       "pid                                              0\n",
       "telomere maintenance                             0\n",
       "Name: PIK3CA\\tTP53, Length: 76, dtype: object"
      ]
     },
     "execution_count": 73,
     "metadata": {},
     "output_type": "execute_result"
    }
   ],
   "source": [
    "edge2features_df.loc['PIK3CA\\tTP53',:]"
   ]
  },
  {
   "cell_type": "code",
   "execution_count": 207,
   "metadata": {
    "scrolled": true
   },
   "outputs": [
    {
     "data": {
      "text/plain": [
       "Gene Symbol\n",
       "PIK3CA       207.0\n",
       "TP53         186.0\n",
       "MYC          132.0\n",
       "CCND1        108.0\n",
       "ERBB2         93.0\n",
       "AKT3          86.0\n",
       "MDM4          85.0\n",
       "H3F3A         83.0\n",
       "CDH1          69.0\n",
       "IKBKB         64.0\n",
       "GATA3         63.0\n",
       "SPOP          53.0\n",
       "PTEN          50.0\n",
       "MAP3K1        50.0\n",
       "PAK1          48.0\n",
       "RB1           42.0\n",
       "GNAS          40.0\n",
       "IGF1R         38.0\n",
       "MSR1          38.0\n",
       "MAP2K4        38.0\n",
       "TNFRSF10A     38.0\n",
       "PPP3CC        37.0\n",
       "PCM1          37.0\n",
       "TNFRSF10C     37.0\n",
       "TNFRSF10D     37.0\n",
       "TNFRSF10B     37.0\n",
       "SRSF2         37.0\n",
       "FZD3          36.0\n",
       "PTK2B         35.0\n",
       "NEIL2         35.0\n",
       "             ...  \n",
       "AGER           0.0\n",
       "AIF1           0.0\n",
       "C4B            0.0\n",
       "CSNK2B         0.0\n",
       "HSPA1A         0.0\n",
       "PRKACA         0.0\n",
       "SLC27A1        0.0\n",
       "NTF4           0.0\n",
       "CXCL9          0.0\n",
       "LIAS           0.0\n",
       "PF4V1          0.0\n",
       "CXCL1          0.0\n",
       "PPBP           0.0\n",
       "CXCL5          0.0\n",
       "CXCL3          0.0\n",
       "CXCL2          0.0\n",
       "EREG           0.0\n",
       "BTC            0.0\n",
       "CXCL11         0.0\n",
       "JUND           0.0\n",
       "CXCL13         0.0\n",
       "FGF5           0.0\n",
       "TYROBP         0.0\n",
       "HCST           0.0\n",
       "NFKBID         0.0\n",
       "GAPDHS         0.0\n",
       "CEBPA          0.0\n",
       "CEP89          0.0\n",
       "CRTC1          0.0\n",
       "PWWP2A         0.0\n",
       "Length: 2247, dtype: float64"
      ]
     },
     "execution_count": 207,
     "metadata": {},
     "output_type": "execute_result"
    }
   ],
   "source": [
    "training_set.sum().sort_values()[::-1]"
   ]
  },
  {
   "cell_type": "code",
   "execution_count": null,
   "metadata": {
    "collapsed": true
   },
   "outputs": [],
   "source": []
  },
  {
   "cell_type": "code",
   "execution_count": null,
   "metadata": {
    "collapsed": true
   },
   "outputs": [],
   "source": []
  },
  {
   "cell_type": "code",
   "execution_count": null,
   "metadata": {
    "collapsed": true
   },
   "outputs": [],
   "source": []
  },
  {
   "cell_type": "code",
   "execution_count": null,
   "metadata": {
    "collapsed": true
   },
   "outputs": [],
   "source": []
  },
  {
   "cell_type": "code",
   "execution_count": null,
   "metadata": {
    "collapsed": true
   },
   "outputs": [],
   "source": []
  }
 ],
 "metadata": {
  "kernelspec": {
   "display_name": "Python 2",
   "language": "python",
   "name": "python2"
  },
  "language_info": {
   "codemirror_mode": {
    "name": "ipython",
    "version": 2
   },
   "file_extension": ".py",
   "mimetype": "text/x-python",
   "name": "python",
   "nbconvert_exporter": "python",
   "pygments_lexer": "ipython2",
   "version": "2.7.13"
  }
 },
 "nbformat": 4,
 "nbformat_minor": 2
}
