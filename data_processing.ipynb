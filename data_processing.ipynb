{
 "cells": [
  {
   "cell_type": "code",
   "execution_count": 1,
   "metadata": {
    "collapsed": true
   },
   "outputs": [],
   "source": [
    "import pandas as pd\n",
    "import numpy as np\n",
    "from scipy.stats import fisher_exact\n",
    "from multiprocessing import Pool, cpu_count\n",
    "import functools"
   ]
  },
  {
   "cell_type": "markdown",
   "metadata": {},
   "source": [
    "# Parse pathway features"
   ]
  },
  {
   "cell_type": "code",
   "execution_count": 2,
   "metadata": {
    "collapsed": true
   },
   "outputs": [],
   "source": [
    "entrez2symbol = {}\n",
    "with open('data/Homo_sapiens.gene_info') as f:\n",
    "    for line in f.read().splitlines():\n",
    "        row = line.split('\\t')\n",
    "        entrez2symbol[row[1]]=row[2]"
   ]
  },
  {
   "cell_type": "markdown",
   "metadata": {},
   "source": [
    "These are the pathways related to cancer hallmarks, which will be used as edge features.  \n",
    "Referance: http://www.cell.com/abstract/S0092-8674(11)00127-9"
   ]
  },
  {
   "cell_type": "code",
   "execution_count": 3,
   "metadata": {
    "collapsed": true
   },
   "outputs": [],
   "source": [
    "gene2pathway = {}\n",
    "pathways = set()\n",
    "with open('data/hallmarks.txt') as f:\n",
    "    for line in f.read().splitlines():\n",
    "        row = line.split('\\t')\n",
    "        if len(row) > 1:\n",
    "            pathway = row[0].split('|')[1]\n",
    "            pathways.add(pathway)\n",
    "            for entrez in row[2:]:\n",
    "                if entrez not in entrez2symbol:\n",
    "                    continue\n",
    "                gene = entrez2symbol[entrez]\n",
    "                if gene not in gene2pathway:\n",
    "                    gene2pathway[gene]=set()\n",
    "                gene2pathway[gene].add(pathway)"
   ]
  },
  {
   "cell_type": "markdown",
   "metadata": {},
   "source": [
    "# Parse TCGA BRCA subtypes"
   ]
  },
  {
   "cell_type": "code",
   "execution_count": 4,
   "metadata": {
    "collapsed": true
   },
   "outputs": [],
   "source": [
    "pat2subtype = {}\n",
    "def parse_subtypes(fn, pat2subtype):\n",
    "    with open(fn) as f:\n",
    "        for line in f.read().rstrip().splitlines()[1:]:\n",
    "            row = line.split(\"\\t\")\n",
    "            pat = row[0][:12]\n",
    "            if len(row[0])>12:\n",
    "                tissue_code = row[0][13:15]\n",
    "                if int(tissue_code) >= 10:\n",
    "                    continue\n",
    "            if row[1] == 'NA':\n",
    "                continue\n",
    "            pat2subtype[pat] = row[1]\n",
    "        return pat2subtype\n",
    "pat2subtype = parse_subtypes('data/TCGABRCA2PAM50_nature547.txt', pat2subtype)\n",
    "pat2subtype = parse_subtypes('data/TCGABRCA2PAM50_nature522.txt', pat2subtype)\n",
    "pat2subtype = parse_subtypes('data/TCGABRCA2PAM50_cell871.txt', pat2subtype)\n",
    "pat2subtype = parse_subtypes('data/TCGABRCA2PAM50_cell817.txt', pat2subtype)"
   ]
  },
  {
   "cell_type": "markdown",
   "metadata": {},
   "source": [
    "# Parse mutation and CNA profile"
   ]
  },
  {
   "cell_type": "markdown",
   "metadata": {},
   "source": [
    "Genes were classified as wild type (0) or altered (1) in each of the tumors with alterations defined as follows:\n",
    "1. Most oncogenes (e.g., EGFR) were considered altered (activated) if impacted by a missense mutation, in-frame indel or copy number amplification. \n",
    "2. For the subset of oncogenes typically altered only by amplification (CCND1, LMO1, MDM2, MDM4, MYC, MYCL, MYCN, NCOA3, NKX2-1 and SKP2), only copy number amplifications were considered as alterations and not SNVs or indels. \n",
    "3. All other genes including tumor suppressors (e.g., CDKN2A) were considered altered (inactivated) if there was any type of non-silent mutation or a copy number deletion."
   ]
  },
  {
   "cell_type": "code",
   "execution_count": 5,
   "metadata": {
    "collapsed": true
   },
   "outputs": [],
   "source": [
    "def parse_maf(fn, oncogene_tsg):\n",
    "    df = pd.read_table(fn, low_memory=False)\n",
    "    df = df.loc[(df.loc[:,'is_flank']==0) & (df.loc[:,'is_silent']==0),:]\n",
    "    df['pat'] = df.loc[:,'Tumor_Sample_Barcode'].str[:12]\n",
    "    \n",
    "    filter_rows = []\n",
    "    genes = set()\n",
    "    for index, row in df.iterrows():\n",
    "        gene = row['Hugo_Symbol']\n",
    "        genes.add(gene)\n",
    "        VC = row['Variant_Classification']\n",
    "        if gene in oncogene_tsg:\n",
    "            if oncogene_tsg[gene] in ['Oncogene']:\n",
    "                if VC not in ['Missense_Mutation', 'In_Frame_Del', 'In_Frame_Ins', 'De_novo_Start_InFrame']:\n",
    "                    filter_rows.append(index)\n",
    "            if oncogene_tsg[gene] == 'Amplification_Oncogene':\n",
    "                filter_rows.append(index)\n",
    "    df = df.drop(filter_rows)\n",
    "    \n",
    "    df = df.loc[:,['pat','Hugo_Symbol']]\n",
    "    df['counter'] = 1\n",
    "    df.set_index(['pat','Hugo_Symbol'], inplace=True)\n",
    "    df = df.counter.groupby(level=[0,1]).min().unstack()\n",
    "    df.fillna(0, inplace=True)\n",
    "    return df, genes"
   ]
  },
  {
   "cell_type": "code",
   "execution_count": 6,
   "metadata": {
    "collapsed": true
   },
   "outputs": [],
   "source": [
    "oncogene_tsg={}\n",
    "with open('data/oncogene_tsg.txt') as f:\n",
    "    for line in f.read().splitlines():\n",
    "        row = line.split(\"\\t\")\n",
    "        oncogene_tsg[row[0]] = row[1]"
   ]
  },
  {
   "cell_type": "code",
   "execution_count": 7,
   "metadata": {
    "collapsed": true
   },
   "outputs": [],
   "source": [
    "fn = '/cellar/data/users/wzhang1984/Firehose/Firehose__2016_01_28/analyses/BRCA/Mutation_Assessor/BRCA-TP.maf.annotated'\n",
    "df_mut, genes = parse_maf(fn, oncogene_tsg)"
   ]
  },
  {
   "cell_type": "code",
   "execution_count": 8,
   "metadata": {
    "collapsed": true,
    "scrolled": true
   },
   "outputs": [],
   "source": [
    "def parse_CNA(fn, genes):\n",
    "    df = pd.read_table(fn,low_memory=False,index_col=0)\n",
    "    df = df[df.index.isin(genes)]\n",
    "    df = df.iloc[:,2:]\n",
    "    df = (df/2.).round(0)\n",
    "    df.columns = df.columns.str[:12]\n",
    "    \n",
    "    nonOncogene_rows = []\n",
    "    for index, row in df.iterrows():\n",
    "        gene = index\n",
    "        if not (gene in oncogene_tsg and oncogene_tsg[gene] in ['Oncogene', 'Amplification_Oncogene']):\n",
    "            nonOncogene_rows.append(index)\n",
    "    df.loc[nonOncogene_rows,:] = df.loc[nonOncogene_rows,:] * (-1)\n",
    "    df = df.clip(lower=0)\n",
    "    return df"
   ]
  },
  {
   "cell_type": "code",
   "execution_count": 9,
   "metadata": {
    "collapsed": true
   },
   "outputs": [],
   "source": [
    "coding_genes = set()\n",
    "with open(\"/cellar/data/users/wzhang1984/bcbio/genomes/Hsapiens/GRCh37/rnaseq-2014-07-14/ref-transcripts.gtf\") as f:\n",
    "    for line in f.read().splitlines():\n",
    "        row = line.split(\"\\t\")\n",
    "        if row[1] != \"protein_coding\" or row[2] != \"transcript\":\n",
    "            continue\n",
    "        gene_name = row[-1].split('gene_name \"')[1].split('\"')[0]\n",
    "        if gene_name:\n",
    "            coding_genes.add(gene_name)"
   ]
  },
  {
   "cell_type": "code",
   "execution_count": 10,
   "metadata": {
    "collapsed": true
   },
   "outputs": [],
   "source": [
    "coding_genes = coding_genes | genes"
   ]
  },
  {
   "cell_type": "code",
   "execution_count": 11,
   "metadata": {
    "collapsed": true
   },
   "outputs": [],
   "source": [
    "fn = '/cellar/data/users/wzhang1984/Firehose/Firehose__2016_01_28/analyses/BRCA/CopyNumber_Gistic2/all_thresholded.by_genes.txt'\n",
    "df_CNA = parse_CNA(fn, coding_genes)"
   ]
  },
  {
   "cell_type": "code",
   "execution_count": 12,
   "metadata": {
    "collapsed": true
   },
   "outputs": [],
   "source": [
    "df_mut_CNA = pd.concat([df_mut, df_CNA.transpose()], axis=1,\n",
    "                       join='inner').transpose().groupby(level=0).sum().clip(upper=1.).transpose()\n",
    "df_mut_CNA = df_mut_CNA.loc[set(df_mut.index) & set(df_CNA.columns) & set(pat2subtype.keys()),df_CNA.index]"
   ]
  },
  {
   "cell_type": "code",
   "execution_count": 13,
   "metadata": {
    "collapsed": true
   },
   "outputs": [],
   "source": [
    "training_set = df_mut_CNA.sample(frac=1./3)\n",
    "training_set.sort_index(inplace=True)"
   ]
  },
  {
   "cell_type": "code",
   "execution_count": 14,
   "metadata": {
    "collapsed": true
   },
   "outputs": [],
   "source": [
    "validation_set = df_mut_CNA.drop(training_set.index).sample(frac=1./2)\n",
    "validation_set.sort_index(inplace=True)"
   ]
  },
  {
   "cell_type": "code",
   "execution_count": 15,
   "metadata": {
    "collapsed": true
   },
   "outputs": [],
   "source": [
    "testing_set = df_mut_CNA.drop(training_set.index).drop(validation_set.index)\n",
    "testing_set.sort_index(inplace=True)"
   ]
  },
  {
   "cell_type": "markdown",
   "metadata": {},
   "source": [
    "# Parse PathwayCommons"
   ]
  },
  {
   "cell_type": "code",
   "execution_count": 16,
   "metadata": {
    "collapsed": true
   },
   "outputs": [],
   "source": [
    "PathwayCommons = pd.read_table('/cellar/users/wzhang1984/Data/PathwayCommons/PathwayCommons9.All.hgnc.txt')"
   ]
  },
  {
   "cell_type": "code",
   "execution_count": 17,
   "metadata": {
    "collapsed": true
   },
   "outputs": [],
   "source": [
    "PathwayCommons = PathwayCommons.loc[PathwayCommons.loc[:,'INTERACTION_TYPE'].isin(['controls-state-change-of',\n",
    "                                                                                   'controls-transport-of',\n",
    "                                                                                   'controls-phosphorylation-of',\n",
    "                                                                                   'controls-expression-of',\n",
    "                                                                                   'catalysis-precedes',\n",
    "                                                                                   'in-complex-with',\n",
    "                                                                                   'interacts-with', \n",
    "                                                                                   'neighbor-of']),:]"
   ]
  },
  {
   "cell_type": "code",
   "execution_count": 18,
   "metadata": {
    "collapsed": true,
    "scrolled": true
   },
   "outputs": [],
   "source": [
    "def parse_edge_features(mutrates, df):\n",
    "    edge2features = {}\n",
    "    for index, row in df.iterrows():\n",
    "        ty = row['INTERACTION_TYPE']\n",
    "        ty_d = ty + '_directed'\n",
    "        sources = row['INTERACTION_DATA_SOURCE'].split(';')\n",
    "        g1 = row['PARTICIPANT_A']\n",
    "        g2 = row['PARTICIPANT_B']\n",
    "        edge = g1 + '\\t' + g2\n",
    "        edge_rev = g2 + '\\t' + g1\n",
    "        if edge not in edge2features:\n",
    "            edge2features[edge] = {}\n",
    "        if edge_rev not in edge2features:\n",
    "            edge2features[edge_rev] = {}\n",
    "\n",
    "        # Parse edge type features\n",
    "        edge2features[edge][ty] = 1.\n",
    "        edge2features[edge_rev][ty] = 1.\n",
    "        if ty not in ['in-complex-with','interacts-with','neighbor-of']:\n",
    "            edge2features[edge][ty_d] = 1.\n",
    "\n",
    "        # Parse edge source features\n",
    "        for source in sources:\n",
    "            edge2features[edge][source] = 1.\n",
    "            edge2features[edge_rev][source] = 1.\n",
    "\n",
    "        # Parse pathway features. \n",
    "        # If one node is in the pathway, the score is 0.5\n",
    "        # If both nodes are in the pathway, the score is 1\n",
    "        if g1 in gene2pathway or g2 in gene2pathway:\n",
    "            for pathway in pathways:\n",
    "                edge2features[edge][pathway] = 0.\n",
    "                edge2features[edge_rev][pathway] = 0.\n",
    "            for g in [g1, g2]:\n",
    "                if g in gene2pathway:\n",
    "                    for pathway in gene2pathway[g]:\n",
    "                        edge2features[edge][pathway] += 0.5\n",
    "                        edge2features[edge_rev][pathway] += 0.5\n",
    "\n",
    "        # Parse mutation features from the training set\n",
    "        # Calculate mutation rates\n",
    "        mutrate_g1 = 0\n",
    "        mutrate_g2 = 0\n",
    "        if g1 in training_set:\n",
    "            mutrate_g1 = mutrates.loc[g1]\n",
    "        if g2 in training_set:\n",
    "            mutrate_g2 = mutrates.loc[g2]\n",
    "        edge2features[edge]['mutrate_source'] = mutrate_g1\n",
    "        edge2features[edge]['mutrate_target'] = mutrate_g2\n",
    "        edge2features[edge_rev]['mutrate_source'] = mutrate_g2\n",
    "        edge2features[edge_rev]['mutrate_target'] = mutrate_g1\n",
    "\n",
    "        # Calculate mutual exclusivity / co-occurrence\n",
    "        ME = 0.\n",
    "        if g1 in training_set and g2 in training_set:\n",
    "            if training_set.loc[:,g1].sum() < 7 or training_set.loc[:,g2].sum() < 7:\n",
    "                continue\n",
    "            tab = pd.crosstab(training_set.loc[:,g1],training_set.loc[:,g2])\n",
    "            if tab.shape != (2, 2):\n",
    "                continue\n",
    "            if tab.iloc[1,1] * tab.iloc[0,0] >= tab.iloc[0,1] * tab.iloc[1,0]:\n",
    "                continue\n",
    "            oddsratio, pvalue = fisher_exact(tab, alternative='less')\n",
    "            logp = np.log10(pvalue)\n",
    "            ME = -logp\n",
    "            if pvalue < 0.05:\n",
    "                print g1, g2, oddsratio, pvalue\n",
    "        edge2features[edge]['mutual_exclusive'] = ME\n",
    "        edge2features[edge_rev]['mutual_exclusive'] = ME\n",
    "\n",
    "    return pd.DataFrame.from_dict(edge2features, orient='index')"
   ]
  },
  {
   "cell_type": "code",
   "execution_count": 19,
   "metadata": {},
   "outputs": [
    {
     "name": "stdout",
     "output_type": "stream",
     "text": [
      "HSD17B2 TP53 0.0 0.0461435378519\n",
      "CCND1 RB1 0.0 0.0241218594707\n",
      "CCND1 RB1 0.0 0.0241218594707\n",
      "CCND1 RB1 0.0 0.0241218594707\n",
      "MYC RUNX1 0.0 0.0318363234718\n",
      "PIK3CA RB1 0.309260337798 0.040019576776\n"
     ]
    }
   ],
   "source": [
    "training_set_mutrate = training_set.sum() / training_set.shape[0]\n",
    "\n",
    "n_processes = cpu_count()\n",
    "pool = Pool(processes=n_processes)\n",
    "\n",
    "df_split = np.array_split(PathwayCommons, n_processes, axis=0)\n",
    "parse_edge_features_partial = functools.partial(parse_edge_features, training_set_mutrate)\n",
    "df_edge2features = pool.map(parse_edge_features_partial, df_split)\n",
    "\n",
    "pool.close()\n",
    "pool.join()"
   ]
  },
  {
   "cell_type": "code",
   "execution_count": 20,
   "metadata": {
    "collapsed": true
   },
   "outputs": [],
   "source": [
    "df_edge2features = pd.concat(df_edge2features)\n",
    "df_edge2features.sort_index(inplace=True)\n",
    "df_edge2features.sort_index(axis=1, inplace=True)\n",
    "df_edge2features.fillna(0., inplace=True)\n",
    "gene_pairs = df_edge2features.index.str.split('\\t')\n",
    "df_edge2features.insert(0, 'gene_2', gene_pairs.str[1])\n",
    "df_edge2features.insert(0, 'gene_1', gene_pairs.str[0])"
   ]
  },
  {
   "cell_type": "markdown",
   "metadata": {},
   "source": [
    "# Output dataframes to files"
   ]
  },
  {
   "cell_type": "code",
   "execution_count": 21,
   "metadata": {
    "collapsed": true
   },
   "outputs": [],
   "source": [
    "training_set.to_csv('data/BRCA_training_data.txt', sep='\\t')\n",
    "validation_set.to_csv('data/BRCA_validation_data.txt', sep='\\t')\n",
    "testing_set.to_csv('data/BRCA_testing_data.txt', sep='\\t')"
   ]
  },
  {
   "cell_type": "code",
   "execution_count": 22,
   "metadata": {
    "collapsed": true
   },
   "outputs": [],
   "source": [
    "training_set.index.to_series().map(pat2subtype).to_csv('data/BRCA_training_lables.txt', sep='\\t')\n",
    "validation_set.index.to_series().map(pat2subtype).to_csv('data/BRCA_validation_lables.txt', sep='\\t')\n",
    "testing_set.index.to_series().map(pat2subtype).to_csv('data/BRCA_testing_lables.txt', sep='\\t')"
   ]
  },
  {
   "cell_type": "code",
   "execution_count": 23,
   "metadata": {
    "collapsed": true
   },
   "outputs": [],
   "source": [
    "df_edge2features.to_csv('data/BRCA_edge2features.txt', sep='\\t', index=False)"
   ]
  },
  {
   "cell_type": "code",
   "execution_count": 24,
   "metadata": {
    "collapsed": true
   },
   "outputs": [],
   "source": [
    "df_edge2features.columns[2:].to_series().to_csv('data/BRCA_feature_names.txt', sep='\\t', index=False)"
   ]
  },
  {
   "cell_type": "code",
   "execution_count": null,
   "metadata": {
    "collapsed": true
   },
   "outputs": [],
   "source": []
  },
  {
   "cell_type": "code",
   "execution_count": null,
   "metadata": {
    "collapsed": true
   },
   "outputs": [],
   "source": []
  },
  {
   "cell_type": "code",
   "execution_count": null,
   "metadata": {
    "collapsed": true
   },
   "outputs": [],
   "source": []
  },
  {
   "cell_type": "code",
   "execution_count": null,
   "metadata": {
    "collapsed": true
   },
   "outputs": [],
   "source": []
  },
  {
   "cell_type": "code",
   "execution_count": null,
   "metadata": {
    "collapsed": true
   },
   "outputs": [],
   "source": []
  },
  {
   "cell_type": "code",
   "execution_count": null,
   "metadata": {
    "collapsed": true
   },
   "outputs": [],
   "source": []
  }
 ],
 "metadata": {
  "kernelspec": {
   "display_name": "Python 2",
   "language": "python",
   "name": "python2"
  },
  "language_info": {
   "codemirror_mode": {
    "name": "ipython",
    "version": 2
   },
   "file_extension": ".py",
   "mimetype": "text/x-python",
   "name": "python",
   "nbconvert_exporter": "python",
   "pygments_lexer": "ipython2",
   "version": "2.7.13"
  }
 },
 "nbformat": 4,
 "nbformat_minor": 2
}
