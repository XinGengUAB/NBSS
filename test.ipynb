{
 "cells": [
  {
   "cell_type": "code",
   "execution_count": 5,
   "metadata": {},
   "outputs": [],
   "source": [
    "%load_ext autoreload\n",
    "%autoreload 2"
   ]
  },
  {
   "cell_type": "code",
   "execution_count": 33,
   "metadata": {
    "collapsed": true
   },
   "outputs": [],
   "source": [
    "import numpy as np\n",
    "import SRW\n",
    "from scipy.sparse import csr_matrix, csc_matrix\n",
    "import functools"
   ]
  },
  {
   "cell_type": "markdown",
   "metadata": {},
   "source": [
    "# This toy example is for checking the partial derivatives"
   ]
  },
  {
   "cell_type": "code",
   "execution_count": 7,
   "metadata": {
    "collapsed": true
   },
   "outputs": [],
   "source": [
    "edges = np.array([[0,1],[0,2],[1,2],[1,0],[2,0],[2,1]])\n",
    "features = csc_matrix([[0.9,0.1,1.],[0.1,0.9,1.],[0.5,0.5,1.],[0.9,0.1,1.],[0.1,0.9,1.],[0.5,0.5,1.]])\n",
    "w0 = np.array([0.7,0.3,0.1])\n",
    "w1 = np.array([0.7,0.300001,0.1])\n",
    "rst_prob = 0.5\n",
    "P_init = mutation_profile = csr_matrix([[1,0,0],[0,1,0],[0,1,1],[1,1,0],[1,1,1]])\n",
    "nnodes = 3\n",
    "group_labels = [0, 0, 1, 1, 1]\n",
    "lam = 0.001"
   ]
  },
  {
   "cell_type": "code",
   "execution_count": 8,
   "metadata": {
    "collapsed": true
   },
   "outputs": [],
   "source": [
    "Q0, M_strength0, M_strength_rowSum0, strength_grad0 = SRW.strength_Q_and_gradient(edges, nnodes, features, w0)\n",
    "Q1, M_strength1, M_strength_rowSum1, strength_grad1 = SRW.strength_Q_and_gradient(edges, nnodes, features, w1)"
   ]
  },
  {
   "cell_type": "code",
   "execution_count": 9,
   "metadata": {},
   "outputs": [
    {
     "data": {
      "text/plain": [
       "array([[ 0.        , -0.07991799,  0.07991799],\n",
       "       [-0.03630052,  0.        ,  0.03630052],\n",
       "       [ 0.04380975, -0.04380975,  0.        ]])"
      ]
     },
     "execution_count": 9,
     "metadata": {},
     "output_type": "execute_result"
    }
   ],
   "source": [
    "Q_grad = SRW.Q_gradient_1feature(edges, nnodes, M_strength0, M_strength_rowSum0, strength_grad0.toarray()[:,1]) \n",
    "Q_grad.toarray()"
   ]
  },
  {
   "cell_type": "code",
   "execution_count": 10,
   "metadata": {},
   "outputs": [
    {
     "data": {
      "text/plain": [
       "array([[ 0.        , -0.07991797,  0.07991797],\n",
       "       [-0.03630051,  0.        ,  0.03630051],\n",
       "       [ 0.04380974, -0.04380974,  0.        ]])"
      ]
     },
     "execution_count": 10,
     "metadata": {},
     "output_type": "execute_result"
    }
   ],
   "source": [
    "(Q1 - Q0).toarray() / 0.000001 # check"
   ]
  },
  {
   "cell_type": "code",
   "execution_count": 11,
   "metadata": {
    "collapsed": true
   },
   "outputs": [],
   "source": [
    "P0 = csr_matrix(SRW.iterative_PPR(Q0.toarray(), SRW.renorm(mutation_profile).toarray(), rst_prob))\n",
    "P1 = csr_matrix(SRW.iterative_PPR(Q1.toarray(), SRW.renorm(mutation_profile).toarray(), rst_prob))"
   ]
  },
  {
   "cell_type": "code",
   "execution_count": 12,
   "metadata": {},
   "outputs": [
    {
     "data": {
      "text/plain": [
       "array([[  9.28591017e-05,  -2.24112783e-02,   2.23184192e-02],\n",
       "       [ -5.49892150e-03,  -9.83871874e-03,   1.53376402e-02],\n",
       "       [  9.11765236e-04,  -1.32354706e-02,   1.23237053e-02],\n",
       "       [ -2.70303120e-03,  -1.61249985e-02,   1.88280297e-02],\n",
       "       [  6.38796524e-04,  -1.62940731e-02,   1.56552766e-02]])"
      ]
     },
     "execution_count": 12,
     "metadata": {},
     "output_type": "execute_result"
    }
   ],
   "source": [
    "P_grad = SRW.calc_P_grad_pool(edges, nnodes, M_strength0, M_strength_rowSum0, Q0, P0, rst_prob, strength_grad0)\n",
    "P_grad[1,:,:]"
   ]
  },
  {
   "cell_type": "code",
   "execution_count": 13,
   "metadata": {},
   "outputs": [
    {
     "data": {
      "text/plain": [
       "array([[  9.26206889e-05,  -2.24106175e-02,   2.23179969e-02],\n",
       "       [ -5.49831308e-03,  -9.83946880e-03,   1.53377818e-02],\n",
       "       [  9.11855563e-04,  -1.32357492e-02,   1.23238936e-02],\n",
       "       [ -2.70284617e-03,  -1.61250431e-02,   1.88278893e-02],\n",
       "       [  6.38777253e-04,  -1.62940386e-02,   1.56552613e-02]])"
      ]
     },
     "execution_count": 13,
     "metadata": {},
     "output_type": "execute_result"
    }
   ],
   "source": [
    "(P1 - P0).toarray() / 0.000001 # check"
   ]
  },
  {
   "cell_type": "code",
   "execution_count": 14,
   "metadata": {
    "collapsed": true
   },
   "outputs": [],
   "source": [
    "group2npairs = SRW.count_numbers_per_group(group_labels)"
   ]
  },
  {
   "cell_type": "code",
   "execution_count": 15,
   "metadata": {
    "collapsed": true
   },
   "outputs": [],
   "source": [
    "J0 = SRW.obj_func(P0, group_labels, group2npairs, lam, w0)\n",
    "J1 = SRW.obj_func(P1, group_labels, group2npairs, lam, w1)"
   ]
  },
  {
   "cell_type": "code",
   "execution_count": 16,
   "metadata": {},
   "outputs": [
    {
     "name": "stdout",
     "output_type": "stream",
     "text": [
      "obj_func_gradient finished calculating cost_grad: 10:28:16\n"
     ]
    },
    {
     "data": {
      "text/plain": [
       "array([-0.00818094,  0.01312818,  0.00314724])"
      ]
     },
     "execution_count": 16,
     "metadata": {},
     "output_type": "execute_result"
    }
   ],
   "source": [
    "J_grad = SRW.obj_func_gradient(P0, P_grad, group_labels, group2npairs, lam, w0)\n",
    "J_grad"
   ]
  },
  {
   "cell_type": "code",
   "execution_count": 17,
   "metadata": {
    "scrolled": true
   },
   "outputs": [
    {
     "data": {
      "text/plain": [
       "0.013126452313994008"
      ]
     },
     "execution_count": 17,
     "metadata": {},
     "output_type": "execute_result"
    }
   ],
   "source": [
    "(J1 - J0) / 0.000001  # check"
   ]
  },
  {
   "cell_type": "code",
   "execution_count": 18,
   "metadata": {
    "collapsed": true
   },
   "outputs": [],
   "source": [
    "J0 = SRW.obj_func(P0, group_labels, group2npairs, lam, w0, 'absolute', 'L1', True)\n",
    "J1 = SRW.obj_func(P1, group_labels, group2npairs, lam, w1, 'absolute', 'L1', True)"
   ]
  },
  {
   "cell_type": "code",
   "execution_count": 19,
   "metadata": {},
   "outputs": [
    {
     "name": "stdout",
     "output_type": "stream",
     "text": [
      "obj_func_gradient finished calculating cost_grad: 10:28:18\n"
     ]
    },
    {
     "data": {
      "text/plain": [
       "array([-0.00038486,  0.00299408,  0.00160922])"
      ]
     },
     "execution_count": 19,
     "metadata": {},
     "output_type": "execute_result"
    }
   ],
   "source": [
    "J_grad = SRW.obj_func_gradient(P0, P_grad, group_labels, group2npairs, lam, w0, 'absolute', 'L1', True)\n",
    "J_grad"
   ]
  },
  {
   "cell_type": "code",
   "execution_count": 20,
   "metadata": {},
   "outputs": [
    {
     "data": {
      "text/plain": [
       "0.0029933249212632518"
      ]
     },
     "execution_count": 20,
     "metadata": {},
     "output_type": "execute_result"
    }
   ],
   "source": [
    "(J1 - J0) / 0.000001  # check"
   ]
  },
  {
   "cell_type": "markdown",
   "metadata": {
    "collapsed": true
   },
   "source": [
    "# This toy example is for checking the gradient descent functions"
   ]
  },
  {
   "cell_type": "code",
   "execution_count": 34,
   "metadata": {},
   "outputs": [],
   "source": [
    "edges = [[0,1],[0,2],[0,3],[0,4],[0,5],[1,2],[1,3],[1,4],[1,5],[2,3],[2,4],[2,5],[3,4],[3,5],[4,5],\n",
    "         [1,0],[2,0],[3,0],[4,0],[5,0],[2,1],[3,1],[4,1],[5,1],[3,2],[4,2],[5,2],[4,3],[5,3],[5,4],\n",
    "         [0,0],[1,1],[2,2],[3,3],[4,4],[5,5]]\n",
    "edges = np.array(edges)\n",
    "features = csc_matrix([[.9,.4,0.,1.],[.9,.6,0.,1.],[.1,.4,0.,1.],[.1,.5,0.,1.],[.1,.6,0.,1.],[.9,.5,0.,1.],[.1,.4,0.,1.],[.1,.5,0.,1.],[.1,.6,0.,1.],[.1,.4,0.,1.],[.1,.5,0.,1.],[.1,.6,0.,1.],[.9,.4,0.,1.],[.9,.6,0.,1.],[.9,.5,0.,1.],\n",
    "                       [.9,.4,0.,1.],[.9,.6,0.,1.],[.1,.4,0.,1.],[.1,.5,0.,1.],[.1,.6,0.,1.],[.9,.5,0.,1.],[.1,.4,0.,1.],[.1,.5,0.,1.],[.1,.6,0.,1.],[.1,.4,0.,1.],[.1,.5,0.,1.],[.1,.6,0.,1.],[.9,.4,0.,1.],[.9,.6,0.,1.],[.9,.5,0.,1.],\n",
    "                       [.0,.0,1.,1.],[.0,.0,1.,1.],[.0,.0,1.,1.],[.0,.0,1.,1.],[.0,.0,1.,1.],[.0,.0,1.,1.]])\n",
    "rst_prob = 0.3\n",
    "P_init = mutation_profile = csr_matrix([[1,0,0,0,0,0],[0,1,0,0,0,0],[0,0,1,0,0,0],\n",
    "                                        [0,0,0,1,0,0],[0,0,0,0,1,0],[0,0,0,0,0,1]]).astype(float)\n",
    "nnodes = 6\n",
    "group_labels = [0, 0, 0, 1, 1, 1]\n",
    "lam = 1e-8\n",
    "w_init_sd = 0.03\n",
    "learning_rate = 0.001"
   ]
  },
  {
   "cell_type": "code",
   "execution_count": null,
   "metadata": {
    "scrolled": true
   },
   "outputs": [],
   "source": [
    "w = SRW.train_SRW_GD(edges, features, nnodes, P_init, rst_prob, group_labels, lam, \n",
    "                     w_init_sd, 'squared', 'L1', True, learning_rate=0.2, update_w_func='Nadam')"
   ]
  },
  {
   "cell_type": "code",
   "execution_count": null,
   "metadata": {
    "scrolled": true
   },
   "outputs": [],
   "source": [
    "w = SRW.train_SRW_GD(edges, features, nnodes, P_init, rst_prob, group_labels, lam, \n",
    "                     w_init_sd, 'squared', 'L1', True, learning_rate=2, update_w_func='Nesterov',\n",
    "                     P_init_validation=P_init, group_labels_validation=group_labels)"
   ]
  },
  {
   "cell_type": "code",
   "execution_count": null,
   "metadata": {
    "scrolled": true
   },
   "outputs": [],
   "source": [
    "w = SRW.train_SRW_GD(edges, features, nnodes, P_init, rst_prob, group_labels, lam, \n",
    "                     w_init_sd, 'squared', 'L1', False, learning_rate=0.1, update_w_func='Adam')"
   ]
  },
  {
   "cell_type": "code",
   "execution_count": 36,
   "metadata": {},
   "outputs": [
    {
     "data": {
      "text/plain": [
       "array([ 7.85622905, -0.48513362, -2.97608061, -7.24309342])"
      ]
     },
     "execution_count": 36,
     "metadata": {},
     "output_type": "execute_result"
    }
   ],
   "source": [
    "w"
   ]
  },
  {
   "cell_type": "code",
   "execution_count": 37,
   "metadata": {
    "scrolled": true
   },
   "outputs": [
    {
     "name": "stdout",
     "output_type": "stream",
     "text": [
      "obj_func_gradient finished calculating cost_grad: 11:43:31\n",
      "obj_func_gradient finished calculating cost_grad: 11:43:31\n",
      "obj_func_gradient finished calculating cost_grad: 11:43:31\n",
      "obj_func_gradient finished calculating cost_grad: 11:43:31\n",
      "obj_func_gradient finished calculating cost_grad: 11:43:31\n",
      "obj_func_gradient finished calculating cost_grad: 11:43:31\n",
      "obj_func_gradient finished calculating cost_grad: 11:43:31\n",
      "obj_func_gradient finished calculating cost_grad: 11:43:32\n",
      "obj_func_gradient finished calculating cost_grad: 11:43:32\n",
      "obj_func_gradient finished calculating cost_grad: 11:43:32\n",
      "obj_func_gradient finished calculating cost_grad: 11:43:32\n",
      "obj_func_gradient finished calculating cost_grad: 11:43:32\n",
      "obj_func_gradient finished calculating cost_grad: 11:43:32\n",
      "obj_func_gradient finished calculating cost_grad: 11:43:32\n"
     ]
    }
   ],
   "source": [
    "w, J, d, J_validation = SRW.train_SRW_BFGS(edges, features, nnodes, P_init, rst_prob, group_labels, lam, \n",
    "                                           w_init_sd=0.01, loss='squared', norm_type='L1', maximize_diff=False, \n",
    "                                           P_init_validation=P_init, group_labels_validation=group_labels)"
   ]
  },
  {
   "cell_type": "code",
   "execution_count": 38,
   "metadata": {},
   "outputs": [
    {
     "data": {
      "text/plain": [
       "(array([ 14.42735515,   0.65943753,  -2.59166019, -11.20192713]),\n",
       " 0.19754669280583287,\n",
       " {'funcalls': 14,\n",
       "  'grad': array([ -2.39742553e-06,   9.48296579e-06,   1.63405493e-07,\n",
       "           9.79990089e-06]),\n",
       "  'nit': 13,\n",
       "  'task': 'CONVERGENCE: NORM_OF_PROJECTED_GRADIENT_<=_PGTOL',\n",
       "  'warnflag': 0},\n",
       " 0.19754640400203285)"
      ]
     },
     "execution_count": 38,
     "metadata": {},
     "output_type": "execute_result"
    }
   ],
   "source": [
    "w, J, d, J_validation"
   ]
  },
  {
   "cell_type": "markdown",
   "metadata": {},
   "source": [
    "### Check the transition matrix Q and propagation scores P"
   ]
  },
  {
   "cell_type": "code",
   "execution_count": 39,
   "metadata": {
    "scrolled": false
   },
   "outputs": [
    {
     "data": {
      "text/plain": [
       "array([[  5.72923055e-07,   4.96373285e-01,   5.03490896e-01,\n",
       "          4.21440153e-05,   4.50166003e-05,   4.80849671e-05],\n",
       "       [  4.98100109e-01,   5.74916185e-07,   5.01763600e-01,\n",
       "          4.22906293e-05,   4.51732076e-05,   4.82522490e-05],\n",
       "       [  5.01659442e-01,   4.98205233e-01,   5.70839041e-07,\n",
       "          4.19907160e-05,   4.48528519e-05,   4.79100575e-05],\n",
       "       [  4.21443868e-05,   4.21443868e-05,   4.21443868e-05,\n",
       "          5.72928104e-07,   4.96377660e-01,   5.03495334e-01],\n",
       "       [  4.51732165e-05,   4.51732165e-05,   4.51732165e-05,\n",
       "          4.98100206e-01,   5.74916298e-07,   5.01763699e-01],\n",
       "       [  4.79096275e-05,   4.79096275e-05,   4.79096275e-05,\n",
       "          5.01654939e-01,   4.98200761e-01,   5.70833916e-07]])"
      ]
     },
     "execution_count": 39,
     "metadata": {},
     "output_type": "execute_result"
    }
   ],
   "source": [
    "Q = SRW.generate_Q(edges, nnodes, features, w)\n",
    "Q.toarray()"
   ]
  },
  {
   "cell_type": "code",
   "execution_count": 40,
   "metadata": {},
   "outputs": [
    {
     "data": {
      "text/plain": [
       "array([[  4.81369662e-01,   2.58030153e-01,   2.60284887e-01,\n",
       "          1.03572659e-04,   1.04778753e-04,   1.06946993e-04],\n",
       "       [  2.58927809e-01,   4.80670870e-01,   2.60085778e-01,\n",
       "          1.03652975e-04,   1.04860003e-04,   1.07029925e-04],\n",
       "       [  2.59338097e-01,   2.58241323e-01,   4.82105536e-01,\n",
       "          1.03489145e-04,   1.04694266e-04,   1.06860758e-04],\n",
       "       [  1.03573572e-04,   1.03294539e-04,   1.03867878e-04,\n",
       "          4.81370250e-01,   2.58031821e-01,   2.60287193e-01],\n",
       "       [  1.05143286e-04,   1.04860024e-04,   1.05442052e-04,\n",
       "          2.58927251e-01,   4.80670880e-01,   2.60086424e-01],\n",
       "       [  1.06557015e-04,   1.06269945e-04,   1.06859799e-04,\n",
       "          2.59335782e-01,   2.58239595e-01,   4.82104937e-01]])"
      ]
     },
     "execution_count": 40,
     "metadata": {},
     "output_type": "execute_result"
    }
   ],
   "source": [
    "P = SRW.iterative_PPR(Q.toarray(), SRW.renorm(P_init).toarray(), rst_prob)\n",
    "P"
   ]
  },
  {
   "cell_type": "code",
   "execution_count": 41,
   "metadata": {
    "collapsed": true
   },
   "outputs": [],
   "source": [
    "group2npairs = SRW.count_numbers_per_group(group_labels)"
   ]
  },
  {
   "cell_type": "code",
   "execution_count": 42,
   "metadata": {},
   "outputs": [
    {
     "data": {
      "text/plain": [
       "0.19754669280583287"
      ]
     },
     "execution_count": 42,
     "metadata": {},
     "output_type": "execute_result"
    }
   ],
   "source": [
    "J = SRW.obj_func(P, group_labels, group2npairs, lam, w, loss='squared', norm_type='L1', maximize_diff=False)\n",
    "J"
   ]
  },
  {
   "cell_type": "markdown",
   "metadata": {},
   "source": [
    "### Compare with unweighted random walk"
   ]
  },
  {
   "cell_type": "code",
   "execution_count": 43,
   "metadata": {},
   "outputs": [
    {
     "data": {
      "text/plain": [
       "array([[ 0.16666667,  0.16666667,  0.16666667,  0.16666667,  0.16666667,\n",
       "         0.16666667],\n",
       "       [ 0.16666667,  0.16666667,  0.16666667,  0.16666667,  0.16666667,\n",
       "         0.16666667],\n",
       "       [ 0.16666667,  0.16666667,  0.16666667,  0.16666667,  0.16666667,\n",
       "         0.16666667],\n",
       "       [ 0.16666667,  0.16666667,  0.16666667,  0.16666667,  0.16666667,\n",
       "         0.16666667],\n",
       "       [ 0.16666667,  0.16666667,  0.16666667,  0.16666667,  0.16666667,\n",
       "         0.16666667],\n",
       "       [ 0.16666667,  0.16666667,  0.16666667,  0.16666667,  0.16666667,\n",
       "         0.16666667]])"
      ]
     },
     "execution_count": 43,
     "metadata": {},
     "output_type": "execute_result"
    }
   ],
   "source": [
    "Qu = SRW.generate_Q_unweighted(edges, nnodes)\n",
    "Qu.toarray()"
   ]
  },
  {
   "cell_type": "code",
   "execution_count": 44,
   "metadata": {},
   "outputs": [
    {
     "data": {
      "text/plain": [
       "array([[ 0.41666667,  0.11666667,  0.11666667,  0.11666667,  0.11666667,\n",
       "         0.11666667],\n",
       "       [ 0.11666667,  0.41666667,  0.11666667,  0.11666667,  0.11666667,\n",
       "         0.11666667],\n",
       "       [ 0.11666667,  0.11666667,  0.41666667,  0.11666667,  0.11666667,\n",
       "         0.11666667],\n",
       "       [ 0.11666667,  0.11666667,  0.11666667,  0.41666667,  0.11666667,\n",
       "         0.11666667],\n",
       "       [ 0.11666667,  0.11666667,  0.11666667,  0.11666667,  0.41666667,\n",
       "         0.11666667],\n",
       "       [ 0.11666667,  0.11666667,  0.11666667,  0.11666667,  0.11666667,\n",
       "         0.41666667]])"
      ]
     },
     "execution_count": 44,
     "metadata": {},
     "output_type": "execute_result"
    }
   ],
   "source": [
    "Pu = SRW.iterative_PPR(Qu.toarray(), SRW.renorm(P_init).toarray(), rst_prob)\n",
    "Pu"
   ]
  },
  {
   "cell_type": "code",
   "execution_count": 45,
   "metadata": {},
   "outputs": [
    {
     "data": {
      "text/plain": [
       "0.36000000000000004"
      ]
     },
     "execution_count": 45,
     "metadata": {},
     "output_type": "execute_result"
    }
   ],
   "source": [
    "Ju = SRW.obj_func(Pu, group_labels, group2npairs, lam, [0.,0.,0.,0.], loss='squared', norm_type='L1', maximize_diff=False)\n",
    "Ju"
   ]
  },
  {
   "cell_type": "code",
   "execution_count": null,
   "metadata": {
    "collapsed": true
   },
   "outputs": [],
   "source": []
  },
  {
   "cell_type": "markdown",
   "metadata": {
    "collapsed": true
   },
   "source": [
    "# Scratch"
   ]
  },
  {
   "cell_type": "code",
   "execution_count": null,
   "metadata": {
    "collapsed": true
   },
   "outputs": [],
   "source": []
  },
  {
   "cell_type": "code",
   "execution_count": null,
   "metadata": {
    "collapsed": true
   },
   "outputs": [],
   "source": []
  },
  {
   "cell_type": "code",
   "execution_count": null,
   "metadata": {
    "collapsed": true
   },
   "outputs": [],
   "source": []
  },
  {
   "cell_type": "code",
   "execution_count": null,
   "metadata": {
    "collapsed": true
   },
   "outputs": [],
   "source": []
  },
  {
   "cell_type": "code",
   "execution_count": null,
   "metadata": {
    "collapsed": true
   },
   "outputs": [],
   "source": []
  },
  {
   "cell_type": "code",
   "execution_count": null,
   "metadata": {
    "collapsed": true
   },
   "outputs": [],
   "source": []
  },
  {
   "cell_type": "code",
   "execution_count": null,
   "metadata": {
    "collapsed": true
   },
   "outputs": [],
   "source": []
  },
  {
   "cell_type": "code",
   "execution_count": null,
   "metadata": {
    "collapsed": true
   },
   "outputs": [],
   "source": []
  },
  {
   "cell_type": "code",
   "execution_count": null,
   "metadata": {
    "collapsed": true
   },
   "outputs": [],
   "source": []
  }
 ],
 "metadata": {
  "kernelspec": {
   "display_name": "Python 2",
   "language": "python",
   "name": "python2"
  },
  "language_info": {
   "codemirror_mode": {
    "name": "ipython",
    "version": 2
   },
   "file_extension": ".py",
   "mimetype": "text/x-python",
   "name": "python",
   "nbconvert_exporter": "python",
   "pygments_lexer": "ipython2",
   "version": "2.7.13"
  }
 },
 "nbformat": 4,
 "nbformat_minor": 2
}
