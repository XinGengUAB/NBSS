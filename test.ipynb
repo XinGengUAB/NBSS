{
 "cells": [
  {
   "cell_type": "code",
   "execution_count": 1,
   "metadata": {
    "collapsed": true
   },
   "outputs": [],
   "source": [
    "%load_ext autoreload\n",
    "%autoreload 2"
   ]
  },
  {
   "cell_type": "code",
   "execution_count": 2,
   "metadata": {
    "collapsed": true
   },
   "outputs": [],
   "source": [
    "import numpy as np\n",
    "import SRW_v044 as SRW\n",
    "from scipy.sparse import csr_matrix, csc_matrix, issparse\n",
    "import functools"
   ]
  },
  {
   "cell_type": "markdown",
   "metadata": {},
   "source": [
    "# This toy example is for checking the partial derivatives"
   ]
  },
  {
   "cell_type": "code",
   "execution_count": 66,
   "metadata": {
    "collapsed": true
   },
   "outputs": [],
   "source": [
    "edges = np.array([[0,1],[0,2],[1,2],[1,0],[2,0],[2,1]])\n",
    "features = csc_matrix([[0.9,0.1,1.],[0.1,0.9,1.],[0.5,0.5,1.],[0.9,0.1,1.],[0.1,0.9,1.],[0.5,0.5,1.]])\n",
    "w0 = np.array([0.699999,0.3,0.1])\n",
    "w1 = np.array([0.700001,0.3,0.1])\n",
    "rst_prob = 0.5\n",
    "P_init = mutation_profile = csr_matrix([[1,0,0],[0,1,0],[0,1,1],[1,1,0],[1,1,1]])\n",
    "nnodes = 3\n",
    "group_labels = [1, 0, 1, 0, 0]\n",
    "lam = 0.001"
   ]
  },
  {
   "cell_type": "code",
   "execution_count": 67,
   "metadata": {
    "collapsed": true
   },
   "outputs": [],
   "source": [
    "Q0, M_strength0, M_strength_rowSum0, strength_grad0 = SRW.strength_Q_and_gradient(edges, nnodes, features, w0)\n",
    "Q1, M_strength1, M_strength_rowSum1, strength_grad1 = SRW.strength_Q_and_gradient(edges, nnodes, features, w1)"
   ]
  },
  {
   "cell_type": "code",
   "execution_count": 68,
   "metadata": {},
   "outputs": [
    {
     "data": {
      "text/plain": [
       "array([[ 0.        ,  0.06170307, -0.06170307],\n",
       "       [ 0.02738265,  0.        , -0.02738265],\n",
       "       [-0.03446876,  0.03446876,  0.        ]])"
      ]
     },
     "execution_count": 68,
     "metadata": {},
     "output_type": "execute_result"
    }
   ],
   "source": [
    "Q_grad = SRW.Q_gradient_1feature(edges, nnodes, M_strength0, M_strength_rowSum0, strength_grad0.toarray()[:,0]) \n",
    "Q_grad.toarray()"
   ]
  },
  {
   "cell_type": "code",
   "execution_count": 69,
   "metadata": {},
   "outputs": [
    {
     "data": {
      "text/plain": [
       "array([[ 0.        ,  0.06170302, -0.06170302],\n",
       "       [ 0.02738262,  0.        , -0.02738262],\n",
       "       [-0.03446875,  0.03446875,  0.        ]])"
      ]
     },
     "execution_count": 69,
     "metadata": {},
     "output_type": "execute_result"
    }
   ],
   "source": [
    "(Q1 - Q0).toarray() / 0.000002 # check"
   ]
  },
  {
   "cell_type": "code",
   "execution_count": 70,
   "metadata": {
    "collapsed": true
   },
   "outputs": [],
   "source": [
    "P0 = csr_matrix(SRW.iterative_PPR(Q0.toarray(), SRW.renorm(mutation_profile).toarray(), rst_prob))\n",
    "P1 = csr_matrix(SRW.iterative_PPR(Q1.toarray(), SRW.renorm(mutation_profile).toarray(), rst_prob))"
   ]
  },
  {
   "cell_type": "code",
   "execution_count": 71,
   "metadata": {},
   "outputs": [
    {
     "data": {
      "text/plain": [
       "array([[-0.00017484,  0.01735194, -0.0171771 ],\n",
       "       [ 0.00403931,  0.00764498, -0.0116843 ],\n",
       "       [-0.00091024,  0.01031905, -0.00940881],\n",
       "       [ 0.00193224,  0.01249846, -0.0144307 ],\n",
       "       [-0.0006651 ,  0.01266335, -0.01199824]])"
      ]
     },
     "execution_count": 71,
     "metadata": {},
     "output_type": "execute_result"
    }
   ],
   "source": [
    "P_grad = SRW.calc_P_grad_pool(edges, nnodes, M_strength0, M_strength_rowSum0, Q0, P0, rst_prob, strength_grad0)\n",
    "P_grad[0,:,:]"
   ]
  },
  {
   "cell_type": "code",
   "execution_count": 72,
   "metadata": {},
   "outputs": [
    {
     "data": {
      "text/plain": [
       "array([[-0.00017466,  0.01735143, -0.01717677],\n",
       "       [ 0.00403884,  0.00764556, -0.0116844 ],\n",
       "       [-0.00091031,  0.01031926, -0.00940895],\n",
       "       [ 0.00193209,  0.01249849, -0.01443059],\n",
       "       [-0.00066509,  0.01266332, -0.01199823]])"
      ]
     },
     "execution_count": 72,
     "metadata": {},
     "output_type": "execute_result"
    }
   ],
   "source": [
    "(P1 - P0).toarray() / 0.000002 # check"
   ]
  },
  {
   "cell_type": "code",
   "execution_count": 73,
   "metadata": {
    "collapsed": true
   },
   "outputs": [],
   "source": [
    "SRW_obj_0 = SRW.SRW_solver(edges, features, nnodes, P_init, rst_prob, group_labels, lam, w=w0)\n",
    "SRW_obj_1 = SRW.SRW_solver(edges, features, nnodes, P_init, rst_prob, group_labels, lam, w=w1)"
   ]
  },
  {
   "cell_type": "code",
   "execution_count": 74,
   "metadata": {},
   "outputs": [
    {
     "name": "stdout",
     "output_type": "stream",
     "text": [
      "[[ 0.  3.]\n",
      " [ 2.  0.]]\n",
      "[[ 0.  2.]\n",
      " [ 2.  0.]]\n",
      "[[ 0.  3.]\n",
      " [ 2.  0.]]\n",
      "[[ 0.  2.]\n",
      " [ 2.  0.]]\n"
     ]
    }
   ],
   "source": [
    "J0, J_grad = SRW_obj_0.obj_func_and_grad(P0, P_grad, w0)\n",
    "J1, J_grad1 = SRW_obj_1.obj_func_and_grad(P1, P_grad, w1)"
   ]
  },
  {
   "cell_type": "code",
   "execution_count": 75,
   "metadata": {},
   "outputs": [
    {
     "data": {
      "text/plain": [
       "array([  1.00042987e-03,   9.99538425e-04,  -3.17005098e-08])"
      ]
     },
     "execution_count": 75,
     "metadata": {},
     "output_type": "execute_result"
    }
   ],
   "source": [
    "J_grad"
   ]
  },
  {
   "cell_type": "code",
   "execution_count": 76,
   "metadata": {
    "scrolled": true
   },
   "outputs": [
    {
     "data": {
      "text/plain": [
       "0.0010004299610955059"
      ]
     },
     "execution_count": 76,
     "metadata": {},
     "output_type": "execute_result"
    }
   ],
   "source": [
    "(J1 - J0) / 0.000002  # check"
   ]
  },
  {
   "cell_type": "code",
   "execution_count": 77,
   "metadata": {},
   "outputs": [
    {
     "name": "stdout",
     "output_type": "stream",
     "text": [
      "[[ 0.  3.]\n",
      " [ 2.  0.]]\n",
      "[[ 0.  2.]\n",
      " [ 2.  0.]]\n",
      "[[ 0.  3.]\n",
      " [ 2.  0.]]\n",
      "[[ 0.  2.]\n",
      " [ 2.  0.]]\n"
     ]
    }
   ],
   "source": [
    "SRW_obj_0.loss = SRW_obj_1.loss = 'WMW'\n",
    "SRW_obj_0.norm_type = SRW_obj_1.norm_type = 'L1'\n",
    "J0, J_grad = SRW_obj_0.obj_func_and_grad(P0, P_grad, w0)\n",
    "J1, J_grad1 = SRW_obj_1.obj_func_and_grad(P1, P_grad, w1)"
   ]
  },
  {
   "cell_type": "code",
   "execution_count": 78,
   "metadata": {},
   "outputs": [
    {
     "data": {
      "text/plain": [
       "array([  1.00042987e-03,   9.99538425e-04,  -3.17005098e-08])"
      ]
     },
     "execution_count": 78,
     "metadata": {},
     "output_type": "execute_result"
    }
   ],
   "source": [
    "J_grad"
   ]
  },
  {
   "cell_type": "code",
   "execution_count": 80,
   "metadata": {},
   "outputs": [
    {
     "data": {
      "text/plain": [
       "0.0010004299610955059"
      ]
     },
     "execution_count": 80,
     "metadata": {},
     "output_type": "execute_result"
    }
   ],
   "source": [
    "(J1 - J0) / 0.000002  # check"
   ]
  },
  {
   "cell_type": "markdown",
   "metadata": {
    "collapsed": true
   },
   "source": [
    "# This toy example is for checking the gradient descent functions"
   ]
  },
  {
   "cell_type": "code",
   "execution_count": 49,
   "metadata": {
    "collapsed": true
   },
   "outputs": [],
   "source": [
    "edges = [[0,1],[0,2],[0,3],[0,4],[0,5],[1,2],[1,3],[1,4],[1,5],[2,3],[2,4],[2,5],[3,4],[3,5],[4,5],\n",
    "         [1,0],[2,0],[3,0],[4,0],[5,0],[2,1],[3,1],[4,1],[5,1],[3,2],[4,2],[5,2],[4,3],[5,3],[5,4],\n",
    "         [0,0],[1,1],[2,2],[3,3],[4,4],[5,5]]\n",
    "edges = np.array(edges)\n",
    "features = csc_matrix([[.9,.4,0.,1.],[.9,.6,0.,1.],[.1,.4,0.,1.],[.1,.5,0.,1.],[.1,.6,0.,1.],[.9,.5,0.,1.],[.1,.4,0.,1.],[.1,.5,0.,1.],[.1,.6,0.,1.],[.1,.4,0.,1.],[.1,.5,0.,1.],[.1,.6,0.,1.],[.9,.4,0.,1.],[.9,.6,0.,1.],[.9,.5,0.,1.],\n",
    "                       [.9,.4,0.,1.],[.9,.6,0.,1.],[.1,.4,0.,1.],[.1,.5,0.,1.],[.1,.6,0.,1.],[.9,.5,0.,1.],[.1,.4,0.,1.],[.1,.5,0.,1.],[.1,.6,0.,1.],[.1,.4,0.,1.],[.1,.5,0.,1.],[.1,.6,0.,1.],[.9,.4,0.,1.],[.9,.6,0.,1.],[.9,.5,0.,1.],\n",
    "                       [.0,.0,1.,1.],[.0,.0,1.,1.],[.0,.0,1.,1.],[.0,.0,1.,1.],[.0,.0,1.,1.],[.0,.0,1.,1.]])\n",
    "rst_prob = 0.3\n",
    "P_init = mutation_profile = csr_matrix([[1,0,0,0,0,0],[0,1,0,0,0,0],[0,0,1,0,0,0],\n",
    "                                        [0,0,0,1,0,0],[0,0,0,0,1,0],[0,0,0,0,0,1]]).astype(float)\n",
    "nnodes = 6\n",
    "group_labels = [0, 0, 0, 1, 1, 1]\n",
    "lam = 2e-7\n",
    "feature_names = ['f1', 'f2', 'selfloop', 'intercept']\n",
    "node_names = ['n1', 'n2', 'n3', 'n4', 'n5', 'n6']\n",
    "sample_names = ['p1', 'p2', 'p3', 'p4', 'p5', 'p6']"
   ]
  },
  {
   "cell_type": "code",
   "execution_count": 52,
   "metadata": {
    "collapsed": true
   },
   "outputs": [],
   "source": [
    "SRW_obj_2 = SRW.SRW_solver(edges, features, nnodes, P_init, rst_prob, group_labels, lam, w_init_sd=0.01, \n",
    "                           w=None, feature_names=feature_names, sample_names=sample_names, \n",
    "                           node_names=node_names, loss='WMW', norm_type='L1', maximize_diff=False, \n",
    "                           learning_rate=1., update_w_func='Adam', P_init_val=P_init, \n",
    "                           group_labels_val=group_labels, ncpus=-1, maxit=1000, early_stop=10, \n",
    "                           WMW_b=0.005)"
   ]
  },
  {
   "cell_type": "code",
   "execution_count": 53,
   "metadata": {
    "scrolled": true
   },
   "outputs": [
    {
     "name": "stdout",
     "output_type": "stream",
     "text": [
      "finished calculating strength_grad: 17:48:44\n",
      "finished network propagation: 17:48:44\n",
      "finished calculating P_grad using pool: 17:48:45\n",
      "[[ 0.  3.]\n",
      " [ 3.  0.]]\n",
      "[[ 0.  3.]\n",
      " [ 3.  0.]]\n",
      "finished calculating J and J_grad: 17:48:45\n",
      "*** 0 iteration: J is 5.73526346331 cost_val is 3.9466695207e-05\n",
      "*** accuracy is 0.0 accuracy_val is 1.0\n",
      "[-0.02195841  0.0043074  -0.01338501 -0.01008228] \n",
      "\n",
      "finished calculating strength_grad: 17:48:45\n",
      "finished network propagation: 17:48:45\n",
      "finished calculating P_grad using pool: 17:48:45\n",
      "[[ 0.  3.]\n",
      " [ 3.  0.]]\n",
      "[[ 0.  3.]\n",
      " [ 3.  0.]]\n",
      "finished calculating J and J_grad: 17:48:45\n",
      "*** 1 iteration: J is 5.20846598278 cost_val is 6.49447907489e-05\n",
      "*** accuracy is 0.0 accuracy_val is 1.0\n",
      "[ 0.97804158  1.0043072  -1.0133849   0.98991666] \n",
      "\n",
      "finished calculating strength_grad: 17:48:45\n",
      "finished network propagation: 17:48:45\n",
      "finished calculating P_grad using pool: 17:48:45\n",
      "[[ 0.  3.]\n",
      " [ 3.  0.]]\n",
      "[[ 0.  0.]\n",
      " [ 0.  0.]]\n",
      "finished calculating J and J_grad: 17:48:45\n",
      "*** 2 iteration: J is 2.71285872419 cost_val is 4.2605264424e-05\n",
      "*** accuracy is 1.0 accuracy_val is 1.0\n",
      "[ 1.87444032  0.41640591 -2.01460975  0.25666143] \n",
      "\n",
      "finished calculating strength_grad: 17:48:45\n",
      "finished network propagation: 17:48:45\n",
      "finished calculating P_grad using pool: 17:48:45\n",
      "[[ 0.  3.]\n",
      " [ 3.  0.]]\n",
      "[[ 0.  0.]\n",
      " [ 0.  0.]]\n",
      "finished calculating J and J_grad: 17:48:45\n",
      "*** 3 iteration: J is 0.0411137516501 cost_val is 1.10433695158e-06\n",
      "*** accuracy is 1.0 accuracy_val is 1.0\n",
      "[ 2.8161113  -0.27986652 -2.88817996 -0.46841792] \n",
      "\n",
      "finished calculating strength_grad: 17:48:45\n",
      "finished network propagation: 17:48:45\n",
      "finished calculating P_grad using pool: 17:48:46\n",
      "[[ 0.  3.]\n",
      " [ 3.  0.]]\n",
      "[[ 0.  0.]\n",
      " [ 0.  0.]]\n",
      "finished calculating J and J_grad: 17:48:46\n",
      "*** 4 iteration: J is 6.1062120061e-06 cost_val is 2.73705629857e-10\n",
      "*** accuracy is 1.0 accuracy_val is 1.0\n",
      "[ 3.60072629 -0.89043813 -3.59524651 -1.10188591] \n",
      "\n",
      "finished calculating strength_grad: 17:48:46\n",
      "finished network propagation: 17:48:46\n",
      "finished calculating P_grad using pool: 17:48:46\n",
      "[[ 0.  3.]\n",
      " [ 3.  0.]]\n",
      "[[ 0.  0.]\n",
      " [ 0.  0.]]\n",
      "finished calculating J and J_grad: 17:48:46\n",
      "*** 5 iteration: J is 1.97266506747e-06 cost_val is 4.59101616284e-16\n",
      "*** accuracy is 1.0 accuracy_val is 1.0\n",
      "[ 4.26390721 -1.40651904 -4.19287737 -1.63731958] \n",
      "\n",
      "finished calculating strength_grad: 17:48:46\n",
      "finished network propagation: 17:48:46\n",
      "finished calculating P_grad using pool: 17:48:46\n",
      "[[ 0.  3.]\n",
      " [ 3.  0.]]\n",
      "[[ 0.  0.]\n",
      " [ 0.  0.]]\n",
      "finished calculating J and J_grad: 17:48:46\n",
      "*** 6 iteration: J is 2.27895087139e-06 cost_val is 2.85430609246e-23\n",
      "*** accuracy is 1.0 accuracy_val is 1.0\n",
      "[ 4.83548329 -1.85131396 -4.70795711 -2.09879414] \n",
      "\n",
      "finished calculating strength_grad: 17:48:46\n",
      "finished network propagation: 17:48:46\n",
      "finished calculating P_grad using pool: 17:48:46\n",
      "[[ 0.  3.]\n",
      " [ 3.  0.]]\n",
      "[[ 0.  0.]\n",
      " [ 0.  0.]]\n",
      "finished calculating J and J_grad: 17:48:46\n",
      "*** 7 iteration: J is 2.54643515127e-06 cost_val is 1.48289966694e-30\n",
      "*** accuracy is 1.0 accuracy_val is 1.0\n",
      "[ 5.33464296 -2.23975515 -5.15777765 -2.50180178] \n",
      "\n",
      "finished calculating strength_grad: 17:48:46\n",
      "finished network propagation: 17:48:46\n",
      "finished calculating P_grad using pool: 17:48:46\n",
      "[[ 0.  3.]\n",
      " [ 3.  0.]]\n",
      "[[ 0.  0.]\n",
      " [ 0.  0.]]\n",
      "finished calculating J and J_grad: 17:48:46\n",
      "*** 8 iteration: J is 2.78223845377e-06 cost_val is 7.12664788698e-37\n",
      "*** accuracy is 1.0 accuracy_val is 1.0\n",
      "[ 5.77468215 -2.58218934 -5.55432078 -2.85707724] \n",
      "\n",
      "finished calculating strength_grad: 17:48:46\n",
      "finished network propagation: 17:48:46\n",
      "finished calculating P_grad using pool: 17:48:47\n",
      "[[ 0.  3.]\n",
      " [ 3.  0.]]\n",
      "[[ 0.  0.]\n",
      " [ 0.  0.]]\n",
      "finished calculating J and J_grad: 17:48:47\n",
      "*** 9 iteration: J is 2.99156936139e-06 cost_val is 7.48725918835e-42\n",
      "*** accuracy is 1.0 accuracy_val is 1.0\n",
      "[ 6.16532069 -2.88618044 -5.90634568 -3.17246805] \n",
      "\n",
      "finished calculating strength_grad: 17:48:47\n",
      "finished network propagation: 17:48:47\n",
      "finished calculating P_grad using pool: 17:48:47\n",
      "[[ 0.  3.]\n",
      " [ 3.  0.]]\n",
      "[[ 0.  0.]\n",
      " [ 0.  0.]]\n",
      "finished calculating J and J_grad: 17:48:47\n",
      "*** 10 iteration: J is 3.17839223166e-06 cost_val is 1.41242447694e-45\n",
      "*** accuracy is 1.0 accuracy_val is 1.0\n",
      "[ 6.51395655 -3.15748546 -6.22051914 -3.45394711] \n",
      "\n",
      "finished calculating strength_grad: 17:48:47\n",
      "finished network propagation: 17:48:47\n",
      "finished calculating P_grad using pool: 17:48:47\n",
      "[[ 0.  3.]\n",
      " [ 3.  0.]]\n",
      "[[ 0.  0.]\n",
      " [ 0.  0.]]\n",
      "finished calculating J and J_grad: 17:48:47\n",
      "*** 11 iteration: J is 3.34582047911e-06 cost_val is 2.67225221575e-48\n",
      "*** accuracy is 1.0 accuracy_val is 1.0\n",
      "[ 6.82639975 -3.40062571 -6.50207693 -3.70620526] \n",
      "\n",
      "finished calculating strength_grad: 17:48:47\n",
      "finished network propagation: 17:48:47\n",
      "finished calculating P_grad using pool: 17:48:47\n",
      "[[ 0.  3.]\n",
      " [ 3.  0.]]\n",
      "[[ 0.  0.]\n",
      " [ 0.  0.]]\n",
      "finished calculating J and J_grad: 17:48:47\n",
      "*** 12 iteration: J is 3.49636097348e-06 cost_val is 2.79475568673e-50\n",
      "*** accuracy is 1.0 accuracy_val is 1.0\n",
      "[ 7.10732841 -3.61924165 -6.75523481 -3.93301949] \n",
      "\n",
      "finished calculating strength_grad: 17:48:47\n",
      "finished network propagation: 17:48:47\n",
      "finished calculating P_grad using pool: 17:48:48\n",
      "[[ 0.  3.]\n",
      " [ 3.  0.]]\n",
      "[[ 0.  0.]\n",
      " [ 0.  0.]]\n",
      "finished calculating J and J_grad: 17:48:48\n",
      "*** 13 iteration: J is 3.63207339251e-06 cost_val is 9.98339453816e-52\n",
      "*** accuracy is 1.0 accuracy_val is 1.0\n",
      "[ 7.36058613 -3.81632434 -6.98345649 -4.13749301] \n",
      "\n",
      "finished calculating strength_grad: 17:48:48\n",
      "finished network propagation: 17:48:48\n",
      "finished calculating P_grad using pool: 17:48:48\n",
      "[[ 0.  3.]\n",
      " [ 3.  0.]]\n",
      "[[ 0.  0.]\n",
      " [ 0.  0.]]\n",
      "finished calculating J and J_grad: 17:48:48\n",
      "*** 14 iteration: J is 3.75467829622e-06 cost_val is 8.53983925567e-53\n",
      "*** accuracy is 1.0 accuracy_val is 1.0\n",
      "[ 7.58938369 -3.99437237 -7.18963542 -4.3222181 ] \n",
      "\n",
      "finished calculating strength_grad: 17:48:48\n",
      "finished network propagation: 17:48:48\n",
      "finished calculating P_grad using pool: 17:48:48\n",
      "[[ 0.  3.]\n",
      " [ 3.  0.]]\n",
      "[[ 0.  0.]\n",
      " [ 0.  0.]]\n",
      "finished calculating J and J_grad: 17:48:48\n",
      "*** 15 iteration: J is 3.86563287834e-06 cost_val is 1.36055304451e-53\n",
      "*** accuracy is 1.0 accuracy_val is 1.0\n",
      "[ 7.79644038 -4.15550187 -7.37622213 -4.48939026] \n",
      "\n",
      "finished calculating strength_grad: 17:48:48\n",
      "finished network propagation: 17:48:48\n",
      "finished calculating P_grad using pool: 17:48:48\n",
      "[[ 0.  3.]\n",
      " [ 3.  0.]]\n",
      "[[ 0.  0.]\n",
      " [ 0.  0.]]\n",
      "finished calculating J and J_grad: 17:48:48\n",
      "*** 16 iteration: J is 3.9661855718e-06 cost_val is 3.3869913872e-54\n",
      "*** accuracy is 1.0 accuracy_val is 1.0\n",
      "[ 7.98408594 -4.30152582 -7.54531609 -4.64089044] \n",
      "\n",
      "finished calculating strength_grad: 17:48:48\n",
      "finished network propagation: 17:48:48\n",
      "finished calculating P_grad using pool: 17:48:49\n",
      "[[ 0.  3.]\n",
      " [ 3.  0.]]\n",
      "[[ 0.  0.]\n",
      " [ 0.  0.]]\n",
      "finished calculating J and J_grad: 17:48:49\n",
      "*** 17 iteration: J is 4.0574163761e-06 cost_val is 1.16556390116e-54\n",
      "*** accuracy is 1.0 accuracy_val is 1.0\n",
      "[ 8.15433578 -4.43401258 -7.69873352 -4.77834582] \n",
      "\n",
      "finished calculating strength_grad: 17:48:49\n",
      "finished network propagation: 17:48:49\n",
      "finished calculating P_grad using pool: 17:48:49\n",
      "[[ 0.  3.]\n",
      " [ 3.  0.]]\n",
      "[[ 0.  0.]\n",
      " [ 0.  0.]]\n",
      "finished calculating J and J_grad: 17:48:49\n",
      "*** 18 iteration: J is 4.1402672784e-06 cost_val is 5.08788771392e-55\n",
      "*** accuracy is 1.0 accuracy_val is 1.0\n",
      "[ 8.30894775 -4.55433011 -7.83805853 -4.90317564] \n",
      "\n",
      "finished calculating strength_grad: 17:48:49\n",
      "finished network propagation: 17:48:49\n",
      "finished calculating P_grad using pool: 17:48:49\n",
      "[[ 0.  3.]\n",
      " [ 3.  0.]]\n",
      "[[ 0.  0.]\n",
      " [ 0.  0.]]\n",
      "finished calculating J and J_grad: 17:48:49\n",
      "*** 19 iteration: J is 4.21556563614e-06 cost_val is 2.65069683603e-55\n",
      "*** accuracy is 1.0 accuracy_val is 1.0\n",
      "[ 8.4494658  -4.6636799  -7.96468249 -5.01662645] \n",
      "\n",
      "finished calculating strength_grad: 17:48:49\n",
      "finished network propagation: 17:48:49\n",
      "finished calculating P_grad using pool: 17:48:50\n",
      "[[ 0.  3.]\n",
      " [ 3.  0.]]\n",
      "[[ 0.  0.]\n",
      " [ 0.  0.]]\n",
      "finished calculating J and J_grad: 17:48:50\n",
      "*** 20 iteration: J is 4.28404245397e-06 cost_val is 1.57777987302e-55\n",
      "*** accuracy is 1.0 accuracy_val is 1.0\n",
      "[ 8.57725408 -4.76312349 -8.0798347  -5.11979962] \n",
      "\n",
      "finished calculating strength_grad: 17:48:50\n",
      "finished network propagation: 17:48:50\n",
      "finished calculating P_grad using pool: 17:48:50\n",
      "[[ 0.  3.]\n",
      " [ 3.  0.]]\n",
      "[[ 0.  0.]\n",
      " [ 0.  0.]]\n",
      "finished calculating J and J_grad: 17:48:50\n",
      "*** 21 iteration: J is 4.34634688718e-06 cost_val is 1.03956297168e-55\n",
      "*** accuracy is 1.0 accuracy_val is 1.0\n",
      "[ 8.69352398 -4.8536036  -8.18460685 -5.2136732 ] \n",
      "\n",
      "finished calculating strength_grad: 17:48:50\n",
      "finished network propagation: 17:48:50\n"
     ]
    },
    {
     "name": "stdout",
     "output_type": "stream",
     "text": [
      "finished calculating P_grad using pool: 17:48:50\n",
      "[[ 0.  3.]\n",
      " [ 3.  0.]]\n",
      "[[ 0.  0.]\n",
      " [ 0.  0.]]\n",
      "finished calculating J and J_grad: 17:48:50\n",
      "*** 22 iteration: J is 4.40305791001e-06 cost_val is 7.40773865691e-56\n",
      "*** accuracy is 1.0 accuracy_val is 1.0\n",
      "[ 8.79935595 -4.93596102 -8.27997258 -5.29911949] \n",
      "\n",
      "finished calculating strength_grad: 17:48:50\n",
      "finished network propagation: 17:48:50\n",
      "finished calculating P_grad using pool: 17:48:50\n",
      "[[ 0.  3.]\n",
      " [ 3.  0.]]\n",
      "[[ 0.  0.]\n",
      " [ 0.  0.]]\n",
      "finished calculating J and J_grad: 17:48:50\n",
      "*** 23 iteration: J is 4.45469382111e-06 cost_val is 5.61125647016e-56\n",
      "*** accuracy is 1.0 accuracy_val is 1.0\n",
      "[ 8.89571719 -5.0109484  -8.36680351 -5.37691941] \n",
      "\n",
      "finished calculating strength_grad: 17:48:50\n",
      "finished network propagation: 17:48:50\n",
      "finished calculating P_grad using pool: 17:48:50\n",
      "[[ 0.  3.]\n",
      " [ 3.  0.]]\n",
      "[[ 0.  0.]\n",
      " [ 0.  0.]]\n",
      "finished calculating J and J_grad: 17:48:50\n",
      "*** 24 iteration: J is 4.50172007655e-06 cost_val is 4.46013400528e-56\n",
      "*** accuracy is 1.0 accuracy_val is 1.0\n",
      "[ 8.9834763  -5.07924169 -8.44588239 -5.44777422] \n",
      "\n",
      "finished calculating strength_grad: 17:48:50\n",
      "finished network propagation: 17:48:50\n",
      "finished calculating P_grad using pool: 17:48:51\n",
      "[[ 0.  3.]\n",
      " [ 3.  0.]]\n",
      "[[ 0.  0.]\n",
      " [ 0.  0.]]\n",
      "finished calculating J and J_grad: 17:48:51\n",
      "*** 25 iteration: J is 4.54455581297e-06 cost_val is 3.68363742243e-56\n",
      "*** accuracy is 1.0 accuracy_val is 1.0\n",
      "[ 9.06341544 -5.14144955 -8.51791407 -5.51231542] \n",
      "\n",
      "finished calculating strength_grad: 17:48:51\n",
      "finished network propagation: 17:48:51\n",
      "finished calculating P_grad using pool: 17:48:51\n",
      "[[ 0.  3.]\n",
      " [ 3.  0.]]\n",
      "[[ 0.  0.]\n",
      " [ 0.  0.]]\n",
      "finished calculating J and J_grad: 17:48:51\n",
      "*** 26 iteration: J is 4.58357933294e-06 cost_val is 3.1373960181e-56\n",
      "*** accuracy is 1.0 accuracy_val is 1.0\n",
      "[ 9.13624056 -5.19812136 -8.58353474 -5.57111298] \n",
      "\n",
      "finished calculating strength_grad: 17:48:51\n",
      "finished network propagation: 17:48:51\n",
      "finished calculating P_grad using pool: 17:48:51\n",
      "[[ 0.  3.]\n",
      " [ 3.  0.]]\n",
      "[[ 0.  0.]\n",
      " [ 0.  0.]]\n",
      "finished calculating J and J_grad: 17:48:51\n",
      "*** 27 iteration: J is 4.6191327589e-06 cost_val is 2.73959123426e-56\n",
      "*** accuracy is 1.0 accuracy_val is 1.0\n",
      "[ 9.20259011 -5.24975394 -8.64331974 -5.62468235] \n",
      "\n",
      "finished calculating strength_grad: 17:48:51\n",
      "finished network propagation: 17:48:51\n",
      "finished calculating P_grad using pool: 17:48:51\n",
      "[[ 0.  3.]\n",
      " [ 3.  0.]]\n",
      "[[ 0.  0.]\n",
      " [ 0.  0.]]\n",
      "finished calculating J and J_grad: 17:48:51\n",
      "*** 28 iteration: J is 4.65152601432e-06 cost_val is 2.44140687199e-56\n",
      "*** accuracy is 1.0 accuracy_val is 1.0\n",
      "[ 9.26304244 -5.29679736 -8.69779026 -5.6734905 ] \n",
      "\n",
      "finished calculating strength_grad: 17:48:51\n",
      "finished network propagation: 17:48:51\n",
      "finished calculating P_grad using pool: 17:48:52\n",
      "[[ 0.  3.]\n",
      " [ 3.  0.]]\n",
      "[[ 0.  0.]\n",
      " [ 0.  0.]]\n",
      "finished calculating J and J_grad: 17:48:52\n",
      "*** 29 iteration: J is 4.68104025509e-06 cost_val is 2.21241040658e-56\n",
      "*** accuracy is 1.0 accuracy_val is 1.0\n",
      "[ 9.31812223 -5.33965992 -8.74741913 -5.71796101] \n",
      "\n",
      "finished calculating strength_grad: 17:48:52\n",
      "finished network propagation: 17:48:52\n",
      "finished calculating P_grad using pool: 17:48:52\n",
      "[[ 0.  3.]\n",
      " [ 3.  0.]]\n",
      "[[ 0.  0.]\n",
      " [ 0.  0.]]\n",
      "finished calculating J and J_grad: 17:48:52\n",
      "*** 30 iteration: J is 4.70793084745e-06 cost_val is 2.03289938325e-56\n",
      "*** accuracy is 1.0 accuracy_val is 1.0\n",
      "[ 9.36830601 -5.37871246 -8.79263577 -5.75847864] \n",
      "\n",
      "finished calculating strength_grad: 17:48:52\n",
      "finished network propagation: 17:48:52\n",
      "finished calculating P_grad using pool: 17:48:52\n",
      "[[ 0.  3.]\n",
      " [ 3.  0.]]\n",
      "[[ 0.  0.]\n",
      " [ 0.  0.]]\n",
      "finished calculating J and J_grad: 17:48:52\n",
      "*** 31 iteration: J is 4.73242996887e-06 cost_val is 1.88969307312e-56\n",
      "*** accuracy is 1.0 accuracy_val is 1.0\n",
      "[ 9.41402705 -5.41429214 -8.83383066 -5.79539319] \n",
      "\n",
      "finished calculating strength_grad: 17:48:52\n",
      "finished network propagation: 17:48:52\n",
      "finished calculating P_grad using pool: 17:48:52\n",
      "[[ 0.  3.]\n",
      " [ 3.  0.]]\n",
      "[[ 0.  0.]\n",
      " [ 0.  0.]]\n",
      "finished calculating J and J_grad: 17:48:52\n",
      "*** 32 iteration: J is 4.75474889257e-06 cost_val is 1.77371743518e-56\n",
      "*** accuracy is 1.0 accuracy_val is 1.0\n",
      "[ 9.45567962 -5.44670577 -8.87135907 -5.82902299] \n",
      "\n",
      "finished calculating strength_grad: 17:48:52\n",
      "finished network propagation: 17:48:52\n",
      "finished calculating P_grad using pool: 17:48:52\n",
      "[[ 0.  3.]\n",
      " [ 3.  0.]]\n",
      "[[ 0.  0.]\n",
      " [ 0.  0.]]\n",
      "finished calculating J and J_grad: 17:48:52\n",
      "*** 33 iteration: J is 4.77508000452e-06 cost_val is 1.67856615412e-56\n",
      "*** accuracy is 1.0 accuracy_val is 1.0\n",
      "[ 9.49362274 -5.47623274 -8.90554454 -5.85965789] \n",
      "\n",
      "finished calculating strength_grad: 17:48:53\n",
      "finished network propagation: 17:48:53\n",
      "finished calculating P_grad using pool: 17:48:53\n",
      "[[ 0.  3.]\n",
      " [ 3.  0.]]\n",
      "[[ 0.  0.]\n",
      " [ 0.  0.]]\n",
      "finished calculating J and J_grad: 17:48:53\n",
      "*** 34 iteration: J is 4.79359859289e-06 cost_val is 1.59961430139e-56\n",
      "*** accuracy is 1.0 accuracy_val is 1.0\n",
      "[ 9.52818351 -5.5031276  -8.93668186 -5.88756199] \n",
      "\n",
      "finished calculating strength_grad: 17:48:53\n",
      "finished network propagation: 17:48:53\n",
      "finished calculating P_grad using pool: 17:48:53\n",
      "[[ 0.  3.]\n",
      " [ 3.  0.]]\n",
      "[[ 0.  0.]\n",
      " [ 0.  0.]]\n",
      "finished calculating J and J_grad: 17:48:53\n",
      "*** 35 iteration: J is 4.81046444194e-06 cost_val is 1.53345601788e-56\n",
      "*** accuracy is 1.0 accuracy_val is 1.0\n",
      "[ 9.5596601  -5.52762239 -8.96503972 -5.91297602] \n",
      "\n",
      "finished calculating strength_grad: 17:48:53\n",
      "finished network propagation: 17:48:53\n",
      "finished calculating P_grad using pool: 17:48:53\n",
      "[[ 0.  3.]\n",
      " [ 3.  0.]]\n",
      "[[ 0.  0.]\n",
      " [ 0.  0.]]\n",
      "finished calculating J and J_grad: 17:48:53\n",
      "*** 36 iteration: J is 4.82582325739e-06 cost_val is 1.47753821345e-56\n",
      "*** accuracy is 1.0 accuracy_val is 1.0\n",
      "[ 9.58832443 -5.5499287  -8.99086316 -5.93611952] \n",
      "\n",
      "finished calculating strength_grad: 17:48:53\n",
      "finished network propagation: 17:48:53\n",
      "finished calculating P_grad using pool: 17:48:53\n",
      "[[ 0.  3.]\n",
      " [ 3.  0.]]\n",
      "[[ 0.  0.]\n",
      " [ 0.  0.]]\n",
      "finished calculating J and J_grad: 17:48:53\n",
      "*** 37 iteration: J is 4.83980794517e-06 cost_val is 1.42991622141e-56\n",
      "*** accuracy is 1.0 accuracy_val is 1.0\n",
      "[ 9.6144245  -5.57023954 -9.01437569 -5.95719273] \n",
      "\n",
      "finished calculating strength_grad: 17:48:53\n",
      "finished network propagation: 17:48:53\n",
      "finished calculating P_grad using pool: 17:48:54\n",
      "[[ 0.  3.]\n",
      " [ 3.  0.]]\n",
      "[[ 0.  0.]\n",
      " [ 0.  0.]]\n",
      "finished calculating J and J_grad: 17:48:54\n",
      "*** 38 iteration: J is 4.85253976206e-06 cost_val is 1.38908727408e-56\n",
      "*** accuracy is 1.0 accuracy_val is 1.0\n",
      "[ 9.63818661 -5.58873099 -9.03578122 -5.97637834] \n",
      "\n",
      "finished calculating strength_grad: 17:48:54\n",
      "finished network propagation: 17:48:54\n",
      "finished calculating P_grad using pool: 17:48:54\n",
      "[[ 0.  3.]\n",
      " [ 3.  0.]]\n",
      "[[ 0.  0.]\n",
      " [ 0.  0.]]\n",
      "finished calculating J and J_grad: 17:48:54\n",
      "*** 39 iteration: J is 4.86412935383e-06 cost_val is 1.35387478861e-56\n",
      "*** accuracy is 1.0 accuracy_val is 1.0\n",
      "[ 9.65981722 -5.60556373 -9.05526582 -5.99384305] \n",
      "\n",
      "finished calculating strength_grad: 17:48:54\n",
      "finished network propagation: 17:48:54\n",
      "finished calculating P_grad using pool: 17:48:54\n",
      "[[ 0.  3.]\n",
      " [ 3.  0.]]\n",
      "[[ 0.  0.]\n",
      " [ 0.  0.]]\n",
      "finished calculating J and J_grad: 17:48:54\n",
      "*** 40 iteration: J is 4.87467769396e-06 cost_val is 1.32334652635e-56\n",
      "*** accuracy is 1.0 accuracy_val is 1.0\n",
      "[ 9.67950477 -5.6208844  -9.0729993  -6.009739  ] \n",
      "\n",
      "finished calculating strength_grad: 17:48:54\n",
      "finished network propagation: 17:48:54\n",
      "finished calculating P_grad using pool: 17:48:54\n",
      "[[ 0.  3.]\n",
      " [ 3.  0.]]\n",
      "[[ 0.  0.]\n",
      " [ 0.  0.]]\n",
      "finished calculating J and J_grad: 17:48:54\n",
      "*** 41 iteration: J is 4.8842769341e-06 cost_val is 1.29675576854e-56\n",
      "*** accuracy is 1.0 accuracy_val is 1.0\n",
      "[ 9.69742122 -5.63482682 -9.08913663 -6.02420502] \n",
      "\n"
     ]
    }
   ],
   "source": [
    "SRW_obj_2.train_SRW_GD()"
   ]
  },
  {
   "cell_type": "code",
   "execution_count": 54,
   "metadata": {
    "collapsed": true
   },
   "outputs": [],
   "source": [
    "SRW_obj_2.generate_Q_and_P_fin()"
   ]
  },
  {
   "cell_type": "code",
   "execution_count": 55,
   "metadata": {},
   "outputs": [
    {
     "data": {
      "text/plain": [
       "array([ 9.69742122, -5.63482682, -9.08913663, -6.02420502])"
      ]
     },
     "execution_count": 55,
     "metadata": {},
     "output_type": "execute_result"
    }
   ],
   "source": [
    "SRW_obj_2.w"
   ]
  },
  {
   "cell_type": "code",
   "execution_count": 56,
   "metadata": {},
   "outputs": [
    {
     "data": {
      "text/html": [
       "<div>\n",
       "<style>\n",
       "    .dataframe thead tr:only-child th {\n",
       "        text-align: right;\n",
       "    }\n",
       "\n",
       "    .dataframe thead th {\n",
       "        text-align: left;\n",
       "    }\n",
       "\n",
       "    .dataframe tbody tr th {\n",
       "        vertical-align: top;\n",
       "    }\n",
       "</style>\n",
       "<table border=\"1\" class=\"dataframe\">\n",
       "  <thead>\n",
       "    <tr style=\"text-align: right;\">\n",
       "      <th></th>\n",
       "      <th>Weight</th>\n",
       "    </tr>\n",
       "  </thead>\n",
       "  <tbody>\n",
       "    <tr>\n",
       "      <th>f1</th>\n",
       "      <td>9.697421</td>\n",
       "    </tr>\n",
       "    <tr>\n",
       "      <th>f2</th>\n",
       "      <td>-5.634827</td>\n",
       "    </tr>\n",
       "    <tr>\n",
       "      <th>selfloop</th>\n",
       "      <td>-9.089137</td>\n",
       "    </tr>\n",
       "    <tr>\n",
       "      <th>intercept</th>\n",
       "      <td>-6.024205</td>\n",
       "    </tr>\n",
       "  </tbody>\n",
       "</table>\n",
       "</div>"
      ],
      "text/plain": [
       "             Weight\n",
       "f1         9.697421\n",
       "f2        -5.634827\n",
       "selfloop  -9.089137\n",
       "intercept -6.024205"
      ]
     },
     "execution_count": 56,
     "metadata": {},
     "output_type": "execute_result"
    }
   ],
   "source": [
    "SRW_obj_2.w_map"
   ]
  },
  {
   "cell_type": "markdown",
   "metadata": {},
   "source": [
    "### Check the transition matrix Q and propagation scores P"
   ]
  },
  {
   "cell_type": "code",
   "execution_count": 57,
   "metadata": {
    "scrolled": false
   },
   "outputs": [
    {
     "data": {
      "text/html": [
       "<div>\n",
       "<style>\n",
       "    .dataframe thead tr:only-child th {\n",
       "        text-align: right;\n",
       "    }\n",
       "\n",
       "    .dataframe thead th {\n",
       "        text-align: left;\n",
       "    }\n",
       "\n",
       "    .dataframe tbody tr th {\n",
       "        vertical-align: top;\n",
       "    }\n",
       "</style>\n",
       "<table border=\"1\" class=\"dataframe\">\n",
       "  <thead>\n",
       "    <tr style=\"text-align: right;\">\n",
       "      <th></th>\n",
       "      <th>n1</th>\n",
       "      <th>n2</th>\n",
       "      <th>n3</th>\n",
       "      <th>n4</th>\n",
       "      <th>n5</th>\n",
       "      <th>n6</th>\n",
       "    </tr>\n",
       "  </thead>\n",
       "  <tbody>\n",
       "    <tr>\n",
       "      <th>n1</th>\n",
       "      <td>2.879119e-07</td>\n",
       "      <td>6.435883e-01</td>\n",
       "      <td>3.550752e-01</td>\n",
       "      <td>7.056913e-04</td>\n",
       "      <td>4.018117e-04</td>\n",
       "      <td>2.287581e-04</td>\n",
       "    </tr>\n",
       "    <tr>\n",
       "      <th>n2</th>\n",
       "      <td>5.635610e-01</td>\n",
       "      <td>2.521114e-07</td>\n",
       "      <td>4.352687e-01</td>\n",
       "      <td>6.179418e-04</td>\n",
       "      <td>3.518483e-04</td>\n",
       "      <td>2.003131e-04</td>\n",
       "    </tr>\n",
       "    <tr>\n",
       "      <th>n3</th>\n",
       "      <td>4.160274e-01</td>\n",
       "      <td>5.824066e-01</td>\n",
       "      <td>3.373349e-07</td>\n",
       "      <td>8.268304e-04</td>\n",
       "      <td>4.707868e-04</td>\n",
       "      <td>2.680268e-04</td>\n",
       "    </tr>\n",
       "    <tr>\n",
       "      <th>n4</th>\n",
       "      <td>7.051407e-04</td>\n",
       "      <td>7.051407e-04</td>\n",
       "      <td>7.051407e-04</td>\n",
       "      <td>2.876873e-07</td>\n",
       "      <td>6.430861e-01</td>\n",
       "      <td>3.547982e-01</td>\n",
       "    </tr>\n",
       "    <tr>\n",
       "      <th>n5</th>\n",
       "      <td>3.518886e-04</td>\n",
       "      <td>3.518886e-04</td>\n",
       "      <td>3.518886e-04</td>\n",
       "      <td>5.636255e-01</td>\n",
       "      <td>2.521402e-07</td>\n",
       "      <td>4.353186e-01</td>\n",
       "    </tr>\n",
       "    <tr>\n",
       "      <th>n6</th>\n",
       "      <td>2.682310e-04</td>\n",
       "      <td>2.682310e-04</td>\n",
       "      <td>2.682310e-04</td>\n",
       "      <td>4.163445e-01</td>\n",
       "      <td>5.828505e-01</td>\n",
       "      <td>3.375920e-07</td>\n",
       "    </tr>\n",
       "  </tbody>\n",
       "</table>\n",
       "</div>"
      ],
      "text/plain": [
       "              n1            n2            n3            n4            n5  \\\n",
       "n1  2.879119e-07  6.435883e-01  3.550752e-01  7.056913e-04  4.018117e-04   \n",
       "n2  5.635610e-01  2.521114e-07  4.352687e-01  6.179418e-04  3.518483e-04   \n",
       "n3  4.160274e-01  5.824066e-01  3.373349e-07  8.268304e-04  4.707868e-04   \n",
       "n4  7.051407e-04  7.051407e-04  7.051407e-04  2.876873e-07  6.430861e-01   \n",
       "n5  3.518886e-04  3.518886e-04  3.518886e-04  5.636255e-01  2.521402e-07   \n",
       "n6  2.682310e-04  2.682310e-04  2.682310e-04  4.163445e-01  5.828505e-01   \n",
       "\n",
       "              n6  \n",
       "n1  2.287581e-04  \n",
       "n2  2.003131e-04  \n",
       "n3  2.680268e-04  \n",
       "n4  3.547982e-01  \n",
       "n5  4.353186e-01  \n",
       "n6  3.375920e-07  "
      ]
     },
     "execution_count": 57,
     "metadata": {},
     "output_type": "execute_result"
    }
   ],
   "source": [
    "SRW_obj_2.Q_fin_df"
   ]
  },
  {
   "cell_type": "code",
   "execution_count": 58,
   "metadata": {},
   "outputs": [
    {
     "data": {
      "text/html": [
       "<div>\n",
       "<style>\n",
       "    .dataframe thead tr:only-child th {\n",
       "        text-align: right;\n",
       "    }\n",
       "\n",
       "    .dataframe thead th {\n",
       "        text-align: left;\n",
       "    }\n",
       "\n",
       "    .dataframe tbody tr th {\n",
       "        vertical-align: top;\n",
       "    }\n",
       "</style>\n",
       "<table border=\"1\" class=\"dataframe\">\n",
       "  <thead>\n",
       "    <tr style=\"text-align: right;\">\n",
       "      <th></th>\n",
       "      <th>n1</th>\n",
       "      <th>n2</th>\n",
       "      <th>n3</th>\n",
       "      <th>n4</th>\n",
       "      <th>n5</th>\n",
       "      <th>n6</th>\n",
       "    </tr>\n",
       "  </thead>\n",
       "  <tbody>\n",
       "    <tr>\n",
       "      <th>p1</th>\n",
       "      <td>0.481443</td>\n",
       "      <td>0.303366</td>\n",
       "      <td>0.212097</td>\n",
       "      <td>0.001169</td>\n",
       "      <td>0.001130</td>\n",
       "      <td>0.000794</td>\n",
       "    </tr>\n",
       "    <tr>\n",
       "      <th>p2</th>\n",
       "      <td>0.265643</td>\n",
       "      <td>0.509938</td>\n",
       "      <td>0.221399</td>\n",
       "      <td>0.001141</td>\n",
       "      <td>0.001103</td>\n",
       "      <td>0.000775</td>\n",
       "    </tr>\n",
       "    <tr>\n",
       "      <th>p3</th>\n",
       "      <td>0.248506</td>\n",
       "      <td>0.296241</td>\n",
       "      <td>0.452029</td>\n",
       "      <td>0.001219</td>\n",
       "      <td>0.001178</td>\n",
       "      <td>0.000828</td>\n",
       "    </tr>\n",
       "    <tr>\n",
       "      <th>p4</th>\n",
       "      <td>0.001168</td>\n",
       "      <td>0.001302</td>\n",
       "      <td>0.001039</td>\n",
       "      <td>0.481382</td>\n",
       "      <td>0.303170</td>\n",
       "      <td>0.211939</td>\n",
       "    </tr>\n",
       "    <tr>\n",
       "      <th>p5</th>\n",
       "      <td>0.000990</td>\n",
       "      <td>0.001103</td>\n",
       "      <td>0.000881</td>\n",
       "      <td>0.265710</td>\n",
       "      <td>0.509935</td>\n",
       "      <td>0.221381</td>\n",
       "    </tr>\n",
       "    <tr>\n",
       "      <th>p6</th>\n",
       "      <td>0.000931</td>\n",
       "      <td>0.001038</td>\n",
       "      <td>0.000828</td>\n",
       "      <td>0.248704</td>\n",
       "      <td>0.296408</td>\n",
       "      <td>0.452091</td>\n",
       "    </tr>\n",
       "  </tbody>\n",
       "</table>\n",
       "</div>"
      ],
      "text/plain": [
       "          n1        n2        n3        n4        n5        n6\n",
       "p1  0.481443  0.303366  0.212097  0.001169  0.001130  0.000794\n",
       "p2  0.265643  0.509938  0.221399  0.001141  0.001103  0.000775\n",
       "p3  0.248506  0.296241  0.452029  0.001219  0.001178  0.000828\n",
       "p4  0.001168  0.001302  0.001039  0.481382  0.303170  0.211939\n",
       "p5  0.000990  0.001103  0.000881  0.265710  0.509935  0.221381\n",
       "p6  0.000931  0.001038  0.000828  0.248704  0.296408  0.452091"
      ]
     },
     "execution_count": 58,
     "metadata": {},
     "output_type": "execute_result"
    }
   ],
   "source": [
    "SRW_obj_2.P_fin_df"
   ]
  },
  {
   "cell_type": "code",
   "execution_count": 59,
   "metadata": {},
   "outputs": [
    {
     "name": "stdout",
     "output_type": "stream",
     "text": [
      "*** cost is 1.31385917477e-52 cost_val is 1.29675576854e-56\n",
      "*** accuracy is 1.0 accuracy_val is 1.0\n"
     ]
    }
   ],
   "source": [
    "print '*** cost is', SRW_obj_2.cost, 'cost_val is', SRW_obj_2.cost_val\n",
    "print '*** accuracy is', SRW_obj_2.accuracy, 'accuracy_val is', SRW_obj_2.accuracy_val"
   ]
  },
  {
   "cell_type": "markdown",
   "metadata": {},
   "source": [
    "### Compare with unweighted random walk"
   ]
  },
  {
   "cell_type": "code",
   "execution_count": 36,
   "metadata": {
    "collapsed": true
   },
   "outputs": [],
   "source": [
    "SRW_obj_3 = SRW.SRW_solver(edges, features, nnodes, P_init, rst_prob, group_labels, lam, w_init_sd=0.01, \n",
    "                           w=[0.,0.,0.,0.], \n",
    "                           feature_names=feature_names, loss='WMW', norm_type='L1', maximize_diff=False, \n",
    "                           learning_rate=1, update_w_func='Adam', P_init_val=P_init, \n",
    "                           group_labels_val=group_labels)\n",
    "SRW_obj_3.generate_Q_and_P_fin()"
   ]
  },
  {
   "cell_type": "code",
   "execution_count": 37,
   "metadata": {},
   "outputs": [
    {
     "data": {
      "text/plain": [
       "array([[ 0.16666667,  0.16666667,  0.16666667,  0.16666667,  0.16666667,\n",
       "         0.16666667],\n",
       "       [ 0.16666667,  0.16666667,  0.16666667,  0.16666667,  0.16666667,\n",
       "         0.16666667],\n",
       "       [ 0.16666667,  0.16666667,  0.16666667,  0.16666667,  0.16666667,\n",
       "         0.16666667],\n",
       "       [ 0.16666667,  0.16666667,  0.16666667,  0.16666667,  0.16666667,\n",
       "         0.16666667],\n",
       "       [ 0.16666667,  0.16666667,  0.16666667,  0.16666667,  0.16666667,\n",
       "         0.16666667],\n",
       "       [ 0.16666667,  0.16666667,  0.16666667,  0.16666667,  0.16666667,\n",
       "         0.16666667]])"
      ]
     },
     "execution_count": 37,
     "metadata": {},
     "output_type": "execute_result"
    }
   ],
   "source": [
    "SRW_obj_3.Q_fin.toarray()"
   ]
  },
  {
   "cell_type": "code",
   "execution_count": 38,
   "metadata": {},
   "outputs": [
    {
     "data": {
      "text/plain": [
       "array([[ 0.41666667,  0.11666667,  0.11666667,  0.11666667,  0.11666667,\n",
       "         0.11666667],\n",
       "       [ 0.11666667,  0.41666667,  0.11666667,  0.11666667,  0.11666667,\n",
       "         0.11666667],\n",
       "       [ 0.11666667,  0.11666667,  0.41666667,  0.11666667,  0.11666667,\n",
       "         0.11666667],\n",
       "       [ 0.11666667,  0.11666667,  0.11666667,  0.41666667,  0.11666667,\n",
       "         0.11666667],\n",
       "       [ 0.11666667,  0.11666667,  0.11666667,  0.11666667,  0.41666667,\n",
       "         0.11666667],\n",
       "       [ 0.11666667,  0.11666667,  0.11666667,  0.11666667,  0.11666667,\n",
       "         0.41666667]])"
      ]
     },
     "execution_count": 38,
     "metadata": {},
     "output_type": "execute_result"
    }
   ],
   "source": [
    "SRW_obj_3.P_fin"
   ]
  },
  {
   "cell_type": "code",
   "execution_count": 39,
   "metadata": {},
   "outputs": [
    {
     "data": {
      "text/plain": [
       "4.600588844233396e-52"
      ]
     },
     "execution_count": 39,
     "metadata": {},
     "output_type": "execute_result"
    }
   ],
   "source": [
    "SRW_obj_3.C = SRW_obj_3.centroid(SRW_obj_3.P_fin, SRW_obj_3.ngroups, SRW_obj_3.group2indeces_list)\n",
    "SRW_obj_3.calc_cost_val(SRW_obj_3.P_fin)\n",
    "SRW_obj_3.cost_val"
   ]
  },
  {
   "cell_type": "code",
   "execution_count": null,
   "metadata": {
    "collapsed": true
   },
   "outputs": [],
   "source": []
  },
  {
   "cell_type": "markdown",
   "metadata": {
    "collapsed": true
   },
   "source": [
    "# Scratch"
   ]
  },
  {
   "cell_type": "code",
   "execution_count": 154,
   "metadata": {
    "collapsed": true
   },
   "outputs": [],
   "source": [
    "import pandas as pd"
   ]
  },
  {
   "cell_type": "code",
   "execution_count": 158,
   "metadata": {
    "scrolled": true
   },
   "outputs": [
    {
     "data": {
      "text/html": [
       "<div>\n",
       "<style>\n",
       "    .dataframe thead tr:only-child th {\n",
       "        text-align: right;\n",
       "    }\n",
       "\n",
       "    .dataframe thead th {\n",
       "        text-align: left;\n",
       "    }\n",
       "\n",
       "    .dataframe tbody tr th {\n",
       "        vertical-align: top;\n",
       "    }\n",
       "</style>\n",
       "<table border=\"1\" class=\"dataframe\">\n",
       "  <thead>\n",
       "    <tr style=\"text-align: right;\">\n",
       "      <th></th>\n",
       "      <th>n1</th>\n",
       "      <th>n2</th>\n",
       "      <th>n3</th>\n",
       "      <th>n4</th>\n",
       "      <th>n5</th>\n",
       "      <th>n6</th>\n",
       "    </tr>\n",
       "  </thead>\n",
       "  <tbody>\n",
       "    <tr>\n",
       "      <th>p1</th>\n",
       "      <td>1.0</td>\n",
       "      <td>0.0</td>\n",
       "      <td>0.0</td>\n",
       "      <td>0.0</td>\n",
       "      <td>0.0</td>\n",
       "      <td>0.0</td>\n",
       "    </tr>\n",
       "    <tr>\n",
       "      <th>p2</th>\n",
       "      <td>0.0</td>\n",
       "      <td>1.0</td>\n",
       "      <td>0.0</td>\n",
       "      <td>0.0</td>\n",
       "      <td>0.0</td>\n",
       "      <td>0.0</td>\n",
       "    </tr>\n",
       "    <tr>\n",
       "      <th>p3</th>\n",
       "      <td>0.0</td>\n",
       "      <td>0.0</td>\n",
       "      <td>1.0</td>\n",
       "      <td>0.0</td>\n",
       "      <td>0.0</td>\n",
       "      <td>0.0</td>\n",
       "    </tr>\n",
       "    <tr>\n",
       "      <th>p4</th>\n",
       "      <td>0.0</td>\n",
       "      <td>0.0</td>\n",
       "      <td>0.0</td>\n",
       "      <td>1.0</td>\n",
       "      <td>0.0</td>\n",
       "      <td>0.0</td>\n",
       "    </tr>\n",
       "    <tr>\n",
       "      <th>p5</th>\n",
       "      <td>0.0</td>\n",
       "      <td>0.0</td>\n",
       "      <td>0.0</td>\n",
       "      <td>0.0</td>\n",
       "      <td>1.0</td>\n",
       "      <td>0.0</td>\n",
       "    </tr>\n",
       "    <tr>\n",
       "      <th>p6</th>\n",
       "      <td>0.0</td>\n",
       "      <td>0.0</td>\n",
       "      <td>0.0</td>\n",
       "      <td>0.0</td>\n",
       "      <td>0.0</td>\n",
       "      <td>1.0</td>\n",
       "    </tr>\n",
       "  </tbody>\n",
       "</table>\n",
       "</div>"
      ],
      "text/plain": [
       "     n1   n2   n3   n4   n5   n6\n",
       "p1  1.0  0.0  0.0  0.0  0.0  0.0\n",
       "p2  0.0  1.0  0.0  0.0  0.0  0.0\n",
       "p3  0.0  0.0  1.0  0.0  0.0  0.0\n",
       "p4  0.0  0.0  0.0  1.0  0.0  0.0\n",
       "p5  0.0  0.0  0.0  0.0  1.0  0.0\n",
       "p6  0.0  0.0  0.0  0.0  0.0  1.0"
      ]
     },
     "execution_count": 158,
     "metadata": {},
     "output_type": "execute_result"
    }
   ],
   "source": [
    "pd.DataFrame(SRW_obj_2.P_init.toarray(), index=['p1', 'p2', 'p3', 'p4', 'p5', 'p6'], \n",
    "             columns=['n1', 'n2', 'n3', 'n4', 'n5', 'n6'])"
   ]
  },
  {
   "cell_type": "code",
   "execution_count": null,
   "metadata": {
    "collapsed": true
   },
   "outputs": [],
   "source": []
  }
 ],
 "metadata": {
  "kernelspec": {
   "display_name": "Python 2",
   "language": "python",
   "name": "python2"
  },
  "language_info": {
   "codemirror_mode": {
    "name": "ipython",
    "version": 2
   },
   "file_extension": ".py",
   "mimetype": "text/x-python",
   "name": "python",
   "nbconvert_exporter": "python",
   "pygments_lexer": "ipython2",
   "version": "2.7.13"
  }
 },
 "nbformat": 4,
 "nbformat_minor": 2
}
