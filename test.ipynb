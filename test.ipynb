{
 "cells": [
  {
   "cell_type": "code",
   "execution_count": 20,
   "metadata": {},
   "outputs": [
    {
     "name": "stdout",
     "output_type": "stream",
     "text": [
      "The autoreload extension is already loaded. To reload it, use:\n",
      "  %reload_ext autoreload\n"
     ]
    }
   ],
   "source": [
    "%load_ext autoreload\n",
    "%autoreload 2"
   ]
  },
  {
   "cell_type": "code",
   "execution_count": 21,
   "metadata": {
    "collapsed": true
   },
   "outputs": [],
   "source": [
    "import numpy as np\n",
    "import SRW\n",
    "from collections import Counter"
   ]
  },
  {
   "cell_type": "markdown",
   "metadata": {},
   "source": [
    "# This toy example is for checking the partial derivatives"
   ]
  },
  {
   "cell_type": "code",
   "execution_count": 22,
   "metadata": {
    "collapsed": true
   },
   "outputs": [],
   "source": [
    "edges = [[0,1],[0,2],[1,2],[1,0],[2,0],[2,1]]\n",
    "features = np.array([[0.9,0.1],[0.1,0.9],[0.5,0.5],[0.9,0.1],[0.1,0.9],[0.5,0.5]])\n",
    "w0 = np.array([0.7,0.3])\n",
    "w1 = np.array([0.7,0.300001])\n",
    "rst_prob = 0.5\n",
    "P_init = mutation_profile = [[1,0,0],[0,1,0],[0,1,1],[1,1,0],[1,1,1]]\n",
    "nnodes = 3\n",
    "group_lables = [0, 0, 1, 1, 1]\n",
    "lam = 0.001"
   ]
  },
  {
   "cell_type": "code",
   "execution_count": 23,
   "metadata": {
    "collapsed": true
   },
   "outputs": [],
   "source": [
    "Q0, Q_grad = SRW.generate_Q_and_gradient(edges, nnodes, features, w0)\n",
    "Q1, Q_grad1 = SRW.generate_Q_and_gradient(edges, nnodes, features, w1)"
   ]
  },
  {
   "cell_type": "code",
   "execution_count": 24,
   "metadata": {},
   "outputs": [
    {
     "data": {
      "text/plain": [
       "array([[[ 0.        ,  0.06602963, -0.06602963],\n",
       "        [ 0.02944953,  0.        , -0.02944953],\n",
       "        [-0.03676033,  0.03676033,  0.        ]],\n",
       "\n",
       "       [[ 0.        , -0.08472869,  0.08472869],\n",
       "        [-0.03864221,  0.        ,  0.03864221],\n",
       "        [ 0.04631791, -0.04631791,  0.        ]]])"
      ]
     },
     "execution_count": 24,
     "metadata": {},
     "output_type": "execute_result"
    }
   ],
   "source": [
    "Q_grad"
   ]
  },
  {
   "cell_type": "code",
   "execution_count": 25,
   "metadata": {},
   "outputs": [
    {
     "data": {
      "text/plain": [
       "array([[ 0.        , -0.08472867,  0.08472867],\n",
       "       [-0.0386422 ,  0.        ,  0.0386422 ],\n",
       "       [ 0.0463179 , -0.0463179 ,  0.        ]])"
      ]
     },
     "execution_count": 25,
     "metadata": {},
     "output_type": "execute_result"
    }
   ],
   "source": [
    "(Q1 - Q0) / 0.000001 # check"
   ]
  },
  {
   "cell_type": "code",
   "execution_count": 26,
   "metadata": {
    "collapsed": true
   },
   "outputs": [],
   "source": [
    "P0 = SRW.iterative_PPR(Q0, mutation_profile, rst_prob)\n",
    "P1 = SRW.iterative_PPR(Q1, mutation_profile, rst_prob)"
   ]
  },
  {
   "cell_type": "code",
   "execution_count": 27,
   "metadata": {},
   "outputs": [
    {
     "data": {
      "text/plain": [
       "array([[[ -1.37842111e-04,   1.85449268e-02,  -1.84070847e-02],\n",
       "        [  4.38374474e-03,   8.16865825e-03,  -1.25524030e-02],\n",
       "        [ -9.14792575e-04,   1.10144385e-02,  -1.00996460e-02],\n",
       "        [  2.12295131e-03,   1.33567925e-02,  -1.54797438e-02],\n",
       "        [ -6.55809087e-04,   1.35246013e-02,  -1.28687922e-02]],\n",
       "\n",
       "       [[  4.03436264e-05,  -2.37325578e-02,   2.36922142e-02],\n",
       "        [ -5.89826629e-03,  -1.04177323e-02,   1.63159986e-02],\n",
       "        [  9.00786327e-04,  -1.40012357e-02,   1.31004493e-02],\n",
       "        [ -2.92896133e-03,  -1.70751451e-02,   2.00041064e-02],\n",
       "        [  6.13972093e-04,  -1.72450097e-02,   1.66310376e-02]]])"
      ]
     },
     "execution_count": 27,
     "metadata": {},
     "output_type": "execute_result"
    }
   ],
   "source": [
    "P_grad = SRW.iterative_P_gradient(P0, Q0, Q_grad, rst_prob)\n",
    "P_grad"
   ]
  },
  {
   "cell_type": "code",
   "execution_count": 28,
   "metadata": {},
   "outputs": [
    {
     "data": {
      "text/plain": [
       "array([[  4.00703914e-05,  -2.37318405e-02,   2.36917700e-02],\n",
       "       [ -5.89760663e-03,  -1.04185502e-02,   1.63161568e-02],\n",
       "       [  9.00890473e-04,  -1.40015377e-02,   1.31006472e-02],\n",
       "       [ -2.92876801e-03,  -1.70751954e-02,   2.00039634e-02],\n",
       "       [  6.13950391e-04,  -1.72449720e-02,   1.66310215e-02]])"
      ]
     },
     "execution_count": 28,
     "metadata": {},
     "output_type": "execute_result"
    }
   ],
   "source": [
    "(P1 - P0) / 0.000001 # check"
   ]
  },
  {
   "cell_type": "code",
   "execution_count": 32,
   "metadata": {
    "collapsed": true
   },
   "outputs": [],
   "source": [
    "group2npairs = SRW.count_numbers_per_group(group_lables)"
   ]
  },
  {
   "cell_type": "code",
   "execution_count": 33,
   "metadata": {
    "collapsed": true
   },
   "outputs": [],
   "source": [
    "J0 = SRW.obj_func(P0, group_lables, group2npairs, lam, w0)\n",
    "J1 = SRW.obj_func(P1, group_lables, group2npairs, lam, w1)"
   ]
  },
  {
   "cell_type": "code",
   "execution_count": 34,
   "metadata": {},
   "outputs": [
    {
     "data": {
      "text/plain": [
       "array([-0.00738791,  0.01196468])"
      ]
     },
     "execution_count": 34,
     "metadata": {},
     "output_type": "execute_result"
    }
   ],
   "source": [
    "J_grad = SRW.obj_func_gradient(Q0, Q_grad, P0, P_grad, group_lables, group2npairs, lam, w0)\n",
    "J_grad"
   ]
  },
  {
   "cell_type": "code",
   "execution_count": 35,
   "metadata": {},
   "outputs": [
    {
     "data": {
      "text/plain": [
       "0.011963204649134696"
      ]
     },
     "execution_count": 35,
     "metadata": {},
     "output_type": "execute_result"
    }
   ],
   "source": [
    "(J1 - J0) / 0.000001  # check"
   ]
  },
  {
   "cell_type": "markdown",
   "metadata": {
    "collapsed": true
   },
   "source": [
    "# This toy example is for checking the gradient descent functions"
   ]
  },
  {
   "cell_type": "code",
   "execution_count": 72,
   "metadata": {
    "collapsed": true
   },
   "outputs": [],
   "source": [
    "edges = [[0,1],[0,2],[0,3],[0,4],[0,5],[1,2],[1,3],[1,4],[1,5],[2,3],[2,4],[2,5],[3,4],[3,5],[4,5],\n",
    "         [1,0],[2,0],[3,0],[4,0],[5,0],[2,1],[3,1],[4,1],[5,1],[3,2],[4,2],[5,2],[4,3],[5,3],[5,4],\n",
    "         [0,0],[1,1],[2,2],[3,3],[4,4],[5,5]]\n",
    "features = np.array([[.9,.4,0.,1.],[.9,.6,0.,1.],[.1,.4,0.,1.],[.1,.5,0.,1.],[.1,.6,0.,1.],[.9,.5,0.,1.],[.1,.4,0.,1.],[.1,.5,0.,1.],[.1,.6,0.,1.],[.1,.4,0.,1.],[.1,.5,0.,1.],[.1,.6,0.,1.],[.9,.4,0.,1.],[.9,.6,0.,1.],[.9,.5,0.,1.],\n",
    "                     [.9,.4,0.,1.],[.9,.6,0.,1.],[.1,.4,0.,1.],[.1,.5,0.,1.],[.1,.6,0.,1.],[.9,.5,0.,1.],[.1,.4,0.,1.],[.1,.5,0.,1.],[.1,.6,0.,1.],[.1,.4,0.,1.],[.1,.5,0.,1.],[.1,.6,0.,1.],[.9,.4,0.,1.],[.9,.6,0.,1.],[.9,.5,0.,1.],\n",
    "                     [.0,.0,1.,1.],[.0,.0,1.,1.],[.0,.0,1.,1.],[.0,.0,1.,1.],[.0,.0,1.,1.],[.0,.0,1.,1.]])\n",
    "rst_prob = 0.15\n",
    "P_init = mutation_profile = [[1,0,0,0,0,0],[0,1,0,0,0,0],[0,0,1,0,0,0],\n",
    "                             [0,0,0,1,0,0],[0,0,0,0,1,0],[0,0,0,0,0,1]]\n",
    "nnodes = 6\n",
    "group_lables = [0, 0, 0, 1, 1, 1]\n",
    "lam = 1e-8\n",
    "w_init_sd = 0.01\n",
    "learning_rate = 0.001"
   ]
  },
  {
   "cell_type": "code",
   "execution_count": 73,
   "metadata": {
    "scrolled": true
   },
   "outputs": [
    {
     "name": "stdout",
     "output_type": "stream",
     "text": [
      "0 iteration: J is  0.0900780299463\n",
      "1 iteration: J is  0.0775861599312\n",
      "2 iteration: J is  0.0657291668069\n",
      "3 iteration: J is  0.0657274106299\n",
      "4 iteration: J is  0.0657252061215\n",
      "5 iteration: J is  0.0657223966535\n",
      "6 iteration: J is  0.0657187545589\n",
      "7 iteration: J is  0.0657139277953\n",
      "8 iteration: J is  0.0657073388621\n",
      "9 iteration: J is  0.0656979734146\n",
      "10 iteration: J is  0.0656838880653\n",
      "11 iteration: J is  0.0656608958247\n",
      "12 iteration: J is  0.0656183210259\n",
      "13 iteration: J is  0.0655207844484\n",
      "14 iteration: J is  0.0651817988658\n",
      "15 iteration: J is  0.0620424011055\n",
      "16 iteration: J is  0.0453134008127\n",
      "17 iteration: J is  0.0444071713245\n",
      "18 iteration: J is  0.0443791393307\n",
      "19 iteration: J is  0.0443670028772\n",
      "20 iteration: J is  0.0443606243165\n",
      "21 iteration: J is  0.0443568207928\n",
      "22 iteration: J is  0.0443542359594\n",
      "23 iteration: J is  0.0443522433184\n",
      "24 iteration: J is  0.0443505613168\n",
      "25 iteration: J is  0.0443490732361\n",
      "26 iteration: J is  0.0443477354879\n",
      "27 iteration: J is  0.0443465329969\n",
      "28 iteration: J is  0.0443454595646\n",
      "29 iteration: J is  0.0443445103462\n",
      "30 iteration: J is  0.0443436795925\n",
      "31 iteration: J is  0.0443429603971\n",
      "32 iteration: J is  0.0443423450569\n",
      "33 iteration: J is  0.0443418255166\n",
      "34 iteration: J is  0.0443413937315\n"
     ]
    }
   ],
   "source": [
    "w = SRW.train_SRW_GD(edges, features, nnodes, P_init, rst_prob, group_lables, lam, \n",
    "                     w_init_sd, learning_rate=10, update_w_func='Nadam')"
   ]
  },
  {
   "cell_type": "code",
   "execution_count": 74,
   "metadata": {
    "scrolled": true
   },
   "outputs": [
    {
     "name": "stdout",
     "output_type": "stream",
     "text": [
      "0 iteration: J is  0.0899098385275\n",
      "1 iteration: J is  0.0841340880411\n",
      "2 iteration: J is  0.0781454281276\n",
      "3 iteration: J is  0.0726877556884\n",
      "4 iteration: J is  0.0682310695899\n",
      "5 iteration: J is  0.0648642224801\n",
      "6 iteration: J is  0.0623313216749\n",
      "7 iteration: J is  0.0602962732679\n",
      "8 iteration: J is  0.0585014191385\n",
      "9 iteration: J is  0.0567999216544\n",
      "10 iteration: J is  0.0551413110776\n",
      "11 iteration: J is  0.0535422411204\n",
      "12 iteration: J is  0.0520514196586\n",
      "13 iteration: J is  0.0507235518283\n",
      "14 iteration: J is  0.0495897413293\n",
      "15 iteration: J is  0.0486535303269\n",
      "16 iteration: J is  0.0478977756386\n",
      "17 iteration: J is  0.0472953832756\n",
      "18 iteration: J is  0.0468175601648\n",
      "19 iteration: J is  0.0464382913124\n",
      "20 iteration: J is  0.0461359582819\n",
      "21 iteration: J is  0.0458933968075\n",
      "22 iteration: J is  0.0456973045974\n",
      "23 iteration: J is  0.0455374885286\n",
      "24 iteration: J is  0.045406164614\n",
      "25 iteration: J is  0.0452973799177\n",
      "26 iteration: J is  0.0452065616531\n",
      "27 iteration: J is  0.0451301755535\n",
      "28 iteration: J is  0.0450654706412\n",
      "29 iteration: J is  0.0450102895769\n",
      "30 iteration: J is  0.0449629277412\n",
      "31 iteration: J is  0.0449220282092\n",
      "32 iteration: J is  0.0448865030571\n",
      "33 iteration: J is  0.0448554740293\n",
      "34 iteration: J is  0.0448282275019\n",
      "35 iteration: J is  0.0448041800247\n",
      "36 iteration: J is  0.0447828517925\n",
      "37 iteration: J is  0.0447638460458\n",
      "38 iteration: J is  0.0447468329837\n",
      "39 iteration: J is  0.0447315371095\n",
      "40 iteration: J is  0.0447177272028\n",
      "41 iteration: J is  0.0447052083395\n",
      "42 iteration: J is  0.0446938154967\n",
      "43 iteration: J is  0.0446834083937\n",
      "44 iteration: J is  0.0446738673213\n",
      "45 iteration: J is  0.0446650897425\n",
      "46 iteration: J is  0.0446569875148\n",
      "47 iteration: J is  0.0446494846064\n",
      "48 iteration: J is  0.044642515217\n",
      "49 iteration: J is  0.0446360222139\n",
      "50 iteration: J is  0.0446299558388\n",
      "51 iteration: J is  0.0446242726254\n",
      "52 iteration: J is  0.0446189344929\n",
      "53 iteration: J is  0.0446139079858\n",
      "54 iteration: J is  0.0446091636313\n",
      "55 iteration: J is  0.0446046753973\n",
      "56 iteration: J is  0.044600420231\n",
      "57 iteration: J is  0.0445963776698\n",
      "58 iteration: J is  0.0445925295034\n",
      "59 iteration: J is  0.0445888594905\n",
      "60 iteration: J is  0.0445853531126\n",
      "61 iteration: J is  0.0445819973627\n",
      "62 iteration: J is  0.0445787805634\n",
      "63 iteration: J is  0.0445756922094\n",
      "64 iteration: J is  0.0445727228308\n",
      "65 iteration: J is  0.0445698638746\n",
      "66 iteration: J is  0.0445671076009\n",
      "67 iteration: J is  0.0445644469934\n",
      "68 iteration: J is  0.0445618756796\n",
      "69 iteration: J is  0.0445593878618\n",
      "70 iteration: J is  0.0445569782564\n",
      "71 iteration: J is  0.04455464204\n",
      "72 iteration: J is  0.044552374802\n",
      "73 iteration: J is  0.0445501725032\n",
      "74 iteration: J is  0.0445480314381\n",
      "75 iteration: J is  0.0445459482021\n",
      "76 iteration: J is  0.0445439196633\n",
      "77 iteration: J is  0.0445419429347\n",
      "78 iteration: J is  0.0445400153521\n",
      "79 iteration: J is  0.0445381344531\n",
      "80 iteration: J is  0.0445362979585\n",
      "81 iteration: J is  0.0445345037555\n",
      "82 iteration: J is  0.0445327498831\n",
      "83 iteration: J is  0.0445310345184\n",
      "84 iteration: J is  0.0445293559644\n",
      "85 iteration: J is  0.0445277126396\n",
      "86 iteration: J is  0.0445261030677\n",
      "87 iteration: J is  0.0445245258691\n",
      "88 iteration: J is  0.0445229797524\n",
      "89 iteration: J is  0.0445214635079\n",
      "90 iteration: J is  0.0445199760002\n",
      "91 iteration: J is  0.0445185161628\n",
      "92 iteration: J is  0.0445170829925\n",
      "93 iteration: J is  0.0445156755445\n",
      "94 iteration: J is  0.0445142929278\n",
      "95 iteration: J is  0.0445129343015\n",
      "96 iteration: J is  0.0445115988704\n",
      "97 iteration: J is  0.0445102858824\n",
      "98 iteration: J is  0.0445089946248\n",
      "99 iteration: J is  0.0445077244217\n",
      "100 iteration: J is  0.0445064746316\n",
      "101 iteration: J is  0.0445052446445\n",
      "102 iteration: J is  0.0445040338803\n",
      "103 iteration: J is  0.0445028417864\n",
      "104 iteration: J is  0.044501667836\n",
      "105 iteration: J is  0.0445005115266\n",
      "106 iteration: J is  0.044499372378\n",
      "107 iteration: J is  0.0444982499314\n",
      "108 iteration: J is  0.0444971437475\n",
      "109 iteration: J is  0.044496053406\n",
      "110 iteration: J is  0.0444949785037\n",
      "111 iteration: J is  0.044493918654\n",
      "112 iteration: J is  0.0444928734859\n",
      "113 iteration: J is  0.0444918426428\n",
      "114 iteration: J is  0.044490825782\n",
      "115 iteration: J is  0.0444898225736\n",
      "116 iteration: J is  0.0444888327002\n",
      "117 iteration: J is  0.044487855856\n",
      "118 iteration: J is  0.044486891746\n",
      "119 iteration: J is  0.044485940086\n",
      "120 iteration: J is  0.0444850006013\n",
      "121 iteration: J is  0.0444840730268\n",
      "122 iteration: J is  0.0444831571065\n",
      "123 iteration: J is  0.0444822525926\n",
      "124 iteration: J is  0.0444813592455\n",
      "125 iteration: J is  0.0444804768335\n",
      "126 iteration: J is  0.0444796051319\n",
      "127 iteration: J is  0.0444787439234\n",
      "128 iteration: J is  0.0444778929972\n",
      "129 iteration: J is  0.0444770521489\n",
      "130 iteration: J is  0.0444762211803\n",
      "131 iteration: J is  0.044475399899\n",
      "132 iteration: J is  0.0444745881182\n",
      "133 iteration: J is  0.0444737856567\n",
      "134 iteration: J is  0.0444729923382\n",
      "135 iteration: J is  0.0444722079916\n",
      "136 iteration: J is  0.0444714324502\n",
      "137 iteration: J is  0.0444706655522\n",
      "138 iteration: J is  0.0444699071402\n",
      "139 iteration: J is  0.0444691570608\n",
      "140 iteration: J is  0.0444684151649\n",
      "141 iteration: J is  0.0444676813071\n",
      "142 iteration: J is  0.044466955346\n",
      "143 iteration: J is  0.0444662371436\n",
      "144 iteration: J is  0.0444655265657\n",
      "145 iteration: J is  0.0444648234812\n",
      "146 iteration: J is  0.0444641277624\n",
      "147 iteration: J is  0.0444634392848\n",
      "148 iteration: J is  0.0444627579269\n",
      "149 iteration: J is  0.0444620835701\n",
      "150 iteration: J is  0.0444614160987\n",
      "151 iteration: J is  0.0444607553997\n",
      "152 iteration: J is  0.0444601013629\n",
      "153 iteration: J is  0.0444594538804\n",
      "154 iteration: J is  0.0444588128473\n",
      "155 iteration: J is  0.0444581781605\n",
      "156 iteration: J is  0.0444575497196\n",
      "157 iteration: J is  0.0444569274266\n",
      "158 iteration: J is  0.0444563111853\n",
      "159 iteration: J is  0.044455700902\n",
      "160 iteration: J is  0.0444550964848\n",
      "161 iteration: J is  0.0444544978441\n",
      "162 iteration: J is  0.0444539048919\n",
      "163 iteration: J is  0.0444533175424\n",
      "164 iteration: J is  0.0444527357114\n",
      "165 iteration: J is  0.0444521593167\n",
      "166 iteration: J is  0.0444515882778\n",
      "167 iteration: J is  0.0444510225157\n",
      "168 iteration: J is  0.0444504619532\n",
      "169 iteration: J is  0.0444499065147\n",
      "170 iteration: J is  0.0444493561261\n",
      "171 iteration: J is  0.0444488107148\n",
      "172 iteration: J is  0.0444482702097\n",
      "173 iteration: J is  0.0444477345411\n",
      "174 iteration: J is  0.0444472036408\n",
      "175 iteration: J is  0.0444466774418\n",
      "176 iteration: J is  0.0444461558785\n",
      "177 iteration: J is  0.0444456388865\n",
      "178 iteration: J is  0.0444451264029\n",
      "179 iteration: J is  0.0444446183656\n",
      "180 iteration: J is  0.0444441147141\n",
      "181 iteration: J is  0.0444436153889\n",
      "182 iteration: J is  0.0444431203315\n",
      "183 iteration: J is  0.0444426294847\n",
      "184 iteration: J is  0.0444421427922\n",
      "185 iteration: J is  0.044441660199\n",
      "186 iteration: J is  0.0444411816509\n",
      "187 iteration: J is  0.0444407070946\n",
      "188 iteration: J is  0.0444402364782\n",
      "189 iteration: J is  0.0444397697503\n",
      "190 iteration: J is  0.0444393068607\n",
      "191 iteration: J is  0.0444388477599\n",
      "192 iteration: J is  0.0444383923995\n",
      "193 iteration: J is  0.0444379407319\n"
     ]
    }
   ],
   "source": [
    "w = SRW.train_SRW_GD(edges, features, nnodes, P_init, rst_prob, group_lables, lam, \n",
    "                     w_init_sd, learning_rate=10, update_w_func='Nesterov')"
   ]
  },
  {
   "cell_type": "code",
   "execution_count": 75,
   "metadata": {
    "scrolled": true
   },
   "outputs": [
    {
     "name": "stdout",
     "output_type": "stream",
     "text": [
      "0 iteration: J is  0.0900679276818\n",
      "1 iteration: J is  0.077544675187\n",
      "2 iteration: J is  0.0657553810955\n",
      "3 iteration: J is  0.0657610036252\n",
      "4 iteration: J is  0.0657489589555\n",
      "5 iteration: J is  0.0655939051256\n",
      "6 iteration: J is  0.0646357862096\n",
      "7 iteration: J is  0.0617984499909\n",
      "8 iteration: J is  0.0585066813779\n",
      "9 iteration: J is  0.0518545473039\n",
      "10 iteration: J is  0.0444085831299\n",
      "11 iteration: J is  0.0443996707676\n",
      "12 iteration: J is  0.0444073723131\n",
      "13 iteration: J is  0.0444140869867\n",
      "14 iteration: J is  0.0444207648391\n",
      "15 iteration: J is  0.044470372532\n",
      "16 iteration: J is  0.0464474038133\n",
      "17 iteration: J is  0.0453467281165\n",
      "18 iteration: J is  0.0444695798524\n",
      "19 iteration: J is  0.0444464437713\n",
      "20 iteration: J is  0.044449435776\n",
      "21 iteration: J is  0.0444528694824\n",
      "22 iteration: J is  0.044456073864\n",
      "23 iteration: J is  0.0444590399722\n",
      "24 iteration: J is  0.0444617801997\n",
      "25 iteration: J is  0.0444643078749\n",
      "26 iteration: J is  0.0444666362204\n",
      "27 iteration: J is  0.0444687781594\n",
      "28 iteration: J is  0.0444707462031\n",
      "29 iteration: J is  0.0444725523744\n",
      "30 iteration: J is  0.0444742081556\n",
      "31 iteration: J is  0.0444757244561\n",
      "32 iteration: J is  0.044477111596\n",
      "33 iteration: J is  0.0444783793003\n",
      "34 iteration: J is  0.0444795367039\n",
      "35 iteration: J is  0.044480592362\n",
      "36 iteration: J is  0.0444815542665\n",
      "37 iteration: J is  0.0444824298664\n",
      "38 iteration: J is  0.0444832260901\n",
      "39 iteration: J is  0.0444839493705\n",
      "40 iteration: J is  0.0444846056697\n",
      "41 iteration: J is  0.0444852005059\n",
      "42 iteration: J is  0.0444857389791\n",
      "43 iteration: J is  0.0444862257965\n",
      "44 iteration: J is  0.0444866652984\n"
     ]
    }
   ],
   "source": [
    "w = SRW.train_SRW_GD(edges, features, nnodes, P_init, rst_prob, group_lables, lam, \n",
    "                     w_init_sd, learning_rate=10, update_w_func='Adam')"
   ]
  },
  {
   "cell_type": "code",
   "execution_count": 76,
   "metadata": {
    "collapsed": true
   },
   "outputs": [],
   "source": [
    "w, J, d = SRW.train_SRW_BFGS(edges, features, nnodes, P_init, rst_prob, group_lables, lam, w_init_sd=0.01)"
   ]
  },
  {
   "cell_type": "code",
   "execution_count": 78,
   "metadata": {},
   "outputs": [
    {
     "data": {
      "text/plain": [
       "(array([ 13.48027104,   1.25285007,  -2.39613633, -10.29948304]),\n",
       " 0.044335757663279553,\n",
       " {'funcalls': 13,\n",
       "  'grad': array([ -8.68598694e-07,   5.51663201e-06,   8.40242750e-08,\n",
       "           7.97057482e-06]),\n",
       "  'nit': 12,\n",
       "  'task': 'CONVERGENCE: NORM_OF_PROJECTED_GRADIENT_<=_PGTOL',\n",
       "  'warnflag': 0})"
      ]
     },
     "execution_count": 78,
     "metadata": {},
     "output_type": "execute_result"
    }
   ],
   "source": [
    "w, J, d"
   ]
  },
  {
   "cell_type": "markdown",
   "metadata": {},
   "source": [
    "### Check the transition matrix Q and propagation scores P"
   ]
  },
  {
   "cell_type": "code",
   "execution_count": 79,
   "metadata": {
    "scrolled": false
   },
   "outputs": [
    {
     "data": {
      "text/plain": [
       "array([[  1.66347443e-06,   4.94858635e-01,   5.04743036e-01,\n",
       "          1.16047683e-04,   1.31532982e-04,   1.49084059e-04],\n",
       "       [  4.97186324e-01,   1.67129899e-06,   5.02413475e-01,\n",
       "          1.16593541e-04,   1.32151680e-04,   1.49785312e-04],\n",
       "       [  5.02130612e-01,   4.97473121e-01,   1.65486470e-06,\n",
       "          1.15447049e-04,   1.30852200e-04,   1.48312437e-04],\n",
       "       [  1.16053314e-04,   1.16053314e-04,   1.16053314e-04,\n",
       "          1.66355515e-06,   4.94882648e-01,   5.04767529e-01],\n",
       "       [  1.32151954e-04,   1.32151954e-04,   1.32151954e-04,\n",
       "          4.97187355e-01,   1.67130246e-06,   5.02414517e-01],\n",
       "       [  1.48304974e-04,   1.48304974e-04,   1.48304974e-04,\n",
       "          5.02105343e-01,   4.97448087e-01,   1.65478142e-06]])"
      ]
     },
     "execution_count": 79,
     "metadata": {},
     "output_type": "execute_result"
    }
   ],
   "source": [
    "Q = SRW.generate_Q(edges, nnodes, features, w)\n",
    "Q"
   ]
  },
  {
   "cell_type": "code",
   "execution_count": 80,
   "metadata": {},
   "outputs": [
    {
     "data": {
      "text/plain": [
       "array([[ 0.40272573,  0.29589294,  0.29914425,  0.00073595,  0.00074206,\n",
       "         0.00075906],\n",
       "       [ 0.29728474,  0.40147946,  0.29899762,  0.00073632,  0.00074243,\n",
       "         0.00075944],\n",
       "       [ 0.29759596,  0.2960575 ,  0.40411068,  0.00073555,  0.00074165,\n",
       "         0.00075865],\n",
       "       [ 0.00073599,  0.00073291,  0.00073941,  0.40272996,  0.29590278,\n",
       "         0.29915895],\n",
       "       [ 0.00074555,  0.00074243,  0.00074902,  0.29728082,  0.40147961,\n",
       "         0.29900257],\n",
       "       [ 0.0007551 ,  0.00075194,  0.00075861,  0.29758116,  0.2960469 ,\n",
       "         0.4041063 ]])"
      ]
     },
     "execution_count": 80,
     "metadata": {},
     "output_type": "execute_result"
    }
   ],
   "source": [
    "P = SRW.iterative_PPR(Q, P_init, rst_prob)\n",
    "P"
   ]
  },
  {
   "cell_type": "code",
   "execution_count": 81,
   "metadata": {
    "collapsed": true
   },
   "outputs": [],
   "source": [
    "group2npairs = SRW.count_numbers_per_group(group_lables)"
   ]
  },
  {
   "cell_type": "code",
   "execution_count": 82,
   "metadata": {},
   "outputs": [
    {
     "data": {
      "text/plain": [
       "0.044335757663279553"
      ]
     },
     "execution_count": 82,
     "metadata": {},
     "output_type": "execute_result"
    }
   ],
   "source": [
    "J = SRW.obj_func(P, group_lables, group2npairs, lam, w)\n",
    "J"
   ]
  },
  {
   "cell_type": "markdown",
   "metadata": {},
   "source": [
    "### Compare with unweighted random walk"
   ]
  },
  {
   "cell_type": "code",
   "execution_count": 83,
   "metadata": {},
   "outputs": [
    {
     "data": {
      "text/plain": [
       "array([[ 0.16666667,  0.16666667,  0.16666667,  0.16666667,  0.16666667,\n",
       "         0.16666667],\n",
       "       [ 0.16666667,  0.16666667,  0.16666667,  0.16666667,  0.16666667,\n",
       "         0.16666667],\n",
       "       [ 0.16666667,  0.16666667,  0.16666667,  0.16666667,  0.16666667,\n",
       "         0.16666667],\n",
       "       [ 0.16666667,  0.16666667,  0.16666667,  0.16666667,  0.16666667,\n",
       "         0.16666667],\n",
       "       [ 0.16666667,  0.16666667,  0.16666667,  0.16666667,  0.16666667,\n",
       "         0.16666667],\n",
       "       [ 0.16666667,  0.16666667,  0.16666667,  0.16666667,  0.16666667,\n",
       "         0.16666667]])"
      ]
     },
     "execution_count": 83,
     "metadata": {},
     "output_type": "execute_result"
    }
   ],
   "source": [
    "Qu = SRW.generate_Q_unweighted(edges, nnodes)\n",
    "Qu"
   ]
  },
  {
   "cell_type": "code",
   "execution_count": 84,
   "metadata": {},
   "outputs": [
    {
     "data": {
      "text/plain": [
       "array([[ 0.29166667,  0.14166667,  0.14166667,  0.14166667,  0.14166667,\n",
       "         0.14166667],\n",
       "       [ 0.14166667,  0.29166667,  0.14166667,  0.14166667,  0.14166667,\n",
       "         0.14166667],\n",
       "       [ 0.14166667,  0.14166667,  0.29166667,  0.14166667,  0.14166667,\n",
       "         0.14166667],\n",
       "       [ 0.14166667,  0.14166667,  0.14166667,  0.29166667,  0.14166667,\n",
       "         0.14166667],\n",
       "       [ 0.14166667,  0.14166667,  0.14166667,  0.14166667,  0.29166667,\n",
       "         0.14166667],\n",
       "       [ 0.14166667,  0.14166667,  0.14166667,  0.14166667,  0.14166667,\n",
       "         0.29166667]])"
      ]
     },
     "execution_count": 84,
     "metadata": {},
     "output_type": "execute_result"
    }
   ],
   "source": [
    "Pu = SRW.iterative_PPR(Qu, P_init, rst_prob)\n",
    "Pu"
   ]
  },
  {
   "cell_type": "code",
   "execution_count": 85,
   "metadata": {},
   "outputs": [
    {
     "data": {
      "text/plain": [
       "0.089999999999999941"
      ]
     },
     "execution_count": 85,
     "metadata": {},
     "output_type": "execute_result"
    }
   ],
   "source": [
    "Ju = SRW.obj_func(Pu, group_lables, group2npairs, lam, 0)\n",
    "Ju"
   ]
  },
  {
   "cell_type": "code",
   "execution_count": null,
   "metadata": {
    "collapsed": true
   },
   "outputs": [],
   "source": []
  },
  {
   "cell_type": "markdown",
   "metadata": {
    "collapsed": true
   },
   "source": [
    "# Scratch"
   ]
  },
  {
   "cell_type": "code",
   "execution_count": null,
   "metadata": {
    "collapsed": true
   },
   "outputs": [],
   "source": []
  },
  {
   "cell_type": "code",
   "execution_count": null,
   "metadata": {
    "collapsed": true
   },
   "outputs": [],
   "source": []
  },
  {
   "cell_type": "code",
   "execution_count": null,
   "metadata": {
    "collapsed": true
   },
   "outputs": [],
   "source": []
  },
  {
   "cell_type": "code",
   "execution_count": null,
   "metadata": {
    "collapsed": true
   },
   "outputs": [],
   "source": []
  },
  {
   "cell_type": "code",
   "execution_count": null,
   "metadata": {
    "collapsed": true
   },
   "outputs": [],
   "source": []
  },
  {
   "cell_type": "code",
   "execution_count": null,
   "metadata": {
    "collapsed": true
   },
   "outputs": [],
   "source": []
  },
  {
   "cell_type": "code",
   "execution_count": null,
   "metadata": {
    "collapsed": true
   },
   "outputs": [],
   "source": []
  },
  {
   "cell_type": "code",
   "execution_count": null,
   "metadata": {
    "collapsed": true
   },
   "outputs": [],
   "source": []
  }
 ],
 "metadata": {
  "kernelspec": {
   "display_name": "Python 2",
   "language": "python",
   "name": "python2"
  },
  "language_info": {
   "codemirror_mode": {
    "name": "ipython",
    "version": 2
   },
   "file_extension": ".py",
   "mimetype": "text/x-python",
   "name": "python",
   "nbconvert_exporter": "python",
   "pygments_lexer": "ipython2",
   "version": "2.7.13"
  }
 },
 "nbformat": 4,
 "nbformat_minor": 2
}
