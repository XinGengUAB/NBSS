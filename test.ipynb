{
 "cells": [
  {
   "cell_type": "code",
   "execution_count": 127,
   "metadata": {},
   "outputs": [
    {
     "name": "stdout",
     "output_type": "stream",
     "text": [
      "The autoreload extension is already loaded. To reload it, use:\n",
      "  %reload_ext autoreload\n"
     ]
    }
   ],
   "source": [
    "%load_ext autoreload\n",
    "%autoreload 2"
   ]
  },
  {
   "cell_type": "code",
   "execution_count": 128,
   "metadata": {
    "collapsed": true
   },
   "outputs": [],
   "source": [
    "import numpy as np\n",
    "import SRW_v042 as SRW\n",
    "from scipy.sparse import csr_matrix, csc_matrix, issparse\n",
    "import functools"
   ]
  },
  {
   "cell_type": "markdown",
   "metadata": {},
   "source": [
    "# This toy example is for checking the partial derivatives"
   ]
  },
  {
   "cell_type": "code",
   "execution_count": 129,
   "metadata": {
    "collapsed": true
   },
   "outputs": [],
   "source": [
    "edges = np.array([[0,1],[0,2],[1,2],[1,0],[2,0],[2,1]])\n",
    "features = csc_matrix([[0.9,0.1,1.],[0.1,0.9,1.],[0.5,0.5,1.],[0.9,0.1,1.],[0.1,0.9,1.],[0.5,0.5,1.]])\n",
    "w0 = np.array([0.7,0.3,0.1])\n",
    "w1 = np.array([0.700001,0.3,0.1])\n",
    "rst_prob = 0.5\n",
    "P_init = mutation_profile = csr_matrix([[1,0,0],[0,1,0],[0,1,1],[1,1,0],[1,1,1]])\n",
    "nnodes = 3\n",
    "group_labels = [1, 0, 1, 0, 0]\n",
    "lam = 0.001"
   ]
  },
  {
   "cell_type": "code",
   "execution_count": 130,
   "metadata": {
    "collapsed": true
   },
   "outputs": [],
   "source": [
    "Q0, M_strength0, M_strength_rowSum0, strength_grad0 = SRW.strength_Q_and_gradient(edges, nnodes, features, w0, \n",
    "                                                                                  'logistic')\n",
    "Q1, M_strength1, M_strength_rowSum1, strength_grad1 = SRW.strength_Q_and_gradient(edges, nnodes, features, w1, \n",
    "                                                                                  'logistic')"
   ]
  },
  {
   "cell_type": "code",
   "execution_count": 131,
   "metadata": {},
   "outputs": [
    {
     "data": {
      "text/plain": [
       "array([[ 0.        ,  0.06170302, -0.06170302],\n",
       "       [ 0.02738262,  0.        , -0.02738262],\n",
       "       [-0.03446875,  0.03446875,  0.        ]])"
      ]
     },
     "execution_count": 131,
     "metadata": {},
     "output_type": "execute_result"
    }
   ],
   "source": [
    "Q_grad = SRW.Q_gradient_1feature(edges, nnodes, M_strength0, M_strength_rowSum0, strength_grad0.toarray()[:,0]) \n",
    "Q_grad.toarray()"
   ]
  },
  {
   "cell_type": "code",
   "execution_count": 132,
   "metadata": {},
   "outputs": [
    {
     "data": {
      "text/plain": [
       "array([[ 0.        ,  0.061703  , -0.061703  ],\n",
       "       [ 0.0273826 ,  0.        , -0.0273826 ],\n",
       "       [-0.03446874,  0.03446874,  0.        ]])"
      ]
     },
     "execution_count": 132,
     "metadata": {},
     "output_type": "execute_result"
    }
   ],
   "source": [
    "(Q1 - Q0).toarray() / 0.000001 # check"
   ]
  },
  {
   "cell_type": "code",
   "execution_count": 133,
   "metadata": {
    "collapsed": true
   },
   "outputs": [],
   "source": [
    "P0 = csr_matrix(SRW.iterative_PPR(Q0.toarray(), SRW.renorm(mutation_profile).toarray(), rst_prob))\n",
    "P1 = csr_matrix(SRW.iterative_PPR(Q1.toarray(), SRW.renorm(mutation_profile).toarray(), rst_prob))"
   ]
  },
  {
   "cell_type": "code",
   "execution_count": 134,
   "metadata": {},
   "outputs": [
    {
     "data": {
      "text/plain": [
       "array([[-0.00017484,  0.01735193, -0.01717709],\n",
       "       [ 0.00403931,  0.00764498, -0.01168429],\n",
       "       [-0.00091024,  0.01031905, -0.0094088 ],\n",
       "       [ 0.00193224,  0.01249845, -0.01443069],\n",
       "       [-0.00066511,  0.01266334, -0.01199823]])"
      ]
     },
     "execution_count": 134,
     "metadata": {},
     "output_type": "execute_result"
    }
   ],
   "source": [
    "P_grad = SRW.calc_P_grad_pool(edges, nnodes, M_strength0, M_strength_rowSum0, Q0, P0, rst_prob, strength_grad0)\n",
    "P_grad[0,:,:]"
   ]
  },
  {
   "cell_type": "code",
   "execution_count": 135,
   "metadata": {},
   "outputs": [
    {
     "data": {
      "text/plain": [
       "array([[-0.00017466,  0.01735142, -0.01717676],\n",
       "       [ 0.00403884,  0.00764556, -0.0116844 ],\n",
       "       [-0.00091031,  0.01031926, -0.00940895],\n",
       "       [ 0.00193209,  0.01249849, -0.01443058],\n",
       "       [-0.00066509,  0.01266331, -0.01199822]])"
      ]
     },
     "execution_count": 135,
     "metadata": {},
     "output_type": "execute_result"
    }
   ],
   "source": [
    "(P1 - P0).toarray() / 0.000001 # check"
   ]
  },
  {
   "cell_type": "code",
   "execution_count": 136,
   "metadata": {
    "collapsed": true
   },
   "outputs": [],
   "source": [
    "SRW_obj_0 = SRW.SRW_solver(edges, features, nnodes, P_init, rst_prob, group_labels, lam, w=w0)\n",
    "SRW_obj_1 = SRW.SRW_solver(edges, features, nnodes, P_init, rst_prob, group_labels, lam, w=w1)"
   ]
  },
  {
   "cell_type": "code",
   "execution_count": 137,
   "metadata": {
    "collapsed": true
   },
   "outputs": [],
   "source": [
    "J0, J_grad = SRW_obj_0.obj_func_and_grad(P0, P_grad, w0)\n",
    "J1, J_grad1 = SRW_obj_1.obj_func_and_grad(P1, P_grad, w1)"
   ]
  },
  {
   "cell_type": "code",
   "execution_count": 138,
   "metadata": {},
   "outputs": [
    {
     "data": {
      "text/plain": [
       "array([ 0.00047087,  0.00195789,  0.00042876])"
      ]
     },
     "execution_count": 138,
     "metadata": {},
     "output_type": "execute_result"
    }
   ],
   "source": [
    "J_grad"
   ]
  },
  {
   "cell_type": "code",
   "execution_count": 139,
   "metadata": {
    "scrolled": true
   },
   "outputs": [
    {
     "data": {
      "text/plain": [
       "0.00047142684200807139"
      ]
     },
     "execution_count": 139,
     "metadata": {},
     "output_type": "execute_result"
    }
   ],
   "source": [
    "(J1 - J0) / 0.000001  # check"
   ]
  },
  {
   "cell_type": "code",
   "execution_count": 140,
   "metadata": {},
   "outputs": [
    {
     "name": "stdout",
     "output_type": "stream",
     "text": [
      "[[ 0.  3.]\n",
      " [ 2.  0.]]\n",
      "[[ 0.  1.]\n",
      " [ 1.  0.]]\n",
      "[[ 0.  3.]\n",
      " [ 2.  0.]]\n",
      "[[ 0.  1.]\n",
      " [ 1.  0.]]\n"
     ]
    }
   ],
   "source": [
    "SRW_obj_0.loss = SRW_obj_1.loss = 'silhouette'\n",
    "SRW_obj_0.norm_type = SRW_obj_1.norm_type = 'L1'\n",
    "J0, J_grad = SRW_obj_0.obj_func_and_grad(P0, P_grad, w0)\n",
    "J1, J_grad1 = SRW_obj_1.obj_func_and_grad(P1, P_grad, w1)"
   ]
  },
  {
   "cell_type": "code",
   "execution_count": 141,
   "metadata": {},
   "outputs": [
    {
     "data": {
      "text/plain": [
       "array([-0.01530258,  0.023035  ,  0.00573243])"
      ]
     },
     "execution_count": 141,
     "metadata": {},
     "output_type": "execute_result"
    }
   ],
   "source": [
    "J_grad"
   ]
  },
  {
   "cell_type": "code",
   "execution_count": 142,
   "metadata": {},
   "outputs": [
    {
     "data": {
      "text/plain": [
       "-0.015301236500064874"
      ]
     },
     "execution_count": 142,
     "metadata": {},
     "output_type": "execute_result"
    }
   ],
   "source": [
    "(J1 - J0) / 0.000001  # check"
   ]
  },
  {
   "cell_type": "markdown",
   "metadata": {
    "collapsed": true
   },
   "source": [
    "# This toy example is for checking the gradient descent functions"
   ]
  },
  {
   "cell_type": "code",
   "execution_count": 151,
   "metadata": {
    "collapsed": true
   },
   "outputs": [],
   "source": [
    "edges = [[0,1],[0,2],[0,3],[0,4],[0,5],[1,2],[1,3],[1,4],[1,5],[2,3],[2,4],[2,5],[3,4],[3,5],[4,5],\n",
    "         [1,0],[2,0],[3,0],[4,0],[5,0],[2,1],[3,1],[4,1],[5,1],[3,2],[4,2],[5,2],[4,3],[5,3],[5,4],\n",
    "         [0,0],[1,1],[2,2],[3,3],[4,4],[5,5]]\n",
    "edges = np.array(edges)\n",
    "features = csc_matrix([[.9,.4,0.,1.],[.9,.6,0.,1.],[.1,.4,0.,1.],[.1,.5,0.,1.],[.1,.6,0.,1.],[.9,.5,0.,1.],[.1,.4,0.,1.],[.1,.5,0.,1.],[.1,.6,0.,1.],[.1,.4,0.,1.],[.1,.5,0.,1.],[.1,.6,0.,1.],[.9,.4,0.,1.],[.9,.6,0.,1.],[.9,.5,0.,1.],\n",
    "                       [.9,.4,0.,1.],[.9,.6,0.,1.],[.1,.4,0.,1.],[.1,.5,0.,1.],[.1,.6,0.,1.],[.9,.5,0.,1.],[.1,.4,0.,1.],[.1,.5,0.,1.],[.1,.6,0.,1.],[.1,.4,0.,1.],[.1,.5,0.,1.],[.1,.6,0.,1.],[.9,.4,0.,1.],[.9,.6,0.,1.],[.9,.5,0.,1.],\n",
    "                       [.0,.0,1.,1.],[.0,.0,1.,1.],[.0,.0,1.,1.],[.0,.0,1.,1.],[.0,.0,1.,1.],[.0,.0,1.,1.]])\n",
    "rst_prob = 0.15\n",
    "P_init = mutation_profile = csr_matrix([[1,0,0,0,0,0],[0,1,0,0,0,0],[0,0,1,0,0,0],\n",
    "                                        [0,0,0,1,0,0],[0,0,0,0,1,0],[0,0,0,0,0,1]]).astype(float)\n",
    "nnodes = 6\n",
    "group_labels = [0, 0, 0, 1, 1, 1]\n",
    "lam = 5e-2\n",
    "feature_names = ['f1', 'f2', 'selfloop', 'intercept']\n",
    "node_names = ['n1', 'n2', 'n3', 'n4', 'n5', 'n6']\n",
    "sample_names = ['p1', 'p2', 'p3', 'p4', 'p5', 'p6']"
   ]
  },
  {
   "cell_type": "code",
   "execution_count": 152,
   "metadata": {
    "collapsed": true
   },
   "outputs": [],
   "source": [
    "SRW_obj_2 = SRW.SRW_solver(edges, features, nnodes, P_init, rst_prob, group_labels, lam, w_init_sd=0.01, \n",
    "                           w=None, feature_names=feature_names, sample_names=sample_names, \n",
    "                           node_names=node_names, loss='silhouette', norm_type='L1', maximize_diff=False, \n",
    "                           learning_rate=1., update_w_func='Adam', P_init_val=P_init, \n",
    "                           group_labels_val=group_labels, eval_sil=True, ncpus=-1, maxit=1000, early_stop=10, \n",
    "                           strength_func='logistic')"
   ]
  },
  {
   "cell_type": "code",
   "execution_count": 153,
   "metadata": {
    "scrolled": true
   },
   "outputs": [
    {
     "name": "stdout",
     "output_type": "stream",
     "text": [
      "finished calculating strength_grad: 23:44:49\n",
      "finished network propagation: 23:44:49\n",
      "finished calculating P_grad using pool: 23:44:49\n",
      "[[ 0.  3.]\n",
      " [ 3.  0.]]\n",
      "[[ 0.  0.]\n",
      " [ 0.  0.]]\n",
      "finished calculating J and J_grad: 23:44:49\n",
      "*** 0 iteration: J is -3.00414978015 cost_val is -3.00491565041\n",
      "*** accuracy is 1.0 accuracy_val is 1.0\n",
      "*** silhouette is 0.500819275068 silhouette_val is 0.500819275068\n",
      "[ 0.00959334  0.00561852 -0.00010554 -0.0150855 ] \n",
      "\n",
      "finished calculating strength_grad: 23:44:49\n",
      "finished network propagation: 23:44:49\n",
      "finished calculating P_grad using pool: 23:44:49\n",
      "[[ 0.  3.]\n",
      " [ 3.  0.]]\n",
      "[[ 0.  0.]\n",
      " [ 0.  0.]]\n",
      "finished calculating J and J_grad: 23:44:49\n",
      "*** 1 iteration: J is -3.65347874059 cost_val is -3.80367218344\n",
      "*** accuracy is 1.0 accuracy_val is 1.0\n",
      "*** silhouette is 0.633945363907 silhouette_val is 0.633945363907\n",
      "[ 1.00959332 -0.99438128  0.99989426 -1.01508142] \n",
      "\n",
      "finished calculating strength_grad: 23:44:49\n",
      "finished network propagation: 23:44:49\n",
      "finished calculating P_grad using pool: 23:44:49\n",
      "[[ 0.  3.]\n",
      " [ 3.  0.]]\n",
      "[[ 0.  0.]\n",
      " [ 0.  0.]]\n",
      "finished calculating J and J_grad: 23:44:49\n",
      "*** 2 iteration: J is -4.55574736642 cost_val is -4.7944911431\n",
      "*** accuracy is 1.0 accuracy_val is 1.0\n",
      "*** silhouette is 0.799081857183 silhouette_val is 0.799081857183\n",
      "[ 2.00182267 -1.98932326  0.7837296  -1.76678029] \n",
      "\n",
      "finished calculating strength_grad: 23:44:50\n",
      "finished network propagation: 23:44:50\n",
      "finished calculating P_grad using pool: 23:44:50\n",
      "[[ 0.  3.]\n",
      " [ 3.  0.]]\n",
      "[[ 0.  0.]\n",
      " [ 0.  0.]]\n",
      "finished calculating J and J_grad: 23:44:50\n",
      "*** 3 iteration: J is -5.1864248427 cost_val is -5.49182452634\n",
      "*** accuracy is 1.0 accuracy_val is 1.0\n",
      "*** silhouette is 0.915304087723 silhouette_val is 0.915304087723\n",
      "[ 2.99773206 -2.9272142   0.18304741 -2.62978028] \n",
      "\n",
      "finished calculating strength_grad: 23:44:50\n",
      "finished network propagation: 23:44:50\n",
      "finished calculating P_grad using pool: 23:44:50\n",
      "[[ 0.  3.]\n",
      " [ 3.  0.]]\n",
      "[[ 0.  0.]\n",
      " [ 0.  0.]]\n",
      "finished calculating J and J_grad: 23:44:50\n",
      "*** 4 iteration: J is -5.373092229 cost_val is -5.76867938533\n",
      "*** accuracy is 1.0 accuracy_val is 1.0\n",
      "*** silhouette is 0.961446564222 silhouette_val is 0.961446564222\n",
      "[ 3.94009205 -3.42611091 -0.54554017 -3.47517044] \n",
      "\n",
      "finished calculating strength_grad: 23:44:50\n",
      "finished network propagation: 23:44:50\n",
      "finished calculating P_grad using pool: 23:44:51\n",
      "[[ 0.  3.]\n",
      " [ 3.  0.]]\n",
      "[[ 0.  0.]\n",
      " [ 0.  0.]]\n",
      "finished calculating J and J_grad: 23:44:51\n",
      "*** 5 iteration: J is -5.39421924158 cost_val is -5.86047777663\n",
      "*** accuracy is 1.0 accuracy_val is 1.0\n",
      "*** silhouette is 0.976746296105 silhouette_val is 0.976746296105\n",
      "[ 4.77553932 -3.5379531  -1.01167829 -4.23982965] \n",
      "\n",
      "finished calculating strength_grad: 23:44:51\n",
      "finished network propagation: 23:44:51\n",
      "finished calculating P_grad using pool: 23:44:51\n",
      "[[ 0.  3.]\n",
      " [ 3.  0.]]\n",
      "[[ 0.  0.]\n",
      " [ 0.  0.]]\n",
      "finished calculating J and J_grad: 23:44:51\n",
      "*** 6 iteration: J is -5.38871793135 cost_val is -5.89545998547\n",
      "*** accuracy is 1.0 accuracy_val is 1.0\n",
      "*** silhouette is 0.982576664245 silhouette_val is 0.982576664245\n",
      "[ 5.49808972 -3.38144301 -1.25530836 -4.91937561] \n",
      "\n",
      "finished calculating strength_grad: 23:44:51\n",
      "finished network propagation: 23:44:51\n",
      "finished calculating P_grad using pool: 23:44:51\n",
      "[[ 0.  3.]\n",
      " [ 3.  0.]]\n",
      "[[ 0.  0.]\n",
      " [ 0.  0.]]\n",
      "finished calculating J and J_grad: 23:44:51\n",
      "*** 7 iteration: J is -5.38715934195 cost_val is -5.9111051267\n",
      "*** accuracy is 1.0 accuracy_val is 1.0\n",
      "*** silhouette is 0.985184187784 silhouette_val is 0.985184187784\n",
      "[ 6.11805348 -3.03915625 -1.32170596 -5.52335575] \n",
      "\n",
      "finished calculating strength_grad: 23:44:51\n",
      "finished network propagation: 23:44:51\n",
      "finished calculating P_grad using pool: 23:44:52\n",
      "[[ 0.  3.]\n",
      " [ 3.  0.]]\n",
      "[[ 0.  0.]\n",
      " [ 0.  0.]]\n",
      "finished calculating J and J_grad: 23:44:52\n",
      "*** 8 iteration: J is -5.39612734685 cost_val is -5.91901472721\n",
      "*** accuracy is 1.0 accuracy_val is 1.0\n",
      "*** silhouette is 0.986502454535 silhouette_val is 0.986502454535\n",
      "[ 6.64802743 -2.56355685 -1.24616333 -6.06236683] \n",
      "\n",
      "finished calculating strength_grad: 23:44:52\n",
      "finished network propagation: 23:44:52\n",
      "finished calculating P_grad using pool: 23:44:52\n",
      "[[ 0.  3.]\n",
      " [ 3.  0.]]\n",
      "[[ 0.  0.]\n",
      " [ 0.  0.]]\n",
      "finished calculating J and J_grad: 23:44:52\n",
      "*** 9 iteration: J is -5.41619764416 cost_val is -5.92336687113\n",
      "*** accuracy is 1.0 accuracy_val is 1.0\n",
      "*** silhouette is 0.987227811856 silhouette_val is 0.987227811856\n",
      "[ 7.09942245 -1.98881987 -1.05514223 -6.54564552] \n",
      "\n",
      "finished calculating strength_grad: 23:44:52\n",
      "finished network propagation: 23:44:52\n",
      "finished calculating P_grad using pool: 23:44:52\n",
      "[[ 0.  3.]\n",
      " [ 3.  0.]]\n",
      "[[ 0.  0.]\n",
      " [ 0.  0.]]\n",
      "finished calculating J and J_grad: 23:44:52\n",
      "*** 10 iteration: J is -5.44644054534 cost_val is -5.92588035847\n",
      "*** accuracy is 1.0 accuracy_val is 1.0\n",
      "*** silhouette is 0.987646726411 silhouette_val is 0.987646726411\n",
      "[ 7.48192    -1.33815926 -0.76871701 -6.98090083] \n",
      "\n",
      "finished calculating strength_grad: 23:44:52\n",
      "finished network propagation: 23:44:52\n",
      "finished calculating P_grad using pool: 23:44:53\n",
      "[[ 0.  3.]\n",
      " [ 3.  0.]]\n",
      "[[ 0.  0.]\n",
      " [ 0.  0.]]\n",
      "finished calculating J and J_grad: 23:44:53\n",
      "*** 11 iteration: J is -5.48563815127 cost_val is -5.92733950061\n",
      "*** accuracy is 1.0 accuracy_val is 1.0\n",
      "*** silhouette is 0.987889916768 silhouette_val is 0.987889916768\n",
      "[ 7.80362617 -0.62798093 -0.40241989 -7.37456207] \n",
      "\n",
      "finished calculating strength_grad: 23:44:53\n",
      "finished network propagation: 23:44:53\n",
      "finished calculating P_grad using pool: 23:44:53\n",
      "[[ 0.  3.]\n",
      " [ 3.  0.]]\n",
      "[[ 0.  0.]\n",
      " [ 0.  0.]]\n",
      "finished calculating J and J_grad: 23:44:53\n",
      "*** 12 iteration: J is -5.51650261755 cost_val is -5.92813074749\n",
      "*** accuracy is 1.0 accuracy_val is 1.0\n",
      "*** silhouette is 0.988021791248 silhouette_val is 0.988021791248\n",
      "[ 8.07134749  0.12971733  0.03149778 -7.73205558] \n",
      "\n",
      "finished calculating strength_grad: 23:44:53\n",
      "finished network propagation: 23:44:53\n",
      "finished calculating P_grad using pool: 23:44:54\n",
      "[[ 0.  3.]\n",
      " [ 3.  0.]]\n",
      "[[ 0.  0.]\n",
      " [ 0.  0.]]\n",
      "finished calculating J and J_grad: 23:44:54\n",
      "*** 13 iteration: J is -5.46790845073 cost_val is -5.92885110038\n",
      "*** accuracy is 1.0 accuracy_val is 1.0\n",
      "*** silhouette is 0.988141850064 silhouette_val is 0.988141850064\n",
      "[ 8.29084598  0.62725363  0.30075338 -8.05804325] \n",
      "\n",
      "finished calculating strength_grad: 23:44:54\n",
      "finished network propagation: 23:44:54\n",
      "finished calculating P_grad using pool: 23:44:54\n",
      "[[ 0.  3.]\n",
      " [ 3.  0.]]\n",
      "[[ 0.  0.]\n",
      " [ 0.  0.]]\n",
      "finished calculating J and J_grad: 23:44:54\n",
      "*** 14 iteration: J is -5.43917766798 cost_val is -5.92955088121\n",
      "*** accuracy is 1.0 accuracy_val is 1.0\n",
      "*** silhouette is 0.988258480202 silhouette_val is 0.988258480202\n",
      "[ 8.4670555   0.91152759  0.42888117 -8.35605283] \n",
      "\n",
      "finished calculating strength_grad: 23:44:54\n",
      "finished network propagation: 23:44:54\n",
      "finished calculating P_grad using pool: 23:44:54\n",
      "[[ 0.  3.]\n",
      " [ 3.  0.]]\n",
      "[[ 0.  0.]\n",
      " [ 0.  0.]]\n",
      "finished calculating J and J_grad: 23:44:54\n",
      "*** 15 iteration: J is -5.4272790886 cost_val is -5.93020442022\n",
      "*** accuracy is 1.0 accuracy_val is 1.0\n",
      "*** silhouette is 0.98836740337 silhouette_val is 0.98836740337\n",
      "[ 8.60423319  1.01905651  0.43521693 -8.62880011] \n",
      "\n",
      "finished calculating strength_grad: 23:44:54\n",
      "finished network propagation: 23:44:54\n",
      "finished calculating P_grad using pool: 23:44:55\n",
      "[[ 0.  3.]\n",
      " [ 3.  0.]]\n",
      "[[ 0.  0.]\n",
      " [ 0.  0.]]\n",
      "finished calculating J and J_grad: 23:44:55\n",
      "*** 16 iteration: J is -5.42974590807 cost_val is -5.93077439569\n",
      "*** accuracy is 1.0 accuracy_val is 1.0\n",
      "*** silhouette is 0.988462399282 silhouette_val is 0.988462399282\n",
      "[ 8.70607885  0.97866477  0.33582613 -8.87846857] \n",
      "\n",
      "finished calculating strength_grad: 23:44:55\n",
      "finished network propagation: 23:44:55\n",
      "finished calculating P_grad using pool: 23:44:55\n",
      "[[ 0.  3.]\n",
      " [ 3.  0.]]\n",
      "[[ 0.  0.]\n",
      " [ 0.  0.]]\n",
      "finished calculating J and J_grad: 23:44:55\n",
      "*** 17 iteration: J is -5.44456728981 cost_val is -5.93123749604\n",
      "*** accuracy is 1.0 accuracy_val is 1.0\n",
      "*** silhouette is 0.988539582673 silhouette_val is 0.988539582673\n",
      "[ 8.77582948  0.8133884   0.14418624 -9.10691675] \n",
      "\n",
      "finished calculating strength_grad: 23:44:55\n",
      "finished network propagation: 23:44:55\n",
      "finished calculating P_grad using pool: 23:44:55\n",
      "[[ 0.  3.]\n",
      " [ 3.  0.]]\n",
      "[[ 0.  0.]\n",
      " [ 0.  0.]]\n",
      "finished calculating J and J_grad: 23:44:55\n",
      "*** 18 iteration: J is -5.45726235244 cost_val is -5.93158706148\n",
      "*** accuracy is 1.0 accuracy_val is 1.0\n",
      "*** silhouette is 0.98859784358 silhouette_val is 0.98859784358\n",
      "[ 8.81633502  0.54185805 -0.12830112 -9.31580925] \n",
      "\n",
      "finished calculating strength_grad: 23:44:55\n",
      "finished network propagation: 23:44:55\n"
     ]
    },
    {
     "name": "stdout",
     "output_type": "stream",
     "text": [
      "finished calculating P_grad using pool: 23:44:56\n",
      "[[ 0.  3.]\n",
      " [ 3.  0.]]\n",
      "[[ 0.  0.]\n",
      " [ 0.  0.]]\n",
      "finished calculating J and J_grad: 23:44:56\n",
      "*** 19 iteration: J is -5.4678551112 cost_val is -5.93182260168\n",
      "*** accuracy is 1.0 accuracy_val is 1.0\n",
      "*** silhouette is 0.98863710028 silhouette_val is 0.98863710028\n",
      "[ 8.83012019  0.17931796 -0.26991166 -9.50668524] \n",
      "\n",
      "finished calculating strength_grad: 23:44:56\n",
      "finished network propagation: 23:44:56\n",
      "finished calculating P_grad using pool: 23:44:56\n",
      "[[ 0.  3.]\n",
      " [ 3.  0.]]\n",
      "[[ 0.  0.]\n",
      " [ 0.  0.]]\n",
      "finished calculating J and J_grad: 23:44:56\n",
      "*** 20 iteration: J is -5.46308965855 cost_val is -5.93194917394\n",
      "*** accuracy is 1.0 accuracy_val is 1.0\n",
      "*** silhouette is 0.988658195657 silhouette_val is 0.988658195657\n",
      "[ 8.81943668 -0.26161483 -0.2961388  -9.68098694] \n",
      "\n",
      "finished calculating strength_grad: 23:44:56\n",
      "finished network propagation: 23:44:56\n",
      "finished calculating P_grad using pool: 23:44:57\n",
      "[[ 0.  3.]\n",
      " [ 3.  0.]]\n",
      "[[ 0.  0.]\n",
      " [ 0.  0.]]\n",
      "finished calculating J and J_grad: 23:44:57\n",
      "*** 21 iteration: J is -5.45492265224 cost_val is -5.93195947844\n",
      "*** accuracy is 1.0 accuracy_val is 1.0\n",
      "*** silhouette is 0.988659913074 silhouette_val is 0.988659913074\n",
      "[ 8.78630453 -0.53407803 -0.22035396 -9.84006592] \n",
      "\n",
      "finished calculating strength_grad: 23:44:57\n",
      "finished network propagation: 23:44:57\n",
      "finished calculating P_grad using pool: 23:44:57\n",
      "[[ 0.  3.]\n",
      " [ 3.  0.]]\n",
      "[[ 0.  0.]\n",
      " [ 0.  0.]]\n",
      "finished calculating J and J_grad: 23:44:57\n",
      "*** 22 iteration: J is -5.4595961348 cost_val is -5.9318981791\n",
      "*** accuracy is 1.0 accuracy_val is 1.0\n",
      "*** silhouette is 0.988649696516 silhouette_val is 0.988649696516\n",
      "[ 8.73254271 -0.65934624 -0.05415194 -9.98522849] \n",
      "\n",
      "finished calculating strength_grad: 23:44:57\n",
      "finished network propagation: 23:44:57\n",
      "finished calculating P_grad using pool: 23:44:58\n",
      "[[ 0.  3.]\n",
      " [ 3.  0.]]\n",
      "[[ 0.  0.]\n",
      " [ 0.  0.]]\n",
      "finished calculating J and J_grad: 23:44:58\n",
      "*** 23 iteration: J is -5.45639124117 cost_val is -5.93178253119\n",
      "*** accuracy is 1.0 accuracy_val is 1.0\n",
      "*** silhouette is 0.988630421864 silhouette_val is 0.988630421864\n",
      "[  8.65979752  -0.65566089   0.19236739 -10.11769835] \n",
      "\n",
      "finished calculating strength_grad: 23:44:58\n",
      "finished network propagation: 23:44:58\n",
      "finished calculating P_grad using pool: 23:44:58\n",
      "[[ 0.  3.]\n",
      " [ 3.  0.]]\n",
      "[[ 0.  0.]\n",
      " [ 0.  0.]]\n",
      "finished calculating J and J_grad: 23:44:58\n",
      "*** 24 iteration: J is -5.4604319917 cost_val is -5.93162458627\n",
      "*** accuracy is 1.0 accuracy_val is 1.0\n",
      "*** silhouette is 0.988604097712 silhouette_val is 0.988604097712\n",
      "[  8.56956747  -0.53872609   0.31555834 -10.23860644] \n",
      "\n",
      "finished calculating strength_grad: 23:44:58\n",
      "finished network propagation: 23:44:58\n",
      "finished calculating P_grad using pool: 23:44:58\n",
      "[[ 0.  3.]\n",
      " [ 3.  0.]]\n",
      "[[ 0.  0.]\n",
      " [ 0.  0.]]\n",
      "finished calculating J and J_grad: 23:44:58\n",
      "*** 25 iteration: J is -5.47570916898 cost_val is -5.93142014035\n",
      "*** accuracy is 1.0 accuracy_val is 1.0\n",
      "*** silhouette is 0.988570023391 silhouette_val is 0.988570023391\n",
      "[  8.46322065  -0.32212514   0.32887364 -10.34899102] \n",
      "\n",
      "finished calculating strength_grad: 23:44:58\n",
      "finished network propagation: 23:44:58\n",
      "finished calculating P_grad using pool: 23:44:59\n",
      "[[ 0.  3.]\n",
      " [ 3.  0.]]\n",
      "[[ 0.  0.]\n",
      " [ 0.  0.]]\n",
      "finished calculating J and J_grad: 23:44:59\n",
      "*** 26 iteration: J is -5.50096450434 cost_val is -5.93115577609\n",
      "*** accuracy is 1.0 accuracy_val is 1.0\n",
      "*** silhouette is 0.988525962682 silhouette_val is 0.988525962682\n",
      "[  8.34201264  -0.01765439   0.2441584  -10.44980358] \n",
      "\n",
      "finished calculating strength_grad: 23:44:59\n",
      "finished network propagation: 23:44:59\n",
      "finished calculating P_grad using pool: 23:44:59\n",
      "[[ 0.  3.]\n",
      " [ 3.  0.]]\n",
      "[[ 0.  0.]\n",
      " [ 0.  0.]]\n",
      "finished calculating J and J_grad: 23:44:59\n",
      "*** 27 iteration: J is -5.49864220266 cost_val is -5.93081112494\n",
      "*** accuracy is 1.0 accuracy_val is 1.0\n",
      "*** silhouette is 0.988468520824 silhouette_val is 0.988468520824\n",
      "[  8.20710396   0.36440512   0.07186937 -10.5419168 ] \n",
      "\n",
      "finished calculating strength_grad: 23:44:59\n",
      "finished network propagation: 23:44:59\n",
      "finished calculating P_grad using pool: 23:44:59\n",
      "[[ 0.  3.]\n",
      " [ 3.  0.]]\n",
      "[[ 0.  0.]\n",
      " [ 0.  0.]]\n",
      "finished calculating J and J_grad: 23:44:59\n",
      "*** 28 iteration: J is -5.48868953394 cost_val is -5.93039427731\n",
      "*** accuracy is 1.0 accuracy_val is 1.0\n",
      "*** silhouette is 0.988399046218 silhouette_val is 0.988399046218\n",
      "[  8.05957719   0.59577355  -0.17874413 -10.62613354] \n",
      "\n",
      "finished calculating strength_grad: 23:44:59\n",
      "finished network propagation: 23:44:59\n",
      "finished calculating P_grad using pool: 23:45:00\n",
      "[[ 0.  3.]\n",
      " [ 3.  0.]]\n",
      "[[ 0.  0.]\n",
      " [ 0.  0.]]\n",
      "finished calculating J and J_grad: 23:45:00\n",
      "*** 29 iteration: J is -5.48479684337 cost_val is -5.92989487826\n",
      "*** accuracy is 1.0 accuracy_val is 1.0\n",
      "*** silhouette is 0.988315813043 silhouette_val is 0.988315813043\n",
      "[  7.90045468   0.69341529  -0.30809073 -10.7031637 ] \n",
      "\n",
      "finished calculating strength_grad: 23:45:00\n",
      "finished network propagation: 23:45:00\n",
      "finished calculating P_grad using pool: 23:45:00\n",
      "[[ 0.  3.]\n",
      " [ 3.  0.]]\n",
      "[[ 0.  0.]\n",
      " [ 0.  0.]]\n",
      "finished calculating J and J_grad: 23:45:00\n",
      "*** 30 iteration: J is -5.49270693944 cost_val is -5.9292962326\n",
      "*** accuracy is 1.0 accuracy_val is 1.0\n",
      "*** silhouette is 0.988216038766 silhouette_val is 0.988216038766\n",
      "[  7.73071412   0.6722672   -0.32880454 -10.7736356 ] \n",
      "\n",
      "finished calculating strength_grad: 23:45:00\n",
      "finished network propagation: 23:45:00\n",
      "finished calculating P_grad using pool: 23:45:01\n",
      "[[ 0.  3.]\n",
      " [ 3.  0.]]\n",
      "[[ 0.  0.]\n",
      " [ 0.  0.]]\n",
      "finished calculating J and J_grad: 23:45:01\n",
      "*** 31 iteration: J is -5.51112175983 cost_val is -5.92856862954\n",
      "*** accuracy is 1.0 accuracy_val is 1.0\n",
      "*** silhouette is 0.988094771589 silhouette_val is 0.988094771589\n",
      "[  7.55130266   0.54550695  -0.25212779 -10.83810702] \n",
      "\n",
      "finished calculating strength_grad: 23:45:01\n",
      "finished network propagation: 23:45:01\n",
      "finished calculating P_grad using pool: 23:45:01\n",
      "[[ 0.  3.]\n",
      " [ 3.  0.]]\n",
      "[[ 0.  0.]\n",
      " [ 0.  0.]]\n",
      "finished calculating J and J_grad: 23:45:01\n",
      "*** 32 iteration: J is -5.53886812223 cost_val is -5.92766914608\n",
      "*** accuracy is 1.0 accuracy_val is 1.0\n",
      "*** silhouette is 0.987944857681 silhouette_val is 0.987944857681\n",
      "[  7.36315382   0.32478408  -0.08808258 -10.89707638] \n",
      "\n"
     ]
    }
   ],
   "source": [
    "SRW_obj_2.train_SRW_GD()"
   ]
  },
  {
   "cell_type": "code",
   "execution_count": 154,
   "metadata": {
    "collapsed": true
   },
   "outputs": [],
   "source": [
    "SRW_obj_2.generate_Q_and_P_fin()"
   ]
  },
  {
   "cell_type": "code",
   "execution_count": 155,
   "metadata": {},
   "outputs": [
    {
     "data": {
      "text/plain": [
       "array([ 8.78630453, -0.53407803, -0.22035396, -9.84006592])"
      ]
     },
     "execution_count": 155,
     "metadata": {},
     "output_type": "execute_result"
    }
   ],
   "source": [
    "SRW_obj_2.w"
   ]
  },
  {
   "cell_type": "code",
   "execution_count": null,
   "metadata": {
    "scrolled": true
   },
   "outputs": [],
   "source": [
    "SRW_obj_2.train_SRW_BFGS()"
   ]
  },
  {
   "cell_type": "code",
   "execution_count": 156,
   "metadata": {
    "collapsed": true
   },
   "outputs": [],
   "source": [
    "SRW_obj_2.generate_Q_and_P_fin()"
   ]
  },
  {
   "cell_type": "code",
   "execution_count": 157,
   "metadata": {},
   "outputs": [
    {
     "data": {
      "text/html": [
       "<div>\n",
       "<style>\n",
       "    .dataframe thead tr:only-child th {\n",
       "        text-align: right;\n",
       "    }\n",
       "\n",
       "    .dataframe thead th {\n",
       "        text-align: left;\n",
       "    }\n",
       "\n",
       "    .dataframe tbody tr th {\n",
       "        vertical-align: top;\n",
       "    }\n",
       "</style>\n",
       "<table border=\"1\" class=\"dataframe\">\n",
       "  <thead>\n",
       "    <tr style=\"text-align: right;\">\n",
       "      <th></th>\n",
       "      <th>Weight</th>\n",
       "    </tr>\n",
       "  </thead>\n",
       "  <tbody>\n",
       "    <tr>\n",
       "      <th>f1</th>\n",
       "      <td>8.786305</td>\n",
       "    </tr>\n",
       "    <tr>\n",
       "      <th>f2</th>\n",
       "      <td>-0.534078</td>\n",
       "    </tr>\n",
       "    <tr>\n",
       "      <th>selfloop</th>\n",
       "      <td>-0.220354</td>\n",
       "    </tr>\n",
       "    <tr>\n",
       "      <th>intercept</th>\n",
       "      <td>-9.840066</td>\n",
       "    </tr>\n",
       "  </tbody>\n",
       "</table>\n",
       "</div>"
      ],
      "text/plain": [
       "             Weight\n",
       "f1         8.786305\n",
       "f2        -0.534078\n",
       "selfloop  -0.220354\n",
       "intercept -9.840066"
      ]
     },
     "execution_count": 157,
     "metadata": {},
     "output_type": "execute_result"
    }
   ],
   "source": [
    "SRW_obj_2.w_map"
   ]
  },
  {
   "cell_type": "markdown",
   "metadata": {},
   "source": [
    "### Check the transition matrix Q and propagation scores P"
   ]
  },
  {
   "cell_type": "code",
   "execution_count": 158,
   "metadata": {
    "scrolled": false
   },
   "outputs": [
    {
     "data": {
      "text/html": [
       "<div>\n",
       "<style>\n",
       "    .dataframe thead tr:only-child th {\n",
       "        text-align: right;\n",
       "    }\n",
       "\n",
       "    .dataframe thead th {\n",
       "        text-align: left;\n",
       "    }\n",
       "\n",
       "    .dataframe tbody tr th {\n",
       "        vertical-align: top;\n",
       "    }\n",
       "</style>\n",
       "<table border=\"1\" class=\"dataframe\">\n",
       "  <thead>\n",
       "    <tr style=\"text-align: right;\">\n",
       "      <th></th>\n",
       "      <th>n1</th>\n",
       "      <th>n2</th>\n",
       "      <th>n3</th>\n",
       "      <th>n4</th>\n",
       "      <th>n5</th>\n",
       "      <th>n6</th>\n",
       "    </tr>\n",
       "  </thead>\n",
       "  <tbody>\n",
       "    <tr>\n",
       "      <th>n1</th>\n",
       "      <td>0.000214</td>\n",
       "      <td>0.523136</td>\n",
       "      <td>0.475178</td>\n",
       "      <td>0.000518</td>\n",
       "      <td>0.000491</td>\n",
       "      <td>0.000465</td>\n",
       "    </tr>\n",
       "    <tr>\n",
       "      <th>n2</th>\n",
       "      <td>0.511141</td>\n",
       "      <td>0.000209</td>\n",
       "      <td>0.487211</td>\n",
       "      <td>0.000506</td>\n",
       "      <td>0.000479</td>\n",
       "      <td>0.000454</td>\n",
       "    </tr>\n",
       "    <tr>\n",
       "      <th>n3</th>\n",
       "      <td>0.487108</td>\n",
       "      <td>0.511163</td>\n",
       "      <td>0.000219</td>\n",
       "      <td>0.000531</td>\n",
       "      <td>0.000503</td>\n",
       "      <td>0.000477</td>\n",
       "    </tr>\n",
       "    <tr>\n",
       "      <th>n4</th>\n",
       "      <td>0.000517</td>\n",
       "      <td>0.000517</td>\n",
       "      <td>0.000517</td>\n",
       "      <td>0.000214</td>\n",
       "      <td>0.523094</td>\n",
       "      <td>0.475140</td>\n",
       "    </tr>\n",
       "    <tr>\n",
       "      <th>n5</th>\n",
       "      <td>0.000479</td>\n",
       "      <td>0.000479</td>\n",
       "      <td>0.000479</td>\n",
       "      <td>0.511142</td>\n",
       "      <td>0.000209</td>\n",
       "      <td>0.487212</td>\n",
       "    </tr>\n",
       "    <tr>\n",
       "      <th>n6</th>\n",
       "      <td>0.000477</td>\n",
       "      <td>0.000477</td>\n",
       "      <td>0.000477</td>\n",
       "      <td>0.487147</td>\n",
       "      <td>0.511204</td>\n",
       "      <td>0.000219</td>\n",
       "    </tr>\n",
       "  </tbody>\n",
       "</table>\n",
       "</div>"
      ],
      "text/plain": [
       "          n1        n2        n3        n4        n5        n6\n",
       "n1  0.000214  0.523136  0.475178  0.000518  0.000491  0.000465\n",
       "n2  0.511141  0.000209  0.487211  0.000506  0.000479  0.000454\n",
       "n3  0.487108  0.511163  0.000219  0.000531  0.000503  0.000477\n",
       "n4  0.000517  0.000517  0.000517  0.000214  0.523094  0.475140\n",
       "n5  0.000479  0.000479  0.000479  0.511142  0.000209  0.487212\n",
       "n6  0.000477  0.000477  0.000477  0.487147  0.511204  0.000219"
      ]
     },
     "execution_count": 158,
     "metadata": {},
     "output_type": "execute_result"
    }
   ],
   "source": [
    "SRW_obj_2.Q_fin_df"
   ]
  },
  {
   "cell_type": "code",
   "execution_count": 159,
   "metadata": {},
   "outputs": [
    {
     "data": {
      "text/html": [
       "<div>\n",
       "<style>\n",
       "    .dataframe thead tr:only-child th {\n",
       "        text-align: right;\n",
       "    }\n",
       "\n",
       "    .dataframe thead th {\n",
       "        text-align: left;\n",
       "    }\n",
       "\n",
       "    .dataframe tbody tr th {\n",
       "        vertical-align: top;\n",
       "    }\n",
       "</style>\n",
       "<table border=\"1\" class=\"dataframe\">\n",
       "  <thead>\n",
       "    <tr style=\"text-align: right;\">\n",
       "      <th></th>\n",
       "      <th>n1</th>\n",
       "      <th>n2</th>\n",
       "      <th>n3</th>\n",
       "      <th>n4</th>\n",
       "      <th>n5</th>\n",
       "      <th>n6</th>\n",
       "    </tr>\n",
       "  </thead>\n",
       "  <tbody>\n",
       "    <tr>\n",
       "      <th>p1</th>\n",
       "      <td>0.400917</td>\n",
       "      <td>0.303284</td>\n",
       "      <td>0.287586</td>\n",
       "      <td>0.002754</td>\n",
       "      <td>0.002796</td>\n",
       "      <td>0.002663</td>\n",
       "    </tr>\n",
       "    <tr>\n",
       "      <th>p2</th>\n",
       "      <td>0.296330</td>\n",
       "      <td>0.407128</td>\n",
       "      <td>0.288349</td>\n",
       "      <td>0.002748</td>\n",
       "      <td>0.002789</td>\n",
       "      <td>0.002657</td>\n",
       "    </tr>\n",
       "    <tr>\n",
       "      <th>p3</th>\n",
       "      <td>0.294807</td>\n",
       "      <td>0.302524</td>\n",
       "      <td>0.394434</td>\n",
       "      <td>0.002762</td>\n",
       "      <td>0.002803</td>\n",
       "      <td>0.002670</td>\n",
       "    </tr>\n",
       "    <tr>\n",
       "      <th>p4</th>\n",
       "      <td>0.002754</td>\n",
       "      <td>0.002812</td>\n",
       "      <td>0.002694</td>\n",
       "      <td>0.400910</td>\n",
       "      <td>0.303267</td>\n",
       "      <td>0.287564</td>\n",
       "    </tr>\n",
       "    <tr>\n",
       "      <th>p5</th>\n",
       "      <td>0.002732</td>\n",
       "      <td>0.002789</td>\n",
       "      <td>0.002672</td>\n",
       "      <td>0.296337</td>\n",
       "      <td>0.407128</td>\n",
       "      <td>0.288342</td>\n",
       "    </tr>\n",
       "    <tr>\n",
       "      <th>p6</th>\n",
       "      <td>0.002730</td>\n",
       "      <td>0.002787</td>\n",
       "      <td>0.002670</td>\n",
       "      <td>0.294830</td>\n",
       "      <td>0.302541</td>\n",
       "      <td>0.394441</td>\n",
       "    </tr>\n",
       "  </tbody>\n",
       "</table>\n",
       "</div>"
      ],
      "text/plain": [
       "          n1        n2        n3        n4        n5        n6\n",
       "p1  0.400917  0.303284  0.287586  0.002754  0.002796  0.002663\n",
       "p2  0.296330  0.407128  0.288349  0.002748  0.002789  0.002657\n",
       "p3  0.294807  0.302524  0.394434  0.002762  0.002803  0.002670\n",
       "p4  0.002754  0.002812  0.002694  0.400910  0.303267  0.287564\n",
       "p5  0.002732  0.002789  0.002672  0.296337  0.407128  0.288342\n",
       "p6  0.002730  0.002787  0.002670  0.294830  0.302541  0.394441"
      ]
     },
     "execution_count": 159,
     "metadata": {},
     "output_type": "execute_result"
    }
   ],
   "source": [
    "SRW_obj_2.P_fin_df"
   ]
  },
  {
   "cell_type": "code",
   "execution_count": 160,
   "metadata": {},
   "outputs": [
    {
     "name": "stdout",
     "output_type": "stream",
     "text": [
      "*** cost is -5.92766914608 cost_val is -5.92766914608\n",
      "*** accuracy is 1.0 accuracy_val is 1.0\n",
      "*** silhouette is 0.987944857681 silhouette_val is 0.987944857681 \n",
      "\n"
     ]
    }
   ],
   "source": [
    "print '*** cost is', SRW_obj_2.cost, 'cost_val is', SRW_obj_2.cost_val\n",
    "print '*** accuracy is', SRW_obj_2.accuracy, 'accuracy_val is', SRW_obj_2.accuracy_val\n",
    "print '*** silhouette is', SRW_obj_2.sil, 'silhouette_val is', SRW_obj_2.sil_val, '\\n'"
   ]
  },
  {
   "cell_type": "markdown",
   "metadata": {},
   "source": [
    "### Compare with unweighted random walk"
   ]
  },
  {
   "cell_type": "code",
   "execution_count": 161,
   "metadata": {
    "collapsed": true
   },
   "outputs": [],
   "source": [
    "SRW_obj_3 = SRW.SRW_solver(edges, features, nnodes, P_init, rst_prob, group_labels, lam, w_init_sd=0.01, \n",
    "                           w=[0.,0.,0.,0.], \n",
    "                           feature_names=feature_names, loss='squared', norm_type='L2', maximize_diff=False, \n",
    "                           learning_rate=1, update_w_func='Adam', P_init_val=P_init, \n",
    "                           group_labels_val=group_labels, eval_sil=True)\n",
    "SRW_obj_3.generate_Q_and_P_fin()"
   ]
  },
  {
   "cell_type": "code",
   "execution_count": 162,
   "metadata": {},
   "outputs": [
    {
     "data": {
      "text/plain": [
       "array([[ 0.16666667,  0.16666667,  0.16666667,  0.16666667,  0.16666667,\n",
       "         0.16666667],\n",
       "       [ 0.16666667,  0.16666667,  0.16666667,  0.16666667,  0.16666667,\n",
       "         0.16666667],\n",
       "       [ 0.16666667,  0.16666667,  0.16666667,  0.16666667,  0.16666667,\n",
       "         0.16666667],\n",
       "       [ 0.16666667,  0.16666667,  0.16666667,  0.16666667,  0.16666667,\n",
       "         0.16666667],\n",
       "       [ 0.16666667,  0.16666667,  0.16666667,  0.16666667,  0.16666667,\n",
       "         0.16666667],\n",
       "       [ 0.16666667,  0.16666667,  0.16666667,  0.16666667,  0.16666667,\n",
       "         0.16666667]])"
      ]
     },
     "execution_count": 162,
     "metadata": {},
     "output_type": "execute_result"
    }
   ],
   "source": [
    "SRW_obj_3.Q_fin.toarray()"
   ]
  },
  {
   "cell_type": "code",
   "execution_count": 163,
   "metadata": {},
   "outputs": [
    {
     "data": {
      "text/plain": [
       "array([[ 0.29166667,  0.14166667,  0.14166667,  0.14166667,  0.14166667,\n",
       "         0.14166667],\n",
       "       [ 0.14166667,  0.29166667,  0.14166667,  0.14166667,  0.14166667,\n",
       "         0.14166667],\n",
       "       [ 0.14166667,  0.14166667,  0.29166667,  0.14166667,  0.14166667,\n",
       "         0.14166667],\n",
       "       [ 0.14166667,  0.14166667,  0.14166667,  0.29166667,  0.14166667,\n",
       "         0.14166667],\n",
       "       [ 0.14166667,  0.14166667,  0.14166667,  0.14166667,  0.29166667,\n",
       "         0.14166667],\n",
       "       [ 0.14166667,  0.14166667,  0.14166667,  0.14166667,  0.14166667,\n",
       "         0.29166667]])"
      ]
     },
     "execution_count": 163,
     "metadata": {},
     "output_type": "execute_result"
    }
   ],
   "source": [
    "SRW_obj_3.P_fin"
   ]
  },
  {
   "cell_type": "code",
   "execution_count": 165,
   "metadata": {},
   "outputs": [
    {
     "data": {
      "text/plain": [
       "0.08999999999999993"
      ]
     },
     "execution_count": 165,
     "metadata": {},
     "output_type": "execute_result"
    }
   ],
   "source": [
    "SRW_obj_3.calc_cost_val(SRW_obj_3.P_fin)\n",
    "SRW_obj_3.cost_val"
   ]
  },
  {
   "cell_type": "code",
   "execution_count": null,
   "metadata": {
    "collapsed": true
   },
   "outputs": [],
   "source": []
  },
  {
   "cell_type": "markdown",
   "metadata": {
    "collapsed": true
   },
   "source": [
    "# Scratch"
   ]
  },
  {
   "cell_type": "code",
   "execution_count": 154,
   "metadata": {
    "collapsed": true
   },
   "outputs": [],
   "source": [
    "import pandas as pd"
   ]
  },
  {
   "cell_type": "code",
   "execution_count": 158,
   "metadata": {
    "scrolled": true
   },
   "outputs": [
    {
     "data": {
      "text/html": [
       "<div>\n",
       "<style>\n",
       "    .dataframe thead tr:only-child th {\n",
       "        text-align: right;\n",
       "    }\n",
       "\n",
       "    .dataframe thead th {\n",
       "        text-align: left;\n",
       "    }\n",
       "\n",
       "    .dataframe tbody tr th {\n",
       "        vertical-align: top;\n",
       "    }\n",
       "</style>\n",
       "<table border=\"1\" class=\"dataframe\">\n",
       "  <thead>\n",
       "    <tr style=\"text-align: right;\">\n",
       "      <th></th>\n",
       "      <th>n1</th>\n",
       "      <th>n2</th>\n",
       "      <th>n3</th>\n",
       "      <th>n4</th>\n",
       "      <th>n5</th>\n",
       "      <th>n6</th>\n",
       "    </tr>\n",
       "  </thead>\n",
       "  <tbody>\n",
       "    <tr>\n",
       "      <th>p1</th>\n",
       "      <td>1.0</td>\n",
       "      <td>0.0</td>\n",
       "      <td>0.0</td>\n",
       "      <td>0.0</td>\n",
       "      <td>0.0</td>\n",
       "      <td>0.0</td>\n",
       "    </tr>\n",
       "    <tr>\n",
       "      <th>p2</th>\n",
       "      <td>0.0</td>\n",
       "      <td>1.0</td>\n",
       "      <td>0.0</td>\n",
       "      <td>0.0</td>\n",
       "      <td>0.0</td>\n",
       "      <td>0.0</td>\n",
       "    </tr>\n",
       "    <tr>\n",
       "      <th>p3</th>\n",
       "      <td>0.0</td>\n",
       "      <td>0.0</td>\n",
       "      <td>1.0</td>\n",
       "      <td>0.0</td>\n",
       "      <td>0.0</td>\n",
       "      <td>0.0</td>\n",
       "    </tr>\n",
       "    <tr>\n",
       "      <th>p4</th>\n",
       "      <td>0.0</td>\n",
       "      <td>0.0</td>\n",
       "      <td>0.0</td>\n",
       "      <td>1.0</td>\n",
       "      <td>0.0</td>\n",
       "      <td>0.0</td>\n",
       "    </tr>\n",
       "    <tr>\n",
       "      <th>p5</th>\n",
       "      <td>0.0</td>\n",
       "      <td>0.0</td>\n",
       "      <td>0.0</td>\n",
       "      <td>0.0</td>\n",
       "      <td>1.0</td>\n",
       "      <td>0.0</td>\n",
       "    </tr>\n",
       "    <tr>\n",
       "      <th>p6</th>\n",
       "      <td>0.0</td>\n",
       "      <td>0.0</td>\n",
       "      <td>0.0</td>\n",
       "      <td>0.0</td>\n",
       "      <td>0.0</td>\n",
       "      <td>1.0</td>\n",
       "    </tr>\n",
       "  </tbody>\n",
       "</table>\n",
       "</div>"
      ],
      "text/plain": [
       "     n1   n2   n3   n4   n5   n6\n",
       "p1  1.0  0.0  0.0  0.0  0.0  0.0\n",
       "p2  0.0  1.0  0.0  0.0  0.0  0.0\n",
       "p3  0.0  0.0  1.0  0.0  0.0  0.0\n",
       "p4  0.0  0.0  0.0  1.0  0.0  0.0\n",
       "p5  0.0  0.0  0.0  0.0  1.0  0.0\n",
       "p6  0.0  0.0  0.0  0.0  0.0  1.0"
      ]
     },
     "execution_count": 158,
     "metadata": {},
     "output_type": "execute_result"
    }
   ],
   "source": [
    "pd.DataFrame(SRW_obj_2.P_init.toarray(), index=['p1', 'p2', 'p3', 'p4', 'p5', 'p6'], \n",
    "             columns=['n1', 'n2', 'n3', 'n4', 'n5', 'n6'])"
   ]
  },
  {
   "cell_type": "code",
   "execution_count": null,
   "metadata": {
    "collapsed": true
   },
   "outputs": [],
   "source": []
  }
 ],
 "metadata": {
  "kernelspec": {
   "display_name": "Python 2",
   "language": "python",
   "name": "python2"
  },
  "language_info": {
   "codemirror_mode": {
    "name": "ipython",
    "version": 2
   },
   "file_extension": ".py",
   "mimetype": "text/x-python",
   "name": "python",
   "nbconvert_exporter": "python",
   "pygments_lexer": "ipython2",
   "version": "2.7.13"
  }
 },
 "nbformat": 4,
 "nbformat_minor": 2
}
