{
 "cells": [
  {
   "cell_type": "code",
   "execution_count": 1,
   "metadata": {
    "collapsed": true
   },
   "outputs": [],
   "source": [
    "%load_ext autoreload\n",
    "%autoreload 2"
   ]
  },
  {
   "cell_type": "code",
   "execution_count": 2,
   "metadata": {
    "collapsed": true
   },
   "outputs": [],
   "source": [
    "import numpy as np\n",
    "import SRW_v041 as SRW\n",
    "from scipy.sparse import csr_matrix, csc_matrix, issparse\n",
    "import functools"
   ]
  },
  {
   "cell_type": "markdown",
   "metadata": {},
   "source": [
    "# This toy example is for checking the partial derivatives"
   ]
  },
  {
   "cell_type": "code",
   "execution_count": 3,
   "metadata": {
    "collapsed": true
   },
   "outputs": [],
   "source": [
    "edges = np.array([[0,1],[0,2],[1,2],[1,0],[2,0],[2,1]])\n",
    "features = csc_matrix([[0.9,0.1,1.],[0.1,0.9,1.],[0.5,0.5,1.],[0.9,0.1,1.],[0.1,0.9,1.],[0.5,0.5,1.]])\n",
    "w0 = np.array([0.7,0.3,0.1])\n",
    "w1 = np.array([0.700001,0.3,0.1])\n",
    "rst_prob = 0.5\n",
    "P_init = mutation_profile = csr_matrix([[1,0,0],[0,1,0],[0,1,1],[1,1,0],[1,1,1]])\n",
    "nnodes = 3\n",
    "group_labels = [0, 0, 1, 1, 1]\n",
    "lam = 0.001"
   ]
  },
  {
   "cell_type": "code",
   "execution_count": 4,
   "metadata": {
    "collapsed": true
   },
   "outputs": [],
   "source": [
    "Q0, M_strength0, M_strength_rowSum0, strength_grad0 = SRW.strength_Q_and_gradient(edges, nnodes, features, w0)\n",
    "Q1, M_strength1, M_strength_rowSum1, strength_grad1 = SRW.strength_Q_and_gradient(edges, nnodes, features, w1)"
   ]
  },
  {
   "cell_type": "code",
   "execution_count": 5,
   "metadata": {},
   "outputs": [
    {
     "data": {
      "text/plain": [
       "array([[ 0.        , -0.07991799,  0.07991799],\n",
       "       [-0.03630052,  0.        ,  0.03630052],\n",
       "       [ 0.04380975, -0.04380975,  0.        ]])"
      ]
     },
     "execution_count": 5,
     "metadata": {},
     "output_type": "execute_result"
    }
   ],
   "source": [
    "Q_grad = SRW.Q_gradient_1feature(edges, nnodes, M_strength0, M_strength_rowSum0, strength_grad0.toarray()[:,1]) \n",
    "Q_grad.toarray()"
   ]
  },
  {
   "cell_type": "code",
   "execution_count": 6,
   "metadata": {},
   "outputs": [
    {
     "data": {
      "text/plain": [
       "array([[ 0.        ,  0.061703  , -0.061703  ],\n",
       "       [ 0.0273826 ,  0.        , -0.0273826 ],\n",
       "       [-0.03446874,  0.03446874,  0.        ]])"
      ]
     },
     "execution_count": 6,
     "metadata": {},
     "output_type": "execute_result"
    }
   ],
   "source": [
    "(Q1 - Q0).toarray() / 0.000001 # check"
   ]
  },
  {
   "cell_type": "code",
   "execution_count": 7,
   "metadata": {
    "collapsed": true
   },
   "outputs": [],
   "source": [
    "P0 = csr_matrix(SRW.iterative_PPR(Q0.toarray(), SRW.renorm(mutation_profile).toarray(), rst_prob))\n",
    "P1 = csr_matrix(SRW.iterative_PPR(Q1.toarray(), SRW.renorm(mutation_profile).toarray(), rst_prob))"
   ]
  },
  {
   "cell_type": "code",
   "execution_count": 8,
   "metadata": {},
   "outputs": [
    {
     "data": {
      "text/plain": [
       "array([[  9.28591017e-05,  -2.24112783e-02,   2.23184192e-02],\n",
       "       [ -5.49892150e-03,  -9.83871874e-03,   1.53376402e-02],\n",
       "       [  9.11765236e-04,  -1.32354706e-02,   1.23237053e-02],\n",
       "       [ -2.70303120e-03,  -1.61249985e-02,   1.88280297e-02],\n",
       "       [  6.38796524e-04,  -1.62940731e-02,   1.56552766e-02]])"
      ]
     },
     "execution_count": 8,
     "metadata": {},
     "output_type": "execute_result"
    }
   ],
   "source": [
    "P_grad = SRW.calc_P_grad_pool(edges, nnodes, M_strength0, M_strength_rowSum0, Q0, P0, rst_prob, strength_grad0)\n",
    "P_grad[1,:,:]"
   ]
  },
  {
   "cell_type": "code",
   "execution_count": 9,
   "metadata": {},
   "outputs": [
    {
     "data": {
      "text/plain": [
       "array([[-0.00017466,  0.01735142, -0.01717676],\n",
       "       [ 0.00403884,  0.00764556, -0.0116844 ],\n",
       "       [-0.00091031,  0.01031926, -0.00940895],\n",
       "       [ 0.00193209,  0.01249849, -0.01443058],\n",
       "       [-0.00066509,  0.01266331, -0.01199822]])"
      ]
     },
     "execution_count": 9,
     "metadata": {},
     "output_type": "execute_result"
    }
   ],
   "source": [
    "(P1 - P0).toarray() / 0.000001 # check"
   ]
  },
  {
   "cell_type": "code",
   "execution_count": 10,
   "metadata": {
    "collapsed": true
   },
   "outputs": [],
   "source": [
    "SRW_obj_0 = SRW.SRW_solver(edges, features, nnodes, P_init, rst_prob, group_labels, lam, w=w0)\n",
    "SRW_obj_1 = SRW.SRW_solver(edges, features, nnodes, P_init, rst_prob, group_labels, lam, w=w1)"
   ]
  },
  {
   "cell_type": "code",
   "execution_count": 11,
   "metadata": {
    "collapsed": true
   },
   "outputs": [],
   "source": [
    "J0, J_grad = SRW_obj_0.obj_func_and_grad(P0, P_grad, w0)\n",
    "J1, J_grad1 = SRW_obj_1.obj_func_and_grad(P1, P_grad, w1)"
   ]
  },
  {
   "cell_type": "code",
   "execution_count": 12,
   "metadata": {},
   "outputs": [
    {
     "data": {
      "text/plain": [
       "array([-0.00818094,  0.01312818,  0.00314724])"
      ]
     },
     "execution_count": 12,
     "metadata": {},
     "output_type": "execute_result"
    }
   ],
   "source": [
    "J_grad"
   ]
  },
  {
   "cell_type": "code",
   "execution_count": 13,
   "metadata": {
    "scrolled": true
   },
   "outputs": [
    {
     "data": {
      "text/plain": [
       "-0.0081796094897335081"
      ]
     },
     "execution_count": 13,
     "metadata": {},
     "output_type": "execute_result"
    }
   ],
   "source": [
    "(J1 - J0) / 0.000001  # check"
   ]
  },
  {
   "cell_type": "code",
   "execution_count": 14,
   "metadata": {
    "collapsed": true
   },
   "outputs": [],
   "source": [
    "SRW_obj_0.loss = SRW_obj_1.loss = 'silhouette'\n",
    "SRW_obj_0.norm_type = SRW_obj_1.norm_type = 'L2'\n",
    "J0, J_grad = SRW_obj_0.obj_func_and_grad(P0, P_grad, w0)\n",
    "J1, J_grad1 = SRW_obj_1.obj_func_and_grad(P1, P_grad, w1)"
   ]
  },
  {
   "cell_type": "code",
   "execution_count": 15,
   "metadata": {},
   "outputs": [
    {
     "data": {
      "text/plain": [
       "array([-0.02352117,  0.03336324,  0.00804207])"
      ]
     },
     "execution_count": 15,
     "metadata": {},
     "output_type": "execute_result"
    }
   ],
   "source": [
    "J_grad"
   ]
  },
  {
   "cell_type": "code",
   "execution_count": 16,
   "metadata": {},
   "outputs": [
    {
     "data": {
      "text/plain": [
       "-0.023519133640625967"
      ]
     },
     "execution_count": 16,
     "metadata": {},
     "output_type": "execute_result"
    }
   ],
   "source": [
    "(J1 - J0) / 0.000001  # check"
   ]
  },
  {
   "cell_type": "markdown",
   "metadata": {
    "collapsed": true
   },
   "source": [
    "# This toy example is for checking the gradient descent functions"
   ]
  },
  {
   "cell_type": "code",
   "execution_count": 50,
   "metadata": {
    "collapsed": true
   },
   "outputs": [],
   "source": [
    "edges = [[0,1],[0,2],[0,3],[0,4],[0,5],[1,2],[1,3],[1,4],[1,5],[2,3],[2,4],[2,5],[3,4],[3,5],[4,5],\n",
    "         [1,0],[2,0],[3,0],[4,0],[5,0],[2,1],[3,1],[4,1],[5,1],[3,2],[4,2],[5,2],[4,3],[5,3],[5,4],\n",
    "         [0,0],[1,1],[2,2],[3,3],[4,4],[5,5]]\n",
    "edges = np.array(edges)\n",
    "features = csc_matrix([[.9,.4,0.,1.],[.9,.6,0.,1.],[.1,.4,0.,1.],[.1,.5,0.,1.],[.1,.6,0.,1.],[.9,.5,0.,1.],[.1,.4,0.,1.],[.1,.5,0.,1.],[.1,.6,0.,1.],[.1,.4,0.,1.],[.1,.5,0.,1.],[.1,.6,0.,1.],[.9,.4,0.,1.],[.9,.6,0.,1.],[.9,.5,0.,1.],\n",
    "                       [.9,.4,0.,1.],[.9,.6,0.,1.],[.1,.4,0.,1.],[.1,.5,0.,1.],[.1,.6,0.,1.],[.9,.5,0.,1.],[.1,.4,0.,1.],[.1,.5,0.,1.],[.1,.6,0.,1.],[.1,.4,0.,1.],[.1,.5,0.,1.],[.1,.6,0.,1.],[.9,.4,0.,1.],[.9,.6,0.,1.],[.9,.5,0.,1.],\n",
    "                       [.0,.0,1.,1.],[.0,.0,1.,1.],[.0,.0,1.,1.],[.0,.0,1.,1.],[.0,.0,1.,1.],[.0,.0,1.,1.]])\n",
    "rst_prob = 0.3\n",
    "P_init = mutation_profile = csr_matrix([[1,0,0,0,0,0],[0,1,0,0,0,0],[0,0,1,0,0,0],\n",
    "                                        [0,0,0,1,0,0],[0,0,0,0,1,0],[0,0,0,0,0,1]]).astype(float)\n",
    "nnodes = 6\n",
    "group_labels = [0, 0, 0, 1, 1, 1]\n",
    "lam = 0.2\n",
    "feature_names = ['f1', 'f2', 'selfloop', 'intercept']\n",
    "node_names = ['n1', 'n2', 'n3', 'n4', 'n5', 'n6']\n",
    "sample_names = ['p1', 'p2', 'p3', 'p4', 'p5', 'p6']"
   ]
  },
  {
   "cell_type": "code",
   "execution_count": 51,
   "metadata": {},
   "outputs": [],
   "source": [
    "SRW_obj_2 = SRW.SRW_solver(edges, features, nnodes, P_init, rst_prob, group_labels, lam, w_init_sd=0.01, \n",
    "                           w=None, feature_names=feature_names, sample_names=sample_names, \n",
    "                           node_names=node_names, loss='silhouette', norm_type='L1', maximize_diff=True, \n",
    "                           learning_rate=0.1, update_w_func='Adam', P_init_val=P_init, \n",
    "                           group_labels_val=group_labels, eval_sil=True, ncpus=-1, maxit=1000, early_stop=5)"
   ]
  },
  {
   "cell_type": "code",
   "execution_count": 52,
   "metadata": {
    "scrolled": true
   },
   "outputs": [
    {
     "name": "stdout",
     "output_type": "stream",
     "text": [
      "finished calculating strength_grad: 12:55:00\n",
      "finished network propagation: 12:55:00\n",
      "finished calculating P_grad using pool: 12:55:00\n",
      "finished calculating J and J_grad: 12:55:00\n",
      "*** 0 iteration: J is -2.99818952991 cost_val is -2.99977736685\n",
      "*** accuracy is 1.0 accuracy_val is 1.0\n",
      "*** silhouette is 0.499962894475 silhouette_val is 0.499962894475 \n",
      "\n",
      "finished calculating strength_grad: 12:55:00\n",
      "finished network propagation: 12:55:00\n",
      "finished calculating P_grad using pool: 12:55:01\n",
      "finished calculating J and J_grad: 12:55:01\n",
      "*** 1 iteration: J is -2.96148152712 cost_val is -3.03989368685\n",
      "*** accuracy is 1.0 accuracy_val is 1.0\n",
      "*** silhouette is 0.506648947809 silhouette_val is 0.506648947809 \n",
      "\n",
      "finished calculating strength_grad: 12:55:01\n",
      "finished network propagation: 12:55:01\n",
      "finished calculating P_grad using pool: 12:55:01\n",
      "finished calculating J and J_grad: 12:55:01\n",
      "*** 2 iteration: J is -2.98167955441 cost_val is -3.07364325287\n",
      "*** accuracy is 1.0 accuracy_val is 1.0\n",
      "*** silhouette is 0.512273875478 silhouette_val is 0.512273875478 \n",
      "\n",
      "finished calculating strength_grad: 12:55:01\n",
      "finished network propagation: 12:55:01\n",
      "finished calculating P_grad using pool: 12:55:01\n",
      "finished calculating J and J_grad: 12:55:01\n",
      "*** 3 iteration: J is -3.02250161851 cost_val is -3.10604704257\n",
      "*** accuracy is 1.0 accuracy_val is 1.0\n",
      "*** silhouette is 0.517674507095 silhouette_val is 0.517674507095 \n",
      "\n",
      "finished calculating strength_grad: 12:55:01\n",
      "finished network propagation: 12:55:01\n",
      "finished calculating P_grad using pool: 12:55:01\n",
      "finished calculating J and J_grad: 12:55:01\n",
      "*** 4 iteration: J is -3.06191053976 cost_val is -3.13845889823\n",
      "*** accuracy is 1.0 accuracy_val is 1.0\n",
      "*** silhouette is 0.523076483038 silhouette_val is 0.523076483038 \n",
      "\n",
      "finished calculating strength_grad: 12:55:01\n",
      "finished network propagation: 12:55:01\n",
      "finished calculating P_grad using pool: 12:55:01\n",
      "finished calculating J and J_grad: 12:55:01\n",
      "*** 5 iteration: J is -3.05367872526 cost_val is -3.16782966237\n",
      "*** accuracy is 1.0 accuracy_val is 1.0\n",
      "*** silhouette is 0.527971610396 silhouette_val is 0.527971610396 \n",
      "\n",
      "finished calculating strength_grad: 12:55:01\n",
      "finished network propagation: 12:55:01\n",
      "finished calculating P_grad using pool: 12:55:01\n",
      "finished calculating J and J_grad: 12:55:01\n",
      "*** 6 iteration: J is -3.05971560048 cost_val is -3.19636446292\n",
      "*** accuracy is 1.0 accuracy_val is 1.0\n",
      "*** silhouette is 0.532727410486 silhouette_val is 0.532727410486 \n",
      "\n",
      "finished calculating strength_grad: 12:55:01\n",
      "finished network propagation: 12:55:01\n",
      "finished calculating P_grad using pool: 12:55:02\n",
      "finished calculating J and J_grad: 12:55:02\n",
      "*** 7 iteration: J is -3.07670804087 cost_val is -3.22401397145\n",
      "*** accuracy is 1.0 accuracy_val is 1.0\n",
      "*** silhouette is 0.537335661908 silhouette_val is 0.537335661908 \n",
      "\n",
      "finished calculating strength_grad: 12:55:02\n",
      "finished network propagation: 12:55:02\n",
      "finished calculating P_grad using pool: 12:55:02\n",
      "finished calculating J and J_grad: 12:55:02\n",
      "*** 8 iteration: J is -3.08769582371 cost_val is -3.2508086684\n",
      "*** accuracy is 1.0 accuracy_val is 1.0\n",
      "*** silhouette is 0.541801444733 silhouette_val is 0.541801444733 \n",
      "\n",
      "finished calculating strength_grad: 12:55:02\n",
      "finished network propagation: 12:55:02\n",
      "finished calculating P_grad using pool: 12:55:02\n",
      "finished calculating J and J_grad: 12:55:02\n",
      "*** 9 iteration: J is -3.1049039844 cost_val is -3.2770609601\n",
      "*** accuracy is 1.0 accuracy_val is 1.0\n",
      "*** silhouette is 0.546176826683 silhouette_val is 0.546176826683 \n",
      "\n",
      "finished calculating strength_grad: 12:55:02\n",
      "finished network propagation: 12:55:02\n",
      "finished calculating P_grad using pool: 12:55:02\n",
      "finished calculating J and J_grad: 12:55:02\n",
      "*** 10 iteration: J is -3.11075077485 cost_val is -3.30077653249\n",
      "*** accuracy is 1.0 accuracy_val is 1.0\n",
      "*** silhouette is 0.550129422081 silhouette_val is 0.550129422081 \n",
      "\n",
      "finished calculating strength_grad: 12:55:02\n",
      "finished network propagation: 12:55:02\n",
      "finished calculating P_grad using pool: 12:55:02\n",
      "finished calculating J and J_grad: 12:55:02\n",
      "*** 11 iteration: J is -3.11987983454 cost_val is -3.322052727\n",
      "*** accuracy is 1.0 accuracy_val is 1.0\n",
      "*** silhouette is 0.553675454499 silhouette_val is 0.553675454499 \n",
      "\n",
      "finished calculating strength_grad: 12:55:02\n",
      "finished network propagation: 12:55:02\n",
      "finished calculating P_grad using pool: 12:55:02\n",
      "finished calculating J and J_grad: 12:55:02\n",
      "*** 12 iteration: J is -3.12859160568 cost_val is -3.34108756281\n",
      "*** accuracy is 1.0 accuracy_val is 1.0\n",
      "*** silhouette is 0.556847927135 silhouette_val is 0.556847927135 \n",
      "\n",
      "finished calculating strength_grad: 12:55:02\n",
      "finished network propagation: 12:55:02\n",
      "finished calculating P_grad using pool: 12:55:02\n",
      "finished calculating J and J_grad: 12:55:02\n",
      "*** 13 iteration: J is -3.13061727028 cost_val is -3.35795493376\n",
      "*** accuracy is 1.0 accuracy_val is 1.0\n",
      "*** silhouette is 0.559659155627 silhouette_val is 0.559659155627 \n",
      "\n",
      "finished calculating strength_grad: 12:55:02\n",
      "finished network propagation: 12:55:02\n",
      "finished calculating P_grad using pool: 12:55:03\n",
      "finished calculating J and J_grad: 12:55:03\n",
      "*** 14 iteration: J is -3.13490682498 cost_val is -3.37301742166\n",
      "*** accuracy is 1.0 accuracy_val is 1.0\n",
      "*** silhouette is 0.562169570276 silhouette_val is 0.562169570276 \n",
      "\n",
      "finished calculating strength_grad: 12:55:03\n",
      "finished network propagation: 12:55:03\n",
      "finished calculating P_grad using pool: 12:55:03\n",
      "finished calculating J and J_grad: 12:55:03\n",
      "*** 15 iteration: J is -3.14109361311 cost_val is -3.38667819916\n",
      "*** accuracy is 1.0 accuracy_val is 1.0\n",
      "*** silhouette is 0.564446366526 silhouette_val is 0.564446366526 \n",
      "\n",
      "finished calculating strength_grad: 12:55:03\n",
      "finished network propagation: 12:55:03\n",
      "finished calculating P_grad using pool: 12:55:03\n",
      "finished calculating J and J_grad: 12:55:03\n",
      "*** 16 iteration: J is -3.14285856963 cost_val is -3.39935580462\n",
      "*** accuracy is 1.0 accuracy_val is 1.0\n",
      "*** silhouette is 0.56655930077 silhouette_val is 0.56655930077 \n",
      "\n",
      "finished calculating strength_grad: 12:55:03\n",
      "finished network propagation: 12:55:03\n",
      "finished calculating P_grad using pool: 12:55:03\n",
      "finished calculating J and J_grad: 12:55:03\n",
      "*** 17 iteration: J is -3.14471444694 cost_val is -3.41167752805\n",
      "*** accuracy is 1.0 accuracy_val is 1.0\n",
      "*** silhouette is 0.568612921341 silhouette_val is 0.568612921341 \n",
      "\n",
      "finished calculating strength_grad: 12:55:03\n",
      "finished network propagation: 12:55:03\n",
      "finished calculating P_grad using pool: 12:55:03\n",
      "finished calculating J and J_grad: 12:55:03\n",
      "*** 18 iteration: J is -3.14282904582 cost_val is -3.42402901382\n",
      "*** accuracy is 1.0 accuracy_val is 1.0\n",
      "*** silhouette is 0.570671502304 silhouette_val is 0.570671502304 \n",
      "\n",
      "finished calculating strength_grad: 12:55:03\n",
      "finished network propagation: 12:55:03\n",
      "finished calculating P_grad using pool: 12:55:03\n",
      "finished calculating J and J_grad: 12:55:03\n",
      "*** 19 iteration: J is -3.14976716635 cost_val is -3.44067323835\n",
      "*** accuracy is 1.0 accuracy_val is 1.0\n",
      "*** silhouette is 0.573445539725 silhouette_val is 0.573445539725 \n",
      "\n",
      "finished calculating strength_grad: 12:55:03\n",
      "finished network propagation: 12:55:03\n",
      "finished calculating P_grad using pool: 12:55:04\n",
      "finished calculating J and J_grad: 12:55:04\n",
      "*** 20 iteration: J is -3.15618183448 cost_val is -3.46130802191\n",
      "*** accuracy is 1.0 accuracy_val is 1.0\n",
      "*** silhouette is 0.576884670318 silhouette_val is 0.576884670318 \n",
      "\n",
      "finished calculating strength_grad: 12:55:04\n",
      "finished network propagation: 12:55:04\n",
      "finished calculating P_grad using pool: 12:55:04\n",
      "finished calculating J and J_grad: 12:55:04\n",
      "*** 21 iteration: J is -3.15973647779 cost_val is -3.48285038528\n",
      "*** accuracy is 1.0 accuracy_val is 1.0\n",
      "*** silhouette is 0.580475064214 silhouette_val is 0.580475064214 \n",
      "\n",
      "finished calculating strength_grad: 12:55:04\n",
      "finished network propagation: 12:55:04\n",
      "finished calculating P_grad using pool: 12:55:04\n",
      "finished calculating J and J_grad: 12:55:04\n",
      "*** 22 iteration: J is -3.16440102009 cost_val is -3.50591154073\n",
      "*** accuracy is 1.0 accuracy_val is 1.0\n",
      "*** silhouette is 0.584318590122 silhouette_val is 0.584318590122 \n",
      "\n",
      "finished calculating strength_grad: 12:55:04\n",
      "finished network propagation: 12:55:04\n",
      "finished calculating P_grad using pool: 12:55:04\n",
      "finished calculating J and J_grad: 12:55:04\n",
      "*** 23 iteration: J is -3.17093019999 cost_val is -3.530596875\n",
      "*** accuracy is 1.0 accuracy_val is 1.0\n",
      "*** silhouette is 0.5884328125 silhouette_val is 0.5884328125 \n",
      "\n",
      "finished calculating strength_grad: 12:55:04\n",
      "finished network propagation: 12:55:04\n"
     ]
    },
    {
     "name": "stdout",
     "output_type": "stream",
     "text": [
      "finished calculating P_grad using pool: 12:55:04\n",
      "finished calculating J and J_grad: 12:55:04\n",
      "*** 24 iteration: J is -3.17867768179 cost_val is -3.55748468991\n",
      "*** accuracy is 1.0 accuracy_val is 1.0\n",
      "*** silhouette is 0.592914114985 silhouette_val is 0.592914114985 \n",
      "\n",
      "finished calculating strength_grad: 12:55:04\n",
      "finished network propagation: 12:55:04\n",
      "finished calculating P_grad using pool: 12:55:04\n",
      "finished calculating J and J_grad: 12:55:04\n",
      "*** 25 iteration: J is -3.18942663324 cost_val is -3.5865904038\n",
      "*** accuracy is 1.0 accuracy_val is 1.0\n",
      "*** silhouette is 0.5977650673 silhouette_val is 0.5977650673 \n",
      "\n",
      "finished calculating strength_grad: 12:55:04\n",
      "finished network propagation: 12:55:04\n",
      "finished calculating P_grad using pool: 12:55:04\n",
      "finished calculating J and J_grad: 12:55:04\n",
      "*** 26 iteration: J is -3.19859991777 cost_val is -3.61817071718\n",
      "*** accuracy is 1.0 accuracy_val is 1.0\n",
      "*** silhouette is 0.603028452863 silhouette_val is 0.603028452863 \n",
      "\n",
      "finished calculating strength_grad: 12:55:04\n",
      "finished network propagation: 12:55:04\n",
      "finished calculating P_grad using pool: 12:55:05\n",
      "finished calculating J and J_grad: 12:55:05\n",
      "*** 27 iteration: J is -3.21236202935 cost_val is -3.65278218834\n",
      "*** accuracy is 1.0 accuracy_val is 1.0\n",
      "*** silhouette is 0.60879703139 silhouette_val is 0.60879703139 \n",
      "\n",
      "finished calculating strength_grad: 12:55:05\n",
      "finished network propagation: 12:55:05\n",
      "finished calculating P_grad using pool: 12:55:05\n",
      "finished calculating J and J_grad: 12:55:05\n",
      "*** 28 iteration: J is -3.23069480924 cost_val is -3.69066478584\n",
      "*** accuracy is 1.0 accuracy_val is 1.0\n",
      "*** silhouette is 0.615110797641 silhouette_val is 0.615110797641 \n",
      "\n",
      "finished calculating strength_grad: 12:55:05\n",
      "finished network propagation: 12:55:05\n",
      "finished calculating P_grad using pool: 12:55:05\n",
      "finished calculating J and J_grad: 12:55:05\n",
      "*** 29 iteration: J is -3.24645796426 cost_val is -3.73203360977\n",
      "*** accuracy is 1.0 accuracy_val is 1.0\n",
      "*** silhouette is 0.622005601628 silhouette_val is 0.622005601628 \n",
      "\n",
      "finished calculating strength_grad: 12:55:05\n",
      "finished network propagation: 12:55:05\n",
      "finished calculating P_grad using pool: 12:55:05\n",
      "finished calculating J and J_grad: 12:55:05\n",
      "*** 30 iteration: J is -3.26525860717 cost_val is -3.77672313311\n",
      "*** accuracy is 1.0 accuracy_val is 1.0\n",
      "*** silhouette is 0.629453855518 silhouette_val is 0.629453855518 \n",
      "\n",
      "finished calculating strength_grad: 12:55:05\n",
      "finished network propagation: 12:55:05\n",
      "finished calculating P_grad using pool: 12:55:05\n",
      "finished calculating J and J_grad: 12:55:05\n",
      "*** 31 iteration: J is -3.28822171474 cost_val is -3.82486667965\n",
      "*** accuracy is 1.0 accuracy_val is 1.0\n",
      "*** silhouette is 0.637477779941 silhouette_val is 0.637477779941 \n",
      "\n",
      "finished calculating strength_grad: 12:55:05\n",
      "finished network propagation: 12:55:05\n",
      "finished calculating P_grad using pool: 12:55:05\n",
      "finished calculating J and J_grad: 12:55:05\n",
      "*** 32 iteration: J is -3.31512549518 cost_val is -3.87655536772\n",
      "*** accuracy is 1.0 accuracy_val is 1.0\n",
      "*** silhouette is 0.646092561287 silhouette_val is 0.646092561287 \n",
      "\n",
      "finished calculating strength_grad: 12:55:05\n",
      "finished network propagation: 12:55:05\n",
      "finished calculating P_grad using pool: 12:55:05\n",
      "finished calculating J and J_grad: 12:55:05\n",
      "*** 33 iteration: J is -3.34416635445 cost_val is -3.9318182449\n",
      "*** accuracy is 1.0 accuracy_val is 1.0\n",
      "*** silhouette is 0.655303040817 silhouette_val is 0.655303040817 \n",
      "\n",
      "finished calculating strength_grad: 12:55:05\n",
      "finished network propagation: 12:55:05\n",
      "finished calculating P_grad using pool: 12:55:06\n",
      "finished calculating J and J_grad: 12:55:06\n",
      "*** 34 iteration: J is -3.37241891073 cost_val is -3.9910811179\n",
      "*** accuracy is 1.0 accuracy_val is 1.0\n",
      "*** silhouette is 0.665180186316 silhouette_val is 0.665180186316 \n",
      "\n",
      "finished calculating strength_grad: 12:55:06\n",
      "finished network propagation: 12:55:06\n",
      "finished calculating P_grad using pool: 12:55:06\n",
      "finished calculating J and J_grad: 12:55:06\n",
      "*** 35 iteration: J is -3.40542356721 cost_val is -4.05424344099\n",
      "*** accuracy is 1.0 accuracy_val is 1.0\n",
      "*** silhouette is 0.675707240165 silhouette_val is 0.675707240165 \n",
      "\n",
      "finished calculating strength_grad: 12:55:06\n",
      "finished network propagation: 12:55:06\n",
      "finished calculating P_grad using pool: 12:55:06\n",
      "finished calculating J and J_grad: 12:55:06\n",
      "*** 36 iteration: J is -3.43673571629 cost_val is -4.12105330379\n",
      "*** accuracy is 1.0 accuracy_val is 1.0\n",
      "*** silhouette is 0.686842217298 silhouette_val is 0.686842217298 \n",
      "\n",
      "finished calculating strength_grad: 12:55:06\n",
      "finished network propagation: 12:55:06\n",
      "finished calculating P_grad using pool: 12:55:06\n",
      "finished calculating J and J_grad: 12:55:06\n",
      "*** 37 iteration: J is -3.47046624781 cost_val is -4.19059120018\n",
      "*** accuracy is 1.0 accuracy_val is 1.0\n",
      "*** silhouette is 0.698431866696 silhouette_val is 0.698431866696 \n",
      "\n",
      "finished calculating strength_grad: 12:55:06\n",
      "finished network propagation: 12:55:06\n",
      "finished calculating P_grad using pool: 12:55:06\n",
      "finished calculating J and J_grad: 12:55:06\n",
      "*** 38 iteration: J is -3.50702294833 cost_val is -4.26235495508\n",
      "*** accuracy is 1.0 accuracy_val is 1.0\n",
      "*** silhouette is 0.710392492514 silhouette_val is 0.710392492514 \n",
      "\n",
      "finished calculating strength_grad: 12:55:06\n",
      "finished network propagation: 12:55:06\n",
      "finished calculating P_grad using pool: 12:55:06\n",
      "finished calculating J and J_grad: 12:55:06\n",
      "*** 39 iteration: J is -3.54572668258 cost_val is -4.33569061582\n",
      "*** accuracy is 1.0 accuracy_val is 1.0\n",
      "*** silhouette is 0.722615102637 silhouette_val is 0.722615102637 \n",
      "\n",
      "finished calculating strength_grad: 12:55:06\n",
      "finished network propagation: 12:55:06\n",
      "finished calculating P_grad using pool: 12:55:07\n",
      "finished calculating J and J_grad: 12:55:07\n",
      "*** 40 iteration: J is -3.58122804795 cost_val is -4.40983086039\n",
      "*** accuracy is 1.0 accuracy_val is 1.0\n",
      "*** silhouette is 0.734971810064 silhouette_val is 0.734971810064 \n",
      "\n",
      "finished calculating strength_grad: 12:55:07\n",
      "finished network propagation: 12:55:07\n",
      "finished calculating P_grad using pool: 12:55:07\n",
      "finished calculating J and J_grad: 12:55:07\n",
      "*** 41 iteration: J is -3.61631475776 cost_val is -4.48454277279\n",
      "*** accuracy is 1.0 accuracy_val is 1.0\n",
      "*** silhouette is 0.747423795465 silhouette_val is 0.747423795465 \n",
      "\n",
      "finished calculating strength_grad: 12:55:07\n",
      "finished network propagation: 12:55:07\n",
      "finished calculating P_grad using pool: 12:55:07\n",
      "finished calculating J and J_grad: 12:55:07\n",
      "*** 42 iteration: J is -3.65305776587 cost_val is -4.5588921202\n",
      "*** accuracy is 1.0 accuracy_val is 1.0\n",
      "*** silhouette is 0.759815353366 silhouette_val is 0.759815353366 \n",
      "\n",
      "finished calculating strength_grad: 12:55:07\n",
      "finished network propagation: 12:55:07\n",
      "finished calculating P_grad using pool: 12:55:07\n",
      "finished calculating J and J_grad: 12:55:07\n",
      "*** 43 iteration: J is -3.68778870104 cost_val is -4.63196506195\n",
      "*** accuracy is 1.0 accuracy_val is 1.0\n",
      "*** silhouette is 0.771994176991 silhouette_val is 0.771994176991 \n",
      "\n",
      "finished calculating strength_grad: 12:55:07\n",
      "finished network propagation: 12:55:07\n",
      "finished calculating P_grad using pool: 12:55:07\n",
      "finished calculating J and J_grad: 12:55:07\n",
      "*** 44 iteration: J is -3.71795978193 cost_val is -4.70233814836\n",
      "*** accuracy is 1.0 accuracy_val is 1.0\n",
      "*** silhouette is 0.783723024727 silhouette_val is 0.783723024727 \n",
      "\n",
      "finished calculating strength_grad: 12:55:07\n",
      "finished network propagation: 12:55:07\n",
      "finished calculating P_grad using pool: 12:55:07\n",
      "finished calculating J and J_grad: 12:55:07\n",
      "*** 45 iteration: J is -3.74685634644 cost_val is -4.76933890796\n",
      "*** accuracy is 1.0 accuracy_val is 1.0\n",
      "*** silhouette is 0.794889817994 silhouette_val is 0.794889817994 \n",
      "\n",
      "finished calculating strength_grad: 12:55:07\n",
      "finished network propagation: 12:55:07\n",
      "finished calculating P_grad using pool: 12:55:07\n",
      "finished calculating J and J_grad: 12:55:07\n",
      "*** 46 iteration: J is -3.77360510604 cost_val is -4.83687735765\n",
      "*** accuracy is 1.0 accuracy_val is 1.0\n",
      "*** silhouette is 0.806146226275 silhouette_val is 0.806146226275 \n",
      "\n",
      "finished calculating strength_grad: 12:55:07\n",
      "finished network propagation: 12:55:07\n",
      "finished calculating P_grad using pool: 12:55:08\n",
      "finished calculating J and J_grad: 12:55:08\n",
      "*** 47 iteration: J is -3.79057952935 cost_val is -4.89917403366\n",
      "*** accuracy is 1.0 accuracy_val is 1.0\n",
      "*** silhouette is 0.81652900561 silhouette_val is 0.81652900561 \n",
      "\n",
      "finished calculating strength_grad: 12:55:08\n",
      "finished network propagation: 12:55:08\n"
     ]
    },
    {
     "name": "stdout",
     "output_type": "stream",
     "text": [
      "finished calculating P_grad using pool: 12:55:08\n",
      "finished calculating J and J_grad: 12:55:08\n",
      "*** 48 iteration: J is -3.8072497903 cost_val is -4.95651587977\n",
      "*** accuracy is 1.0 accuracy_val is 1.0\n",
      "*** silhouette is 0.826085979961 silhouette_val is 0.826085979961 \n",
      "\n",
      "finished calculating strength_grad: 12:55:08\n",
      "finished network propagation: 12:55:08\n",
      "finished calculating P_grad using pool: 12:55:08\n",
      "finished calculating J and J_grad: 12:55:08\n",
      "*** 49 iteration: J is -3.82356990821 cost_val is -5.00878446834\n",
      "*** accuracy is 1.0 accuracy_val is 1.0\n",
      "*** silhouette is 0.834797411389 silhouette_val is 0.834797411389 \n",
      "\n",
      "finished calculating strength_grad: 12:55:08\n",
      "finished network propagation: 12:55:08\n",
      "finished calculating P_grad using pool: 12:55:08\n",
      "finished calculating J and J_grad: 12:55:08\n",
      "*** 50 iteration: J is -3.83950781301 cost_val is -5.05596134079\n",
      "*** accuracy is 1.0 accuracy_val is 1.0\n",
      "*** silhouette is 0.842660223464 silhouette_val is 0.842660223464 \n",
      "\n",
      "finished calculating strength_grad: 12:55:08\n",
      "finished network propagation: 12:55:08\n",
      "finished calculating P_grad using pool: 12:55:08\n",
      "finished calculating J and J_grad: 12:55:08\n",
      "*** 51 iteration: J is -3.84533376631 cost_val is -5.09815493787\n",
      "*** accuracy is 1.0 accuracy_val is 1.0\n",
      "*** silhouette is 0.849692489645 silhouette_val is 0.849692489645 \n",
      "\n",
      "finished calculating strength_grad: 12:55:08\n",
      "finished network propagation: 12:55:08\n",
      "finished calculating P_grad using pool: 12:55:08\n",
      "finished calculating J and J_grad: 12:55:08\n",
      "*** 52 iteration: J is -3.85070005557 cost_val is -5.13518872659\n",
      "*** accuracy is 1.0 accuracy_val is 1.0\n",
      "*** silhouette is 0.855864787765 silhouette_val is 0.855864787765 \n",
      "\n",
      "finished calculating strength_grad: 12:55:08\n",
      "finished network propagation: 12:55:08\n",
      "finished calculating P_grad using pool: 12:55:08\n",
      "finished calculating J and J_grad: 12:55:08\n",
      "*** 53 iteration: J is -3.85168083858 cost_val is -5.16741276098\n",
      "*** accuracy is 1.0 accuracy_val is 1.0\n",
      "*** silhouette is 0.861235460164 silhouette_val is 0.861235460164 \n",
      "\n",
      "finished calculating strength_grad: 12:55:08\n",
      "finished network propagation: 12:55:08\n",
      "finished calculating P_grad using pool: 12:55:09\n",
      "finished calculating J and J_grad: 12:55:09\n",
      "*** 54 iteration: J is -3.85630290758 cost_val is -5.19815300273\n",
      "*** accuracy is 1.0 accuracy_val is 1.0\n",
      "*** silhouette is 0.866358833788 silhouette_val is 0.866358833788 \n",
      "\n",
      "finished calculating strength_grad: 12:55:09\n",
      "finished network propagation: 12:55:09\n",
      "finished calculating P_grad using pool: 12:55:09\n",
      "finished calculating J and J_grad: 12:55:09\n",
      "*** 55 iteration: J is -3.86088028047 cost_val is -5.22690485611\n",
      "*** accuracy is 1.0 accuracy_val is 1.0\n",
      "*** silhouette is 0.871150809352 silhouette_val is 0.871150809352 \n",
      "\n",
      "finished calculating strength_grad: 12:55:09\n",
      "finished network propagation: 12:55:09\n",
      "finished calculating P_grad using pool: 12:55:09\n",
      "finished calculating J and J_grad: 12:55:09\n",
      "*** 56 iteration: J is -3.86325921807 cost_val is -5.25104525188\n",
      "*** accuracy is 1.0 accuracy_val is 1.0\n",
      "*** silhouette is 0.875174208646 silhouette_val is 0.875174208646 \n",
      "\n",
      "finished calculating strength_grad: 12:55:09\n",
      "finished network propagation: 12:55:09\n",
      "finished calculating P_grad using pool: 12:55:09\n",
      "finished calculating J and J_grad: 12:55:09\n",
      "*** 57 iteration: J is -3.85546984532 cost_val is -5.27107284202\n",
      "*** accuracy is 1.0 accuracy_val is 1.0\n",
      "*** silhouette is 0.878512140337 silhouette_val is 0.878512140337 \n",
      "\n",
      "finished calculating strength_grad: 12:55:09\n",
      "finished network propagation: 12:55:09\n",
      "finished calculating P_grad using pool: 12:55:09\n",
      "finished calculating J and J_grad: 12:55:09\n",
      "*** 58 iteration: J is -3.85111240818 cost_val is -5.28773447532\n",
      "*** accuracy is 1.0 accuracy_val is 1.0\n",
      "*** silhouette is 0.88128907922 silhouette_val is 0.88128907922 \n",
      "\n",
      "finished calculating strength_grad: 12:55:09\n",
      "finished network propagation: 12:55:09\n",
      "finished calculating P_grad using pool: 12:55:09\n",
      "finished calculating J and J_grad: 12:55:09\n",
      "*** 59 iteration: J is -3.85015290064 cost_val is -5.30136604171\n",
      "*** accuracy is 1.0 accuracy_val is 1.0\n",
      "*** silhouette is 0.883561006952 silhouette_val is 0.883561006952 \n",
      "\n",
      "finished calculating strength_grad: 12:55:09\n",
      "finished network propagation: 12:55:09\n",
      "finished calculating P_grad using pool: 12:55:09\n",
      "finished calculating J and J_grad: 12:55:09\n",
      "*** 60 iteration: J is -3.85053009103 cost_val is -5.31226521747\n",
      "*** accuracy is 1.0 accuracy_val is 1.0\n",
      "*** silhouette is 0.885377536245 silhouette_val is 0.885377536245 \n",
      "\n",
      "finished calculating strength_grad: 12:55:09\n",
      "finished network propagation: 12:55:09\n",
      "finished calculating P_grad using pool: 12:55:10\n",
      "finished calculating J and J_grad: 12:55:10\n",
      "*** 61 iteration: J is -3.85283559273 cost_val is -5.32282501796\n",
      "*** accuracy is 1.0 accuracy_val is 1.0\n",
      "*** silhouette is 0.887137502993 silhouette_val is 0.887137502993 \n",
      "\n",
      "finished calculating strength_grad: 12:55:10\n",
      "finished network propagation: 12:55:10\n",
      "finished calculating P_grad using pool: 12:55:10\n",
      "finished calculating J and J_grad: 12:55:10\n",
      "*** 62 iteration: J is -3.8538954834 cost_val is -5.3328717271\n",
      "*** accuracy is 1.0 accuracy_val is 1.0\n",
      "*** silhouette is 0.888811954517 silhouette_val is 0.888811954517 \n",
      "\n",
      "finished calculating strength_grad: 12:55:10\n",
      "finished network propagation: 12:55:10\n",
      "finished calculating P_grad using pool: 12:55:10\n",
      "finished calculating J and J_grad: 12:55:10\n",
      "*** 63 iteration: J is -3.84844587024 cost_val is -5.34013958172\n",
      "*** accuracy is 1.0 accuracy_val is 1.0\n",
      "*** silhouette is 0.89002326362 silhouette_val is 0.89002326362 \n",
      "\n",
      "finished calculating strength_grad: 12:55:10\n",
      "finished network propagation: 12:55:10\n",
      "finished calculating P_grad using pool: 12:55:10\n",
      "finished calculating J and J_grad: 12:55:10\n",
      "*** 64 iteration: J is -3.84660006913 cost_val is -5.34492883861\n",
      "*** accuracy is 1.0 accuracy_val is 1.0\n",
      "*** silhouette is 0.890821473102 silhouette_val is 0.890821473102 \n",
      "\n",
      "finished calculating strength_grad: 12:55:10\n",
      "finished network propagation: 12:55:10\n",
      "finished calculating P_grad using pool: 12:55:10\n",
      "finished calculating J and J_grad: 12:55:10\n",
      "*** 65 iteration: J is -3.84809816685 cost_val is -5.34748729054\n",
      "*** accuracy is 1.0 accuracy_val is 1.0\n",
      "*** silhouette is 0.891247881756 silhouette_val is 0.891247881756 \n",
      "\n",
      "finished calculating strength_grad: 12:55:10\n",
      "finished network propagation: 12:55:10\n",
      "finished calculating P_grad using pool: 12:55:10\n",
      "finished calculating J and J_grad: 12:55:10\n",
      "*** 66 iteration: J is -3.85202182831 cost_val is -5.34802105014\n",
      "*** accuracy is 1.0 accuracy_val is 1.0\n",
      "*** silhouette is 0.89133684169 silhouette_val is 0.89133684169 \n",
      "\n",
      "finished calculating strength_grad: 12:55:10\n",
      "finished network propagation: 12:55:10\n",
      "finished calculating P_grad using pool: 12:55:11\n",
      "finished calculating J and J_grad: 12:55:11\n",
      "*** 67 iteration: J is -3.84793785847 cost_val is -5.3486577089\n",
      "*** accuracy is 1.0 accuracy_val is 1.0\n",
      "*** silhouette is 0.891442951484 silhouette_val is 0.891442951484 \n",
      "\n",
      "finished calculating strength_grad: 12:55:11\n",
      "finished network propagation: 12:55:11\n",
      "finished calculating P_grad using pool: 12:55:11\n",
      "finished calculating J and J_grad: 12:55:11\n",
      "*** 68 iteration: J is -3.84481167981 cost_val is -5.34768777834\n",
      "*** accuracy is 1.0 accuracy_val is 1.0\n",
      "*** silhouette is 0.891281296389 silhouette_val is 0.891281296389 \n",
      "\n",
      "finished calculating strength_grad: 12:55:11\n",
      "finished network propagation: 12:55:11\n",
      "finished calculating P_grad using pool: 12:55:11\n",
      "finished calculating J and J_grad: 12:55:11\n",
      "*** 69 iteration: J is -3.84592612413 cost_val is -5.34716853824\n",
      "*** accuracy is 1.0 accuracy_val is 1.0\n",
      "*** silhouette is 0.891194756373 silhouette_val is 0.891194756373 \n",
      "\n",
      "finished calculating strength_grad: 12:55:11\n",
      "finished network propagation: 12:55:11\n",
      "finished calculating P_grad using pool: 12:55:11\n",
      "finished calculating J and J_grad: 12:55:11\n",
      "*** 70 iteration: J is -3.84882955835 cost_val is -5.34515253733\n",
      "*** accuracy is 1.0 accuracy_val is 1.0\n",
      "*** silhouette is 0.890858756221 silhouette_val is 0.890858756221 \n",
      "\n"
     ]
    }
   ],
   "source": [
    "SRW_obj_2.train_SRW_GD()"
   ]
  },
  {
   "cell_type": "code",
   "execution_count": 53,
   "metadata": {
    "collapsed": true
   },
   "outputs": [],
   "source": [
    "SRW_obj_2.generate_Q_and_P_fin()"
   ]
  },
  {
   "cell_type": "code",
   "execution_count": 54,
   "metadata": {},
   "outputs": [
    {
     "data": {
      "text/plain": [
       "array([  3.79503603e+00,  -1.30820375e-03,   2.11304898e-02,\n",
       "        -3.68612453e+00])"
      ]
     },
     "execution_count": 54,
     "metadata": {},
     "output_type": "execute_result"
    }
   ],
   "source": [
    "SRW_obj_2.w"
   ]
  },
  {
   "cell_type": "code",
   "execution_count": 38,
   "metadata": {
    "scrolled": true
   },
   "outputs": [
    {
     "name": "stdout",
     "output_type": "stream",
     "text": [
      "finished calculating strength_grad: 23:20:00\n",
      "finished network propagation: 23:20:00\n",
      "finished calculating P_grad using pool: 23:20:00\n",
      "finished calculating J and J_grad: 23:20:00\n",
      "finished calculating strength_grad: 23:20:00\n",
      "finished network propagation: 23:20:00\n",
      "finished calculating P_grad using pool: 23:20:00\n",
      "finished calculating J and J_grad: 23:20:00\n",
      "finished calculating strength_grad: 23:20:00\n",
      "finished network propagation: 23:20:00\n",
      "finished calculating P_grad using pool: 23:20:01\n",
      "finished calculating J and J_grad: 23:20:01\n",
      "finished calculating strength_grad: 23:20:01\n",
      "finished network propagation: 23:20:01\n",
      "finished calculating P_grad using pool: 23:20:01\n",
      "finished calculating J and J_grad: 23:20:01\n",
      "finished calculating strength_grad: 23:20:01\n",
      "finished network propagation: 23:20:01\n",
      "finished calculating P_grad using pool: 23:20:01\n",
      "finished calculating J and J_grad: 23:20:01\n",
      "finished calculating strength_grad: 23:20:01\n",
      "finished network propagation: 23:20:01\n",
      "finished calculating P_grad using pool: 23:20:01\n",
      "finished calculating J and J_grad: 23:20:01\n",
      "finished calculating strength_grad: 23:20:01\n",
      "finished network propagation: 23:20:01\n",
      "finished calculating P_grad using pool: 23:20:01\n",
      "finished calculating J and J_grad: 23:20:01\n",
      "finished calculating strength_grad: 23:20:01\n",
      "finished network propagation: 23:20:01\n",
      "finished calculating P_grad using pool: 23:20:01\n",
      "finished calculating J and J_grad: 23:20:01\n",
      "finished calculating strength_grad: 23:20:01\n",
      "finished network propagation: 23:20:01\n",
      "finished calculating P_grad using pool: 23:20:01\n",
      "finished calculating J and J_grad: 23:20:01\n",
      "finished calculating strength_grad: 23:20:01\n",
      "finished network propagation: 23:20:01\n",
      "finished calculating P_grad using pool: 23:20:02\n",
      "finished calculating J and J_grad: 23:20:02\n",
      "finished calculating strength_grad: 23:20:02\n",
      "finished network propagation: 23:20:02\n",
      "finished calculating P_grad using pool: 23:20:02\n",
      "finished calculating J and J_grad: 23:20:02\n",
      "finished calculating strength_grad: 23:20:02\n",
      "finished network propagation: 23:20:02\n",
      "finished calculating P_grad using pool: 23:20:02\n",
      "finished calculating J and J_grad: 23:20:02\n",
      "finished calculating strength_grad: 23:20:02\n",
      "finished network propagation: 23:20:02\n",
      "finished calculating P_grad using pool: 23:20:02\n",
      "finished calculating J and J_grad: 23:20:02\n",
      "finished calculating strength_grad: 23:20:02\n",
      "finished network propagation: 23:20:02\n",
      "finished calculating P_grad using pool: 23:20:02\n",
      "finished calculating J and J_grad: 23:20:02\n",
      "finished calculating strength_grad: 23:20:02\n",
      "finished network propagation: 23:20:02\n",
      "finished calculating P_grad using pool: 23:20:02\n",
      "finished calculating J and J_grad: 23:20:02\n",
      "finished calculating strength_grad: 23:20:02\n",
      "finished network propagation: 23:20:02\n",
      "finished calculating P_grad using pool: 23:20:02\n",
      "finished calculating J and J_grad: 23:20:02\n",
      "finished calculating strength_grad: 23:20:02\n",
      "finished network propagation: 23:20:02\n",
      "finished calculating P_grad using pool: 23:20:03\n",
      "finished calculating J and J_grad: 23:20:03\n",
      "finished calculating strength_grad: 23:20:03\n",
      "finished network propagation: 23:20:03\n",
      "finished calculating P_grad using pool: 23:20:03\n",
      "finished calculating J and J_grad: 23:20:03\n",
      "finished calculating strength_grad: 23:20:03\n",
      "finished network propagation: 23:20:03\n",
      "finished calculating P_grad using pool: 23:20:03\n",
      "finished calculating J and J_grad: 23:20:03\n",
      "finished calculating strength_grad: 23:20:03\n",
      "finished network propagation: 23:20:03\n",
      "finished calculating P_grad using pool: 23:20:03\n",
      "finished calculating J and J_grad: 23:20:03\n",
      "finished calculating strength_grad: 23:20:03\n",
      "finished network propagation: 23:20:03\n",
      "finished calculating P_grad using pool: 23:20:03\n",
      "finished calculating J and J_grad: 23:20:03\n",
      "finished calculating strength_grad: 23:20:03\n",
      "finished network propagation: 23:20:03\n",
      "finished calculating P_grad using pool: 23:20:03\n",
      "finished calculating J and J_grad: 23:20:03\n",
      "finished calculating strength_grad: 23:20:03\n",
      "finished network propagation: 23:20:03\n",
      "finished calculating P_grad using pool: 23:20:03\n",
      "finished calculating J and J_grad: 23:20:03\n",
      "finished calculating strength_grad: 23:20:03\n",
      "finished network propagation: 23:20:03\n",
      "finished calculating P_grad using pool: 23:20:04\n",
      "finished calculating J and J_grad: 23:20:04\n",
      "finished calculating strength_grad: 23:20:04\n",
      "finished network propagation: 23:20:04\n",
      "finished calculating P_grad using pool: 23:20:04\n",
      "finished calculating J and J_grad: 23:20:04\n",
      "finished calculating strength_grad: 23:20:04\n",
      "finished network propagation: 23:20:04\n",
      "finished calculating P_grad using pool: 23:20:04\n",
      "finished calculating J and J_grad: 23:20:04\n",
      "finished calculating strength_grad: 23:20:04\n",
      "finished network propagation: 23:20:04\n",
      "finished calculating P_grad using pool: 23:20:04\n",
      "finished calculating J and J_grad: 23:20:04\n",
      "finished calculating strength_grad: 23:20:04\n",
      "finished network propagation: 23:20:04\n",
      "finished calculating P_grad using pool: 23:20:04\n",
      "finished calculating J and J_grad: 23:20:04\n",
      "finished calculating strength_grad: 23:20:04\n",
      "finished network propagation: 23:20:04\n",
      "finished calculating P_grad using pool: 23:20:04\n",
      "finished calculating J and J_grad: 23:20:04\n",
      "finished calculating strength_grad: 23:20:04\n",
      "finished network propagation: 23:20:04\n",
      "finished calculating P_grad using pool: 23:20:04\n",
      "finished calculating J and J_grad: 23:20:04\n",
      "finished calculating strength_grad: 23:20:04\n",
      "finished network propagation: 23:20:04\n",
      "finished calculating P_grad using pool: 23:20:05\n",
      "finished calculating J and J_grad: 23:20:05\n",
      "finished calculating strength_grad: 23:20:05\n",
      "finished network propagation: 23:20:05\n",
      "finished calculating P_grad using pool: 23:20:05\n",
      "finished calculating J and J_grad: 23:20:05\n",
      "finished calculating strength_grad: 23:20:05\n",
      "finished network propagation: 23:20:05\n",
      "finished calculating P_grad using pool: 23:20:05\n",
      "finished calculating J and J_grad: 23:20:05\n",
      "finished calculating strength_grad: 23:20:05\n",
      "finished network propagation: 23:20:05\n",
      "finished calculating P_grad using pool: 23:20:05\n",
      "finished calculating J and J_grad: 23:20:05\n",
      "finished calculating strength_grad: 23:20:05\n",
      "finished network propagation: 23:20:05\n",
      "finished calculating P_grad using pool: 23:20:05\n",
      "finished calculating J and J_grad: 23:20:05\n",
      "finished calculating strength_grad: 23:20:05\n",
      "finished network propagation: 23:20:05\n",
      "finished calculating P_grad using pool: 23:20:05\n",
      "finished calculating J and J_grad: 23:20:05\n",
      "finished calculating strength_grad: 23:20:05\n",
      "finished network propagation: 23:20:05\n",
      "finished calculating P_grad using pool: 23:20:05\n",
      "finished calculating J and J_grad: 23:20:05\n",
      "finished calculating strength_grad: 23:20:05\n",
      "finished network propagation: 23:20:05\n",
      "finished calculating P_grad using pool: 23:20:05\n",
      "finished calculating J and J_grad: 23:20:05\n",
      "finished calculating strength_grad: 23:20:05\n",
      "finished network propagation: 23:20:06\n",
      "finished calculating P_grad using pool: 23:20:06\n",
      "finished calculating J and J_grad: 23:20:06\n",
      "finished calculating strength_grad: 23:20:06\n",
      "finished network propagation: 23:20:06\n",
      "finished calculating P_grad using pool: 23:20:06\n",
      "finished calculating J and J_grad: 23:20:06\n",
      "finished calculating strength_grad: 23:20:06\n",
      "finished network propagation: 23:20:06\n",
      "finished calculating P_grad using pool: 23:20:06\n",
      "finished calculating J and J_grad: 23:20:06\n",
      "finished calculating strength_grad: 23:20:06\n",
      "finished network propagation: 23:20:06\n",
      "finished calculating P_grad using pool: 23:20:06\n",
      "finished calculating J and J_grad: 23:20:06\n",
      "finished calculating strength_grad: 23:20:06\n",
      "finished network propagation: 23:20:06\n",
      "finished calculating P_grad using pool: 23:20:06\n",
      "finished calculating J and J_grad: 23:20:06\n",
      "finished calculating strength_grad: 23:20:06\n",
      "finished network propagation: 23:20:06\n",
      "finished calculating P_grad using pool: 23:20:06\n",
      "finished calculating J and J_grad: 23:20:06\n",
      "finished calculating strength_grad: 23:20:06\n",
      "finished network propagation: 23:20:06\n",
      "finished calculating P_grad using pool: 23:20:06\n",
      "finished calculating J and J_grad: 23:20:06\n",
      "finished calculating strength_grad: 23:20:06\n",
      "finished network propagation: 23:20:06\n",
      "finished calculating P_grad using pool: 23:20:07\n",
      "finished calculating J and J_grad: 23:20:07\n",
      "finished calculating strength_grad: 23:20:07\n",
      "finished network propagation: 23:20:07\n"
     ]
    },
    {
     "name": "stdout",
     "output_type": "stream",
     "text": [
      "finished calculating P_grad using pool: 23:20:07\n",
      "finished calculating J and J_grad: 23:20:07\n",
      "finished calculating strength_grad: 23:20:07\n",
      "finished network propagation: 23:20:07\n",
      "finished calculating P_grad using pool: 23:20:07\n",
      "finished calculating J and J_grad: 23:20:07\n",
      "finished calculating strength_grad: 23:20:07\n",
      "finished network propagation: 23:20:07\n",
      "finished calculating P_grad using pool: 23:20:07\n",
      "finished calculating J and J_grad: 23:20:07\n",
      "finished calculating strength_grad: 23:20:07\n",
      "finished network propagation: 23:20:07\n",
      "finished calculating P_grad using pool: 23:20:07\n",
      "finished calculating J and J_grad: 23:20:07\n",
      "finished calculating strength_grad: 23:20:07\n",
      "finished network propagation: 23:20:07\n",
      "finished calculating P_grad using pool: 23:20:07\n",
      "finished calculating J and J_grad: 23:20:07\n",
      "finished calculating strength_grad: 23:20:07\n",
      "finished network propagation: 23:20:07\n",
      "finished calculating P_grad using pool: 23:20:07\n",
      "finished calculating J and J_grad: 23:20:07\n",
      "finished calculating strength_grad: 23:20:07\n",
      "finished network propagation: 23:20:07\n",
      "finished calculating P_grad using pool: 23:20:08\n",
      "finished calculating J and J_grad: 23:20:08\n",
      "finished calculating strength_grad: 23:20:08\n",
      "finished network propagation: 23:20:08\n",
      "finished calculating P_grad using pool: 23:20:08\n",
      "finished calculating J and J_grad: 23:20:08\n",
      "finished calculating strength_grad: 23:20:08\n",
      "finished network propagation: 23:20:08\n",
      "finished calculating P_grad using pool: 23:20:08\n",
      "finished calculating J and J_grad: 23:20:08\n",
      "finished calculating strength_grad: 23:20:08\n",
      "finished network propagation: 23:20:08\n",
      "finished calculating P_grad using pool: 23:20:08\n",
      "finished calculating J and J_grad: 23:20:08\n",
      "finished calculating strength_grad: 23:20:08\n",
      "finished network propagation: 23:20:08\n",
      "finished calculating P_grad using pool: 23:20:08\n",
      "finished calculating J and J_grad: 23:20:08\n",
      "finished calculating strength_grad: 23:20:08\n",
      "finished network propagation: 23:20:08\n",
      "finished calculating P_grad using pool: 23:20:08\n",
      "finished calculating J and J_grad: 23:20:08\n",
      "finished calculating strength_grad: 23:20:08\n",
      "finished network propagation: 23:20:08\n",
      "finished calculating P_grad using pool: 23:20:08\n",
      "finished calculating J and J_grad: 23:20:08\n",
      "finished calculating strength_grad: 23:20:08\n",
      "finished network propagation: 23:20:08\n",
      "finished calculating P_grad using pool: 23:20:09\n",
      "finished calculating J and J_grad: 23:20:09\n",
      "finished calculating strength_grad: 23:20:09\n",
      "finished network propagation: 23:20:09\n",
      "finished calculating P_grad using pool: 23:20:09\n",
      "finished calculating J and J_grad: 23:20:09\n",
      "finished calculating strength_grad: 23:20:09\n",
      "finished network propagation: 23:20:09\n",
      "finished calculating P_grad using pool: 23:20:09\n",
      "finished calculating J and J_grad: 23:20:09\n",
      "finished calculating strength_grad: 23:20:09\n",
      "finished network propagation: 23:20:09\n",
      "finished calculating P_grad using pool: 23:20:09\n",
      "finished calculating J and J_grad: 23:20:09\n",
      "finished calculating strength_grad: 23:20:09\n",
      "finished network propagation: 23:20:09\n",
      "finished calculating P_grad using pool: 23:20:09\n",
      "finished calculating J and J_grad: 23:20:09\n",
      "finished calculating strength_grad: 23:20:09\n",
      "finished network propagation: 23:20:09\n",
      "finished calculating P_grad using pool: 23:20:09\n",
      "finished calculating J and J_grad: 23:20:09\n",
      "finished calculating strength_grad: 23:20:09\n",
      "finished network propagation: 23:20:09\n",
      "finished calculating P_grad using pool: 23:20:09\n",
      "finished calculating J and J_grad: 23:20:09\n",
      "finished calculating strength_grad: 23:20:09\n",
      "finished network propagation: 23:20:09\n",
      "finished calculating P_grad using pool: 23:20:10\n",
      "finished calculating J and J_grad: 23:20:10\n",
      "finished calculating strength_grad: 23:20:10\n",
      "finished network propagation: 23:20:10\n",
      "finished calculating P_grad using pool: 23:20:10\n",
      "finished calculating J and J_grad: 23:20:10\n",
      "finished calculating strength_grad: 23:20:10\n",
      "finished network propagation: 23:20:10\n",
      "finished calculating P_grad using pool: 23:20:10\n",
      "finished calculating J and J_grad: 23:20:10\n",
      "finished calculating strength_grad: 23:20:10\n",
      "finished network propagation: 23:20:10\n",
      "finished calculating P_grad using pool: 23:20:10\n",
      "finished calculating J and J_grad: 23:20:10\n",
      "finished calculating strength_grad: 23:20:10\n",
      "finished network propagation: 23:20:10\n",
      "finished calculating P_grad using pool: 23:20:10\n",
      "finished calculating J and J_grad: 23:20:10\n",
      "finished calculating strength_grad: 23:20:10\n",
      "finished network propagation: 23:20:10\n",
      "finished calculating P_grad using pool: 23:20:10\n",
      "finished calculating J and J_grad: 23:20:10\n",
      "finished calculating strength_grad: 23:20:10\n",
      "finished network propagation: 23:20:10\n",
      "finished calculating P_grad using pool: 23:20:10\n",
      "finished calculating J and J_grad: 23:20:10\n",
      "finished calculating strength_grad: 23:20:10\n",
      "finished network propagation: 23:20:10\n",
      "finished calculating P_grad using pool: 23:20:11\n",
      "finished calculating J and J_grad: 23:20:11\n",
      "finished calculating strength_grad: 23:20:11\n",
      "finished network propagation: 23:20:11\n",
      "finished calculating P_grad using pool: 23:20:11\n",
      "finished calculating J and J_grad: 23:20:11\n",
      "finished calculating strength_grad: 23:20:11\n",
      "finished network propagation: 23:20:11\n",
      "finished calculating P_grad using pool: 23:20:11\n",
      "finished calculating J and J_grad: 23:20:11\n",
      "finished calculating strength_grad: 23:20:11\n",
      "finished network propagation: 23:20:11\n",
      "finished calculating P_grad using pool: 23:20:11\n",
      "finished calculating J and J_grad: 23:20:11\n",
      "finished calculating strength_grad: 23:20:11\n",
      "finished network propagation: 23:20:11\n",
      "finished calculating P_grad using pool: 23:20:11\n",
      "finished calculating J and J_grad: 23:20:11\n",
      "finished calculating strength_grad: 23:20:11\n",
      "finished network propagation: 23:20:11\n",
      "finished calculating P_grad using pool: 23:20:11\n",
      "finished calculating J and J_grad: 23:20:11\n",
      "finished calculating strength_grad: 23:20:11\n",
      "finished network propagation: 23:20:11\n",
      "finished calculating P_grad using pool: 23:20:11\n",
      "finished calculating J and J_grad: 23:20:11\n",
      "finished calculating strength_grad: 23:20:11\n",
      "finished network propagation: 23:20:11\n",
      "finished calculating P_grad using pool: 23:20:12\n",
      "finished calculating J and J_grad: 23:20:12\n",
      "finished calculating strength_grad: 23:20:12\n",
      "finished network propagation: 23:20:12\n",
      "finished calculating P_grad using pool: 23:20:12\n",
      "finished calculating J and J_grad: 23:20:12\n",
      "finished calculating strength_grad: 23:20:12\n",
      "finished network propagation: 23:20:12\n",
      "finished calculating P_grad using pool: 23:20:12\n",
      "finished calculating J and J_grad: 23:20:12\n",
      "finished calculating strength_grad: 23:20:12\n",
      "finished network propagation: 23:20:12\n",
      "finished calculating P_grad using pool: 23:20:12\n",
      "finished calculating J and J_grad: 23:20:12\n",
      "finished calculating strength_grad: 23:20:12\n",
      "finished network propagation: 23:20:12\n",
      "finished calculating P_grad using pool: 23:20:12\n",
      "finished calculating J and J_grad: 23:20:12\n",
      "finished calculating strength_grad: 23:20:12\n",
      "finished network propagation: 23:20:12\n",
      "finished calculating P_grad using pool: 23:20:12\n",
      "finished calculating J and J_grad: 23:20:12\n",
      "finished calculating strength_grad: 23:20:12\n",
      "finished network propagation: 23:20:12\n",
      "finished calculating P_grad using pool: 23:20:12\n",
      "finished calculating J and J_grad: 23:20:12\n",
      "finished calculating strength_grad: 23:20:12\n",
      "finished network propagation: 23:20:12\n",
      "finished calculating P_grad using pool: 23:20:12\n",
      "finished calculating J and J_grad: 23:20:12\n",
      "finished calculating strength_grad: 23:20:12\n",
      "finished network propagation: 23:20:12\n",
      "finished calculating P_grad using pool: 23:20:13\n",
      "finished calculating J and J_grad: 23:20:13\n",
      "finished calculating strength_grad: 23:20:13\n",
      "finished network propagation: 23:20:13\n",
      "finished calculating P_grad using pool: 23:20:13\n",
      "finished calculating J and J_grad: 23:20:13\n",
      "finished calculating strength_grad: 23:20:13\n",
      "finished network propagation: 23:20:13\n",
      "finished calculating P_grad using pool: 23:20:13\n",
      "finished calculating J and J_grad: 23:20:13\n",
      "finished calculating strength_grad: 23:20:13\n",
      "finished network propagation: 23:20:13\n",
      "finished calculating P_grad using pool: 23:20:13\n",
      "finished calculating J and J_grad: 23:20:13\n",
      "finished calculating strength_grad: 23:20:13\n",
      "finished network propagation: 23:20:13\n",
      "finished calculating P_grad using pool: 23:20:13\n",
      "finished calculating J and J_grad: 23:20:13\n",
      "finished calculating strength_grad: 23:20:13\n",
      "finished network propagation: 23:20:13\n"
     ]
    },
    {
     "name": "stdout",
     "output_type": "stream",
     "text": [
      "finished calculating P_grad using pool: 23:20:13\n",
      "finished calculating J and J_grad: 23:20:13\n",
      "finished calculating strength_grad: 23:20:13\n",
      "finished network propagation: 23:20:13\n",
      "finished calculating P_grad using pool: 23:20:13\n",
      "finished calculating J and J_grad: 23:20:13\n",
      "finished calculating strength_grad: 23:20:13\n",
      "finished network propagation: 23:20:13\n",
      "finished calculating P_grad using pool: 23:20:14\n",
      "finished calculating J and J_grad: 23:20:14\n",
      "finished calculating strength_grad: 23:20:14\n",
      "finished network propagation: 23:20:14\n",
      "finished calculating P_grad using pool: 23:20:14\n",
      "finished calculating J and J_grad: 23:20:14\n",
      "finished calculating strength_grad: 23:20:14\n",
      "finished network propagation: 23:20:14\n",
      "finished calculating P_grad using pool: 23:20:14\n",
      "finished calculating J and J_grad: 23:20:14\n",
      "finished calculating strength_grad: 23:20:14\n",
      "finished network propagation: 23:20:14\n",
      "finished calculating P_grad using pool: 23:20:14\n",
      "finished calculating J and J_grad: 23:20:14\n",
      "finished calculating strength_grad: 23:20:14\n",
      "finished network propagation: 23:20:14\n",
      "finished calculating P_grad using pool: 23:20:14\n",
      "finished calculating J and J_grad: 23:20:14\n",
      "finished calculating strength_grad: 23:20:14\n",
      "finished network propagation: 23:20:14\n",
      "finished calculating P_grad using pool: 23:20:14\n",
      "finished calculating J and J_grad: 23:20:14\n",
      "finished calculating strength_grad: 23:20:14\n",
      "finished network propagation: 23:20:14\n",
      "finished calculating P_grad using pool: 23:20:14\n",
      "finished calculating J and J_grad: 23:20:14\n",
      "finished calculating strength_grad: 23:20:14\n",
      "finished network propagation: 23:20:14\n",
      "finished calculating P_grad using pool: 23:20:15\n",
      "finished calculating J and J_grad: 23:20:15\n",
      "finished calculating strength_grad: 23:20:15\n",
      "finished network propagation: 23:20:15\n",
      "finished calculating P_grad using pool: 23:20:15\n",
      "finished calculating J and J_grad: 23:20:15\n",
      "finished calculating strength_grad: 23:20:15\n",
      "finished network propagation: 23:20:15\n",
      "finished calculating P_grad using pool: 23:20:15\n",
      "finished calculating J and J_grad: 23:20:15\n",
      "finished calculating strength_grad: 23:20:15\n",
      "finished network propagation: 23:20:15\n",
      "finished calculating P_grad using pool: 23:20:15\n",
      "finished calculating J and J_grad: 23:20:15\n",
      "finished calculating strength_grad: 23:20:15\n",
      "finished network propagation: 23:20:15\n",
      "finished calculating P_grad using pool: 23:20:15\n",
      "finished calculating J and J_grad: 23:20:15\n",
      "finished calculating strength_grad: 23:20:15\n",
      "finished network propagation: 23:20:15\n",
      "finished calculating P_grad using pool: 23:20:15\n",
      "finished calculating J and J_grad: 23:20:15\n",
      "[  8.07251341e+00  -4.36518394e-07  -1.23564823e-11  -7.58108715e+00] -0.905291237317 {'warnflag': 0, 'task': 'CONVERGENCE: REL_REDUCTION_OF_F_<=_FACTR*EPSMCH', 'grad': array([ -2.21319629e-06,  -1.00181878e-02,  -1.99666090e-02,\n",
      "        -2.91176391e-06]), 'nit': 26, 'funcalls': 108}\n",
      "*** J is -0.905291237317 cost_val is -1.21836325717\n",
      "*** accuracy is 1.0 accuracy_val is 1.0\n",
      "*** silhouette is 0.951095041457 silhouette_val is 0.951095041457 \n",
      "\n"
     ]
    }
   ],
   "source": [
    "SRW_obj_2.train_SRW_BFGS()"
   ]
  },
  {
   "cell_type": "code",
   "execution_count": 39,
   "metadata": {
    "collapsed": true
   },
   "outputs": [],
   "source": [
    "SRW_obj_2.generate_Q_and_P_fin()"
   ]
  },
  {
   "cell_type": "code",
   "execution_count": 40,
   "metadata": {},
   "outputs": [
    {
     "data": {
      "text/html": [
       "<div>\n",
       "<style>\n",
       "    .dataframe thead tr:only-child th {\n",
       "        text-align: right;\n",
       "    }\n",
       "\n",
       "    .dataframe thead th {\n",
       "        text-align: left;\n",
       "    }\n",
       "\n",
       "    .dataframe tbody tr th {\n",
       "        vertical-align: top;\n",
       "    }\n",
       "</style>\n",
       "<table border=\"1\" class=\"dataframe\">\n",
       "  <thead>\n",
       "    <tr style=\"text-align: right;\">\n",
       "      <th></th>\n",
       "      <th>Weight</th>\n",
       "    </tr>\n",
       "  </thead>\n",
       "  <tbody>\n",
       "    <tr>\n",
       "      <th>f1</th>\n",
       "      <td>8.072513e+00</td>\n",
       "    </tr>\n",
       "    <tr>\n",
       "      <th>f2</th>\n",
       "      <td>-4.365184e-07</td>\n",
       "    </tr>\n",
       "    <tr>\n",
       "      <th>selfloop</th>\n",
       "      <td>-1.235648e-11</td>\n",
       "    </tr>\n",
       "    <tr>\n",
       "      <th>intercept</th>\n",
       "      <td>-7.581087e+00</td>\n",
       "    </tr>\n",
       "  </tbody>\n",
       "</table>\n",
       "</div>"
      ],
      "text/plain": [
       "                 Weight\n",
       "f1         8.072513e+00\n",
       "f2        -4.365184e-07\n",
       "selfloop  -1.235648e-11\n",
       "intercept -7.581087e+00"
      ]
     },
     "execution_count": 40,
     "metadata": {},
     "output_type": "execute_result"
    }
   ],
   "source": [
    "SRW_obj_2.w_map"
   ]
  },
  {
   "cell_type": "markdown",
   "metadata": {},
   "source": [
    "### Check the transition matrix Q and propagation scores P"
   ]
  },
  {
   "cell_type": "code",
   "execution_count": 54,
   "metadata": {
    "scrolled": false
   },
   "outputs": [
    {
     "data": {
      "text/html": [
       "<div>\n",
       "<style>\n",
       "    .dataframe thead tr:only-child th {\n",
       "        text-align: right;\n",
       "    }\n",
       "\n",
       "    .dataframe thead th {\n",
       "        text-align: left;\n",
       "    }\n",
       "\n",
       "    .dataframe tbody tr th {\n",
       "        vertical-align: top;\n",
       "    }\n",
       "</style>\n",
       "<table border=\"1\" class=\"dataframe\">\n",
       "  <thead>\n",
       "    <tr style=\"text-align: right;\">\n",
       "      <th></th>\n",
       "      <th>n1</th>\n",
       "      <th>n2</th>\n",
       "      <th>n3</th>\n",
       "      <th>n4</th>\n",
       "      <th>n5</th>\n",
       "      <th>n6</th>\n",
       "    </tr>\n",
       "  </thead>\n",
       "  <tbody>\n",
       "    <tr>\n",
       "      <th>n1</th>\n",
       "      <td>0.000064</td>\n",
       "      <td>0.672312</td>\n",
       "      <td>0.323085</td>\n",
       "      <td>0.002246</td>\n",
       "      <td>0.001409</td>\n",
       "      <td>0.000884</td>\n",
       "    </tr>\n",
       "    <tr>\n",
       "      <th>n2</th>\n",
       "      <td>0.583852</td>\n",
       "      <td>0.000056</td>\n",
       "      <td>0.412150</td>\n",
       "      <td>0.001951</td>\n",
       "      <td>0.001224</td>\n",
       "      <td>0.000768</td>\n",
       "    </tr>\n",
       "    <tr>\n",
       "      <th>n3</th>\n",
       "      <td>0.402707</td>\n",
       "      <td>0.591556</td>\n",
       "      <td>0.000080</td>\n",
       "      <td>0.002800</td>\n",
       "      <td>0.001756</td>\n",
       "      <td>0.001102</td>\n",
       "    </tr>\n",
       "    <tr>\n",
       "      <th>n4</th>\n",
       "      <td>0.002241</td>\n",
       "      <td>0.002241</td>\n",
       "      <td>0.002241</td>\n",
       "      <td>0.000064</td>\n",
       "      <td>0.670837</td>\n",
       "      <td>0.322376</td>\n",
       "    </tr>\n",
       "    <tr>\n",
       "      <th>n5</th>\n",
       "      <td>0.001224</td>\n",
       "      <td>0.001224</td>\n",
       "      <td>0.001224</td>\n",
       "      <td>0.584010</td>\n",
       "      <td>0.000056</td>\n",
       "      <td>0.412262</td>\n",
       "    </tr>\n",
       "    <tr>\n",
       "      <th>n6</th>\n",
       "      <td>0.001104</td>\n",
       "      <td>0.001104</td>\n",
       "      <td>0.001104</td>\n",
       "      <td>0.403656</td>\n",
       "      <td>0.592951</td>\n",
       "      <td>0.000080</td>\n",
       "    </tr>\n",
       "  </tbody>\n",
       "</table>\n",
       "</div>"
      ],
      "text/plain": [
       "          n1        n2        n3        n4        n5        n6\n",
       "n1  0.000064  0.672312  0.323085  0.002246  0.001409  0.000884\n",
       "n2  0.583852  0.000056  0.412150  0.001951  0.001224  0.000768\n",
       "n3  0.402707  0.591556  0.000080  0.002800  0.001756  0.001102\n",
       "n4  0.002241  0.002241  0.002241  0.000064  0.670837  0.322376\n",
       "n5  0.001224  0.001224  0.001224  0.584010  0.000056  0.412262\n",
       "n6  0.001104  0.001104  0.001104  0.403656  0.592951  0.000080"
      ]
     },
     "execution_count": 54,
     "metadata": {},
     "output_type": "execute_result"
    }
   ],
   "source": [
    "SRW_obj_2.Q_fin_df"
   ]
  },
  {
   "cell_type": "code",
   "execution_count": 42,
   "metadata": {},
   "outputs": [
    {
     "data": {
      "text/html": [
       "<div>\n",
       "<style>\n",
       "    .dataframe thead tr:only-child th {\n",
       "        text-align: right;\n",
       "    }\n",
       "\n",
       "    .dataframe thead th {\n",
       "        text-align: left;\n",
       "    }\n",
       "\n",
       "    .dataframe tbody tr th {\n",
       "        vertical-align: top;\n",
       "    }\n",
       "</style>\n",
       "<table border=\"1\" class=\"dataframe\">\n",
       "  <thead>\n",
       "    <tr style=\"text-align: right;\">\n",
       "      <th></th>\n",
       "      <th>n1</th>\n",
       "      <th>n2</th>\n",
       "      <th>n3</th>\n",
       "      <th>n4</th>\n",
       "      <th>n5</th>\n",
       "      <th>n6</th>\n",
       "    </tr>\n",
       "  </thead>\n",
       "  <tbody>\n",
       "    <tr>\n",
       "      <th>p1</th>\n",
       "      <td>0.478620</td>\n",
       "      <td>0.256060</td>\n",
       "      <td>0.256060</td>\n",
       "      <td>0.003086</td>\n",
       "      <td>0.003086</td>\n",
       "      <td>0.003086</td>\n",
       "    </tr>\n",
       "    <tr>\n",
       "      <th>p2</th>\n",
       "      <td>0.256060</td>\n",
       "      <td>0.478620</td>\n",
       "      <td>0.256060</td>\n",
       "      <td>0.003086</td>\n",
       "      <td>0.003086</td>\n",
       "      <td>0.003086</td>\n",
       "    </tr>\n",
       "    <tr>\n",
       "      <th>p3</th>\n",
       "      <td>0.256060</td>\n",
       "      <td>0.256060</td>\n",
       "      <td>0.478620</td>\n",
       "      <td>0.003086</td>\n",
       "      <td>0.003086</td>\n",
       "      <td>0.003086</td>\n",
       "    </tr>\n",
       "    <tr>\n",
       "      <th>p4</th>\n",
       "      <td>0.003086</td>\n",
       "      <td>0.003086</td>\n",
       "      <td>0.003086</td>\n",
       "      <td>0.478620</td>\n",
       "      <td>0.256060</td>\n",
       "      <td>0.256060</td>\n",
       "    </tr>\n",
       "    <tr>\n",
       "      <th>p5</th>\n",
       "      <td>0.003086</td>\n",
       "      <td>0.003086</td>\n",
       "      <td>0.003086</td>\n",
       "      <td>0.256060</td>\n",
       "      <td>0.478620</td>\n",
       "      <td>0.256060</td>\n",
       "    </tr>\n",
       "    <tr>\n",
       "      <th>p6</th>\n",
       "      <td>0.003086</td>\n",
       "      <td>0.003086</td>\n",
       "      <td>0.003086</td>\n",
       "      <td>0.256060</td>\n",
       "      <td>0.256060</td>\n",
       "      <td>0.478620</td>\n",
       "    </tr>\n",
       "  </tbody>\n",
       "</table>\n",
       "</div>"
      ],
      "text/plain": [
       "          n1        n2        n3        n4        n5        n6\n",
       "p1  0.478620  0.256060  0.256060  0.003086  0.003086  0.003086\n",
       "p2  0.256060  0.478620  0.256060  0.003086  0.003086  0.003086\n",
       "p3  0.256060  0.256060  0.478620  0.003086  0.003086  0.003086\n",
       "p4  0.003086  0.003086  0.003086  0.478620  0.256060  0.256060\n",
       "p5  0.003086  0.003086  0.003086  0.256060  0.478620  0.256060\n",
       "p6  0.003086  0.003086  0.003086  0.256060  0.256060  0.478620"
      ]
     },
     "execution_count": 42,
     "metadata": {},
     "output_type": "execute_result"
    }
   ],
   "source": [
    "SRW_obj_2.P_fin_df"
   ]
  },
  {
   "cell_type": "code",
   "execution_count": 43,
   "metadata": {},
   "outputs": [
    {
     "name": "stdout",
     "output_type": "stream",
     "text": [
      "*** cost is -1.21836325717 cost_val is -1.21836325717\n",
      "*** accuracy is 1.0 accuracy_val is 1.0\n",
      "*** silhouette is 0.951095041457 silhouette_val is 0.951095041457 \n",
      "\n"
     ]
    }
   ],
   "source": [
    "print '*** cost is', SRW_obj_2.cost, 'cost_val is', SRW_obj_2.cost_val\n",
    "print '*** accuracy is', SRW_obj_2.accuracy, 'accuracy_val is', SRW_obj_2.accuracy_val\n",
    "print '*** silhouette is', SRW_obj_2.cost_sil, 'silhouette_val is', SRW_obj_2.cost_sil_val, '\\n'"
   ]
  },
  {
   "cell_type": "markdown",
   "metadata": {},
   "source": [
    "### Compare with unweighted random walk"
   ]
  },
  {
   "cell_type": "code",
   "execution_count": 396,
   "metadata": {
    "collapsed": true
   },
   "outputs": [],
   "source": [
    "SRW_obj_3 = SRW.SRW_solver(edges, features, nnodes, P_init, rst_prob, group_labels, lam, w_init_sd=0.01, \n",
    "                           w=[0.,0.,0.,0.], \n",
    "                           feature_names=feature_names, loss='squared', norm_type='L2', maximize_diff=False, \n",
    "                           learning_rate=1, update_w_func='Adam', P_init_val=P_init, \n",
    "                           group_labels_val=group_labels, eval_sil=True)\n",
    "SRW_obj_3.generate_Q_and_P_fin()"
   ]
  },
  {
   "cell_type": "code",
   "execution_count": 397,
   "metadata": {},
   "outputs": [
    {
     "data": {
      "text/plain": [
       "array([[ 0.16666667,  0.16666667,  0.16666667,  0.16666667,  0.16666667,\n",
       "         0.16666667],\n",
       "       [ 0.16666667,  0.16666667,  0.16666667,  0.16666667,  0.16666667,\n",
       "         0.16666667],\n",
       "       [ 0.16666667,  0.16666667,  0.16666667,  0.16666667,  0.16666667,\n",
       "         0.16666667],\n",
       "       [ 0.16666667,  0.16666667,  0.16666667,  0.16666667,  0.16666667,\n",
       "         0.16666667],\n",
       "       [ 0.16666667,  0.16666667,  0.16666667,  0.16666667,  0.16666667,\n",
       "         0.16666667],\n",
       "       [ 0.16666667,  0.16666667,  0.16666667,  0.16666667,  0.16666667,\n",
       "         0.16666667]])"
      ]
     },
     "execution_count": 397,
     "metadata": {},
     "output_type": "execute_result"
    }
   ],
   "source": [
    "SRW_obj_3.Q_fin.toarray()"
   ]
  },
  {
   "cell_type": "code",
   "execution_count": 398,
   "metadata": {},
   "outputs": [
    {
     "data": {
      "text/plain": [
       "array([[ 0.41666667,  0.11666667,  0.11666667,  0.11666667,  0.11666667,\n",
       "         0.11666667],\n",
       "       [ 0.11666667,  0.41666667,  0.11666667,  0.11666667,  0.11666667,\n",
       "         0.11666667],\n",
       "       [ 0.11666667,  0.11666667,  0.41666667,  0.11666667,  0.11666667,\n",
       "         0.11666667],\n",
       "       [ 0.11666667,  0.11666667,  0.11666667,  0.41666667,  0.11666667,\n",
       "         0.11666667],\n",
       "       [ 0.11666667,  0.11666667,  0.11666667,  0.11666667,  0.41666667,\n",
       "         0.11666667],\n",
       "       [ 0.11666667,  0.11666667,  0.11666667,  0.11666667,  0.11666667,\n",
       "         0.41666667]])"
      ]
     },
     "execution_count": 398,
     "metadata": {},
     "output_type": "execute_result"
    }
   ],
   "source": [
    "SRW_obj_3.P_fin"
   ]
  },
  {
   "cell_type": "code",
   "execution_count": 399,
   "metadata": {},
   "outputs": [
    {
     "data": {
      "text/plain": [
       "0.36000000000000004"
      ]
     },
     "execution_count": 399,
     "metadata": {},
     "output_type": "execute_result"
    }
   ],
   "source": [
    "SRW_obj_3.calc_cost_val(SRW_obj_3.P_fin, SRW_obj_3.w)\n",
    "SRW_obj_3.cost_val"
   ]
  },
  {
   "cell_type": "code",
   "execution_count": null,
   "metadata": {
    "collapsed": true
   },
   "outputs": [],
   "source": []
  },
  {
   "cell_type": "markdown",
   "metadata": {
    "collapsed": true
   },
   "source": [
    "# Scratch"
   ]
  },
  {
   "cell_type": "code",
   "execution_count": 123,
   "metadata": {
    "collapsed": true
   },
   "outputs": [],
   "source": [
    "grouplabel2index = {}\n",
    "for i, grouplabel in enumerate(sorted(list(set(group_labels)))):\n",
    "    grouplabel2index[grouplabel] = i\n",
    "\n",
    "ngroups = len(grouplabel2index)\n",
    "group2indeces_list = [[] for _ in range(ngroups)]\n",
    "for i in range(len(group_labels)):\n",
    "    groupindex = grouplabel2index[group_labels[i]]\n",
    "    group2indeces_list[groupindex].append(i)"
   ]
  },
  {
   "cell_type": "code",
   "execution_count": 163,
   "metadata": {
    "collapsed": true
   },
   "outputs": [],
   "source": [
    "# Define a matrix C (g by n), which contains the group centroid\n",
    "C = np.zeros((ngroups, P.shape[1]))\n",
    "# Define a matrix C_grad (w by g by n), which contains the gradient of group centroid\n",
    "C_grad = np.zeros((P_grad.shape[0], ngroups, P_grad.shape[1]))\n",
    "for i in range(ngroups):\n",
    "    C[i,:] = P.take(group2indeces_list[i], axis=0).mean(axis=0)\n",
    "    C_grad[:,i,:] = P_grad.take(group2indeces_list[i], axis=1).mean(axis=1)"
   ]
  },
  {
   "cell_type": "code",
   "execution_count": 157,
   "metadata": {
    "scrolled": true
   },
   "outputs": [
    {
     "data": {
      "text/plain": [
       "array([[  4.35882908e-04,   4.35882904e-04,   4.35882911e-04,\n",
       "         -4.35882908e-04,  -4.35882908e-04,  -4.35882908e-04],\n",
       "       [ -4.03898710e-04,  -6.12166192e-03,   5.31386450e-03,\n",
       "          3.71003686e-04,   3.78563823e-04,   4.62128620e-04],\n",
       "       [  3.54144122e-07,   3.54144120e-07,   3.54144124e-07,\n",
       "         -3.54144122e-07,  -3.54144122e-07,  -3.54144122e-07],\n",
       "       [ -8.07447885e-04,  -8.07447889e-04,  -8.07447881e-04,\n",
       "          8.07447885e-04,   8.07447885e-04,   8.07447885e-04]])"
      ]
     },
     "execution_count": 157,
     "metadata": {},
     "output_type": "execute_result"
    }
   ],
   "source": [
    "P_grad.take(group2indeces_list[0], axis=1).mean(axis=1)"
   ]
  },
  {
   "cell_type": "code",
   "execution_count": 283,
   "metadata": {},
   "outputs": [
    {
     "data": {
      "text/plain": [
       "(1.5126989336996985,\n",
       " array([  1.79649141e-01,  -3.26623413e-10,  -9.97514024e-09,\n",
       "         -1.68030186e-01]),\n",
       " 1.0)"
      ]
     },
     "execution_count": 283,
     "metadata": {},
     "output_type": "execute_result"
    }
   ],
   "source": [
    "SRW.obj_func_silhouette(P, P_grad, group_labels, lam, w, norm_type='L2')"
   ]
  },
  {
   "cell_type": "code",
   "execution_count": 278,
   "metadata": {},
   "outputs": [
    {
     "data": {
      "text/plain": [
       "(0.0, 1.0)"
      ]
     },
     "execution_count": 278,
     "metadata": {},
     "output_type": "execute_result"
    }
   ],
   "source": [
    "SRW.eval_acc_wrapper(P, group_labels)"
   ]
  },
  {
   "cell_type": "code",
   "execution_count": null,
   "metadata": {
    "collapsed": true
   },
   "outputs": [],
   "source": []
  },
  {
   "cell_type": "code",
   "execution_count": null,
   "metadata": {
    "collapsed": true
   },
   "outputs": [],
   "source": []
  },
  {
   "cell_type": "code",
   "execution_count": null,
   "metadata": {
    "collapsed": true
   },
   "outputs": [],
   "source": []
  },
  {
   "cell_type": "code",
   "execution_count": null,
   "metadata": {
    "collapsed": true
   },
   "outputs": [],
   "source": []
  }
 ],
 "metadata": {
  "kernelspec": {
   "display_name": "Python 2",
   "language": "python",
   "name": "python2"
  },
  "language_info": {
   "codemirror_mode": {
    "name": "ipython",
    "version": 2
   },
   "file_extension": ".py",
   "mimetype": "text/x-python",
   "name": "python",
   "nbconvert_exporter": "python",
   "pygments_lexer": "ipython2",
   "version": "2.7.13"
  }
 },
 "nbformat": 4,
 "nbformat_minor": 2
}
