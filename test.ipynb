{
 "cells": [
  {
   "cell_type": "code",
   "execution_count": 1,
   "metadata": {
    "collapsed": true
   },
   "outputs": [],
   "source": [
    "%load_ext autoreload\n",
    "%autoreload 2"
   ]
  },
  {
   "cell_type": "code",
   "execution_count": 3,
   "metadata": {
    "collapsed": true
   },
   "outputs": [],
   "source": [
    "import numpy as np\n",
    "import SRW_v043 as SRW\n",
    "from scipy.sparse import csr_matrix, csc_matrix, issparse\n",
    "import functools"
   ]
  },
  {
   "cell_type": "markdown",
   "metadata": {},
   "source": [
    "# This toy example is for checking the partial derivatives"
   ]
  },
  {
   "cell_type": "code",
   "execution_count": 4,
   "metadata": {
    "collapsed": true
   },
   "outputs": [],
   "source": [
    "edges = np.array([[0,1],[0,2],[1,2],[1,0],[2,0],[2,1]])\n",
    "features = csc_matrix([[0.9,0.1,1.],[0.1,0.9,1.],[0.5,0.5,1.],[0.9,0.1,1.],[0.1,0.9,1.],[0.5,0.5,1.]])\n",
    "w0 = np.array([0.7,0.3,0.1])\n",
    "w1 = np.array([0.700001,0.3,0.1])\n",
    "rst_prob = 0.5\n",
    "P_init = mutation_profile = csr_matrix([[1,0,0],[0,1,0],[0,1,1],[1,1,0],[1,1,1]])\n",
    "nnodes = 3\n",
    "group_labels = [1, 0, 1, 0, 0]\n",
    "lam = 0.001"
   ]
  },
  {
   "cell_type": "code",
   "execution_count": 7,
   "metadata": {
    "collapsed": true
   },
   "outputs": [],
   "source": [
    "Q0, M_strength0, M_strength_rowSum0, strength_grad0 = SRW.strength_Q_and_gradient(edges, nnodes, features, w0)\n",
    "Q1, M_strength1, M_strength_rowSum1, strength_grad1 = SRW.strength_Q_and_gradient(edges, nnodes, features, w1)"
   ]
  },
  {
   "cell_type": "code",
   "execution_count": 8,
   "metadata": {},
   "outputs": [
    {
     "data": {
      "text/plain": [
       "array([[ 0.        ,  0.06170302, -0.06170302],\n",
       "       [ 0.02738262,  0.        , -0.02738262],\n",
       "       [-0.03446875,  0.03446875,  0.        ]])"
      ]
     },
     "execution_count": 8,
     "metadata": {},
     "output_type": "execute_result"
    }
   ],
   "source": [
    "Q_grad = SRW.Q_gradient_1feature(edges, nnodes, M_strength0, M_strength_rowSum0, strength_grad0.toarray()[:,0]) \n",
    "Q_grad.toarray()"
   ]
  },
  {
   "cell_type": "code",
   "execution_count": 9,
   "metadata": {},
   "outputs": [
    {
     "data": {
      "text/plain": [
       "array([[ 0.        ,  0.061703  , -0.061703  ],\n",
       "       [ 0.0273826 ,  0.        , -0.0273826 ],\n",
       "       [-0.03446874,  0.03446874,  0.        ]])"
      ]
     },
     "execution_count": 9,
     "metadata": {},
     "output_type": "execute_result"
    }
   ],
   "source": [
    "(Q1 - Q0).toarray() / 0.000001 # check"
   ]
  },
  {
   "cell_type": "code",
   "execution_count": 10,
   "metadata": {
    "collapsed": true
   },
   "outputs": [],
   "source": [
    "P0 = csr_matrix(SRW.iterative_PPR(Q0.toarray(), SRW.renorm(mutation_profile).toarray(), rst_prob))\n",
    "P1 = csr_matrix(SRW.iterative_PPR(Q1.toarray(), SRW.renorm(mutation_profile).toarray(), rst_prob))"
   ]
  },
  {
   "cell_type": "code",
   "execution_count": 11,
   "metadata": {},
   "outputs": [
    {
     "data": {
      "text/plain": [
       "array([[-0.00017484,  0.01735193, -0.01717709],\n",
       "       [ 0.00403931,  0.00764498, -0.01168429],\n",
       "       [-0.00091024,  0.01031905, -0.0094088 ],\n",
       "       [ 0.00193224,  0.01249845, -0.01443069],\n",
       "       [-0.00066511,  0.01266334, -0.01199823]])"
      ]
     },
     "execution_count": 11,
     "metadata": {},
     "output_type": "execute_result"
    }
   ],
   "source": [
    "P_grad = SRW.calc_P_grad_pool(edges, nnodes, M_strength0, M_strength_rowSum0, Q0, P0, rst_prob, strength_grad0)\n",
    "P_grad[0,:,:]"
   ]
  },
  {
   "cell_type": "code",
   "execution_count": 12,
   "metadata": {},
   "outputs": [
    {
     "data": {
      "text/plain": [
       "array([[-0.00017466,  0.01735142, -0.01717676],\n",
       "       [ 0.00403884,  0.00764556, -0.0116844 ],\n",
       "       [-0.00091031,  0.01031926, -0.00940895],\n",
       "       [ 0.00193209,  0.01249849, -0.01443058],\n",
       "       [-0.00066509,  0.01266331, -0.01199822]])"
      ]
     },
     "execution_count": 12,
     "metadata": {},
     "output_type": "execute_result"
    }
   ],
   "source": [
    "(P1 - P0).toarray() / 0.000001 # check"
   ]
  },
  {
   "cell_type": "code",
   "execution_count": 13,
   "metadata": {
    "collapsed": true
   },
   "outputs": [],
   "source": [
    "SRW_obj_0 = SRW.SRW_solver(edges, features, nnodes, P_init, rst_prob, group_labels, lam, w=w0)\n",
    "SRW_obj_1 = SRW.SRW_solver(edges, features, nnodes, P_init, rst_prob, group_labels, lam, w=w1)"
   ]
  },
  {
   "cell_type": "code",
   "execution_count": 14,
   "metadata": {
    "collapsed": true
   },
   "outputs": [],
   "source": [
    "J0, J_grad = SRW_obj_0.obj_func_and_grad(P0, P_grad, w0)\n",
    "J1, J_grad1 = SRW_obj_1.obj_func_and_grad(P1, P_grad, w1)"
   ]
  },
  {
   "cell_type": "code",
   "execution_count": 15,
   "metadata": {},
   "outputs": [
    {
     "data": {
      "text/plain": [
       "array([ 0.00047087,  0.00195789,  0.00042876])"
      ]
     },
     "execution_count": 15,
     "metadata": {},
     "output_type": "execute_result"
    }
   ],
   "source": [
    "J_grad"
   ]
  },
  {
   "cell_type": "code",
   "execution_count": 16,
   "metadata": {
    "scrolled": true
   },
   "outputs": [
    {
     "data": {
      "text/plain": [
       "0.00047142684200807139"
      ]
     },
     "execution_count": 16,
     "metadata": {},
     "output_type": "execute_result"
    }
   ],
   "source": [
    "(J1 - J0) / 0.000001  # check"
   ]
  },
  {
   "cell_type": "code",
   "execution_count": 17,
   "metadata": {},
   "outputs": [
    {
     "name": "stdout",
     "output_type": "stream",
     "text": [
      "[[ 0.  3.]\n",
      " [ 2.  0.]]\n",
      "[[ 0.  2.]\n",
      " [ 1.  0.]]\n",
      "[[ 0.  3.]\n",
      " [ 2.  0.]]\n",
      "[[ 0.  2.]\n",
      " [ 1.  0.]]\n"
     ]
    }
   ],
   "source": [
    "SRW_obj_0.loss = SRW_obj_1.loss = 'WMW'\n",
    "SRW_obj_0.norm_type = SRW_obj_1.norm_type = 'L1'\n",
    "J0, J_grad = SRW_obj_0.obj_func_and_grad(P0, P_grad, w0)\n",
    "J1, J_grad1 = SRW_obj_1.obj_func_and_grad(P1, P_grad, w1)"
   ]
  },
  {
   "cell_type": "code",
   "execution_count": 18,
   "metadata": {},
   "outputs": [
    {
     "data": {
      "text/plain": [
       "array([ 0.00421821, -0.00315465, -0.00093644])"
      ]
     },
     "execution_count": 18,
     "metadata": {},
     "output_type": "execute_result"
    }
   ],
   "source": [
    "J_grad"
   ]
  },
  {
   "cell_type": "code",
   "execution_count": 19,
   "metadata": {},
   "outputs": [
    {
     "data": {
      "text/plain": [
       "0.0042178278647497791"
      ]
     },
     "execution_count": 19,
     "metadata": {},
     "output_type": "execute_result"
    }
   ],
   "source": [
    "(J1 - J0) / 0.000001  # check"
   ]
  },
  {
   "cell_type": "markdown",
   "metadata": {
    "collapsed": true
   },
   "source": [
    "# This toy example is for checking the gradient descent functions"
   ]
  },
  {
   "cell_type": "code",
   "execution_count": 753,
   "metadata": {
    "collapsed": true
   },
   "outputs": [],
   "source": [
    "edges = [[0,1],[0,2],[0,3],[0,4],[0,5],[1,2],[1,3],[1,4],[1,5],[2,3],[2,4],[2,5],[3,4],[3,5],[4,5],\n",
    "         [1,0],[2,0],[3,0],[4,0],[5,0],[2,1],[3,1],[4,1],[5,1],[3,2],[4,2],[5,2],[4,3],[5,3],[5,4],\n",
    "         [0,0],[1,1],[2,2],[3,3],[4,4],[5,5]]\n",
    "edges = np.array(edges)\n",
    "features = csc_matrix([[.9,.4,0.,1.],[.9,.6,0.,1.],[.1,.4,0.,1.],[.1,.5,0.,1.],[.1,.6,0.,1.],[.9,.5,0.,1.],[.1,.4,0.,1.],[.1,.5,0.,1.],[.1,.6,0.,1.],[.1,.4,0.,1.],[.1,.5,0.,1.],[.1,.6,0.,1.],[.9,.4,0.,1.],[.9,.6,0.,1.],[.9,.5,0.,1.],\n",
    "                       [.9,.4,0.,1.],[.9,.6,0.,1.],[.1,.4,0.,1.],[.1,.5,0.,1.],[.1,.6,0.,1.],[.9,.5,0.,1.],[.1,.4,0.,1.],[.1,.5,0.,1.],[.1,.6,0.,1.],[.1,.4,0.,1.],[.1,.5,0.,1.],[.1,.6,0.,1.],[.9,.4,0.,1.],[.9,.6,0.,1.],[.9,.5,0.,1.],\n",
    "                       [.0,.0,1.,1.],[.0,.0,1.,1.],[.0,.0,1.,1.],[.0,.0,1.,1.],[.0,.0,1.,1.],[.0,.0,1.,1.]])\n",
    "rst_prob = 0.3\n",
    "P_init = mutation_profile = csr_matrix([[1,0,0,0,0,0],[0,1,0,0,0,0],[0,0,1,0,0,0],\n",
    "                                        [0,0,0,1,0,0],[0,0,0,0,1,0],[0,0,0,0,0,1]]).astype(float)\n",
    "nnodes = 6\n",
    "group_labels = [0, 0, 0, 1, 1, 1]\n",
    "lam = 2e-7\n",
    "feature_names = ['f1', 'f2', 'selfloop', 'intercept']\n",
    "node_names = ['n1', 'n2', 'n3', 'n4', 'n5', 'n6']\n",
    "sample_names = ['p1', 'p2', 'p3', 'p4', 'p5', 'p6']"
   ]
  },
  {
   "cell_type": "code",
   "execution_count": 754,
   "metadata": {
    "collapsed": true
   },
   "outputs": [],
   "source": [
    "SRW_obj_2 = SRW.SRW_solver(edges, features, nnodes, P_init, rst_prob, group_labels, lam, w_init_sd=0.01, \n",
    "                           w=None, feature_names=feature_names, sample_names=sample_names, \n",
    "                           node_names=node_names, loss='WMW', norm_type='L2', maximize_diff=False, \n",
    "                           learning_rate=1., update_w_func='Adam', P_init_val=P_init, \n",
    "                           group_labels_val=group_labels, eval_acc=True, ncpus=-1, maxit=1000, early_stop=10, \n",
    "                           WMW_b=0.005)"
   ]
  },
  {
   "cell_type": "code",
   "execution_count": 755,
   "metadata": {
    "scrolled": true
   },
   "outputs": [
    {
     "name": "stdout",
     "output_type": "stream",
     "text": [
      "finished calculating strength_grad: 19:03:15\n",
      "finished network propagation: 19:03:15\n",
      "finished calculating P_grad using pool: 19:03:15\n",
      "[[ 0.  3.]\n",
      " [ 3.  0.]]\n",
      "[[ 0.  0.]\n",
      " [ 0.  0.]]\n",
      "finished calculating J and J_grad: 19:03:15\n",
      "*** 0 iteration: J is 3.886811031e-05 cost_val is 3.88680131529e-05\n",
      "*** accuracy is 1.0 accuracy_val is 1.0\n",
      "[-0.01147596  0.01154667 -0.01485808 -0.00199309] \n",
      "\n",
      "finished calculating strength_grad: 19:03:15\n",
      "finished network propagation: 19:03:15\n",
      "finished calculating P_grad using pool: 19:03:15\n",
      "[[ 0.  3.]\n",
      " [ 3.  0.]]\n",
      "[[ 0.  0.]\n",
      " [ 0.  0.]]\n",
      "finished calculating J and J_grad: 19:03:15\n",
      "*** 1 iteration: J is 4.03438981704e-06 cost_val is 3.4497140586e-06\n",
      "*** accuracy is 1.0 accuracy_val is 1.0\n",
      "[ 0.9884015  -0.98807855  0.98495788  0.98831703] \n",
      "\n",
      "finished calculating strength_grad: 19:03:15\n",
      "finished network propagation: 19:03:15\n",
      "finished calculating P_grad using pool: 19:03:15\n",
      "[[ 0.  3.]\n",
      " [ 3.  0.]]\n",
      "[[ 0.  0.]\n",
      " [ 0.  0.]]\n",
      "finished calculating J and J_grad: 19:03:15\n",
      "*** 2 iteration: J is 1.7636361932e-06 cost_val is 2.35939742364e-08\n",
      "*** accuracy is 1.0 accuracy_val is 1.0\n",
      "[ 1.68208959 -1.7542009   1.67139609  0.35353865] \n",
      "\n",
      "finished calculating strength_grad: 19:03:15\n",
      "finished network propagation: 19:03:15\n",
      "finished calculating P_grad using pool: 19:03:16\n",
      "[[ 0.  3.]\n",
      " [ 3.  0.]]\n",
      "[[ 0.  0.]\n",
      " [ 0.  0.]]\n",
      "finished calculating J and J_grad: 19:03:16\n",
      "*** 3 iteration: J is 3.02959368929e-06 cost_val is 9.67990988451e-12\n",
      "*** accuracy is 1.0 accuracy_val is 1.0\n",
      "[ 2.21328423 -2.33119611  2.19426929 -0.14927717] \n",
      "\n",
      "finished calculating strength_grad: 19:03:16\n",
      "finished network propagation: 19:03:16\n",
      "finished calculating P_grad using pool: 19:03:16\n",
      "[[ 0.  3.]\n",
      " [ 3.  0.]]\n",
      "[[ 0.  0.]\n",
      " [ 0.  0.]]\n",
      "finished calculating J and J_grad: 19:03:16\n",
      "*** 4 iteration: J is 4.3112040224e-06 cost_val is 4.2113796264e-16\n",
      "*** accuracy is 1.0 accuracy_val is 1.0\n",
      "[ 2.64205744 -2.78338714  2.61310325 -0.56100134] \n",
      "\n",
      "finished calculating strength_grad: 19:03:16\n",
      "finished network propagation: 19:03:16\n",
      "finished calculating P_grad using pool: 19:03:16\n",
      "[[ 0.  3.]\n",
      " [ 3.  0.]]\n",
      "[[ 0.  0.]\n",
      " [ 0.  0.]]\n",
      "finished calculating J and J_grad: 19:03:16\n",
      "*** 5 iteration: J is 5.52034279854e-06 cost_val is 5.96361738346e-21\n",
      "*** accuracy is 1.0 accuracy_val is 1.0\n",
      "[ 2.99735515 -3.14269331  2.95652751 -0.90888251] \n",
      "\n",
      "finished calculating strength_grad: 19:03:16\n",
      "finished network propagation: 19:03:16\n",
      "finished calculating P_grad using pool: 19:03:16\n",
      "[[ 0.  3.]\n",
      " [ 3.  0.]]\n",
      "[[ 0.  0.]\n",
      " [ 0.  0.]]\n",
      "finished calculating J and J_grad: 19:03:16\n",
      "*** 6 iteration: J is 6.6231933552e-06 cost_val is 9.98497310566e-26\n",
      "*** accuracy is 1.0 accuracy_val is 1.0\n",
      "[ 3.29585203 -3.42766609  3.24105405 -1.20861785] \n",
      "\n",
      "finished calculating strength_grad: 19:03:16\n",
      "finished network propagation: 19:03:16\n",
      "finished calculating P_grad using pool: 19:03:16\n",
      "[[ 0.  3.]\n",
      " [ 3.  0.]]\n",
      "[[ 0.  0.]\n",
      " [ 0.  0.]]\n",
      "finished calculating J and J_grad: 19:03:16\n",
      "*** 7 iteration: J is 7.60165853344e-06 cost_val is 4.965855623e-30\n",
      "*** accuracy is 1.0 accuracy_val is 1.0\n",
      "[ 3.54829433 -3.65046855  3.47735235 -1.47030308] \n",
      "\n",
      "finished calculating strength_grad: 19:03:16\n",
      "finished network propagation: 19:03:16\n",
      "finished calculating P_grad using pool: 19:03:16\n",
      "[[ 0.  3.]\n",
      " [ 3.  0.]]\n",
      "[[ 0.  0.]\n",
      " [ 0.  0.]]\n",
      "finished calculating J and J_grad: 19:03:16\n",
      "*** 8 iteration: J is 8.44692311789e-06 cost_val is 1.1047431063e-33\n",
      "*** accuracy is 1.0 accuracy_val is 1.0\n",
      "[ 3.76215729 -3.8197862   3.67287646 -1.70093289] \n",
      "\n",
      "finished calculating strength_grad: 19:03:16\n",
      "finished network propagation: 19:03:16\n",
      "finished calculating P_grad using pool: 19:03:17\n",
      "[[ 0.  3.]\n",
      " [ 3.  0.]]\n",
      "[[ 0.  0.]\n",
      " [ 0.  0.]]\n",
      "finished calculating J and J_grad: 19:03:17\n",
      "*** 9 iteration: J is 9.15619510702e-06 cost_val is 1.14687371161e-36\n",
      "*** accuracy is 1.0 accuracy_val is 1.0\n",
      "[ 3.94293915 -3.94223552  3.83314303 -1.90562002] \n",
      "\n",
      "finished calculating strength_grad: 19:03:17\n",
      "finished network propagation: 19:03:17\n",
      "finished calculating P_grad using pool: 19:03:17\n",
      "[[ 0.  3.]\n",
      " [ 3.  0.]]\n",
      "[[ 0.  0.]\n",
      " [ 0.  0.]]\n",
      "finished calculating J and J_grad: 19:03:17\n",
      "*** 10 iteration: J is 9.73083115105e-06 cost_val is 4.80998476902e-39\n",
      "*** accuracy is 1.0 accuracy_val is 1.0\n",
      "[ 4.09486068 -4.02311913  3.96242151 -2.08825531] \n",
      "\n",
      "finished calculating strength_grad: 19:03:17\n",
      "finished network propagation: 19:03:17\n",
      "finished calculating P_grad using pool: 19:03:17\n",
      "[[ 0.  3.]\n",
      " [ 3.  0.]]\n",
      "[[ 0.  0.]\n",
      " [ 0.  0.]]\n",
      "finished calculating J and J_grad: 19:03:17\n",
      "*** 11 iteration: J is 1.01751454321e-05 cost_val is 6.62456615962e-41\n",
      "*** accuracy is 1.0 accuracy_val is 1.0\n",
      "[ 4.22127384 -4.06686201  4.06413677 -2.25189397] \n",
      "\n",
      "finished calculating strength_grad: 19:03:17\n",
      "finished network propagation: 19:03:17\n",
      "finished calculating P_grad using pool: 19:03:17\n",
      "[[ 0.  3.]\n",
      " [ 3.  0.]]\n",
      "[[ 0.  0.]\n",
      " [ 0.  0.]]\n",
      "finished calculating J and J_grad: 19:03:17\n",
      "*** 12 iteration: J is 1.04955898687e-05 cost_val is 2.43669242093e-42\n",
      "*** accuracy is 1.0 accuracy_val is 1.0\n",
      "[ 4.32491522 -4.07727814  4.14111829 -2.39899556] \n",
      "\n",
      "finished calculating strength_grad: 19:03:17\n",
      "finished network propagation: 19:03:17\n",
      "finished calculating P_grad using pool: 19:03:17\n",
      "[[ 0.  3.]\n",
      " [ 3.  0.]]\n",
      "[[ 0.  0.]\n",
      " [ 0.  0.]]\n",
      "finished calculating J and J_grad: 19:03:17\n",
      "*** 13 iteration: J is 1.07001529597e-05 cost_val is 2.00094058213e-43\n",
      "*** accuracy is 1.0 accuracy_val is 1.0\n",
      "[ 4.40807078 -4.05774072  4.1957618  -2.53158055] \n",
      "\n",
      "finished calculating strength_grad: 19:03:17\n",
      "finished network propagation: 19:03:17\n",
      "finished calculating P_grad using pool: 19:03:17\n",
      "[[ 0.  3.]\n",
      " [ 3.  0.]]\n",
      "[[ 0.  0.]\n",
      " [ 0.  0.]]\n",
      "finished calculating J and J_grad: 19:03:17\n",
      "*** 14 iteration: J is 1.07978969673e-05 cost_val is 3.16972701758e-44\n",
      "*** accuracy is 1.0 accuracy_val is 1.0\n",
      "[ 4.4726873  -4.01129455  4.2301382  -2.65133638] \n",
      "\n",
      "finished calculating strength_grad: 19:03:18\n",
      "finished network propagation: 19:03:18\n",
      "finished calculating P_grad using pool: 19:03:18\n",
      "[[ 0.  3.]\n",
      " [ 3.  0.]]\n",
      "[[ 0.  0.]\n",
      " [ 0.  0.]]\n",
      "finished calculating J and J_grad: 19:03:18\n",
      "*** 15 iteration: J is 1.0798588691e-05 cost_val is 8.64864666692e-45\n",
      "*** accuracy is 1.0 accuracy_val is 1.0\n",
      "[ 4.52045006 -3.94073224  4.24606926 -2.75969195] \n",
      "\n"
     ]
    }
   ],
   "source": [
    "SRW_obj_2.train_SRW_GD()"
   ]
  },
  {
   "cell_type": "code",
   "execution_count": 756,
   "metadata": {
    "collapsed": true
   },
   "outputs": [],
   "source": [
    "SRW_obj_2.generate_Q_and_P_fin()"
   ]
  },
  {
   "cell_type": "code",
   "execution_count": 757,
   "metadata": {},
   "outputs": [
    {
     "data": {
      "text/plain": [
       "array([ 4.52045006, -3.94073224,  4.24606926, -2.75969195])"
      ]
     },
     "execution_count": 757,
     "metadata": {},
     "output_type": "execute_result"
    }
   ],
   "source": [
    "SRW_obj_2.w"
   ]
  },
  {
   "cell_type": "code",
   "execution_count": 758,
   "metadata": {
    "scrolled": true
   },
   "outputs": [
    {
     "name": "stdout",
     "output_type": "stream",
     "text": [
      "BFGS does not work on this loss function. Please use gradient descent instead\n"
     ]
    }
   ],
   "source": [
    "SRW_obj_2.train_SRW_BFGS()"
   ]
  },
  {
   "cell_type": "code",
   "execution_count": 759,
   "metadata": {
    "collapsed": true
   },
   "outputs": [],
   "source": [
    "SRW_obj_2.generate_Q_and_P_fin()"
   ]
  },
  {
   "cell_type": "code",
   "execution_count": 760,
   "metadata": {},
   "outputs": [
    {
     "data": {
      "text/html": [
       "<div>\n",
       "<style>\n",
       "    .dataframe thead tr:only-child th {\n",
       "        text-align: right;\n",
       "    }\n",
       "\n",
       "    .dataframe thead th {\n",
       "        text-align: left;\n",
       "    }\n",
       "\n",
       "    .dataframe tbody tr th {\n",
       "        vertical-align: top;\n",
       "    }\n",
       "</style>\n",
       "<table border=\"1\" class=\"dataframe\">\n",
       "  <thead>\n",
       "    <tr style=\"text-align: right;\">\n",
       "      <th></th>\n",
       "      <th>Weight</th>\n",
       "    </tr>\n",
       "  </thead>\n",
       "  <tbody>\n",
       "    <tr>\n",
       "      <th>f1</th>\n",
       "      <td>4.520450</td>\n",
       "    </tr>\n",
       "    <tr>\n",
       "      <th>f2</th>\n",
       "      <td>-3.940732</td>\n",
       "    </tr>\n",
       "    <tr>\n",
       "      <th>selfloop</th>\n",
       "      <td>4.246069</td>\n",
       "    </tr>\n",
       "    <tr>\n",
       "      <th>intercept</th>\n",
       "      <td>-2.759692</td>\n",
       "    </tr>\n",
       "  </tbody>\n",
       "</table>\n",
       "</div>"
      ],
      "text/plain": [
       "             Weight\n",
       "f1         4.520450\n",
       "f2        -3.940732\n",
       "selfloop   4.246069\n",
       "intercept -2.759692"
      ]
     },
     "execution_count": 760,
     "metadata": {},
     "output_type": "execute_result"
    }
   ],
   "source": [
    "SRW_obj_2.w_map"
   ]
  },
  {
   "cell_type": "markdown",
   "metadata": {},
   "source": [
    "### Check the transition matrix Q and propagation scores P"
   ]
  },
  {
   "cell_type": "code",
   "execution_count": 761,
   "metadata": {
    "scrolled": false
   },
   "outputs": [
    {
     "data": {
      "text/html": [
       "<div>\n",
       "<style>\n",
       "    .dataframe thead tr:only-child th {\n",
       "        text-align: right;\n",
       "    }\n",
       "\n",
       "    .dataframe thead th {\n",
       "        text-align: left;\n",
       "    }\n",
       "\n",
       "    .dataframe tbody tr th {\n",
       "        vertical-align: top;\n",
       "    }\n",
       "</style>\n",
       "<table border=\"1\" class=\"dataframe\">\n",
       "  <thead>\n",
       "    <tr style=\"text-align: right;\">\n",
       "      <th></th>\n",
       "      <th>n1</th>\n",
       "      <th>n2</th>\n",
       "      <th>n3</th>\n",
       "      <th>n4</th>\n",
       "      <th>n5</th>\n",
       "      <th>n6</th>\n",
       "    </tr>\n",
       "  </thead>\n",
       "  <tbody>\n",
       "    <tr>\n",
       "      <th>n1</th>\n",
       "      <td>0.526061</td>\n",
       "      <td>0.279631</td>\n",
       "      <td>0.166505</td>\n",
       "      <td>0.013001</td>\n",
       "      <td>0.008825</td>\n",
       "      <td>0.005977</td>\n",
       "    </tr>\n",
       "    <tr>\n",
       "      <th>n2</th>\n",
       "      <td>0.265544</td>\n",
       "      <td>0.499560</td>\n",
       "      <td>0.208495</td>\n",
       "      <td>0.012346</td>\n",
       "      <td>0.008380</td>\n",
       "      <td>0.005676</td>\n",
       "    </tr>\n",
       "    <tr>\n",
       "      <th>n3</th>\n",
       "      <td>0.177147</td>\n",
       "      <td>0.233588</td>\n",
       "      <td>0.559685</td>\n",
       "      <td>0.013832</td>\n",
       "      <td>0.009389</td>\n",
       "      <td>0.006359</td>\n",
       "    </tr>\n",
       "    <tr>\n",
       "      <th>n4</th>\n",
       "      <td>0.012857</td>\n",
       "      <td>0.012857</td>\n",
       "      <td>0.012857</td>\n",
       "      <td>0.520235</td>\n",
       "      <td>0.276533</td>\n",
       "      <td>0.164661</td>\n",
       "    </tr>\n",
       "    <tr>\n",
       "      <th>n5</th>\n",
       "      <td>0.008391</td>\n",
       "      <td>0.008391</td>\n",
       "      <td>0.008391</td>\n",
       "      <td>0.265879</td>\n",
       "      <td>0.500191</td>\n",
       "      <td>0.208758</td>\n",
       "    </tr>\n",
       "    <tr>\n",
       "      <th>n6</th>\n",
       "      <td>0.006427</td>\n",
       "      <td>0.006427</td>\n",
       "      <td>0.006427</td>\n",
       "      <td>0.179028</td>\n",
       "      <td>0.236067</td>\n",
       "      <td>0.565625</td>\n",
       "    </tr>\n",
       "  </tbody>\n",
       "</table>\n",
       "</div>"
      ],
      "text/plain": [
       "          n1        n2        n3        n4        n5        n6\n",
       "n1  0.526061  0.279631  0.166505  0.013001  0.008825  0.005977\n",
       "n2  0.265544  0.499560  0.208495  0.012346  0.008380  0.005676\n",
       "n3  0.177147  0.233588  0.559685  0.013832  0.009389  0.006359\n",
       "n4  0.012857  0.012857  0.012857  0.520235  0.276533  0.164661\n",
       "n5  0.008391  0.008391  0.008391  0.265879  0.500191  0.208758\n",
       "n6  0.006427  0.006427  0.006427  0.179028  0.236067  0.565625"
      ]
     },
     "execution_count": 761,
     "metadata": {},
     "output_type": "execute_result"
    }
   ],
   "source": [
    "SRW_obj_2.Q_fin_df"
   ]
  },
  {
   "cell_type": "code",
   "execution_count": 762,
   "metadata": {},
   "outputs": [
    {
     "data": {
      "text/html": [
       "<div>\n",
       "<style>\n",
       "    .dataframe thead tr:only-child th {\n",
       "        text-align: right;\n",
       "    }\n",
       "\n",
       "    .dataframe thead th {\n",
       "        text-align: left;\n",
       "    }\n",
       "\n",
       "    .dataframe tbody tr th {\n",
       "        vertical-align: top;\n",
       "    }\n",
       "</style>\n",
       "<table border=\"1\" class=\"dataframe\">\n",
       "  <thead>\n",
       "    <tr style=\"text-align: right;\">\n",
       "      <th></th>\n",
       "      <th>n1</th>\n",
       "      <th>n2</th>\n",
       "      <th>n3</th>\n",
       "      <th>n4</th>\n",
       "      <th>n5</th>\n",
       "      <th>n6</th>\n",
       "    </tr>\n",
       "  </thead>\n",
       "  <tbody>\n",
       "    <tr>\n",
       "      <th>p1</th>\n",
       "      <td>0.569533</td>\n",
       "      <td>0.212438</td>\n",
       "      <td>0.160748</td>\n",
       "      <td>0.022257</td>\n",
       "      <td>0.019527</td>\n",
       "      <td>0.015497</td>\n",
       "    </tr>\n",
       "    <tr>\n",
       "      <th>p2</th>\n",
       "      <td>0.201736</td>\n",
       "      <td>0.566691</td>\n",
       "      <td>0.175262</td>\n",
       "      <td>0.021880</td>\n",
       "      <td>0.019196</td>\n",
       "      <td>0.015235</td>\n",
       "    </tr>\n",
       "    <tr>\n",
       "      <th>p3</th>\n",
       "      <td>0.171023</td>\n",
       "      <td>0.196355</td>\n",
       "      <td>0.573782</td>\n",
       "      <td>0.022863</td>\n",
       "      <td>0.020058</td>\n",
       "      <td>0.015919</td>\n",
       "    </tr>\n",
       "    <tr>\n",
       "      <th>p4</th>\n",
       "      <td>0.022010</td>\n",
       "      <td>0.022786</td>\n",
       "      <td>0.021251</td>\n",
       "      <td>0.565432</td>\n",
       "      <td>0.209491</td>\n",
       "      <td>0.159029</td>\n",
       "    </tr>\n",
       "    <tr>\n",
       "      <th>p5</th>\n",
       "      <td>0.018567</td>\n",
       "      <td>0.019221</td>\n",
       "      <td>0.017926</td>\n",
       "      <td>0.201420</td>\n",
       "      <td>0.566904</td>\n",
       "      <td>0.175962</td>\n",
       "    </tr>\n",
       "    <tr>\n",
       "      <th>p6</th>\n",
       "      <td>0.016663</td>\n",
       "      <td>0.017250</td>\n",
       "      <td>0.016088</td>\n",
       "      <td>0.172905</td>\n",
       "      <td>0.198981</td>\n",
       "      <td>0.578114</td>\n",
       "    </tr>\n",
       "  </tbody>\n",
       "</table>\n",
       "</div>"
      ],
      "text/plain": [
       "          n1        n2        n3        n4        n5        n6\n",
       "p1  0.569533  0.212438  0.160748  0.022257  0.019527  0.015497\n",
       "p2  0.201736  0.566691  0.175262  0.021880  0.019196  0.015235\n",
       "p3  0.171023  0.196355  0.573782  0.022863  0.020058  0.015919\n",
       "p4  0.022010  0.022786  0.021251  0.565432  0.209491  0.159029\n",
       "p5  0.018567  0.019221  0.017926  0.201420  0.566904  0.175962\n",
       "p6  0.016663  0.017250  0.016088  0.172905  0.198981  0.578114"
      ]
     },
     "execution_count": 762,
     "metadata": {},
     "output_type": "execute_result"
    }
   ],
   "source": [
    "SRW_obj_2.P_fin_df"
   ]
  },
  {
   "cell_type": "code",
   "execution_count": 763,
   "metadata": {},
   "outputs": [
    {
     "name": "stdout",
     "output_type": "stream",
     "text": [
      "*** cost is 8.64864666692e-45 cost_val is 8.64864666692e-45\n",
      "*** accuracy is 1.0 accuracy_val is 1.0\n"
     ]
    }
   ],
   "source": [
    "print '*** cost is', SRW_obj_2.cost, 'cost_val is', SRW_obj_2.cost_val\n",
    "print '*** accuracy is', SRW_obj_2.accuracy, 'accuracy_val is', SRW_obj_2.accuracy_val"
   ]
  },
  {
   "cell_type": "markdown",
   "metadata": {},
   "source": [
    "### Compare with unweighted random walk"
   ]
  },
  {
   "cell_type": "code",
   "execution_count": 56,
   "metadata": {
    "collapsed": true
   },
   "outputs": [],
   "source": [
    "SRW_obj_3 = SRW.SRW_solver(edges, features, nnodes, P_init, rst_prob, group_labels, lam, w_init_sd=0.01, \n",
    "                           w=[0.,0.,0.,0.], \n",
    "                           feature_names=feature_names, loss='squared', norm_type='L2', maximize_diff=False, \n",
    "                           learning_rate=1, update_w_func='Adam', P_init_val=P_init, \n",
    "                           group_labels_val=group_labels, eval_acc=True)\n",
    "SRW_obj_3.generate_Q_and_P_fin()"
   ]
  },
  {
   "cell_type": "code",
   "execution_count": 57,
   "metadata": {},
   "outputs": [
    {
     "data": {
      "text/plain": [
       "array([[ 0.16666667,  0.16666667,  0.16666667,  0.16666667,  0.16666667,\n",
       "         0.16666667],\n",
       "       [ 0.16666667,  0.16666667,  0.16666667,  0.16666667,  0.16666667,\n",
       "         0.16666667],\n",
       "       [ 0.16666667,  0.16666667,  0.16666667,  0.16666667,  0.16666667,\n",
       "         0.16666667],\n",
       "       [ 0.16666667,  0.16666667,  0.16666667,  0.16666667,  0.16666667,\n",
       "         0.16666667],\n",
       "       [ 0.16666667,  0.16666667,  0.16666667,  0.16666667,  0.16666667,\n",
       "         0.16666667],\n",
       "       [ 0.16666667,  0.16666667,  0.16666667,  0.16666667,  0.16666667,\n",
       "         0.16666667]])"
      ]
     },
     "execution_count": 57,
     "metadata": {},
     "output_type": "execute_result"
    }
   ],
   "source": [
    "SRW_obj_3.Q_fin.toarray()"
   ]
  },
  {
   "cell_type": "code",
   "execution_count": 58,
   "metadata": {},
   "outputs": [
    {
     "data": {
      "text/plain": [
       "array([[ 0.29166667,  0.14166667,  0.14166667,  0.14166667,  0.14166667,\n",
       "         0.14166667],\n",
       "       [ 0.14166667,  0.29166667,  0.14166667,  0.14166667,  0.14166667,\n",
       "         0.14166667],\n",
       "       [ 0.14166667,  0.14166667,  0.29166667,  0.14166667,  0.14166667,\n",
       "         0.14166667],\n",
       "       [ 0.14166667,  0.14166667,  0.14166667,  0.29166667,  0.14166667,\n",
       "         0.14166667],\n",
       "       [ 0.14166667,  0.14166667,  0.14166667,  0.14166667,  0.29166667,\n",
       "         0.14166667],\n",
       "       [ 0.14166667,  0.14166667,  0.14166667,  0.14166667,  0.14166667,\n",
       "         0.29166667]])"
      ]
     },
     "execution_count": 58,
     "metadata": {},
     "output_type": "execute_result"
    }
   ],
   "source": [
    "SRW_obj_3.P_fin"
   ]
  },
  {
   "cell_type": "code",
   "execution_count": 59,
   "metadata": {},
   "outputs": [
    {
     "data": {
      "text/plain": [
       "0.0899999999999999"
      ]
     },
     "execution_count": 59,
     "metadata": {},
     "output_type": "execute_result"
    }
   ],
   "source": [
    "SRW_obj_3.calc_cost_val(SRW_obj_3.P_fin)\n",
    "SRW_obj_3.cost_val"
   ]
  },
  {
   "cell_type": "code",
   "execution_count": null,
   "metadata": {
    "collapsed": true
   },
   "outputs": [],
   "source": []
  },
  {
   "cell_type": "markdown",
   "metadata": {
    "collapsed": true
   },
   "source": [
    "# Scratch"
   ]
  },
  {
   "cell_type": "code",
   "execution_count": 154,
   "metadata": {
    "collapsed": true
   },
   "outputs": [],
   "source": [
    "import pandas as pd"
   ]
  },
  {
   "cell_type": "code",
   "execution_count": 158,
   "metadata": {
    "scrolled": true
   },
   "outputs": [
    {
     "data": {
      "text/html": [
       "<div>\n",
       "<style>\n",
       "    .dataframe thead tr:only-child th {\n",
       "        text-align: right;\n",
       "    }\n",
       "\n",
       "    .dataframe thead th {\n",
       "        text-align: left;\n",
       "    }\n",
       "\n",
       "    .dataframe tbody tr th {\n",
       "        vertical-align: top;\n",
       "    }\n",
       "</style>\n",
       "<table border=\"1\" class=\"dataframe\">\n",
       "  <thead>\n",
       "    <tr style=\"text-align: right;\">\n",
       "      <th></th>\n",
       "      <th>n1</th>\n",
       "      <th>n2</th>\n",
       "      <th>n3</th>\n",
       "      <th>n4</th>\n",
       "      <th>n5</th>\n",
       "      <th>n6</th>\n",
       "    </tr>\n",
       "  </thead>\n",
       "  <tbody>\n",
       "    <tr>\n",
       "      <th>p1</th>\n",
       "      <td>1.0</td>\n",
       "      <td>0.0</td>\n",
       "      <td>0.0</td>\n",
       "      <td>0.0</td>\n",
       "      <td>0.0</td>\n",
       "      <td>0.0</td>\n",
       "    </tr>\n",
       "    <tr>\n",
       "      <th>p2</th>\n",
       "      <td>0.0</td>\n",
       "      <td>1.0</td>\n",
       "      <td>0.0</td>\n",
       "      <td>0.0</td>\n",
       "      <td>0.0</td>\n",
       "      <td>0.0</td>\n",
       "    </tr>\n",
       "    <tr>\n",
       "      <th>p3</th>\n",
       "      <td>0.0</td>\n",
       "      <td>0.0</td>\n",
       "      <td>1.0</td>\n",
       "      <td>0.0</td>\n",
       "      <td>0.0</td>\n",
       "      <td>0.0</td>\n",
       "    </tr>\n",
       "    <tr>\n",
       "      <th>p4</th>\n",
       "      <td>0.0</td>\n",
       "      <td>0.0</td>\n",
       "      <td>0.0</td>\n",
       "      <td>1.0</td>\n",
       "      <td>0.0</td>\n",
       "      <td>0.0</td>\n",
       "    </tr>\n",
       "    <tr>\n",
       "      <th>p5</th>\n",
       "      <td>0.0</td>\n",
       "      <td>0.0</td>\n",
       "      <td>0.0</td>\n",
       "      <td>0.0</td>\n",
       "      <td>1.0</td>\n",
       "      <td>0.0</td>\n",
       "    </tr>\n",
       "    <tr>\n",
       "      <th>p6</th>\n",
       "      <td>0.0</td>\n",
       "      <td>0.0</td>\n",
       "      <td>0.0</td>\n",
       "      <td>0.0</td>\n",
       "      <td>0.0</td>\n",
       "      <td>1.0</td>\n",
       "    </tr>\n",
       "  </tbody>\n",
       "</table>\n",
       "</div>"
      ],
      "text/plain": [
       "     n1   n2   n3   n4   n5   n6\n",
       "p1  1.0  0.0  0.0  0.0  0.0  0.0\n",
       "p2  0.0  1.0  0.0  0.0  0.0  0.0\n",
       "p3  0.0  0.0  1.0  0.0  0.0  0.0\n",
       "p4  0.0  0.0  0.0  1.0  0.0  0.0\n",
       "p5  0.0  0.0  0.0  0.0  1.0  0.0\n",
       "p6  0.0  0.0  0.0  0.0  0.0  1.0"
      ]
     },
     "execution_count": 158,
     "metadata": {},
     "output_type": "execute_result"
    }
   ],
   "source": [
    "pd.DataFrame(SRW_obj_2.P_init.toarray(), index=['p1', 'p2', 'p3', 'p4', 'p5', 'p6'], \n",
    "             columns=['n1', 'n2', 'n3', 'n4', 'n5', 'n6'])"
   ]
  },
  {
   "cell_type": "code",
   "execution_count": null,
   "metadata": {
    "collapsed": true
   },
   "outputs": [],
   "source": []
  }
 ],
 "metadata": {
  "kernelspec": {
   "display_name": "Python 2",
   "language": "python",
   "name": "python2"
  },
  "language_info": {
   "codemirror_mode": {
    "name": "ipython",
    "version": 2
   },
   "file_extension": ".py",
   "mimetype": "text/x-python",
   "name": "python",
   "nbconvert_exporter": "python",
   "pygments_lexer": "ipython2",
   "version": "2.7.13"
  }
 },
 "nbformat": 4,
 "nbformat_minor": 2
}
