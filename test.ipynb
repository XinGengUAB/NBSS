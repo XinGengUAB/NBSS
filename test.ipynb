{
 "cells": [
  {
   "cell_type": "code",
   "execution_count": 1,
   "metadata": {
    "collapsed": true
   },
   "outputs": [],
   "source": [
    "%load_ext autoreload\n",
    "%autoreload 2"
   ]
  },
  {
   "cell_type": "code",
   "execution_count": 3,
   "metadata": {},
   "outputs": [],
   "source": [
    "import numpy as np\n",
    "import SRW\n",
    "from collections import Counter"
   ]
  },
  {
   "cell_type": "markdown",
   "metadata": {},
   "source": [
    "# This toy example is for checking the partial derivatives"
   ]
  },
  {
   "cell_type": "code",
   "execution_count": 4,
   "metadata": {
    "collapsed": true
   },
   "outputs": [],
   "source": [
    "edges = [[0,1],[0,2],[1,2],[1,0],[2,0],[2,1]]\n",
    "features = np.array([[0.9,0.1],[0.1,0.9],[0.5,0.5],[0.9,0.1],[0.1,0.9],[0.5,0.5]])\n",
    "w0 = np.array([0.7,0.3])\n",
    "w1 = np.array([0.7,0.300001])\n",
    "rst_prob = 0.5\n",
    "P_init = mutation_profile = [[1,0,0],[0,1,0],[0,1,1],[1,1,0],[1,1,1]]\n",
    "nnodes = 3\n",
    "group_lables = [0, 0, 1, 1, 1]\n",
    "lam = 0.001"
   ]
  },
  {
   "cell_type": "code",
   "execution_count": 5,
   "metadata": {
    "collapsed": true
   },
   "outputs": [],
   "source": [
    "Q0, Q_grad = SRW.generate_Q_and_gradient(edges, nnodes, features, w0)\n",
    "Q1, Q_grad1 = SRW.generate_Q_and_gradient(edges, nnodes, features, w1)"
   ]
  },
  {
   "cell_type": "code",
   "execution_count": 6,
   "metadata": {},
   "outputs": [
    {
     "data": {
      "text/plain": [
       "array([[[ 0.        ,  0.06602963, -0.06602963],\n",
       "        [ 0.02944953,  0.        , -0.02944953],\n",
       "        [-0.03676033,  0.03676033,  0.        ]],\n",
       "\n",
       "       [[ 0.        , -0.08472869,  0.08472869],\n",
       "        [-0.03864221,  0.        ,  0.03864221],\n",
       "        [ 0.04631791, -0.04631791,  0.        ]]])"
      ]
     },
     "execution_count": 6,
     "metadata": {},
     "output_type": "execute_result"
    }
   ],
   "source": [
    "Q_grad"
   ]
  },
  {
   "cell_type": "code",
   "execution_count": 7,
   "metadata": {},
   "outputs": [
    {
     "data": {
      "text/plain": [
       "array([[ 0.        , -0.08472867,  0.08472867],\n",
       "       [-0.0386422 ,  0.        ,  0.0386422 ],\n",
       "       [ 0.0463179 , -0.0463179 ,  0.        ]])"
      ]
     },
     "execution_count": 7,
     "metadata": {},
     "output_type": "execute_result"
    }
   ],
   "source": [
    "(Q1 - Q0) / 0.000001 # check"
   ]
  },
  {
   "cell_type": "code",
   "execution_count": 8,
   "metadata": {
    "collapsed": true
   },
   "outputs": [],
   "source": [
    "P0 = SRW.iterative_PPR(Q0, mutation_profile, rst_prob)\n",
    "P1 = SRW.iterative_PPR(Q1, mutation_profile, rst_prob)"
   ]
  },
  {
   "cell_type": "code",
   "execution_count": 9,
   "metadata": {},
   "outputs": [
    {
     "data": {
      "text/plain": [
       "array([[[ -1.37842111e-04,   1.85449268e-02,  -1.84070847e-02],\n",
       "        [  4.38374474e-03,   8.16865825e-03,  -1.25524030e-02],\n",
       "        [ -9.14792575e-04,   1.10144385e-02,  -1.00996460e-02],\n",
       "        [  2.12295131e-03,   1.33567925e-02,  -1.54797438e-02],\n",
       "        [ -6.55809087e-04,   1.35246013e-02,  -1.28687922e-02]],\n",
       "\n",
       "       [[  4.03436264e-05,  -2.37325578e-02,   2.36922142e-02],\n",
       "        [ -5.89826629e-03,  -1.04177323e-02,   1.63159986e-02],\n",
       "        [  9.00786327e-04,  -1.40012357e-02,   1.31004493e-02],\n",
       "        [ -2.92896133e-03,  -1.70751451e-02,   2.00041064e-02],\n",
       "        [  6.13972093e-04,  -1.72450097e-02,   1.66310376e-02]]])"
      ]
     },
     "execution_count": 9,
     "metadata": {},
     "output_type": "execute_result"
    }
   ],
   "source": [
    "P_grad = SRW.iterative_P_gradient(P0, Q0, Q_grad, rst_prob)\n",
    "P_grad"
   ]
  },
  {
   "cell_type": "code",
   "execution_count": 10,
   "metadata": {},
   "outputs": [
    {
     "data": {
      "text/plain": [
       "array([[  4.00703914e-05,  -2.37318405e-02,   2.36917700e-02],\n",
       "       [ -5.89760663e-03,  -1.04185502e-02,   1.63161568e-02],\n",
       "       [  9.00890473e-04,  -1.40015377e-02,   1.31006472e-02],\n",
       "       [ -2.92876801e-03,  -1.70751954e-02,   2.00039634e-02],\n",
       "       [  6.13950391e-04,  -1.72449720e-02,   1.66310215e-02]])"
      ]
     },
     "execution_count": 10,
     "metadata": {},
     "output_type": "execute_result"
    }
   ],
   "source": [
    "(P1 - P0) / 0.000001 # check"
   ]
  },
  {
   "cell_type": "code",
   "execution_count": 11,
   "metadata": {
    "collapsed": true
   },
   "outputs": [],
   "source": [
    "group2npairs = SRW.count_numbers_per_group(group_lables)"
   ]
  },
  {
   "cell_type": "code",
   "execution_count": 12,
   "metadata": {
    "collapsed": true
   },
   "outputs": [],
   "source": [
    "J0 = SRW.obj_func(P0, group_lables, group2npairs, lam, w0)\n",
    "J1 = SRW.obj_func(P1, group_lables, group2npairs, lam, w1)"
   ]
  },
  {
   "cell_type": "code",
   "execution_count": 13,
   "metadata": {},
   "outputs": [
    {
     "data": {
      "text/plain": [
       "array([-0.00884211,  0.01386413])"
      ]
     },
     "execution_count": 13,
     "metadata": {},
     "output_type": "execute_result"
    }
   ],
   "source": [
    "J_grad = SRW.obj_func_gradient(Q0, Q_grad, P0, P_grad, group_lables, group2npairs, lam, w0)\n",
    "J_grad"
   ]
  },
  {
   "cell_type": "code",
   "execution_count": 14,
   "metadata": {
    "scrolled": true
   },
   "outputs": [
    {
     "data": {
      "text/plain": [
       "0.013862237024930835"
      ]
     },
     "execution_count": 14,
     "metadata": {},
     "output_type": "execute_result"
    }
   ],
   "source": [
    "(J1 - J0) / 0.000001  # check"
   ]
  },
  {
   "cell_type": "code",
   "execution_count": 20,
   "metadata": {},
   "outputs": [],
   "source": [
    "J0 = SRW.obj_func(P0, group_lables, group2npairs, lam, w0, 'absolute', 'L1', True)\n",
    "J1 = SRW.obj_func(P1, group_lables, group2npairs, lam, w1, 'absolute', 'L1', True)"
   ]
  },
  {
   "cell_type": "code",
   "execution_count": 23,
   "metadata": {},
   "outputs": [
    {
     "data": {
      "text/plain": [
       "array([-0.00049987,  0.00312944])"
      ]
     },
     "execution_count": 23,
     "metadata": {},
     "output_type": "execute_result"
    }
   ],
   "source": [
    "J_grad = SRW.obj_func_gradient(Q0, Q_grad, P0, P_grad, group_lables, group2npairs, lam, w0, 'absolute', 'L1', True)\n",
    "J_grad"
   ]
  },
  {
   "cell_type": "code",
   "execution_count": 24,
   "metadata": {},
   "outputs": [
    {
     "data": {
      "text/plain": [
       "0.0031285922741375316"
      ]
     },
     "execution_count": 24,
     "metadata": {},
     "output_type": "execute_result"
    }
   ],
   "source": [
    "(J1 - J0) / 0.000001  # check"
   ]
  },
  {
   "cell_type": "markdown",
   "metadata": {
    "collapsed": true
   },
   "source": [
    "# This toy example is for checking the gradient descent functions"
   ]
  },
  {
   "cell_type": "code",
   "execution_count": 150,
   "metadata": {
    "collapsed": true
   },
   "outputs": [],
   "source": [
    "edges = [[0,1],[0,2],[0,3],[0,4],[0,5],[1,2],[1,3],[1,4],[1,5],[2,3],[2,4],[2,5],[3,4],[3,5],[4,5],\n",
    "         [1,0],[2,0],[3,0],[4,0],[5,0],[2,1],[3,1],[4,1],[5,1],[3,2],[4,2],[5,2],[4,3],[5,3],[5,4],\n",
    "         [0,0],[1,1],[2,2],[3,3],[4,4],[5,5]]\n",
    "features = np.array([[.9,.4,0.,1.],[.9,.6,0.,1.],[.1,.4,0.,1.],[.1,.5,0.,1.],[.1,.6,0.,1.],[.9,.5,0.,1.],[.1,.4,0.,1.],[.1,.5,0.,1.],[.1,.6,0.,1.],[.1,.4,0.,1.],[.1,.5,0.,1.],[.1,.6,0.,1.],[.9,.4,0.,1.],[.9,.6,0.,1.],[.9,.5,0.,1.],\n",
    "                     [.9,.4,0.,1.],[.9,.6,0.,1.],[.1,.4,0.,1.],[.1,.5,0.,1.],[.1,.6,0.,1.],[.9,.5,0.,1.],[.1,.4,0.,1.],[.1,.5,0.,1.],[.1,.6,0.,1.],[.1,.4,0.,1.],[.1,.5,0.,1.],[.1,.6,0.,1.],[.9,.4,0.,1.],[.9,.6,0.,1.],[.9,.5,0.,1.],\n",
    "                     [.0,.0,1.,1.],[.0,.0,1.,1.],[.0,.0,1.,1.],[.0,.0,1.,1.],[.0,.0,1.,1.],[.0,.0,1.,1.]])\n",
    "rst_prob = 0.15\n",
    "P_init = mutation_profile = [[1,0,0,0,0,0],[0,1,0,0,0,0],[0,0,1,0,0,0],\n",
    "                             [0,0,0,1,0,0],[0,0,0,0,1,0],[0,0,0,0,0,1]]\n",
    "nnodes = 6\n",
    "group_lables = [0, 0, 0, 1, 1, 1]\n",
    "lam = 1e-2\n",
    "w_init_sd = 0.01\n",
    "learning_rate = 0.001"
   ]
  },
  {
   "cell_type": "code",
   "execution_count": 151,
   "metadata": {
    "scrolled": true
   },
   "outputs": [
    {
     "name": "stdout",
     "output_type": "stream",
     "text": [
      "0 iteration: J is  0.299881052804\n",
      "1 iteration: J is  0.293656204843\n",
      "2 iteration: J is  0.289159352616\n",
      "3 iteration: J is  0.285466755373\n",
      "4 iteration: J is  0.28201002852\n",
      "5 iteration: J is  0.279692065652\n",
      "6 iteration: J is  0.276137568838\n",
      "7 iteration: J is  0.272836207268\n",
      "8 iteration: J is  0.269089322353\n",
      "9 iteration: J is  0.26482206925\n",
      "10 iteration: J is  0.260163983951\n",
      "11 iteration: J is  0.255206197768\n",
      "12 iteration: J is  0.249215018925\n",
      "13 iteration: J is  0.243730995766\n",
      "14 iteration: J is  0.23704232717\n",
      "15 iteration: J is  0.229813599528\n",
      "16 iteration: J is  0.222182497247\n",
      "17 iteration: J is  0.214127851738\n",
      "18 iteration: J is  0.205538634644\n",
      "19 iteration: J is  0.19597948865\n",
      "20 iteration: J is  0.185728073304\n",
      "21 iteration: J is  0.174693130982\n",
      "22 iteration: J is  0.162773882821\n",
      "23 iteration: J is  0.149863487017\n",
      "24 iteration: J is  0.135857733286\n",
      "25 iteration: J is  0.120631356603\n",
      "26 iteration: J is  0.104064572402\n",
      "27 iteration: J is  0.0860438972775\n",
      "28 iteration: J is  0.0664465530332\n",
      "29 iteration: J is  0.0451556323226\n",
      "30 iteration: J is  0.0220791353889\n",
      "31 iteration: J is  -0.00287516294265\n",
      "32 iteration: J is  -0.0297725400448\n",
      "33 iteration: J is  -0.0586510263707\n",
      "34 iteration: J is  -0.089515048296\n",
      "35 iteration: J is  -0.122329822058\n",
      "36 iteration: J is  -0.157008762894\n",
      "37 iteration: J is  -0.193441193798\n",
      "38 iteration: J is  -0.231448354962\n",
      "39 iteration: J is  -0.269800978132\n",
      "40 iteration: J is  -0.309380964657\n",
      "41 iteration: J is  -0.349307912702\n",
      "42 iteration: J is  -0.38977579647\n",
      "43 iteration: J is  -0.43073162165\n",
      "44 iteration: J is  -0.471547431013\n",
      "45 iteration: J is  -0.511547958683\n",
      "46 iteration: J is  -0.551565721999\n",
      "47 iteration: J is  -0.590849232489\n",
      "48 iteration: J is  -0.628456040171\n",
      "49 iteration: J is  -0.665611602547\n",
      "50 iteration: J is  -0.701234657003\n",
      "51 iteration: J is  -0.735054948164\n",
      "52 iteration: J is  -0.768161344819\n",
      "53 iteration: J is  -0.798993294841\n",
      "54 iteration: J is  -0.829066470532\n",
      "55 iteration: J is  -0.857076289465\n",
      "56 iteration: J is  -0.884075184914\n",
      "57 iteration: J is  -0.909205129668\n",
      "58 iteration: J is  -0.933395357986\n",
      "59 iteration: J is  -0.955687239633\n",
      "60 iteration: J is  -0.977383021656\n",
      "61 iteration: J is  -0.996967928626\n",
      "62 iteration: J is  -1.01628529719\n",
      "63 iteration: J is  -1.03372930136\n",
      "64 iteration: J is  -1.05066835792\n",
      "65 iteration: J is  -1.06640225274\n",
      "66 iteration: J is  -1.08108850916\n",
      "67 iteration: J is  -1.09538324024\n",
      "68 iteration: J is  -1.10800835268\n",
      "69 iteration: J is  -1.12074111617\n",
      "70 iteration: J is  -1.13221309665\n",
      "71 iteration: J is  -1.14319190965\n",
      "72 iteration: J is  -1.1537618697\n",
      "73 iteration: J is  -1.16312414797\n",
      "74 iteration: J is  -1.17269149847\n",
      "75 iteration: J is  -1.1811092991\n",
      "76 iteration: J is  -1.18942744146\n",
      "77 iteration: J is  -1.19729784642\n",
      "78 iteration: J is  -1.20435707056\n",
      "79 iteration: J is  -1.21167100649\n",
      "80 iteration: J is  -1.21782530379\n",
      "81 iteration: J is  -1.22431527635\n",
      "82 iteration: J is  -1.23014750291\n",
      "83 iteration: J is  -1.23565931778\n",
      "84 iteration: J is  -1.24123677708\n",
      "85 iteration: J is  -1.2458631177\n",
      "86 iteration: J is  -1.25104655165\n",
      "87 iteration: J is  -1.25525636804\n",
      "88 iteration: J is  -1.25979830902\n",
      "89 iteration: J is  -1.26386310331\n",
      "90 iteration: J is  -1.26771490685\n",
      "91 iteration: J is  -1.27167010398\n",
      "92 iteration: J is  -1.27489474434\n",
      "93 iteration: J is  -1.27871307375\n",
      "94 iteration: J is  -1.28147596273\n",
      "95 iteration: J is  -1.28495037478\n",
      "96 iteration: J is  -1.28765442364\n",
      "97 iteration: J is  -1.29063913943\n",
      "98 iteration: J is  -1.29330121976\n",
      "99 iteration: J is  -1.29583915945\n",
      "100 iteration: J is  -1.2984732292\n",
      "101 iteration: J is  -1.30060200646\n",
      "102 iteration: J is  -1.30321962318\n",
      "103 iteration: J is  -1.30497540824\n",
      "104 iteration: J is  -1.30752304336\n",
      "105 iteration: J is  -1.30906349595\n",
      "106 iteration: J is  -1.31139580339\n",
      "107 iteration: J is  -1.31292830946\n",
      "108 iteration: J is  -1.31497021775\n",
      "109 iteration: J is  -1.31650062083\n",
      "110 iteration: J is  -1.31827585165\n",
      "111 iteration: J is  -1.31980895338\n",
      "112 iteration: J is  -1.32133884754\n",
      "113 iteration: J is  -1.32287857198\n",
      "114 iteration: J is  -1.32418234556\n",
      "115 iteration: J is  -1.32573189035\n",
      "116 iteration: J is  -1.32682686359\n",
      "117 iteration: J is  -1.32838882007\n",
      "118 iteration: J is  -1.32929061696\n",
      "119 iteration: J is  -1.330867069\n",
      "120 iteration: J is  -1.33158979933\n",
      "121 iteration: J is  -1.33318240982\n",
      "122 iteration: J is  -1.33373883007\n",
      "123 iteration: J is  -1.33527106992\n",
      "124 iteration: J is  -1.33582885235\n",
      "125 iteration: J is  -1.33722858521\n",
      "126 iteration: J is  -1.33778888683\n",
      "127 iteration: J is  -1.33906530783\n",
      "128 iteration: J is  -1.33962905966\n",
      "129 iteration: J is  -1.34079098615\n",
      "130 iteration: J is  -1.34135894401\n",
      "131 iteration: J is  -1.34241437492\n",
      "132 iteration: J is  -1.34298715247\n",
      "133 iteration: J is  -1.34394335543\n",
      "134 iteration: J is  -1.34452145194\n",
      "135 iteration: J is  -1.34538504116\n",
      "136 iteration: J is  -1.34596886489\n",
      "137 iteration: J is  -1.34674587084\n",
      "138 iteration: J is  -1.34733575854\n",
      "139 iteration: J is  -1.34803169081\n",
      "140 iteration: J is  -1.34862792471\n",
      "141 iteration: J is  -1.34924782513\n",
      "142 iteration: J is  -1.34985064395\n",
      "143 iteration: J is  -1.35039913816\n",
      "144 iteration: J is  -1.35100875027\n",
      "145 iteration: J is  -1.35149009075\n",
      "146 iteration: J is  -1.35210668209\n",
      "147 iteration: J is  -1.352524787\n",
      "148 iteration: J is  -1.35314852797\n",
      "149 iteration: J is  -1.35350701669\n",
      "150 iteration: J is  -1.35413806861\n",
      "151 iteration: J is  -1.35444028842\n",
      "152 iteration: J is  -1.35507880379\n",
      "153 iteration: J is  -1.35532786047\n",
      "154 iteration: J is  -1.35597398942\n",
      "155 iteration: J is  -1.35617276959\n",
      "156 iteration: J is  -1.35682666042\n",
      "157 iteration: J is  -1.35697785233\n",
      "158 iteration: J is  -1.35763965418\n",
      "159 iteration: J is  -1.35774576748\n",
      "160 iteration: J is  -1.35841562593\n",
      "161 iteration: J is  -1.3584790033\n",
      "162 iteration: J is  -1.35915706525\n",
      "163 iteration: J is  -1.35917990131\n",
      "164 iteration: J is  -1.35986631286\n",
      "165 iteration: J is  -1.35985066512\n",
      "166 iteration: J is  -1.36054557097\n",
      "167 iteration: J is  -1.36049337095\n",
      "168 iteration: J is  -1.36119691355\n",
      "169 iteration: J is  -1.36110997667\n",
      "170 iteration: J is  -1.36182229711\n",
      "171 iteration: J is  -1.36170233316\n",
      "172 iteration: J is  -1.36242356289\n",
      "173 iteration: J is  -1.36227217701\n",
      "174 iteration: J is  -1.36300244668\n",
      "175 iteration: J is  -1.36282115569\n",
      "176 iteration: J is  -1.36356059002\n",
      "177 iteration: J is  -1.36335082362\n",
      "178 iteration: J is  -1.36409954061\n",
      "179 iteration: J is  -1.36386265143\n",
      "180 iteration: J is  -1.36462076243\n",
      "181 iteration: J is  -1.3643580267\n",
      "182 iteration: J is  -1.36511811264\n",
      "183 iteration: J is  -1.36484395072\n",
      "184 iteration: J is  -1.36560115901\n",
      "185 iteration: J is  -1.36531717823\n",
      "186 iteration: J is  -1.36545183037\n",
      "187 iteration: J is  -1.36515561953\n",
      "188 iteration: J is  -1.3659104458\n",
      "189 iteration: J is  -1.36483967566\n",
      "190 iteration: J is  -1.36570445893\n",
      "191 iteration: J is  -1.36538529928\n",
      "192 iteration: J is  -1.36547454864\n",
      "193 iteration: J is  -1.36519800715\n",
      "194 iteration: J is  -1.36564132776\n",
      "195 iteration: J is  -1.36494038244\n",
      "196 iteration: J is  -1.36569238805\n",
      "197 iteration: J is  -1.36481056925\n",
      "198 iteration: J is  -1.36541815896\n",
      "199 iteration: J is  -1.36513531967\n",
      "200 iteration: J is  -1.36496781688\n",
      "201 iteration: J is  -1.36484402521\n",
      "202 iteration: J is  -1.36531780585\n",
      "203 iteration: J is  -1.36454606284\n",
      "204 iteration: J is  -1.36529765211\n",
      "205 iteration: J is  -1.36437829488\n",
      "206 iteration: J is  -1.36498431518\n",
      "207 iteration: J is  -1.36468411987\n",
      "208 iteration: J is  -1.36466083654\n",
      "209 iteration: J is  -1.36440126383\n",
      "210 iteration: J is  -1.36471939816\n",
      "211 iteration: J is  -1.36407105848\n",
      "212 iteration: J is  -1.36484231935\n",
      "213 iteration: J is  -1.36371374403\n",
      "214 iteration: J is  -1.36451135604\n",
      "215 iteration: J is  -1.36397499583\n",
      "216 iteration: J is  -1.36417473007\n",
      "217 iteration: J is  -1.3639172238\n",
      "218 iteration: J is  -1.36397795017\n",
      "219 iteration: J is  -1.36358960477\n",
      "220 iteration: J is  -1.36422448504\n",
      "221 iteration: J is  -1.36324804119\n",
      "222 iteration: J is  -1.36402502957\n",
      "223 iteration: J is  -1.36320581453\n",
      "224 iteration: J is  -1.36368695956\n",
      "225 iteration: J is  -1.36344222633\n",
      "226 iteration: J is  -1.36334717252\n",
      "227 iteration: J is  -1.36311824522\n",
      "228 iteration: J is  -1.36344017964\n",
      "229 iteration: J is  -1.3627804216\n",
      "230 iteration: J is  -1.36357156364\n",
      "231 iteration: J is  -1.36242611183\n",
      "232 iteration: J is  -1.36323838999\n"
     ]
    },
    {
     "name": "stdout",
     "output_type": "stream",
     "text": [
      "233 iteration: J is  -1.36266284953\n",
      "234 iteration: J is  -1.36290524062\n",
      "235 iteration: J is  -1.36268050589\n",
      "236 iteration: J is  -1.36268417157\n"
     ]
    }
   ],
   "source": [
    "w = SRW.train_SRW_GD(edges, features, nnodes, P_init, rst_prob, group_lables, lam, \n",
    "                     w_init_sd, 'absolute', 'L1', True, learning_rate=0.1, update_w_func='Nadam')"
   ]
  },
  {
   "cell_type": "code",
   "execution_count": 152,
   "metadata": {
    "scrolled": true
   },
   "outputs": [
    {
     "name": "stdout",
     "output_type": "stream",
     "text": [
      "0 iteration: J is  0.30030355201\n",
      "1 iteration: J is  0.300147627381\n",
      "2 iteration: J is  0.300066387116\n",
      "3 iteration: J is  0.299963237279\n",
      "4 iteration: J is  0.299828166752\n",
      "5 iteration: J is  0.299544150419\n",
      "6 iteration: J is  0.298540326084\n",
      "7 iteration: J is  0.297292907105\n",
      "8 iteration: J is  0.295814899312\n",
      "9 iteration: J is  0.294156929686\n",
      "10 iteration: J is  0.292374027167\n",
      "11 iteration: J is  0.290429876706\n",
      "12 iteration: J is  0.28839789843\n",
      "13 iteration: J is  0.286310638718\n",
      "14 iteration: J is  0.284181481162\n",
      "15 iteration: J is  0.281991213207\n",
      "16 iteration: J is  0.279798037029\n",
      "17 iteration: J is  0.277613642205\n",
      "18 iteration: J is  0.275408764372\n",
      "19 iteration: J is  0.273275126429\n",
      "20 iteration: J is  0.271104960948\n",
      "21 iteration: J is  0.269016230096\n",
      "22 iteration: J is  0.266918540725\n",
      "23 iteration: J is  0.264840166047\n",
      "24 iteration: J is  0.262838188424\n",
      "25 iteration: J is  0.260797938514\n",
      "26 iteration: J is  0.258819628105\n",
      "27 iteration: J is  0.256849621687\n",
      "28 iteration: J is  0.254881426285\n",
      "29 iteration: J is  0.252912221636\n",
      "30 iteration: J is  0.250936733818\n",
      "31 iteration: J is  0.248948678757\n",
      "32 iteration: J is  0.246940911257\n",
      "33 iteration: J is  0.244919653233\n",
      "34 iteration: J is  0.242834085128\n",
      "35 iteration: J is  0.240709839086\n",
      "36 iteration: J is  0.238526319769\n",
      "37 iteration: J is  0.2362737715\n",
      "38 iteration: J is  0.233941839503\n",
      "39 iteration: J is  0.23151955641\n",
      "40 iteration: J is  0.228995311398\n",
      "41 iteration: J is  0.226356803022\n",
      "42 iteration: J is  0.22359097657\n",
      "43 iteration: J is  0.220683946457\n",
      "44 iteration: J is  0.217620903891\n",
      "45 iteration: J is  0.214386009703\n",
      "46 iteration: J is  0.210962271854\n",
      "47 iteration: J is  0.207335382157\n",
      "48 iteration: J is  0.203478924847\n",
      "49 iteration: J is  0.199374684931\n",
      "50 iteration: J is  0.194999642131\n",
      "51 iteration: J is  0.190328789981\n",
      "52 iteration: J is  0.185334906446\n",
      "53 iteration: J is  0.179990638273\n",
      "54 iteration: J is  0.174260031009\n",
      "55 iteration: J is  0.16810927294\n",
      "56 iteration: J is  0.161499625039\n",
      "57 iteration: J is  0.154388576812\n",
      "58 iteration: J is  0.146735281664\n",
      "59 iteration: J is  0.138479548095\n",
      "60 iteration: J is  0.12956899421\n",
      "61 iteration: J is  0.11994692351\n",
      "62 iteration: J is  0.109537364038\n",
      "63 iteration: J is  0.0982684284998\n",
      "64 iteration: J is  0.0860648518903\n",
      "65 iteration: J is  0.0728238709602\n",
      "66 iteration: J is  0.0584569899046\n",
      "67 iteration: J is  0.0428422010323\n",
      "68 iteration: J is  0.0258708036737\n",
      "69 iteration: J is  0.00740271475814\n",
      "70 iteration: J is  -0.0127124986644\n",
      "71 iteration: J is  -0.0346201956334\n",
      "72 iteration: J is  -0.0584966177773\n",
      "73 iteration: J is  -0.0845217085188\n",
      "74 iteration: J is  -0.112883337546\n",
      "75 iteration: J is  -0.143772610347\n",
      "76 iteration: J is  -0.177376762351\n",
      "77 iteration: J is  -0.213868874603\n",
      "78 iteration: J is  -0.253386379731\n",
      "79 iteration: J is  -0.296041245682\n",
      "80 iteration: J is  -0.341857440782\n",
      "81 iteration: J is  -0.390763092699\n",
      "82 iteration: J is  -0.442584834836\n",
      "83 iteration: J is  -0.497000339039\n",
      "84 iteration: J is  -0.553539967571\n",
      "85 iteration: J is  -0.611561902628\n",
      "86 iteration: J is  -0.670310046083\n",
      "87 iteration: J is  -0.728926783084\n",
      "88 iteration: J is  -0.786516335877\n",
      "89 iteration: J is  -0.842210932141\n",
      "90 iteration: J is  -0.895167943068\n",
      "91 iteration: J is  -0.944792815569\n",
      "92 iteration: J is  -0.990669420872\n",
      "93 iteration: J is  -1.03253114385\n",
      "94 iteration: J is  -1.07030197534\n",
      "95 iteration: J is  -1.10404495661\n",
      "96 iteration: J is  -1.13394178537\n",
      "97 iteration: J is  -1.16025360579\n",
      "98 iteration: J is  -1.18329051953\n",
      "99 iteration: J is  -1.20337649204\n",
      "100 iteration: J is  -1.22084230408\n",
      "101 iteration: J is  -1.23600413191\n",
      "102 iteration: J is  -1.24915260419\n",
      "103 iteration: J is  -1.26055172248\n",
      "104 iteration: J is  -1.27044135832\n",
      "105 iteration: J is  -1.27902879837\n",
      "106 iteration: J is  -1.28649505377\n",
      "107 iteration: J is  -1.29300024567\n",
      "108 iteration: J is  -1.29855750229\n",
      "109 iteration: J is  -1.30337809434\n",
      "110 iteration: J is  -1.30760612001\n",
      "111 iteration: J is  -1.31132508667\n",
      "112 iteration: J is  -1.31460539403\n",
      "113 iteration: J is  -1.31750944092\n",
      "114 iteration: J is  -1.32008816574\n",
      "115 iteration: J is  -1.32238574819\n",
      "116 iteration: J is  -1.32443991084\n",
      "117 iteration: J is  -1.32628289723\n",
      "118 iteration: J is  -1.32794230418\n",
      "119 iteration: J is  -1.32944178165\n",
      "120 iteration: J is  -1.33071913864\n",
      "121 iteration: J is  -1.33187490929\n",
      "122 iteration: J is  -1.33293024988\n",
      "123 iteration: J is  -1.33389753834\n",
      "124 iteration: J is  -1.33478744377\n",
      "125 iteration: J is  -1.33560917986\n",
      "126 iteration: J is  -1.33637071879\n",
      "127 iteration: J is  -1.33703945023\n",
      "128 iteration: J is  -1.33765951129\n",
      "129 iteration: J is  -1.33824293647\n",
      "130 iteration: J is  -1.33878473736\n",
      "131 iteration: J is  -1.33927601072\n",
      "132 iteration: J is  -1.33973292748\n",
      "133 iteration: J is  -1.34017233913\n",
      "134 iteration: J is  -1.34055824725\n",
      "135 iteration: J is  -1.34094654227\n",
      "136 iteration: J is  -1.3412919157\n",
      "137 iteration: J is  -1.34163668759\n",
      "138 iteration: J is  -1.34194180435\n",
      "139 iteration: J is  -1.342250583\n",
      "140 iteration: J is  -1.34252511257\n",
      "141 iteration: J is  -1.34280631736\n",
      "142 iteration: J is  -1.34304792853\n",
      "143 iteration: J is  -1.3433019733\n",
      "144 iteration: J is  -1.34353512486\n",
      "145 iteration: J is  -1.3437664041\n",
      "146 iteration: J is  -1.34396940255\n",
      "147 iteration: J is  -1.34418941137\n",
      "148 iteration: J is  -1.344369434\n",
      "149 iteration: J is  -1.34456875558\n",
      "150 iteration: J is  -1.34476163529\n",
      "151 iteration: J is  -1.34493591708\n",
      "152 iteration: J is  -1.34510984489\n",
      "153 iteration: J is  -1.34527802689\n",
      "154 iteration: J is  -1.34543776882\n",
      "155 iteration: J is  -1.34559839974\n",
      "156 iteration: J is  -1.34574781681\n",
      "157 iteration: J is  -1.34589979249\n",
      "158 iteration: J is  -1.346042015\n",
      "159 iteration: J is  -1.34618451099\n",
      "160 iteration: J is  -1.34632207849\n",
      "161 iteration: J is  -1.34645449463\n",
      "162 iteration: J is  -1.34658946851\n",
      "163 iteration: J is  -1.34671138371\n",
      "164 iteration: J is  -1.34684543794\n",
      "165 iteration: J is  -1.34695657335\n",
      "166 iteration: J is  -1.34708956921\n",
      "167 iteration: J is  -1.34718652498\n",
      "168 iteration: J is  -1.34731074175\n",
      "169 iteration: J is  -1.34743072061\n",
      "170 iteration: J is  -1.3475415403\n",
      "171 iteration: J is  -1.34764462267\n",
      "172 iteration: J is  -1.34776321859\n",
      "173 iteration: J is  -1.34784835065\n",
      "174 iteration: J is  -1.34796195539\n",
      "175 iteration: J is  -1.3480653528\n",
      "176 iteration: J is  -1.34817266194\n",
      "177 iteration: J is  -1.34825628517\n",
      "178 iteration: J is  -1.34836420046\n",
      "179 iteration: J is  -1.34845189921\n",
      "180 iteration: J is  -1.34855691613\n",
      "181 iteration: J is  -1.34863701428\n",
      "182 iteration: J is  -1.34873865153\n",
      "183 iteration: J is  -1.34882247022\n",
      "184 iteration: J is  -1.34892312887\n",
      "185 iteration: J is  -1.34899426314\n",
      "186 iteration: J is  -1.34909066594\n",
      "187 iteration: J is  -1.34917624566\n",
      "188 iteration: J is  -1.34926818056\n",
      "189 iteration: J is  -1.34933912614\n",
      "190 iteration: J is  -1.34943482177\n",
      "191 iteration: J is  -1.34950055717\n",
      "192 iteration: J is  -1.34958991616\n",
      "193 iteration: J is  -1.34967346567\n",
      "194 iteration: J is  -1.34975423549\n",
      "195 iteration: J is  -1.3498270619\n",
      "196 iteration: J is  -1.34991361725\n",
      "197 iteration: J is  -1.34997892444\n",
      "198 iteration: J is  -1.35006857003\n",
      "199 iteration: J is  -1.35012894818\n",
      "200 iteration: J is  -1.35021824838\n",
      "201 iteration: J is  -1.35027077375\n",
      "202 iteration: J is  -1.35035094644\n",
      "203 iteration: J is  -1.35043808751\n",
      "204 iteration: J is  -1.35049799987\n",
      "205 iteration: J is  -1.3505795091\n",
      "206 iteration: J is  -1.35064145456\n",
      "207 iteration: J is  -1.35071953867\n",
      "208 iteration: J is  -1.35078166124\n",
      "209 iteration: J is  -1.3508581015\n",
      "210 iteration: J is  -1.35091892012\n",
      "211 iteration: J is  -1.35099515292\n",
      "212 iteration: J is  -1.35105348954\n",
      "213 iteration: J is  -1.35113067173\n",
      "214 iteration: J is  -1.35118559307\n",
      "215 iteration: J is  -1.35126465491\n",
      "216 iteration: J is  -1.35131542531\n",
      "217 iteration: J is  -1.35139404251\n",
      "218 iteration: J is  -1.35143913965\n",
      "219 iteration: J is  -1.35151161096\n",
      "220 iteration: J is  -1.35158328416\n",
      "221 iteration: J is  -1.35164422511\n",
      "222 iteration: J is  -1.35170452149\n",
      "223 iteration: J is  -1.35177480595\n",
      "224 iteration: J is  -1.35182457647\n",
      "225 iteration: J is  -1.35189867111\n",
      "226 iteration: J is  -1.35194356965\n",
      "227 iteration: J is  -1.35201400986\n",
      "228 iteration: J is  -1.35207553613\n",
      "229 iteration: J is  -1.35214246175\n",
      "230 iteration: J is  -1.35218939578\n",
      "231 iteration: J is  -1.35226062362\n",
      "232 iteration: J is  -1.35230761841\n",
      "233 iteration: J is  -1.35237677169\n",
      "234 iteration: J is  -1.35242963454\n",
      "235 iteration: J is  -1.35249875882\n",
      "236 iteration: J is  -1.35254104423\n",
      "237 iteration: J is  -1.35260977006\n"
     ]
    },
    {
     "name": "stdout",
     "output_type": "stream",
     "text": [
      "238 iteration: J is  -1.35266212435\n",
      "239 iteration: J is  -1.35272956644\n",
      "240 iteration: J is  -1.35277249603\n",
      "241 iteration: J is  -1.35284063124\n",
      "242 iteration: J is  -1.35288835676\n",
      "243 iteration: J is  -1.35295441835\n",
      "244 iteration: J is  -1.35300145336\n",
      "245 iteration: J is  -1.35306891548\n",
      "246 iteration: J is  -1.35310940778\n",
      "247 iteration: J is  -1.35317430966\n",
      "248 iteration: J is  -1.3532276695\n",
      "249 iteration: J is  -1.3532914599\n",
      "250 iteration: J is  -1.35333155538\n",
      "251 iteration: J is  -1.35339877625\n",
      "252 iteration: J is  -1.35343938618\n",
      "253 iteration: J is  -1.35350220259\n",
      "254 iteration: J is  -1.35355636373\n",
      "255 iteration: J is  -1.35361550867\n",
      "256 iteration: J is  -1.35365918128\n",
      "257 iteration: J is  -1.35372579762\n",
      "258 iteration: J is  -1.35375835963\n",
      "259 iteration: J is  -1.35381964746\n",
      "260 iteration: J is  -1.35388139796\n",
      "261 iteration: J is  -1.35393009371\n",
      "262 iteration: J is  -1.35398277991\n",
      "263 iteration: J is  -1.35403850494\n",
      "264 iteration: J is  -1.35408479172\n",
      "265 iteration: J is  -1.35414517305\n",
      "266 iteration: J is  -1.35418721265\n",
      "267 iteration: J is  -1.35425033822\n",
      "268 iteration: J is  -1.35428986755\n",
      "269 iteration: J is  -1.35435419852\n",
      "270 iteration: J is  -1.35439261807\n",
      "271 iteration: J is  -1.35445691779\n",
      "272 iteration: J is  -1.35449535552\n",
      "273 iteration: J is  -1.35455863194\n",
      "274 iteration: J is  -1.35459799509\n",
      "275 iteration: J is  -1.35465945417\n",
      "276 iteration: J is  -1.35470047116\n",
      "277 iteration: J is  -1.3547594791\n",
      "278 iteration: J is  -1.35480273357\n",
      "279 iteration: J is  -1.35485878617\n",
      "280 iteration: J is  -1.35490474449\n",
      "281 iteration: J is  -1.35495744244\n",
      "282 iteration: J is  -1.35500647602\n",
      "283 iteration: J is  -1.35505550477\n",
      "284 iteration: J is  -1.35510790816\n",
      "285 iteration: J is  -1.35515302168\n",
      "286 iteration: J is  -1.35520902722\n",
      "287 iteration: J is  -1.35525003483\n",
      "288 iteration: J is  -1.35530982447\n",
      "289 iteration: J is  -1.3553465802\n",
      "290 iteration: J is  -1.35540925269\n",
      "291 iteration: J is  -1.35543687408\n",
      "292 iteration: J is  -1.35549405135\n",
      "293 iteration: J is  -1.35555280021\n",
      "294 iteration: J is  -1.35559698333\n",
      "295 iteration: J is  -1.35564537693\n",
      "296 iteration: J is  -1.35569899867\n",
      "297 iteration: J is  -1.35573810985\n",
      "298 iteration: J is  -1.35579907993\n",
      "299 iteration: J is  -1.3558270269\n",
      "300 iteration: J is  -1.35588434423\n",
      "301 iteration: J is  -1.35593815998\n",
      "302 iteration: J is  -1.35598734672\n",
      "303 iteration: J is  -1.35602820981\n",
      "304 iteration: J is  -1.35608798532\n",
      "305 iteration: J is  -1.3561162296\n",
      "306 iteration: J is  -1.35617369426\n",
      "307 iteration: J is  -1.35622394231\n",
      "308 iteration: J is  -1.35627683576\n",
      "309 iteration: J is  -1.35631223448\n",
      "310 iteration: J is  -1.35637121529\n",
      "311 iteration: J is  -1.35640561973\n",
      "312 iteration: J is  -1.35646298241\n",
      "313 iteration: J is  -1.35650504457\n",
      "314 iteration: J is  -1.35656304439\n",
      "315 iteration: J is  -1.35659322767\n",
      "316 iteration: J is  -1.35665093698\n",
      "317 iteration: J is  -1.35669436464\n",
      "318 iteration: J is  -1.35675165456\n",
      "319 iteration: J is  -1.35678190878\n",
      "320 iteration: J is  -1.35683976966\n",
      "321 iteration: J is  -1.35688113425\n",
      "322 iteration: J is  -1.35693789648\n",
      "323 iteration: J is  -1.35697099934\n",
      "324 iteration: J is  -1.35702888812\n",
      "325 iteration: J is  -1.35706598668\n",
      "326 iteration: J is  -1.35712234471\n",
      "327 iteration: J is  -1.35716008063\n",
      "328 iteration: J is  -1.3572179202\n",
      "329 iteration: J is  -1.35724935285\n",
      "330 iteration: J is  -1.35730539137\n",
      "331 iteration: J is  -1.35734889349\n",
      "332 iteration: J is  -1.35740533847\n",
      "333 iteration: J is  -1.35743501283\n",
      "334 iteration: J is  -1.3574935114\n",
      "335 iteration: J is  -1.35752869958\n",
      "336 iteration: J is  -1.35758371754\n",
      "337 iteration: J is  -1.35762595363\n",
      "338 iteration: J is  -1.35768185596\n",
      "339 iteration: J is  -1.35771270607\n",
      "340 iteration: J is  -1.35777143509\n",
      "341 iteration: J is  -1.3578029807\n",
      "342 iteration: J is  -1.35785736131\n",
      "343 iteration: J is  -1.35790431219\n",
      "344 iteration: J is  -1.35795435177\n",
      "345 iteration: J is  -1.35799117828\n",
      "346 iteration: J is  -1.35804981492\n",
      "347 iteration: J is  -1.35807915087\n",
      "348 iteration: J is  -1.35813835194\n",
      "349 iteration: J is  -1.35816767209\n",
      "350 iteration: J is  -1.35822113088\n",
      "351 iteration: J is  -1.35827222613\n",
      "352 iteration: J is  -1.35831647499\n",
      "353 iteration: J is  -1.35835946959\n",
      "354 iteration: J is  -1.35841051805\n",
      "355 iteration: J is  -1.35844764266\n",
      "356 iteration: J is  -1.35850348698\n",
      "357 iteration: J is  -1.3585365441\n",
      "358 iteration: J is  -1.35859556617\n",
      "359 iteration: J is  -1.35862601147\n",
      "360 iteration: J is  -1.35868578567\n",
      "361 iteration: J is  -1.35870928307\n",
      "362 iteration: J is  -1.35876157277\n",
      "363 iteration: J is  -1.35882085425\n",
      "364 iteration: J is  -1.35885482602\n",
      "365 iteration: J is  -1.35890853263\n",
      "366 iteration: J is  -1.3589470624\n",
      "367 iteration: J is  -1.35899691804\n",
      "368 iteration: J is  -1.35903845788\n",
      "369 iteration: J is  -1.3590858547\n",
      "370 iteration: J is  -1.35912915541\n",
      "371 iteration: J is  -1.3591752169\n",
      "372 iteration: J is  -1.35921927125\n",
      "373 iteration: J is  -1.35926490324\n",
      "374 iteration: J is  -1.35930889997\n",
      "375 iteration: J is  -1.359354832\n",
      "376 iteration: J is  -1.35939811857\n",
      "377 iteration: J is  -1.3594449374\n",
      "378 iteration: J is  -1.35948698979\n",
      "379 iteration: J is  -1.35953516655\n",
      "380 iteration: J is  -1.35957556483\n",
      "381 iteration: J is  -1.35962547702\n",
      "382 iteration: J is  -1.3596638855\n",
      "383 iteration: J is  -1.35971583476\n",
      "384 iteration: J is  -1.35975198599\n",
      "385 iteration: J is  -1.3598062126\n",
      "386 iteration: J is  -1.35983989432\n",
      "387 iteration: J is  -1.35989658884\n",
      "388 iteration: J is  -1.35992763349\n",
      "389 iteration: J is  -1.3599860617\n",
      "390 iteration: J is  -1.36000865989\n",
      "391 iteration: J is  -1.36006093975\n",
      "392 iteration: J is  -1.36011713759\n",
      "393 iteration: J is  -1.36015432675\n",
      "394 iteration: J is  -1.36020172237\n",
      "395 iteration: J is  -1.36024707249\n",
      "396 iteration: J is  -1.36028671789\n",
      "397 iteration: J is  -1.36033928243\n",
      "398 iteration: J is  -1.36037203403\n",
      "399 iteration: J is  -1.36042940884\n",
      "400 iteration: J is  -1.36045332817\n",
      "401 iteration: J is  -1.36050609446\n",
      "402 iteration: J is  -1.36055781569\n",
      "403 iteration: J is  -1.36060025464\n",
      "404 iteration: J is  -1.36064096193\n",
      "405 iteration: J is  -1.36069354784\n",
      "406 iteration: J is  -1.36072473362\n",
      "407 iteration: J is  -1.36078143523\n",
      "408 iteration: J is  -1.36080873863\n",
      "409 iteration: J is  -1.36086177959\n",
      "410 iteration: J is  -1.36090812651\n",
      "411 iteration: J is  -1.36095636591\n",
      "412 iteration: J is  -1.36099034123\n",
      "413 iteration: J is  -1.36104636868\n",
      "414 iteration: J is  -1.36107297516\n",
      "415 iteration: J is  -1.36112637398\n",
      "416 iteration: J is  -1.3611713636\n",
      "417 iteration: J is  -1.36122154127\n",
      "418 iteration: J is  -1.36125267259\n",
      "419 iteration: J is  -1.36130830412\n",
      "420 iteration: J is  -1.36133874941\n",
      "421 iteration: J is  -1.36139228651\n",
      "422 iteration: J is  -1.36143228363\n",
      "423 iteration: J is  -1.36148715259\n",
      "424 iteration: J is  -1.36151143419\n",
      "425 iteration: J is  -1.36156547839\n",
      "426 iteration: J is  -1.36160924009\n",
      "427 iteration: J is  -1.36166170044\n",
      "428 iteration: J is  -1.36168900236\n",
      "429 iteration: J is  -1.36174395921\n",
      "430 iteration: J is  -1.36178001295\n",
      "431 iteration: J is  -1.36183381094\n",
      "432 iteration: J is  -1.36186621464\n",
      "433 iteration: J is  -1.361920599\n",
      "434 iteration: J is  -1.36195350837\n",
      "435 iteration: J is  -1.36200766506\n",
      "436 iteration: J is  -1.36204142806\n",
      "437 iteration: J is  -1.36209542072\n",
      "438 iteration: J is  -1.36212820417\n",
      "439 iteration: J is  -1.3621825737\n",
      "440 iteration: J is  -1.3622152651\n",
      "441 iteration: J is  -1.36226898512\n",
      "442 iteration: J is  -1.36230359943\n",
      "443 iteration: J is  -1.36235808653\n",
      "444 iteration: J is  -1.36238813575\n",
      "445 iteration: J is  -1.36244166156\n",
      "446 iteration: J is  -1.36247936712\n",
      "447 iteration: J is  -1.36253390967\n",
      "448 iteration: J is  -1.36256031031\n",
      "449 iteration: J is  -1.36261369368\n",
      "450 iteration: J is  -1.36265529422\n",
      "451 iteration: J is  -1.36270841062\n",
      "452 iteration: J is  -1.36273516291\n",
      "453 iteration: J is  -1.36279052908\n",
      "454 iteration: J is  -1.36282412125\n",
      "455 iteration: J is  -1.36287670324\n",
      "456 iteration: J is  -1.36291387657\n",
      "457 iteration: J is  -1.36296894345\n",
      "458 iteration: J is  -1.36299298171\n",
      "459 iteration: J is  -1.3630457094\n",
      "460 iteration: J is  -1.36309153091\n",
      "461 iteration: J is  -1.3631392723\n",
      "462 iteration: J is  -1.36317194612\n",
      "463 iteration: J is  -1.36322752069\n",
      "464 iteration: J is  -1.36325357186\n",
      "465 iteration: J is  -1.36330575666\n",
      "466 iteration: J is  -1.36335130225\n",
      "467 iteration: J is  -1.36339837209\n",
      "468 iteration: J is  -1.363432288\n",
      "469 iteration: J is  -1.36348809149\n",
      "470 iteration: J is  -1.36351153159\n",
      "471 iteration: J is  -1.3635633994\n"
     ]
    },
    {
     "name": "stdout",
     "output_type": "stream",
     "text": [
      "472 iteration: J is  -1.363612388\n",
      "473 iteration: J is  -1.36365545395\n",
      "474 iteration: J is  -1.36369359788\n",
      "475 iteration: J is  -1.3637461332\n",
      "476 iteration: J is  -1.3637759673\n",
      "477 iteration: J is  -1.36383234203\n",
      "478 iteration: J is  -1.36385699633\n",
      "479 iteration: J is  -1.36390823282\n",
      "480 iteration: J is  -1.36395797511\n",
      "481 iteration: J is  -1.36399918318\n",
      "482 iteration: J is  -1.36403981704\n",
      "483 iteration: J is  -1.36408893764\n",
      "484 iteration: J is  -1.36412265674\n",
      "485 iteration: J is  -1.36417771581\n",
      "486 iteration: J is  -1.36420629441\n",
      "487 iteration: J is  -1.36426318703\n",
      "488 iteration: J is  -1.36428630977\n",
      "489 iteration: J is  -1.36433691917\n",
      "490 iteration: J is  -1.36439001385\n",
      "491 iteration: J is  -1.36442676694\n",
      "492 iteration: J is  -1.36447240337\n",
      "493 iteration: J is  -1.36451559091\n",
      "494 iteration: J is  -1.3645556355\n",
      "495 iteration: J is  -1.36460357812\n",
      "496 iteration: J is  -1.3646395401\n",
      "497 iteration: J is  -1.36469088009\n",
      "498 iteration: J is  -1.36472397939\n",
      "499 iteration: J is  -1.36477761958\n",
      "500 iteration: J is  -1.36480884175\n",
      "501 iteration: J is  -1.36486389606\n",
      "502 iteration: J is  -1.36489403682\n",
      "503 iteration: J is  -1.36494979011\n",
      "504 iteration: J is  -1.36497949142\n",
      "505 iteration: J is  -1.36503536701\n",
      "506 iteration: J is  -1.36506514629\n",
      "507 iteration: J is  -1.36512067967\n",
      "508 iteration: J is  -1.36515095346\n",
      "509 iteration: J is  -1.36520577095\n",
      "510 iteration: J is  -1.36523687409\n",
      "511 iteration: J is  -1.36529067556\n",
      "512 iteration: J is  -1.36532287672\n",
      "513 iteration: J is  -1.36537542163\n",
      "514 iteration: J is  -1.36540893591\n",
      "515 iteration: J is  -1.36546003196\n",
      "516 iteration: J is  -1.36549503106\n",
      "517 iteration: J is  -1.36554452499\n",
      "518 iteration: J is  -1.3655811455\n",
      "519 iteration: J is  -1.36562891571\n",
      "520 iteration: J is  -1.36566726575\n",
      "521 iteration: J is  -1.36571321621\n",
      "522 iteration: J is  -1.3657533809\n",
      "523 iteration: J is  -1.36579743631\n",
      "524 iteration: J is  -1.36583948212\n",
      "525 iteration: J is  -1.36588158393\n",
      "526 iteration: J is  -1.36592556226\n",
      "527 iteration: J is  -1.36596566552\n",
      "528 iteration: J is  -1.36601161556\n",
      "529 iteration: J is  -1.36604968627\n",
      "530 iteration: J is  -1.36609763736\n",
      "531 iteration: J is  -1.3661336504\n",
      "532 iteration: J is  -1.36606018871\n",
      "533 iteration: J is  -1.36604362454\n",
      "534 iteration: J is  -1.36608217556\n",
      "535 iteration: J is  -1.36613371632\n",
      "536 iteration: J is  -1.36618626592\n",
      "537 iteration: J is  -1.36617668919\n"
     ]
    }
   ],
   "source": [
    "w = SRW.train_SRW_GD(edges, features, nnodes, P_init, rst_prob, group_lables, lam, \n",
    "                     w_init_sd, 'absolute', 'L1', True, learning_rate=0.1, update_w_func='Nesterov')"
   ]
  },
  {
   "cell_type": "code",
   "execution_count": 153,
   "metadata": {
    "scrolled": true
   },
   "outputs": [
    {
     "name": "stdout",
     "output_type": "stream",
     "text": [
      "0 iteration: J is  0.300630885661\n",
      "1 iteration: J is  0.296688303232\n",
      "2 iteration: J is  0.289449660608\n",
      "3 iteration: J is  0.282475869048\n",
      "4 iteration: J is  0.27706555346\n",
      "5 iteration: J is  0.271346188684\n",
      "6 iteration: J is  0.265044831714\n",
      "7 iteration: J is  0.2580418575\n",
      "8 iteration: J is  0.250221463516\n",
      "9 iteration: J is  0.243029754272\n",
      "10 iteration: J is  0.235276453512\n",
      "11 iteration: J is  0.226808954208\n",
      "12 iteration: J is  0.217595774775\n",
      "13 iteration: J is  0.207575129004\n",
      "14 iteration: J is  0.196646483458\n",
      "15 iteration: J is  0.184684289815\n",
      "16 iteration: J is  0.17153071247\n",
      "17 iteration: J is  0.157013148131\n",
      "18 iteration: J is  0.140936035366\n",
      "19 iteration: J is  0.123107516839\n",
      "20 iteration: J is  0.103331678991\n",
      "21 iteration: J is  0.0814293297386\n",
      "22 iteration: J is  0.05722174432\n",
      "23 iteration: J is  0.0305544939316\n",
      "24 iteration: J is  0.00129412458541\n",
      "25 iteration: J is  -0.0306628296633\n",
      "26 iteration: J is  -0.065376993158\n",
      "27 iteration: J is  -0.102882707485\n",
      "28 iteration: J is  -0.143145147477\n",
      "29 iteration: J is  -0.186066894366\n",
      "30 iteration: J is  -0.231507862745\n",
      "31 iteration: J is  -0.279229964266\n",
      "32 iteration: J is  -0.328949553318\n",
      "33 iteration: J is  -0.38030982049\n",
      "34 iteration: J is  -0.432902813022\n",
      "35 iteration: J is  -0.486255175306\n",
      "36 iteration: J is  -0.539882189473\n",
      "37 iteration: J is  -0.593278209402\n",
      "38 iteration: J is  -0.645549670535\n",
      "39 iteration: J is  -0.695064592299\n",
      "40 iteration: J is  -0.742916484588\n",
      "41 iteration: J is  -0.788926395879\n",
      "42 iteration: J is  -0.832844979092\n",
      "43 iteration: J is  -0.874493450103\n",
      "44 iteration: J is  -0.913740650552\n",
      "45 iteration: J is  -0.950513537617\n",
      "46 iteration: J is  -0.984785330891\n",
      "47 iteration: J is  -1.01656862179\n",
      "48 iteration: J is  -1.04590941881\n",
      "49 iteration: J is  -1.07288187864\n",
      "50 iteration: J is  -1.09758345748\n",
      "51 iteration: J is  -1.12013020079\n",
      "52 iteration: J is  -1.14057108232\n",
      "53 iteration: J is  -1.15790086244\n",
      "54 iteration: J is  -1.17353095376\n",
      "55 iteration: J is  -1.18761373429\n",
      "56 iteration: J is  -1.20030369809\n",
      "57 iteration: J is  -1.21174224994\n",
      "58 iteration: J is  -1.22206147924\n",
      "59 iteration: J is  -1.23138733953\n",
      "60 iteration: J is  -1.23983044484\n",
      "61 iteration: J is  -1.24749085639\n",
      "62 iteration: J is  -1.25446174179\n",
      "63 iteration: J is  -1.26082280538\n",
      "64 iteration: J is  -1.26664578812\n",
      "65 iteration: J is  -1.27179964985\n",
      "66 iteration: J is  -1.27607021974\n",
      "67 iteration: J is  -1.28010741416\n",
      "68 iteration: J is  -1.28393537483\n",
      "69 iteration: J is  -1.28757352405\n",
      "70 iteration: J is  -1.29104084326\n",
      "71 iteration: J is  -1.29380040767\n",
      "72 iteration: J is  -1.29632963975\n",
      "73 iteration: J is  -1.29874753243\n",
      "74 iteration: J is  -1.30106884986\n",
      "75 iteration: J is  -1.303305703\n",
      "76 iteration: J is  -1.30546806107\n",
      "77 iteration: J is  -1.30756415531\n",
      "78 iteration: J is  -1.30920925356\n",
      "79 iteration: J is  -1.31068916454\n",
      "80 iteration: J is  -1.31220937193\n",
      "81 iteration: J is  -1.31376269674\n",
      "82 iteration: J is  -1.31534237686\n",
      "83 iteration: J is  -1.31668695399\n",
      "84 iteration: J is  -1.31778882258\n",
      "85 iteration: J is  -1.31892388382\n",
      "86 iteration: J is  -1.32008876947\n",
      "87 iteration: J is  -1.32128008223\n",
      "88 iteration: J is  -1.32231633301\n",
      "89 iteration: J is  -1.32318622906\n",
      "90 iteration: J is  -1.32413625287\n",
      "91 iteration: J is  -1.32515604902\n",
      "92 iteration: J is  -1.32584107135\n",
      "93 iteration: J is  -1.32655104255\n",
      "94 iteration: J is  -1.32732676468\n",
      "95 iteration: J is  -1.32816152079\n",
      "96 iteration: J is  -1.32904907939\n",
      "97 iteration: J is  -1.32955251935\n",
      "98 iteration: J is  -1.33009478128\n",
      "99 iteration: J is  -1.33073846244\n",
      "100 iteration: J is  -1.33147207123\n",
      "101 iteration: J is  -1.33228516168\n",
      "102 iteration: J is  -1.33271332628\n",
      "103 iteration: J is  -1.33313928151\n",
      "104 iteration: J is  -1.33365526434\n",
      "105 iteration: J is  -1.33425239192\n",
      "106 iteration: J is  -1.33492248992\n",
      "107 iteration: J is  -1.3356580661\n",
      "108 iteration: J is  -1.3358647551\n",
      "109 iteration: J is  -1.33619066405\n",
      "110 iteration: J is  -1.33663158371\n",
      "111 iteration: J is  -1.33717520929\n",
      "112 iteration: J is  -1.33781033042\n",
      "113 iteration: J is  -1.33852677271\n",
      "114 iteration: J is  -1.33872931567\n",
      "115 iteration: J is  -1.33898281757\n",
      "116 iteration: J is  -1.33934086639\n",
      "117 iteration: J is  -1.33979310161\n",
      "118 iteration: J is  -1.34033004765\n",
      "119 iteration: J is  -1.34094306409\n",
      "120 iteration: J is  -1.34152351762\n",
      "121 iteration: J is  -1.34177656013\n",
      "122 iteration: J is  -1.34214519104\n",
      "123 iteration: J is  -1.3426172473\n",
      "124 iteration: J is  -1.34315064223\n",
      "125 iteration: J is  -1.34348104126\n",
      "126 iteration: J is  -1.34390639731\n",
      "127 iteration: J is  -1.34419048308\n",
      "128 iteration: J is  -1.34453891409\n",
      "129 iteration: J is  -1.34499023628\n",
      "130 iteration: J is  -1.34529034249\n",
      "131 iteration: J is  -1.34559017052\n",
      "132 iteration: J is  -1.34598708726\n",
      "133 iteration: J is  -1.34647134031\n",
      "134 iteration: J is  -1.346606046\n",
      "135 iteration: J is  -1.34685405109\n",
      "136 iteration: J is  -1.34721280291\n",
      "137 iteration: J is  -1.34767078513\n",
      "138 iteration: J is  -1.34815866571\n",
      "139 iteration: J is  -1.34840533628\n",
      "140 iteration: J is  -1.3487533963\n",
      "141 iteration: J is  -1.34916399551\n",
      "142 iteration: J is  -1.3494880276\n",
      "143 iteration: J is  -1.34974254317\n",
      "144 iteration: J is  -1.3500696455\n",
      "145 iteration: J is  -1.35043737042\n",
      "146 iteration: J is  -1.35076057285\n",
      "147 iteration: J is  -1.35100470374\n",
      "148 iteration: J is  -1.35131631542\n",
      "149 iteration: J is  -1.35170354123\n",
      "150 iteration: J is  -1.35201671156\n",
      "151 iteration: J is  -1.35224082431\n",
      "152 iteration: J is  -1.35256787625\n",
      "153 iteration: J is  -1.35286861931\n",
      "154 iteration: J is  -1.35315664654\n",
      "155 iteration: J is  -1.35351458263\n",
      "156 iteration: J is  -1.35381515906\n",
      "157 iteration: J is  -1.3540494273\n",
      "158 iteration: J is  -1.35437399758\n",
      "159 iteration: J is  -1.35461454503\n",
      "160 iteration: J is  -1.35488745313\n",
      "161 iteration: J is  -1.35525771359\n",
      "162 iteration: J is  -1.35542254965\n",
      "163 iteration: J is  -1.35565375545\n",
      "164 iteration: J is  -1.35599140538\n",
      "165 iteration: J is  -1.35642462772\n",
      "166 iteration: J is  -1.35647841572\n",
      "167 iteration: J is  -1.35664900061\n",
      "168 iteration: J is  -1.3569268703\n",
      "169 iteration: J is  -1.35730132229\n",
      "170 iteration: J is  -1.35776268175\n",
      "171 iteration: J is  -1.35790053895\n",
      "172 iteration: J is  -1.35803676932\n",
      "173 iteration: J is  -1.35828788506\n",
      "174 iteration: J is  -1.3586422445\n",
      "175 iteration: J is  -1.3590893337\n",
      "176 iteration: J is  -1.35933022309\n",
      "177 iteration: J is  -1.35947128877\n",
      "178 iteration: J is  -1.35972228527\n",
      "179 iteration: J is  -1.36007225375\n",
      "180 iteration: J is  -1.36051129426\n",
      "181 iteration: J is  -1.36060896794\n",
      "182 iteration: J is  -1.36074762352\n",
      "183 iteration: J is  -1.36099993297\n",
      "184 iteration: J is  -1.36135440865\n",
      "185 iteration: J is  -1.36180068232\n",
      "186 iteration: J is  -1.36197523656\n",
      "187 iteration: J is  -1.36210307535\n",
      "188 iteration: J is  -1.36234199344\n",
      "189 iteration: J is  -1.36268091664\n",
      "190 iteration: J is  -1.36310984703\n",
      "191 iteration: J is  -1.36330569299\n",
      "192 iteration: J is  -1.36344075493\n",
      "193 iteration: J is  -1.36368905888\n",
      "194 iteration: J is  -1.36403918447\n",
      "195 iteration: J is  -1.36448082929\n",
      "196 iteration: J is  -1.36438409729\n",
      "197 iteration: J is  -1.36411876397\n",
      "198 iteration: J is  -1.36431591826\n",
      "199 iteration: J is  -1.36474616068\n",
      "200 iteration: J is  -1.36494982401\n",
      "201 iteration: J is  -1.36506631203\n",
      "202 iteration: J is  -1.36500599686\n",
      "203 iteration: J is  -1.3650752494\n",
      "204 iteration: J is  -1.36526312581\n",
      "205 iteration: J is  -1.36547409761\n",
      "206 iteration: J is  -1.36554083083\n",
      "207 iteration: J is  -1.36567140192\n",
      "208 iteration: J is  -1.36576196599\n",
      "209 iteration: J is  -1.36569907397\n",
      "210 iteration: J is  -1.36576338383\n",
      "211 iteration: J is  -1.36563481854\n",
      "212 iteration: J is  -1.3656217396\n"
     ]
    }
   ],
   "source": [
    "w = SRW.train_SRW_GD(edges, features, nnodes, P_init, rst_prob, group_lables, lam, \n",
    "                     w_init_sd, 'absolute', 'L1', True, learning_rate=0.1, update_w_func='Adam')"
   ]
  },
  {
   "cell_type": "code",
   "execution_count": 154,
   "metadata": {},
   "outputs": [
    {
     "data": {
      "text/plain": [
       "array([ 9.52117741, -0.03183526, -0.02135635, -8.81179904])"
      ]
     },
     "execution_count": 154,
     "metadata": {},
     "output_type": "execute_result"
    }
   ],
   "source": [
    "w"
   ]
  },
  {
   "cell_type": "code",
   "execution_count": 155,
   "metadata": {},
   "outputs": [],
   "source": [
    "w, J, d = SRW.train_SRW_BFGS(edges, features, nnodes, P_init, rst_prob, group_lables, lam, w_init_sd=0.01, \n",
    "                             loss='absolute', norm_type='L1', maximize_diff=True)"
   ]
  },
  {
   "cell_type": "code",
   "execution_count": 156,
   "metadata": {},
   "outputs": [
    {
     "data": {
      "text/plain": [
       "(array([  9.74307199e+00,  -1.30783448e-07,   3.93452998e-09,\n",
       "         -9.08601073e+00]),\n",
       " -1.3665899981072986,\n",
       " {'funcalls': 100,\n",
       "  'grad': array([  7.43052765e-08,  -7.54324526e-03,   1.00474052e-02,\n",
       "           6.45987717e-07]),\n",
       "  'nit': 27,\n",
       "  'task': 'CONVERGENCE: REL_REDUCTION_OF_F_<=_FACTR*EPSMCH',\n",
       "  'warnflag': 0})"
      ]
     },
     "execution_count": 156,
     "metadata": {},
     "output_type": "execute_result"
    }
   ],
   "source": [
    "w, J, d"
   ]
  },
  {
   "cell_type": "markdown",
   "metadata": {},
   "source": [
    "### Check the transition matrix Q and propagation scores P"
   ]
  },
  {
   "cell_type": "code",
   "execution_count": 157,
   "metadata": {
    "scrolled": false
   },
   "outputs": [
    {
     "data": {
      "text/plain": [
       "array([[  1.34200704e-04,   4.99399690e-01,   4.99399682e-01,\n",
       "          3.55475698e-04,   3.55475693e-04,   3.55475688e-04],\n",
       "       [  4.99399688e-01,   1.34200704e-04,   4.99399684e-01,\n",
       "          3.55475696e-04,   3.55475692e-04,   3.55475687e-04],\n",
       "       [  4.99399684e-01,   4.99399688e-01,   1.34200705e-04,\n",
       "          3.55475699e-04,   3.55475694e-04,   3.55475690e-04],\n",
       "       [  3.55475698e-04,   3.55475698e-04,   3.55475698e-04,\n",
       "          1.34200704e-04,   4.99399690e-01,   4.99399682e-01],\n",
       "       [  3.55475692e-04,   3.55475692e-04,   3.55475692e-04,\n",
       "          4.99399688e-01,   1.34200704e-04,   4.99399684e-01],\n",
       "       [  3.55475690e-04,   3.55475690e-04,   3.55475690e-04,\n",
       "          4.99399684e-01,   4.99399688e-01,   1.34200705e-04]])"
      ]
     },
     "execution_count": 157,
     "metadata": {},
     "output_type": "execute_result"
    }
   ],
   "source": [
    "Q = SRW.generate_Q(edges, nnodes, features, w)\n",
    "Q"
   ]
  },
  {
   "cell_type": "code",
   "execution_count": 158,
   "metadata": {},
   "outputs": [
    {
     "data": {
      "text/plain": [
       "array([[ 0.40154937,  0.29624007,  0.29624007,  0.00199017,  0.00199017,\n",
       "         0.00199017],\n",
       "       [ 0.29624007,  0.40154937,  0.29624007,  0.00199017,  0.00199017,\n",
       "         0.00199017],\n",
       "       [ 0.29624007,  0.29624007,  0.40154937,  0.00199017,  0.00199017,\n",
       "         0.00199017],\n",
       "       [ 0.00199017,  0.00199017,  0.00199017,  0.40154937,  0.29624007,\n",
       "         0.29624007],\n",
       "       [ 0.00199017,  0.00199017,  0.00199017,  0.29624007,  0.40154937,\n",
       "         0.29624007],\n",
       "       [ 0.00199017,  0.00199017,  0.00199017,  0.29624007,  0.29624007,\n",
       "         0.40154937]])"
      ]
     },
     "execution_count": 158,
     "metadata": {},
     "output_type": "execute_result"
    }
   ],
   "source": [
    "P = SRW.iterative_PPR(Q, P_init, rst_prob)\n",
    "P"
   ]
  },
  {
   "cell_type": "code",
   "execution_count": 159,
   "metadata": {
    "collapsed": true
   },
   "outputs": [],
   "source": [
    "group2npairs = SRW.count_numbers_per_group(group_lables)"
   ]
  },
  {
   "cell_type": "code",
   "execution_count": 160,
   "metadata": {},
   "outputs": [
    {
     "data": {
      "text/plain": [
       "-1.3665899981072986"
      ]
     },
     "execution_count": 160,
     "metadata": {},
     "output_type": "execute_result"
    }
   ],
   "source": [
    "J = SRW.obj_func(P, group_lables, group2npairs, lam, w, loss='absolute', norm_type='L1', maximize_diff=True)\n",
    "J"
   ]
  },
  {
   "cell_type": "markdown",
   "metadata": {},
   "source": [
    "### Compare with unweighted random walk"
   ]
  },
  {
   "cell_type": "code",
   "execution_count": 161,
   "metadata": {},
   "outputs": [
    {
     "data": {
      "text/plain": [
       "array([[ 0.16666667,  0.16666667,  0.16666667,  0.16666667,  0.16666667,\n",
       "         0.16666667],\n",
       "       [ 0.16666667,  0.16666667,  0.16666667,  0.16666667,  0.16666667,\n",
       "         0.16666667],\n",
       "       [ 0.16666667,  0.16666667,  0.16666667,  0.16666667,  0.16666667,\n",
       "         0.16666667],\n",
       "       [ 0.16666667,  0.16666667,  0.16666667,  0.16666667,  0.16666667,\n",
       "         0.16666667],\n",
       "       [ 0.16666667,  0.16666667,  0.16666667,  0.16666667,  0.16666667,\n",
       "         0.16666667],\n",
       "       [ 0.16666667,  0.16666667,  0.16666667,  0.16666667,  0.16666667,\n",
       "         0.16666667]])"
      ]
     },
     "execution_count": 161,
     "metadata": {},
     "output_type": "execute_result"
    }
   ],
   "source": [
    "Qu = SRW.generate_Q_unweighted(edges, nnodes)\n",
    "Qu"
   ]
  },
  {
   "cell_type": "code",
   "execution_count": 162,
   "metadata": {},
   "outputs": [
    {
     "data": {
      "text/plain": [
       "array([[ 0.29166667,  0.14166667,  0.14166667,  0.14166667,  0.14166667,\n",
       "         0.14166667],\n",
       "       [ 0.14166667,  0.29166667,  0.14166667,  0.14166667,  0.14166667,\n",
       "         0.14166667],\n",
       "       [ 0.14166667,  0.14166667,  0.29166667,  0.14166667,  0.14166667,\n",
       "         0.14166667],\n",
       "       [ 0.14166667,  0.14166667,  0.14166667,  0.29166667,  0.14166667,\n",
       "         0.14166667],\n",
       "       [ 0.14166667,  0.14166667,  0.14166667,  0.14166667,  0.29166667,\n",
       "         0.14166667],\n",
       "       [ 0.14166667,  0.14166667,  0.14166667,  0.14166667,  0.14166667,\n",
       "         0.29166667]])"
      ]
     },
     "execution_count": 162,
     "metadata": {},
     "output_type": "execute_result"
    }
   ],
   "source": [
    "Pu = SRW.iterative_PPR(Qu, P_init, rst_prob)\n",
    "Pu"
   ]
  },
  {
   "cell_type": "code",
   "execution_count": 163,
   "metadata": {},
   "outputs": [
    {
     "data": {
      "text/plain": [
       "0.29999999999999993"
      ]
     },
     "execution_count": 163,
     "metadata": {},
     "output_type": "execute_result"
    }
   ],
   "source": [
    "Ju = SRW.obj_func(Pu, group_lables, group2npairs, lam, 0, loss='absolute', norm_type='L1', maximize_diff=True)\n",
    "Ju"
   ]
  },
  {
   "cell_type": "code",
   "execution_count": null,
   "metadata": {
    "collapsed": true
   },
   "outputs": [],
   "source": []
  },
  {
   "cell_type": "markdown",
   "metadata": {
    "collapsed": true
   },
   "source": [
    "# Scratch"
   ]
  },
  {
   "cell_type": "code",
   "execution_count": null,
   "metadata": {
    "collapsed": true
   },
   "outputs": [],
   "source": []
  },
  {
   "cell_type": "code",
   "execution_count": null,
   "metadata": {
    "collapsed": true
   },
   "outputs": [],
   "source": []
  },
  {
   "cell_type": "code",
   "execution_count": null,
   "metadata": {
    "collapsed": true
   },
   "outputs": [],
   "source": []
  },
  {
   "cell_type": "code",
   "execution_count": null,
   "metadata": {
    "collapsed": true
   },
   "outputs": [],
   "source": []
  },
  {
   "cell_type": "code",
   "execution_count": null,
   "metadata": {
    "collapsed": true
   },
   "outputs": [],
   "source": []
  },
  {
   "cell_type": "code",
   "execution_count": null,
   "metadata": {
    "collapsed": true
   },
   "outputs": [],
   "source": []
  },
  {
   "cell_type": "code",
   "execution_count": null,
   "metadata": {
    "collapsed": true
   },
   "outputs": [],
   "source": []
  },
  {
   "cell_type": "code",
   "execution_count": null,
   "metadata": {
    "collapsed": true
   },
   "outputs": [],
   "source": []
  }
 ],
 "metadata": {
  "kernelspec": {
   "display_name": "Python 2",
   "language": "python",
   "name": "python2"
  },
  "language_info": {
   "codemirror_mode": {
    "name": "ipython",
    "version": 2
   },
   "file_extension": ".py",
   "mimetype": "text/x-python",
   "name": "python",
   "nbconvert_exporter": "python",
   "pygments_lexer": "ipython2",
   "version": "2.7.13"
  }
 },
 "nbformat": 4,
 "nbformat_minor": 2
}
