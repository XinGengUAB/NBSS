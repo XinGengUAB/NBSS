{
 "cells": [
  {
   "cell_type": "code",
   "execution_count": 16,
   "metadata": {},
   "outputs": [
    {
     "name": "stdout",
     "output_type": "stream",
     "text": [
      "The autoreload extension is already loaded. To reload it, use:\n",
      "  %reload_ext autoreload\n"
     ]
    }
   ],
   "source": [
    "%load_ext autoreload\n",
    "%autoreload 2"
   ]
  },
  {
   "cell_type": "code",
   "execution_count": 17,
   "metadata": {
    "collapsed": true
   },
   "outputs": [],
   "source": [
    "import pandas as pd\n",
    "import SRW_v044 as SRW\n",
    "import pickle"
   ]
  },
  {
   "cell_type": "code",
   "execution_count": 18,
   "metadata": {},
   "outputs": [
    {
     "name": "stdout",
     "output_type": "stream",
     "text": [
      "* Loading network...\n"
     ]
    }
   ],
   "source": [
    "edges, features, node_names = SRW.load_network('data/BRCA_edge2features.txt')"
   ]
  },
  {
   "cell_type": "code",
   "execution_count": 19,
   "metadata": {},
   "outputs": [
    {
     "name": "stdout",
     "output_type": "stream",
     "text": [
      "\t- Nodes in adjacency matrix: 2227\n"
     ]
    }
   ],
   "source": [
    "P_init_train, sample_names_train = SRW.load_samples('data/BRCA_training_data.txt', node_names)"
   ]
  },
  {
   "cell_type": "code",
   "execution_count": 20,
   "metadata": {},
   "outputs": [
    {
     "name": "stdout",
     "output_type": "stream",
     "text": [
      "\t- Nodes in adjacency matrix: 2227\n"
     ]
    }
   ],
   "source": [
    "P_init_val, sample_names_val = SRW.load_samples('data/BRCA_validation_data.txt', node_names)"
   ]
  },
  {
   "cell_type": "code",
   "execution_count": 21,
   "metadata": {
    "collapsed": true
   },
   "outputs": [],
   "source": [
    "group_labels_train = SRW.load_grouplabels('data/BRCA_training_lables.txt')"
   ]
  },
  {
   "cell_type": "code",
   "execution_count": 22,
   "metadata": {
    "collapsed": true
   },
   "outputs": [],
   "source": [
    "group_labels_val = SRW.load_grouplabels('data/BRCA_validation_lables.txt')"
   ]
  },
  {
   "cell_type": "code",
   "execution_count": 23,
   "metadata": {
    "collapsed": true
   },
   "outputs": [],
   "source": [
    "nnodes = len(node_names)\n",
    "rst_prob = 0.15\n",
    "lam = 1e-2\n",
    "w_init_sd = 0.01"
   ]
  },
  {
   "cell_type": "code",
   "execution_count": 24,
   "metadata": {
    "collapsed": true
   },
   "outputs": [],
   "source": [
    "feature_names = []\n",
    "with open('data/BRCA_feature_names.txt') as f:\n",
    "    for line in f.read().rstrip().splitlines():\n",
    "        feature_names.append(line)\n",
    "feature_names.append('selfloop')\n",
    "feature_names.append('intercept')"
   ]
  },
  {
   "cell_type": "code",
   "execution_count": 25,
   "metadata": {
    "collapsed": true,
    "scrolled": true
   },
   "outputs": [],
   "source": [
    "SRW_obj = SRW.SRW_solver(edges, features, nnodes, P_init_train, rst_prob, group_labels_train, lam, \n",
    "                         w_init_sd=0.01, w=None, feature_names=feature_names, \n",
    "                         sample_names=sample_names_train, node_names=node_names, loss='WMW', \n",
    "                         norm_type='L1', maximize_diff=False, learning_rate=1., \n",
    "                         update_w_func='Adam', P_init_val=P_init_val, \n",
    "                         group_labels_val=group_labels_val, ncpus=1, maxit=1000, early_stop=20, \n",
    "                         WMW_b=5e-4)"
   ]
  },
  {
   "cell_type": "markdown",
   "metadata": {},
   "source": [
    "### Arguments of SRW_solver objects  \n",
    "**edges** (e by 2, int, ndarray): Edges in the network  \n",
    "**features** (e by w, float, csc_matrix): Edge features  \n",
    "**nnodes** (int): Number of nodes in the network  \n",
    "**P_init** (m by n, float, csr_matrix): Initial state of samples (training set)  \n",
    "**rst_prob** (float): Reset probability of Random Walk  \n",
    "**group_labels** (m by 1, str/int, list): Group labels of samples (training set)   \n",
    "**lam** (float): Regularization parameter, controling the amount of L1/L2 norm  \n",
    "**w_init_sd** (float): Standard deviation for weight initialization (default 0.01)  \n",
    "**w** (w by 1, float, list): Initial weights (default None)  \n",
    "**feature_names** (w by 1, str, list): Feature names (default [])  \n",
    "**sample_names** (m by 1, str, list): Feature names (default [])  \n",
    "**node_names** (n by 1, str, list): Feature names (default [])  \n",
    "**loss** {'squared', 'absolute', 'centroid', 'silhouette'}: Type of the loss funtion (default 'squared')  \n",
    "**norm_type** {'L1', 'L2'}: Type of the norm (derault 'L2')  \n",
    "**maximize_diff** (bool): Whether to maximaze the difference between groups (default False)  \n",
    "**learning_rate** (float): Learning rate (default 0.1)  \n",
    "**update_w_func** {'momentum', 'Nesterov', 'Adam', 'Nadam'}: Function for updating parameters (default 'Adam')  \n",
    "**P_init_val** (m by n, float, csr_matrix): Initial state of samples (validation set) (default None)  \n",
    "**group_labels_val** (m by 1, str/int, list): Group labels of samples (validation set) (default None)  \n",
    "**ncpus** (int): Number of CPUs to use for multiprocess.Pool (default: -1, use all cpus)  \n",
    "**maxit** (int): Max number of iterations for training the model (default: 1000)  \n",
    "**early_stop** (int): Stop the learning if the performance doesn't improve in x iterations (default: None)  \n",
    "**WMW_b** (float): Parameter b in the WMW loss function (default: 5e-4)"
   ]
  },
  {
   "cell_type": "code",
   "execution_count": null,
   "metadata": {
    "collapsed": true
   },
   "outputs": [],
   "source": [
    "SRW_obj.train_SRW_GD()"
   ]
  },
  {
   "cell_type": "code",
   "execution_count": null,
   "metadata": {
    "collapsed": true
   },
   "outputs": [],
   "source": []
  },
  {
   "cell_type": "code",
   "execution_count": null,
   "metadata": {
    "collapsed": true
   },
   "outputs": [],
   "source": []
  },
  {
   "cell_type": "code",
   "execution_count": null,
   "metadata": {
    "collapsed": true
   },
   "outputs": [],
   "source": []
  },
  {
   "cell_type": "code",
   "execution_count": null,
   "metadata": {
    "collapsed": true
   },
   "outputs": [],
   "source": []
  },
  {
   "cell_type": "code",
   "execution_count": null,
   "metadata": {
    "collapsed": true
   },
   "outputs": [],
   "source": []
  },
  {
   "cell_type": "code",
   "execution_count": null,
   "metadata": {
    "collapsed": true
   },
   "outputs": [],
   "source": []
  },
  {
   "cell_type": "code",
   "execution_count": null,
   "metadata": {
    "collapsed": true
   },
   "outputs": [],
   "source": []
  }
 ],
 "metadata": {
  "kernelspec": {
   "display_name": "Python 2",
   "language": "python",
   "name": "python2"
  },
  "language_info": {
   "codemirror_mode": {
    "name": "ipython",
    "version": 2
   },
   "file_extension": ".py",
   "mimetype": "text/x-python",
   "name": "python",
   "nbconvert_exporter": "python",
   "pygments_lexer": "ipython2",
   "version": "2.7.13"
  }
 },
 "nbformat": 4,
 "nbformat_minor": 2
}
