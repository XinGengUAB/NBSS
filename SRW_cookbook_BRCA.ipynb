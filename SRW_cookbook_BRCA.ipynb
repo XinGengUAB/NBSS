{
 "cells": [
  {
   "cell_type": "code",
   "execution_count": 2,
   "metadata": {
    "collapsed": true
   },
   "outputs": [],
   "source": [
    "%load_ext autoreload\n",
    "%autoreload 2"
   ]
  },
  {
   "cell_type": "code",
   "execution_count": 3,
   "metadata": {
    "collapsed": true
   },
   "outputs": [],
   "source": [
    "import pandas as pd\n",
    "import SRW"
   ]
  },
  {
   "cell_type": "code",
   "execution_count": 4,
   "metadata": {},
   "outputs": [
    {
     "name": "stdout",
     "output_type": "stream",
     "text": [
      "* Loading network...\n"
     ]
    }
   ],
   "source": [
    "edges, features, node2index = SRW.load_network('data/BRCA_edge2features.txt')"
   ]
  },
  {
   "cell_type": "code",
   "execution_count": 5,
   "metadata": {},
   "outputs": [
    {
     "name": "stdout",
     "output_type": "stream",
     "text": [
      "\t- Nodes in adjacency matrix: 17557\n"
     ]
    }
   ],
   "source": [
    "P_init_training, sample2index_training = SRW.load_samples('data/BRCA_training_data.txt', node2index)"
   ]
  },
  {
   "cell_type": "code",
   "execution_count": 6,
   "metadata": {},
   "outputs": [
    {
     "name": "stdout",
     "output_type": "stream",
     "text": [
      "\t- Nodes in adjacency matrix: 17557\n"
     ]
    }
   ],
   "source": [
    "P_init_validation, sample2index_validation = SRW.load_samples('data/BRCA_validation_data.txt', node2index)"
   ]
  },
  {
   "cell_type": "code",
   "execution_count": 7,
   "metadata": {
    "collapsed": true
   },
   "outputs": [],
   "source": [
    "group_labels_training = SRW.load_grouplabels('data/BRCA_training_lables.txt')"
   ]
  },
  {
   "cell_type": "code",
   "execution_count": 8,
   "metadata": {
    "collapsed": true
   },
   "outputs": [],
   "source": [
    "group_labels_validation = SRW.load_grouplabels('data/BRCA_validation_lables.txt')"
   ]
  },
  {
   "cell_type": "code",
   "execution_count": 9,
   "metadata": {
    "collapsed": true
   },
   "outputs": [],
   "source": [
    "nnodes = len(node2index)\n",
    "rst_prob = 0.3\n",
    "lam = 1e-13\n",
    "w_init_sd = 0.01"
   ]
  },
  {
   "cell_type": "markdown",
   "metadata": {},
   "source": [
    "### Arguments of SRW.train_SRW_GD  \n",
    "**edges** (e by 2, int, ndarray): Edges in the network  \n",
    "**features** (e by w, float, csc_matrix): Edge features  \n",
    "**nnodes** (int): Number of nodes in the network  \n",
    "**P_init_training** (m by n, float, csr_matrix): Initial state of samples (training set)  \n",
    "**rst_prob** (float): reset probability of random walk  \n",
    "**group_labels** training (m by 1, str/int, list): Group labels of samples (training set)   \n",
    "**lam** (float): Regularization parameter, controling the amount of L1/L2 norm  \n",
    "**w_init_sd** (float): Standard deviation for weight initialization (default 0.01)  \n",
    "**loss** ('squared', 'absolute'): Type of the loss funtion ('absolute' is slow) (default 'squared')  \n",
    "**norm_type** ('L1', 'L2'): Type of the norm (derault 'L2')  \n",
    "**maximize_diff** (bool): Whether to maximaze the difference between groups (default False)  \n",
    "**learning_rate** (float): Learning rate (default 0.01)  \n",
    "**update_w_func** ('momentum', 'Nesterov', 'Adam', 'Nadam'): Function for updating parameters (default 'Adam')  \n",
    "**P_init_validation** (m by n, float, csr_matrix): Initial state of samples (validation set) (default None)  \n",
    "**group_labels_validation** (m by 1, str/int, list): Group labels of samples (validation set) (default None)  "
   ]
  },
  {
   "cell_type": "code",
   "execution_count": null,
   "metadata": {
    "scrolled": true
   },
   "outputs": [],
   "source": [
    "w = SRW.train_SRW_GD(edges, features, nnodes, P_init_training, rst_prob, group_labels_training, lam, \n",
    "                     w_init_sd, 'squared', 'L1', False, learning_rate=0.1, update_w_func='Adam', \n",
    "                     P_init_validation=P_init_validation, group_labels_validation=group_labels_validation)"
   ]
  },
  {
   "cell_type": "markdown",
   "metadata": {},
   "source": [
    "# Scratch"
   ]
  },
  {
   "cell_type": "code",
   "execution_count": null,
   "metadata": {
    "collapsed": true
   },
   "outputs": [],
   "source": []
  },
  {
   "cell_type": "code",
   "execution_count": null,
   "metadata": {
    "collapsed": true
   },
   "outputs": [],
   "source": []
  },
  {
   "cell_type": "code",
   "execution_count": null,
   "metadata": {
    "collapsed": true
   },
   "outputs": [],
   "source": []
  },
  {
   "cell_type": "code",
   "execution_count": null,
   "metadata": {
    "collapsed": true
   },
   "outputs": [],
   "source": []
  },
  {
   "cell_type": "code",
   "execution_count": null,
   "metadata": {
    "collapsed": true
   },
   "outputs": [],
   "source": []
  },
  {
   "cell_type": "code",
   "execution_count": null,
   "metadata": {
    "collapsed": true
   },
   "outputs": [],
   "source": []
  }
 ],
 "metadata": {
  "kernelspec": {
   "display_name": "Python 2",
   "language": "python",
   "name": "python2"
  },
  "language_info": {
   "codemirror_mode": {
    "name": "ipython",
    "version": 2
   },
   "file_extension": ".py",
   "mimetype": "text/x-python",
   "name": "python",
   "nbconvert_exporter": "python",
   "pygments_lexer": "ipython2",
   "version": "2.7.13"
  }
 },
 "nbformat": 4,
 "nbformat_minor": 2
}
